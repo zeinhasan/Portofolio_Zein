{
 "cells": [
  {
   "cell_type": "markdown",
   "metadata": {},
   "source": [
    "# SETUP"
   ]
  },
  {
   "cell_type": "code",
   "execution_count": 19,
   "metadata": {
    "ExecuteTime": {
     "end_time": "2022-05-12T16:13:50.354943Z",
     "start_time": "2022-05-12T16:13:50.331659Z"
    },
    "scrolled": true
   },
   "outputs": [],
   "source": [
    "# Data manipulation\n",
    "from seaborn import load_dataset\n",
    "import numpy as np\n",
    "import pandas as pd\n",
    "pd.options.display.precision = 4\n",
    "pd.options.mode.chained_assignment = None  \n",
    "\n",
    "# Machine learning pipeline\n",
    "from sklearn.model_selection import train_test_split\n",
    "from sklearn.base import BaseEstimator, TransformerMixin\n",
    "from sklearn.impute import SimpleImputer\n",
    "from sklearn.preprocessing import OneHotEncoder, MinMaxScaler\n",
    "from sklearn.compose import ColumnTransformer\n",
    "from sklearn.pipeline import Pipeline\n",
    "from sklearn.linear_model import LogisticRegression\n",
    "from sklearn.metrics import roc_auc_score\n",
    "from sklearn import set_config\n",
    "set_config(display=\"diagram\")"
   ]
  },
  {
   "cell_type": "code",
   "execution_count": 3,
   "metadata": {
    "ExecuteTime": {
     "end_time": "2022-05-12T14:59:25.520117Z",
     "start_time": "2022-05-12T14:59:25.424423Z"
    }
   },
   "outputs": [
    {
     "name": "stdout",
     "output_type": "stream",
     "text": [
      "(891, 9)\n"
     ]
    },
    {
     "data": {
      "text/html": [
       "<div>\n",
       "<style scoped>\n",
       "    .dataframe tbody tr th:only-of-type {\n",
       "        vertical-align: middle;\n",
       "    }\n",
       "\n",
       "    .dataframe tbody tr th {\n",
       "        vertical-align: top;\n",
       "    }\n",
       "\n",
       "    .dataframe thead th {\n",
       "        text-align: right;\n",
       "    }\n",
       "</style>\n",
       "<table border=\"1\" class=\"dataframe\">\n",
       "  <thead>\n",
       "    <tr style=\"text-align: right;\">\n",
       "      <th></th>\n",
       "      <th>survived</th>\n",
       "      <th>pclass</th>\n",
       "      <th>sex</th>\n",
       "      <th>age</th>\n",
       "      <th>sibsp</th>\n",
       "      <th>parch</th>\n",
       "      <th>fare</th>\n",
       "      <th>deck</th>\n",
       "      <th>embark_town</th>\n",
       "    </tr>\n",
       "  </thead>\n",
       "  <tbody>\n",
       "    <tr>\n",
       "      <th>0</th>\n",
       "      <td>0</td>\n",
       "      <td>3</td>\n",
       "      <td>male</td>\n",
       "      <td>22.0</td>\n",
       "      <td>1</td>\n",
       "      <td>0</td>\n",
       "      <td>7.2500</td>\n",
       "      <td>NaN</td>\n",
       "      <td>Southampton</td>\n",
       "    </tr>\n",
       "    <tr>\n",
       "      <th>1</th>\n",
       "      <td>1</td>\n",
       "      <td>1</td>\n",
       "      <td>female</td>\n",
       "      <td>38.0</td>\n",
       "      <td>1</td>\n",
       "      <td>0</td>\n",
       "      <td>71.2833</td>\n",
       "      <td>C</td>\n",
       "      <td>Cherbourg</td>\n",
       "    </tr>\n",
       "    <tr>\n",
       "      <th>2</th>\n",
       "      <td>1</td>\n",
       "      <td>3</td>\n",
       "      <td>female</td>\n",
       "      <td>26.0</td>\n",
       "      <td>0</td>\n",
       "      <td>0</td>\n",
       "      <td>7.9250</td>\n",
       "      <td>NaN</td>\n",
       "      <td>Southampton</td>\n",
       "    </tr>\n",
       "    <tr>\n",
       "      <th>3</th>\n",
       "      <td>1</td>\n",
       "      <td>1</td>\n",
       "      <td>female</td>\n",
       "      <td>35.0</td>\n",
       "      <td>1</td>\n",
       "      <td>0</td>\n",
       "      <td>53.1000</td>\n",
       "      <td>C</td>\n",
       "      <td>Southampton</td>\n",
       "    </tr>\n",
       "    <tr>\n",
       "      <th>4</th>\n",
       "      <td>0</td>\n",
       "      <td>3</td>\n",
       "      <td>male</td>\n",
       "      <td>35.0</td>\n",
       "      <td>0</td>\n",
       "      <td>0</td>\n",
       "      <td>8.0500</td>\n",
       "      <td>NaN</td>\n",
       "      <td>Southampton</td>\n",
       "    </tr>\n",
       "  </tbody>\n",
       "</table>\n",
       "</div>"
      ],
      "text/plain": [
       "   survived  pclass     sex   age  sibsp  parch     fare deck  embark_town\n",
       "0         0       3    male  22.0      1      0   7.2500  NaN  Southampton\n",
       "1         1       1  female  38.0      1      0  71.2833    C    Cherbourg\n",
       "2         1       3  female  26.0      0      0   7.9250  NaN  Southampton\n",
       "3         1       1  female  35.0      1      0  53.1000    C  Southampton\n",
       "4         0       3    male  35.0      0      0   8.0500  NaN  Southampton"
      ]
     },
     "execution_count": 3,
     "metadata": {},
     "output_type": "execute_result"
    }
   ],
   "source": [
    "# Load data\n",
    "columns = ['alive', 'class', 'embarked', 'who', 'alone', 'adult_male']\n",
    "df = load_dataset('titanic').drop(columns=columns)\n",
    "df['deck'] = df['deck'].astype('object')\n",
    "print(df.shape)\n",
    "df.head()"
   ]
  },
  {
   "cell_type": "code",
   "execution_count": 4,
   "metadata": {
    "ExecuteTime": {
     "end_time": "2022-05-12T15:04:33.361638Z",
     "start_time": "2022-05-12T15:04:33.328140Z"
    }
   },
   "outputs": [
    {
     "name": "stdout",
     "output_type": "stream",
     "text": [
      "Numerical features: pclass, age, sibsp, parch, fare\n",
      "Categorical features: deck, embark_town, sex\n"
     ]
    }
   ],
   "source": [
    "SEED = 42\n",
    "TARGET = 'survived'\n",
    "FEATURES = df.columns.drop(TARGET)\n",
    "\n",
    "NUMERICAL = df[FEATURES].select_dtypes('number').columns\n",
    "print(f\"Numerical features: {', '.join(NUMERICAL)}\")\n",
    "\n",
    "CATEGORICAL = pd.Index(np.setdiff1d(FEATURES, NUMERICAL))\n",
    "print(f\"Categorical features: {', '.join(CATEGORICAL)}\")"
   ]
  },
  {
   "cell_type": "markdown",
   "metadata": {},
   "source": [
    "# 1. Wrong Approach"
   ]
  },
  {
   "cell_type": "code",
   "execution_count": 5,
   "metadata": {
    "ExecuteTime": {
     "end_time": "2022-05-12T15:06:55.930901Z",
     "start_time": "2022-05-12T15:06:55.665571Z"
    }
   },
   "outputs": [
    {
     "data": {
      "text/html": [
       "<div>\n",
       "<style scoped>\n",
       "    .dataframe tbody tr th:only-of-type {\n",
       "        vertical-align: middle;\n",
       "    }\n",
       "\n",
       "    .dataframe tbody tr th {\n",
       "        vertical-align: top;\n",
       "    }\n",
       "\n",
       "    .dataframe thead th {\n",
       "        text-align: right;\n",
       "    }\n",
       "</style>\n",
       "<table border=\"1\" class=\"dataframe\">\n",
       "  <thead>\n",
       "    <tr style=\"text-align: right;\">\n",
       "      <th></th>\n",
       "      <th>pclass</th>\n",
       "      <th>age</th>\n",
       "      <th>sibsp</th>\n",
       "      <th>parch</th>\n",
       "      <th>fare</th>\n",
       "      <th>deck_B</th>\n",
       "      <th>deck_C</th>\n",
       "      <th>deck_D</th>\n",
       "      <th>deck_E</th>\n",
       "      <th>deck_F</th>\n",
       "      <th>deck_G</th>\n",
       "      <th>deck_missing</th>\n",
       "      <th>embark_town_Queenstown</th>\n",
       "      <th>embark_town_Southampton</th>\n",
       "      <th>embark_town_missing</th>\n",
       "      <th>sex_male</th>\n",
       "    </tr>\n",
       "  </thead>\n",
       "  <tbody>\n",
       "    <tr>\n",
       "      <th>0</th>\n",
       "      <td>1.0</td>\n",
       "      <td>0.2712</td>\n",
       "      <td>0.125</td>\n",
       "      <td>0.0</td>\n",
       "      <td>0.0142</td>\n",
       "      <td>0</td>\n",
       "      <td>0</td>\n",
       "      <td>0</td>\n",
       "      <td>0</td>\n",
       "      <td>0</td>\n",
       "      <td>0</td>\n",
       "      <td>1</td>\n",
       "      <td>0</td>\n",
       "      <td>1</td>\n",
       "      <td>0</td>\n",
       "      <td>1</td>\n",
       "    </tr>\n",
       "    <tr>\n",
       "      <th>1</th>\n",
       "      <td>0.0</td>\n",
       "      <td>0.4722</td>\n",
       "      <td>0.125</td>\n",
       "      <td>0.0</td>\n",
       "      <td>0.1391</td>\n",
       "      <td>0</td>\n",
       "      <td>1</td>\n",
       "      <td>0</td>\n",
       "      <td>0</td>\n",
       "      <td>0</td>\n",
       "      <td>0</td>\n",
       "      <td>0</td>\n",
       "      <td>0</td>\n",
       "      <td>0</td>\n",
       "      <td>0</td>\n",
       "      <td>0</td>\n",
       "    </tr>\n",
       "    <tr>\n",
       "      <th>2</th>\n",
       "      <td>1.0</td>\n",
       "      <td>0.3214</td>\n",
       "      <td>0.000</td>\n",
       "      <td>0.0</td>\n",
       "      <td>0.0155</td>\n",
       "      <td>0</td>\n",
       "      <td>0</td>\n",
       "      <td>0</td>\n",
       "      <td>0</td>\n",
       "      <td>0</td>\n",
       "      <td>0</td>\n",
       "      <td>1</td>\n",
       "      <td>0</td>\n",
       "      <td>1</td>\n",
       "      <td>0</td>\n",
       "      <td>0</td>\n",
       "    </tr>\n",
       "    <tr>\n",
       "      <th>3</th>\n",
       "      <td>0.0</td>\n",
       "      <td>0.4345</td>\n",
       "      <td>0.125</td>\n",
       "      <td>0.0</td>\n",
       "      <td>0.1036</td>\n",
       "      <td>0</td>\n",
       "      <td>1</td>\n",
       "      <td>0</td>\n",
       "      <td>0</td>\n",
       "      <td>0</td>\n",
       "      <td>0</td>\n",
       "      <td>0</td>\n",
       "      <td>0</td>\n",
       "      <td>1</td>\n",
       "      <td>0</td>\n",
       "      <td>0</td>\n",
       "    </tr>\n",
       "    <tr>\n",
       "      <th>4</th>\n",
       "      <td>1.0</td>\n",
       "      <td>0.4345</td>\n",
       "      <td>0.000</td>\n",
       "      <td>0.0</td>\n",
       "      <td>0.0157</td>\n",
       "      <td>0</td>\n",
       "      <td>0</td>\n",
       "      <td>0</td>\n",
       "      <td>0</td>\n",
       "      <td>0</td>\n",
       "      <td>0</td>\n",
       "      <td>1</td>\n",
       "      <td>0</td>\n",
       "      <td>1</td>\n",
       "      <td>0</td>\n",
       "      <td>1</td>\n",
       "    </tr>\n",
       "  </tbody>\n",
       "</table>\n",
       "</div>"
      ],
      "text/plain": [
       "   pclass     age  sibsp  parch    fare  deck_B  deck_C  deck_D  deck_E  \\\n",
       "0     1.0  0.2712  0.125    0.0  0.0142       0       0       0       0   \n",
       "1     0.0  0.4722  0.125    0.0  0.1391       0       1       0       0   \n",
       "2     1.0  0.3214  0.000    0.0  0.0155       0       0       0       0   \n",
       "3     0.0  0.4345  0.125    0.0  0.1036       0       1       0       0   \n",
       "4     1.0  0.4345  0.000    0.0  0.0157       0       0       0       0   \n",
       "\n",
       "   deck_F  deck_G  deck_missing  embark_town_Queenstown  \\\n",
       "0       0       0             1                       0   \n",
       "1       0       0             0                       0   \n",
       "2       0       0             1                       0   \n",
       "3       0       0             0                       0   \n",
       "4       0       0             1                       0   \n",
       "\n",
       "   embark_town_Southampton  embark_town_missing  sex_male  \n",
       "0                        1                    0         1  \n",
       "1                        0                    0         0  \n",
       "2                        1                    0         0  \n",
       "3                        1                    0         0  \n",
       "4                        1                    0         1  "
      ]
     },
     "execution_count": 5,
     "metadata": {},
     "output_type": "execute_result"
    }
   ],
   "source": [
    "# Impute numerical variables with mean\n",
    "df_num_imputed = df[NUMERICAL].fillna(df[NUMERICAL].mean())\n",
    "# Normalise numerical variables\n",
    "df_num_scaled = df_num_imputed.subtract(df_num_imputed.min(), axis=1)\\\n",
    "                              .divide(df_num_imputed.max()-df_num_imputed.min(), axis=1)\n",
    "\n",
    "# Impute categorical variables with a constant\n",
    "df_cat_imputed = df[CATEGORICAL].fillna('missing')\n",
    "# One-hot-encode categorical variables\n",
    "df_cat_encoded = pd.get_dummies(df_cat_imputed, drop_first=True)\n",
    "\n",
    "# Merge data\n",
    "df_preprocessed = df_num_scaled.join(df_cat_encoded)\n",
    "df_preprocessed.head()"
   ]
  },
  {
   "cell_type": "code",
   "execution_count": 6,
   "metadata": {
    "ExecuteTime": {
     "end_time": "2022-05-12T15:07:15.459488Z",
     "start_time": "2022-05-12T15:07:15.250137Z"
    }
   },
   "outputs": [
    {
     "data": {
      "text/html": [
       "<style>#sk-8a325d45-5432-422c-953b-85069695d237 {color: black;background-color: white;}#sk-8a325d45-5432-422c-953b-85069695d237 pre{padding: 0;}#sk-8a325d45-5432-422c-953b-85069695d237 div.sk-toggleable {background-color: white;}#sk-8a325d45-5432-422c-953b-85069695d237 label.sk-toggleable__label {cursor: pointer;display: block;width: 100%;margin-bottom: 0;padding: 0.2em 0.3em;box-sizing: border-box;text-align: center;}#sk-8a325d45-5432-422c-953b-85069695d237 div.sk-toggleable__content {max-height: 0;max-width: 0;overflow: hidden;text-align: left;background-color: #f0f8ff;}#sk-8a325d45-5432-422c-953b-85069695d237 div.sk-toggleable__content pre {margin: 0.2em;color: black;border-radius: 0.25em;background-color: #f0f8ff;}#sk-8a325d45-5432-422c-953b-85069695d237 input.sk-toggleable__control:checked~div.sk-toggleable__content {max-height: 200px;max-width: 100%;overflow: auto;}#sk-8a325d45-5432-422c-953b-85069695d237 div.sk-estimator input.sk-toggleable__control:checked~label.sk-toggleable__label {background-color: #d4ebff;}#sk-8a325d45-5432-422c-953b-85069695d237 div.sk-label input.sk-toggleable__control:checked~label.sk-toggleable__label {background-color: #d4ebff;}#sk-8a325d45-5432-422c-953b-85069695d237 input.sk-hidden--visually {border: 0;clip: rect(1px 1px 1px 1px);clip: rect(1px, 1px, 1px, 1px);height: 1px;margin: -1px;overflow: hidden;padding: 0;position: absolute;width: 1px;}#sk-8a325d45-5432-422c-953b-85069695d237 div.sk-estimator {font-family: monospace;background-color: #f0f8ff;margin: 0.25em 0.25em;border: 1px dotted black;border-radius: 0.25em;box-sizing: border-box;}#sk-8a325d45-5432-422c-953b-85069695d237 div.sk-estimator:hover {background-color: #d4ebff;}#sk-8a325d45-5432-422c-953b-85069695d237 div.sk-parallel-item::after {content: \"\";width: 100%;border-bottom: 1px solid gray;flex-grow: 1;}#sk-8a325d45-5432-422c-953b-85069695d237 div.sk-label:hover label.sk-toggleable__label {background-color: #d4ebff;}#sk-8a325d45-5432-422c-953b-85069695d237 div.sk-serial::before {content: \"\";position: absolute;border-left: 1px solid gray;box-sizing: border-box;top: 2em;bottom: 0;left: 50%;}#sk-8a325d45-5432-422c-953b-85069695d237 div.sk-serial {display: flex;flex-direction: column;align-items: center;background-color: white;}#sk-8a325d45-5432-422c-953b-85069695d237 div.sk-item {z-index: 1;}#sk-8a325d45-5432-422c-953b-85069695d237 div.sk-parallel {display: flex;align-items: stretch;justify-content: center;background-color: white;}#sk-8a325d45-5432-422c-953b-85069695d237 div.sk-parallel-item {display: flex;flex-direction: column;position: relative;background-color: white;}#sk-8a325d45-5432-422c-953b-85069695d237 div.sk-parallel-item:first-child::after {align-self: flex-end;width: 50%;}#sk-8a325d45-5432-422c-953b-85069695d237 div.sk-parallel-item:last-child::after {align-self: flex-start;width: 50%;}#sk-8a325d45-5432-422c-953b-85069695d237 div.sk-parallel-item:only-child::after {width: 0;}#sk-8a325d45-5432-422c-953b-85069695d237 div.sk-dashed-wrapped {border: 1px dashed gray;margin: 0.2em;box-sizing: border-box;padding-bottom: 0.1em;background-color: white;position: relative;}#sk-8a325d45-5432-422c-953b-85069695d237 div.sk-label label {font-family: monospace;font-weight: bold;background-color: white;display: inline-block;line-height: 1.2em;}#sk-8a325d45-5432-422c-953b-85069695d237 div.sk-label-container {position: relative;z-index: 2;text-align: center;}#sk-8a325d45-5432-422c-953b-85069695d237 div.sk-container {display: inline-block;position: relative;}</style><div id=\"sk-8a325d45-5432-422c-953b-85069695d237\" class\"sk-top-container\"><div class=\"sk-container\"><div class=\"sk-item\"><div class=\"sk-estimator sk-toggleable\"><input class=\"sk-toggleable__control sk-hidden--visually\" id=\"a807a97e-efa5-4d8a-a9eb-06de925aa7f9\" type=\"checkbox\" checked><label class=\"sk-toggleable__label\" for=\"a807a97e-efa5-4d8a-a9eb-06de925aa7f9\">LogisticRegression</label><div class=\"sk-toggleable__content\"><pre>LogisticRegression()</pre></div></div></div></div></div>"
      ],
      "text/plain": [
       "LogisticRegression()"
      ]
     },
     "execution_count": 6,
     "metadata": {},
     "output_type": "execute_result"
    }
   ],
   "source": [
    "# Partition data\n",
    "X_train, X_test, y_train, y_test = train_test_split(df_preprocessed, df[TARGET], \n",
    "                                                    test_size=.2, random_state=SEED, \n",
    "                                                    stratify=df[TARGET])\n",
    "\n",
    "# Train a model\n",
    "model = LogisticRegression()\n",
    "model.fit(X_train, y_train)"
   ]
  },
  {
   "cell_type": "code",
   "execution_count": 7,
   "metadata": {
    "ExecuteTime": {
     "end_time": "2022-05-12T15:07:43.521192Z",
     "start_time": "2022-05-12T15:07:43.480651Z"
    }
   },
   "outputs": [
    {
     "name": "stdout",
     "output_type": "stream",
     "text": [
      "Train ROC-AUC: 0.8669\n",
      "Test ROC-AUC: 0.8329\n"
     ]
    }
   ],
   "source": [
    "def calculate_roc_auc(model_pipe, X, y):\n",
    "    \"\"\"Calculate roc auc score. \n",
    "    \n",
    "    Parameters:\n",
    "    ===========\n",
    "    model_pipe: sklearn model or pipeline\n",
    "    X: features\n",
    "    y: true target\n",
    "    \"\"\"\n",
    "    y_proba = model_pipe.predict_proba(X)[:,1]\n",
    "    return roc_auc_score(y, y_proba)\n",
    "  \n",
    "print(f\"Train ROC-AUC: {calculate_roc_auc(model, X_train, y_train):.4f}\")\n",
    "print(f\"Test ROC-AUC: {calculate_roc_auc(model, X_test, y_test):.4f}\")"
   ]
  },
  {
   "cell_type": "raw",
   "metadata": {},
   "source": [
    "◼️ Imputation: Numerical variables should be imputed with a mean from the training data instead of the entire data.\n",
    "◼️ Scaling: Min and max should be calculated from the training data.\n",
    "◼️ Encoding: Categories should be inferred from the training data."
   ]
  },
  {
   "cell_type": "markdown",
   "metadata": {},
   "source": [
    "# 2. Correct Approach"
   ]
  },
  {
   "cell_type": "code",
   "execution_count": 21,
   "metadata": {
    "ExecuteTime": {
     "end_time": "2022-05-12T16:14:21.290177Z",
     "start_time": "2022-05-12T16:14:21.216603Z"
    }
   },
   "outputs": [],
   "source": [
    "X_train, X_test, y_train, y_test = train_test_split(df.drop(columns=TARGET), df[TARGET], \n",
    "                                                    test_size=.2, random_state=SEED, \n",
    "                                                    stratify=df[TARGET])\n",
    "num_imputer = SimpleImputer(strategy='mean')\n",
    "train_num_imputed = num_imputer.fit_transform(X_train[NUMERICAL])\n",
    "\n",
    "scaler = MinMaxScaler()\n",
    "train_num_scaled = scaler.fit_transform(train_num_imputed)\n",
    "\n",
    "cat_imputer = SimpleImputer(strategy='constant', fill_value='missing')\n",
    "train_cat_imputed = cat_imputer.fit_transform(X_train[CATEGORICAL])\n",
    "\n",
    "encoder = OneHotEncoder(handle_unknown='ignore', sparse=False)\n",
    "train_cat_encoded = encoder.fit_transform(train_cat_imputed)\n",
    "\n",
    "train_preprocessed = np.concatenate((train_num_scaled, train_cat_encoded), axis=1)"
   ]
  },
  {
   "cell_type": "code",
   "execution_count": 22,
   "metadata": {
    "ExecuteTime": {
     "end_time": "2022-05-12T16:14:23.156066Z",
     "start_time": "2022-05-12T16:14:23.046125Z"
    }
   },
   "outputs": [
    {
     "data": {
      "text/html": [
       "<style>#sk-91954c3e-4395-49c5-bbc0-074ee319be74 {color: black;background-color: white;}#sk-91954c3e-4395-49c5-bbc0-074ee319be74 pre{padding: 0;}#sk-91954c3e-4395-49c5-bbc0-074ee319be74 div.sk-toggleable {background-color: white;}#sk-91954c3e-4395-49c5-bbc0-074ee319be74 label.sk-toggleable__label {cursor: pointer;display: block;width: 100%;margin-bottom: 0;padding: 0.2em 0.3em;box-sizing: border-box;text-align: center;}#sk-91954c3e-4395-49c5-bbc0-074ee319be74 div.sk-toggleable__content {max-height: 0;max-width: 0;overflow: hidden;text-align: left;background-color: #f0f8ff;}#sk-91954c3e-4395-49c5-bbc0-074ee319be74 div.sk-toggleable__content pre {margin: 0.2em;color: black;border-radius: 0.25em;background-color: #f0f8ff;}#sk-91954c3e-4395-49c5-bbc0-074ee319be74 input.sk-toggleable__control:checked~div.sk-toggleable__content {max-height: 200px;max-width: 100%;overflow: auto;}#sk-91954c3e-4395-49c5-bbc0-074ee319be74 div.sk-estimator input.sk-toggleable__control:checked~label.sk-toggleable__label {background-color: #d4ebff;}#sk-91954c3e-4395-49c5-bbc0-074ee319be74 div.sk-label input.sk-toggleable__control:checked~label.sk-toggleable__label {background-color: #d4ebff;}#sk-91954c3e-4395-49c5-bbc0-074ee319be74 input.sk-hidden--visually {border: 0;clip: rect(1px 1px 1px 1px);clip: rect(1px, 1px, 1px, 1px);height: 1px;margin: -1px;overflow: hidden;padding: 0;position: absolute;width: 1px;}#sk-91954c3e-4395-49c5-bbc0-074ee319be74 div.sk-estimator {font-family: monospace;background-color: #f0f8ff;margin: 0.25em 0.25em;border: 1px dotted black;border-radius: 0.25em;box-sizing: border-box;}#sk-91954c3e-4395-49c5-bbc0-074ee319be74 div.sk-estimator:hover {background-color: #d4ebff;}#sk-91954c3e-4395-49c5-bbc0-074ee319be74 div.sk-parallel-item::after {content: \"\";width: 100%;border-bottom: 1px solid gray;flex-grow: 1;}#sk-91954c3e-4395-49c5-bbc0-074ee319be74 div.sk-label:hover label.sk-toggleable__label {background-color: #d4ebff;}#sk-91954c3e-4395-49c5-bbc0-074ee319be74 div.sk-serial::before {content: \"\";position: absolute;border-left: 1px solid gray;box-sizing: border-box;top: 2em;bottom: 0;left: 50%;}#sk-91954c3e-4395-49c5-bbc0-074ee319be74 div.sk-serial {display: flex;flex-direction: column;align-items: center;background-color: white;}#sk-91954c3e-4395-49c5-bbc0-074ee319be74 div.sk-item {z-index: 1;}#sk-91954c3e-4395-49c5-bbc0-074ee319be74 div.sk-parallel {display: flex;align-items: stretch;justify-content: center;background-color: white;}#sk-91954c3e-4395-49c5-bbc0-074ee319be74 div.sk-parallel-item {display: flex;flex-direction: column;position: relative;background-color: white;}#sk-91954c3e-4395-49c5-bbc0-074ee319be74 div.sk-parallel-item:first-child::after {align-self: flex-end;width: 50%;}#sk-91954c3e-4395-49c5-bbc0-074ee319be74 div.sk-parallel-item:last-child::after {align-self: flex-start;width: 50%;}#sk-91954c3e-4395-49c5-bbc0-074ee319be74 div.sk-parallel-item:only-child::after {width: 0;}#sk-91954c3e-4395-49c5-bbc0-074ee319be74 div.sk-dashed-wrapped {border: 1px dashed gray;margin: 0.2em;box-sizing: border-box;padding-bottom: 0.1em;background-color: white;position: relative;}#sk-91954c3e-4395-49c5-bbc0-074ee319be74 div.sk-label label {font-family: monospace;font-weight: bold;background-color: white;display: inline-block;line-height: 1.2em;}#sk-91954c3e-4395-49c5-bbc0-074ee319be74 div.sk-label-container {position: relative;z-index: 2;text-align: center;}#sk-91954c3e-4395-49c5-bbc0-074ee319be74 div.sk-container {display: inline-block;position: relative;}</style><div id=\"sk-91954c3e-4395-49c5-bbc0-074ee319be74\" class\"sk-top-container\"><div class=\"sk-container\"><div class=\"sk-item\"><div class=\"sk-estimator sk-toggleable\"><input class=\"sk-toggleable__control sk-hidden--visually\" id=\"339b249d-9841-4a2c-8876-7c20e24abf24\" type=\"checkbox\" checked><label class=\"sk-toggleable__label\" for=\"339b249d-9841-4a2c-8876-7c20e24abf24\">LogisticRegression</label><div class=\"sk-toggleable__content\"><pre>LogisticRegression()</pre></div></div></div></div></div>"
      ],
      "text/plain": [
       "LogisticRegression()"
      ]
     },
     "execution_count": 22,
     "metadata": {},
     "output_type": "execute_result"
    }
   ],
   "source": [
    "model = LogisticRegression()\n",
    "model.fit(train_preprocessed, y_train)"
   ]
  },
  {
   "cell_type": "code",
   "execution_count": 23,
   "metadata": {
    "ExecuteTime": {
     "end_time": "2022-05-12T16:14:25.007974Z",
     "start_time": "2022-05-12T16:14:24.836052Z"
    }
   },
   "outputs": [
    {
     "name": "stdout",
     "output_type": "stream",
     "text": [
      "Train ROC-AUC: 0.8665\n",
      "Test ROC-AUC: 0.8325\n"
     ]
    }
   ],
   "source": [
    "test_num_imputed = num_imputer.transform(X_test[NUMERICAL])\n",
    "test_num_scaled = scaler.transform(test_num_imputed)\n",
    "test_cat_imputed = cat_imputer.transform(X_test[CATEGORICAL])\n",
    "test_cat_encoded = encoder.transform(test_cat_imputed)\n",
    "test_preprocessed = np.concatenate((test_num_scaled, test_cat_encoded), axis=1)\n",
    "\n",
    "print(f\"Train ROC-AUC: {calculate_roc_auc(model, train_preprocessed, y_train):.4f}\")\n",
    "print(f\"Test ROC-AUC: {calculate_roc_auc(model, test_preprocessed, y_test):.4f}\")"
   ]
  },
  {
   "cell_type": "markdown",
   "metadata": {},
   "source": [
    "But writing good code doesn’t stop at being correct. For each preprocessing step, we stored interim outputs for both training and test datasets. When the number of preprocessing steps increase, this will soon become very tedious to keep up and therefore prone to error like missing a step in preprocessing the test data. This code can be made more organised, streamlined and readable."
   ]
  },
  {
   "cell_type": "markdown",
   "metadata": {},
   "source": [
    "# 3. Better Approach #1"
   ]
  },
  {
   "cell_type": "code",
   "execution_count": 25,
   "metadata": {
    "ExecuteTime": {
     "end_time": "2022-05-12T16:14:41.749949Z",
     "start_time": "2022-05-12T16:14:40.926461Z"
    }
   },
   "outputs": [
    {
     "data": {
      "text/html": [
       "<style>#sk-4fbc10a3-03cb-4f66-b443-b2eca996a799 {color: black;background-color: white;}#sk-4fbc10a3-03cb-4f66-b443-b2eca996a799 pre{padding: 0;}#sk-4fbc10a3-03cb-4f66-b443-b2eca996a799 div.sk-toggleable {background-color: white;}#sk-4fbc10a3-03cb-4f66-b443-b2eca996a799 label.sk-toggleable__label {cursor: pointer;display: block;width: 100%;margin-bottom: 0;padding: 0.2em 0.3em;box-sizing: border-box;text-align: center;}#sk-4fbc10a3-03cb-4f66-b443-b2eca996a799 div.sk-toggleable__content {max-height: 0;max-width: 0;overflow: hidden;text-align: left;background-color: #f0f8ff;}#sk-4fbc10a3-03cb-4f66-b443-b2eca996a799 div.sk-toggleable__content pre {margin: 0.2em;color: black;border-radius: 0.25em;background-color: #f0f8ff;}#sk-4fbc10a3-03cb-4f66-b443-b2eca996a799 input.sk-toggleable__control:checked~div.sk-toggleable__content {max-height: 200px;max-width: 100%;overflow: auto;}#sk-4fbc10a3-03cb-4f66-b443-b2eca996a799 div.sk-estimator input.sk-toggleable__control:checked~label.sk-toggleable__label {background-color: #d4ebff;}#sk-4fbc10a3-03cb-4f66-b443-b2eca996a799 div.sk-label input.sk-toggleable__control:checked~label.sk-toggleable__label {background-color: #d4ebff;}#sk-4fbc10a3-03cb-4f66-b443-b2eca996a799 input.sk-hidden--visually {border: 0;clip: rect(1px 1px 1px 1px);clip: rect(1px, 1px, 1px, 1px);height: 1px;margin: -1px;overflow: hidden;padding: 0;position: absolute;width: 1px;}#sk-4fbc10a3-03cb-4f66-b443-b2eca996a799 div.sk-estimator {font-family: monospace;background-color: #f0f8ff;margin: 0.25em 0.25em;border: 1px dotted black;border-radius: 0.25em;box-sizing: border-box;}#sk-4fbc10a3-03cb-4f66-b443-b2eca996a799 div.sk-estimator:hover {background-color: #d4ebff;}#sk-4fbc10a3-03cb-4f66-b443-b2eca996a799 div.sk-parallel-item::after {content: \"\";width: 100%;border-bottom: 1px solid gray;flex-grow: 1;}#sk-4fbc10a3-03cb-4f66-b443-b2eca996a799 div.sk-label:hover label.sk-toggleable__label {background-color: #d4ebff;}#sk-4fbc10a3-03cb-4f66-b443-b2eca996a799 div.sk-serial::before {content: \"\";position: absolute;border-left: 1px solid gray;box-sizing: border-box;top: 2em;bottom: 0;left: 50%;}#sk-4fbc10a3-03cb-4f66-b443-b2eca996a799 div.sk-serial {display: flex;flex-direction: column;align-items: center;background-color: white;}#sk-4fbc10a3-03cb-4f66-b443-b2eca996a799 div.sk-item {z-index: 1;}#sk-4fbc10a3-03cb-4f66-b443-b2eca996a799 div.sk-parallel {display: flex;align-items: stretch;justify-content: center;background-color: white;}#sk-4fbc10a3-03cb-4f66-b443-b2eca996a799 div.sk-parallel-item {display: flex;flex-direction: column;position: relative;background-color: white;}#sk-4fbc10a3-03cb-4f66-b443-b2eca996a799 div.sk-parallel-item:first-child::after {align-self: flex-end;width: 50%;}#sk-4fbc10a3-03cb-4f66-b443-b2eca996a799 div.sk-parallel-item:last-child::after {align-self: flex-start;width: 50%;}#sk-4fbc10a3-03cb-4f66-b443-b2eca996a799 div.sk-parallel-item:only-child::after {width: 0;}#sk-4fbc10a3-03cb-4f66-b443-b2eca996a799 div.sk-dashed-wrapped {border: 1px dashed gray;margin: 0.2em;box-sizing: border-box;padding-bottom: 0.1em;background-color: white;position: relative;}#sk-4fbc10a3-03cb-4f66-b443-b2eca996a799 div.sk-label label {font-family: monospace;font-weight: bold;background-color: white;display: inline-block;line-height: 1.2em;}#sk-4fbc10a3-03cb-4f66-b443-b2eca996a799 div.sk-label-container {position: relative;z-index: 2;text-align: center;}#sk-4fbc10a3-03cb-4f66-b443-b2eca996a799 div.sk-container {display: inline-block;position: relative;}</style><div id=\"sk-4fbc10a3-03cb-4f66-b443-b2eca996a799\" class\"sk-top-container\"><div class=\"sk-container\"><div class=\"sk-item sk-dashed-wrapped\"><div class=\"sk-label-container\"><div class=\"sk-label sk-toggleable\"><input class=\"sk-toggleable__control sk-hidden--visually\" id=\"689df176-8145-4acb-aa31-6fd4a101f57e\" type=\"checkbox\" ><label class=\"sk-toggleable__label\" for=\"689df176-8145-4acb-aa31-6fd4a101f57e\">Pipeline</label><div class=\"sk-toggleable__content\"><pre>Pipeline(steps=[('preprocessors',\n",
       "                 ColumnTransformer(transformers=[('num',\n",
       "                                                  Pipeline(steps=[('imputer',\n",
       "                                                                   SimpleImputer()),\n",
       "                                                                  ('scaler',\n",
       "                                                                   MinMaxScaler())]),\n",
       "                                                  Index(['pclass', 'age', 'sibsp', 'parch', 'fare'], dtype='object')),\n",
       "                                                 ('cat',\n",
       "                                                  Pipeline(steps=[('imputer',\n",
       "                                                                   SimpleImputer(fill_value='missing',\n",
       "                                                                                 strategy='constant')),\n",
       "                                                                  ('encoder',\n",
       "                                                                   OneHotEncoder(handle_unknown='ignore',\n",
       "                                                                                 sparse=False))]),\n",
       "                                                  Index(['deck', 'embark_town', 'sex'], dtype='object'))])),\n",
       "                ('model', LogisticRegression())])</pre></div></div></div><div class=\"sk-serial\"><div class=\"sk-item sk-dashed-wrapped\"><div class=\"sk-label-container\"><div class=\"sk-label sk-toggleable\"><input class=\"sk-toggleable__control sk-hidden--visually\" id=\"209649bf-09b3-41f6-b423-e47abdf633af\" type=\"checkbox\" ><label class=\"sk-toggleable__label\" for=\"209649bf-09b3-41f6-b423-e47abdf633af\">preprocessors: ColumnTransformer</label><div class=\"sk-toggleable__content\"><pre>ColumnTransformer(transformers=[('num',\n",
       "                                 Pipeline(steps=[('imputer', SimpleImputer()),\n",
       "                                                 ('scaler', MinMaxScaler())]),\n",
       "                                 Index(['pclass', 'age', 'sibsp', 'parch', 'fare'], dtype='object')),\n",
       "                                ('cat',\n",
       "                                 Pipeline(steps=[('imputer',\n",
       "                                                  SimpleImputer(fill_value='missing',\n",
       "                                                                strategy='constant')),\n",
       "                                                 ('encoder',\n",
       "                                                  OneHotEncoder(handle_unknown='ignore',\n",
       "                                                                sparse=False))]),\n",
       "                                 Index(['deck', 'embark_town', 'sex'], dtype='object'))])</pre></div></div></div><div class=\"sk-parallel\"><div class=\"sk-parallel-item\"><div class=\"sk-item\"><div class=\"sk-label-container\"><div class=\"sk-label sk-toggleable\"><input class=\"sk-toggleable__control sk-hidden--visually\" id=\"f4c33b66-e813-421b-be15-17d245f702ae\" type=\"checkbox\" ><label class=\"sk-toggleable__label\" for=\"f4c33b66-e813-421b-be15-17d245f702ae\">num</label><div class=\"sk-toggleable__content\"><pre>Index(['pclass', 'age', 'sibsp', 'parch', 'fare'], dtype='object')</pre></div></div></div><div class=\"sk-serial\"><div class=\"sk-item\"><div class=\"sk-serial\"><div class=\"sk-item\"><div class=\"sk-estimator sk-toggleable\"><input class=\"sk-toggleable__control sk-hidden--visually\" id=\"7fe07490-d56d-4f03-98f6-84105f7169f2\" type=\"checkbox\" ><label class=\"sk-toggleable__label\" for=\"7fe07490-d56d-4f03-98f6-84105f7169f2\">SimpleImputer</label><div class=\"sk-toggleable__content\"><pre>SimpleImputer()</pre></div></div></div><div class=\"sk-item\"><div class=\"sk-estimator sk-toggleable\"><input class=\"sk-toggleable__control sk-hidden--visually\" id=\"b870b5bd-631b-4dd8-b765-bccb006be990\" type=\"checkbox\" ><label class=\"sk-toggleable__label\" for=\"b870b5bd-631b-4dd8-b765-bccb006be990\">MinMaxScaler</label><div class=\"sk-toggleable__content\"><pre>MinMaxScaler()</pre></div></div></div></div></div></div></div></div><div class=\"sk-parallel-item\"><div class=\"sk-item\"><div class=\"sk-label-container\"><div class=\"sk-label sk-toggleable\"><input class=\"sk-toggleable__control sk-hidden--visually\" id=\"4a87aec9-4627-4062-9559-a12a72acba56\" type=\"checkbox\" ><label class=\"sk-toggleable__label\" for=\"4a87aec9-4627-4062-9559-a12a72acba56\">cat</label><div class=\"sk-toggleable__content\"><pre>Index(['deck', 'embark_town', 'sex'], dtype='object')</pre></div></div></div><div class=\"sk-serial\"><div class=\"sk-item\"><div class=\"sk-serial\"><div class=\"sk-item\"><div class=\"sk-estimator sk-toggleable\"><input class=\"sk-toggleable__control sk-hidden--visually\" id=\"0bda7bb0-5126-464d-ba05-91102b6b7ac5\" type=\"checkbox\" ><label class=\"sk-toggleable__label\" for=\"0bda7bb0-5126-464d-ba05-91102b6b7ac5\">SimpleImputer</label><div class=\"sk-toggleable__content\"><pre>SimpleImputer(fill_value='missing', strategy='constant')</pre></div></div></div><div class=\"sk-item\"><div class=\"sk-estimator sk-toggleable\"><input class=\"sk-toggleable__control sk-hidden--visually\" id=\"841f671b-eec1-4289-ae45-b25cee856238\" type=\"checkbox\" ><label class=\"sk-toggleable__label\" for=\"841f671b-eec1-4289-ae45-b25cee856238\">OneHotEncoder</label><div class=\"sk-toggleable__content\"><pre>OneHotEncoder(handle_unknown='ignore', sparse=False)</pre></div></div></div></div></div></div></div></div></div></div><div class=\"sk-item\"><div class=\"sk-estimator sk-toggleable\"><input class=\"sk-toggleable__control sk-hidden--visually\" id=\"a23f3769-0ad2-4025-aa00-b663c6142c53\" type=\"checkbox\" ><label class=\"sk-toggleable__label\" for=\"a23f3769-0ad2-4025-aa00-b663c6142c53\">LogisticRegression</label><div class=\"sk-toggleable__content\"><pre>LogisticRegression()</pre></div></div></div></div></div></div></div>"
      ],
      "text/plain": [
       "Pipeline(steps=[('preprocessors',\n",
       "                 ColumnTransformer(transformers=[('num',\n",
       "                                                  Pipeline(steps=[('imputer',\n",
       "                                                                   SimpleImputer()),\n",
       "                                                                  ('scaler',\n",
       "                                                                   MinMaxScaler())]),\n",
       "                                                  Index(['pclass', 'age', 'sibsp', 'parch', 'fare'], dtype='object')),\n",
       "                                                 ('cat',\n",
       "                                                  Pipeline(steps=[('imputer',\n",
       "                                                                   SimpleImputer(fill_value='missing',\n",
       "                                                                                 strategy='constant')),\n",
       "                                                                  ('encoder',\n",
       "                                                                   OneHotEncoder(handle_unknown='ignore',\n",
       "                                                                                 sparse=False))]),\n",
       "                                                  Index(['deck', 'embark_town', 'sex'], dtype='object'))])),\n",
       "                ('model', LogisticRegression())])"
      ]
     },
     "execution_count": 25,
     "metadata": {},
     "output_type": "execute_result"
    }
   ],
   "source": [
    "numerical_pipe = Pipeline([\n",
    "    ('imputer', SimpleImputer(strategy='mean')),\n",
    "    ('scaler', MinMaxScaler())\n",
    "])\n",
    "\n",
    "categorical_pipe = Pipeline([\n",
    "    ('imputer', SimpleImputer(strategy='constant', fill_value='missing')),\n",
    "    ('encoder', OneHotEncoder(handle_unknown='ignore', sparse=False))\n",
    "])\n",
    "\n",
    "preprocessors = ColumnTransformer(transformers=[\n",
    "    ('num', numerical_pipe, NUMERICAL),\n",
    "    ('cat', categorical_pipe, CATEGORICAL)\n",
    "])\n",
    "\n",
    "pipe = Pipeline([\n",
    "    ('preprocessors', preprocessors),\n",
    "    ('model', LogisticRegression())\n",
    "])\n",
    "\n",
    "pipe.fit(X_train, y_train)"
   ]
  },
  {
   "cell_type": "code",
   "execution_count": 26,
   "metadata": {
    "ExecuteTime": {
     "end_time": "2022-05-12T16:14:44.900482Z",
     "start_time": "2022-05-12T16:14:44.785202Z"
    }
   },
   "outputs": [
    {
     "name": "stdout",
     "output_type": "stream",
     "text": [
      "Train ROC-AUC: 0.8665\n",
      "Test ROC-AUC: 0.8325\n"
     ]
    }
   ],
   "source": [
    "print(f\"Train ROC-AUC: {calculate_roc_auc(pipe, X_train, y_train):.4f}\")\n",
    "print(f\"Test ROC-AUC: {calculate_roc_auc(pipe, X_test, y_test):.4f}\")"
   ]
  },
  {
   "cell_type": "raw",
   "metadata": {},
   "source": [
    "◼️ Splits input data into numerical and categorical groups\n",
    "◼️ Preprocesses both groups in parallel\n",
    "◼️ Concatenates the preprocessed data from both groups\n",
    "◼️ Passes the preprocessed data into the model"
   ]
  },
  {
   "cell_type": "markdown",
   "metadata": {},
   "source": [
    "# 4 Better Approach #2"
   ]
  },
  {
   "cell_type": "code",
   "execution_count": 30,
   "metadata": {
    "ExecuteTime": {
     "end_time": "2022-05-12T16:16:41.022718Z",
     "start_time": "2022-05-12T16:16:39.558848Z"
    },
    "scrolled": true
   },
   "outputs": [
    {
     "data": {
      "text/html": [
       "<style>#sk-98a0b4db-e61f-4fde-a7c8-e79214ec287e {color: black;background-color: white;}#sk-98a0b4db-e61f-4fde-a7c8-e79214ec287e pre{padding: 0;}#sk-98a0b4db-e61f-4fde-a7c8-e79214ec287e div.sk-toggleable {background-color: white;}#sk-98a0b4db-e61f-4fde-a7c8-e79214ec287e label.sk-toggleable__label {cursor: pointer;display: block;width: 100%;margin-bottom: 0;padding: 0.2em 0.3em;box-sizing: border-box;text-align: center;}#sk-98a0b4db-e61f-4fde-a7c8-e79214ec287e div.sk-toggleable__content {max-height: 0;max-width: 0;overflow: hidden;text-align: left;background-color: #f0f8ff;}#sk-98a0b4db-e61f-4fde-a7c8-e79214ec287e div.sk-toggleable__content pre {margin: 0.2em;color: black;border-radius: 0.25em;background-color: #f0f8ff;}#sk-98a0b4db-e61f-4fde-a7c8-e79214ec287e input.sk-toggleable__control:checked~div.sk-toggleable__content {max-height: 200px;max-width: 100%;overflow: auto;}#sk-98a0b4db-e61f-4fde-a7c8-e79214ec287e div.sk-estimator input.sk-toggleable__control:checked~label.sk-toggleable__label {background-color: #d4ebff;}#sk-98a0b4db-e61f-4fde-a7c8-e79214ec287e div.sk-label input.sk-toggleable__control:checked~label.sk-toggleable__label {background-color: #d4ebff;}#sk-98a0b4db-e61f-4fde-a7c8-e79214ec287e input.sk-hidden--visually {border: 0;clip: rect(1px 1px 1px 1px);clip: rect(1px, 1px, 1px, 1px);height: 1px;margin: -1px;overflow: hidden;padding: 0;position: absolute;width: 1px;}#sk-98a0b4db-e61f-4fde-a7c8-e79214ec287e div.sk-estimator {font-family: monospace;background-color: #f0f8ff;margin: 0.25em 0.25em;border: 1px dotted black;border-radius: 0.25em;box-sizing: border-box;}#sk-98a0b4db-e61f-4fde-a7c8-e79214ec287e div.sk-estimator:hover {background-color: #d4ebff;}#sk-98a0b4db-e61f-4fde-a7c8-e79214ec287e div.sk-parallel-item::after {content: \"\";width: 100%;border-bottom: 1px solid gray;flex-grow: 1;}#sk-98a0b4db-e61f-4fde-a7c8-e79214ec287e div.sk-label:hover label.sk-toggleable__label {background-color: #d4ebff;}#sk-98a0b4db-e61f-4fde-a7c8-e79214ec287e div.sk-serial::before {content: \"\";position: absolute;border-left: 1px solid gray;box-sizing: border-box;top: 2em;bottom: 0;left: 50%;}#sk-98a0b4db-e61f-4fde-a7c8-e79214ec287e div.sk-serial {display: flex;flex-direction: column;align-items: center;background-color: white;}#sk-98a0b4db-e61f-4fde-a7c8-e79214ec287e div.sk-item {z-index: 1;}#sk-98a0b4db-e61f-4fde-a7c8-e79214ec287e div.sk-parallel {display: flex;align-items: stretch;justify-content: center;background-color: white;}#sk-98a0b4db-e61f-4fde-a7c8-e79214ec287e div.sk-parallel-item {display: flex;flex-direction: column;position: relative;background-color: white;}#sk-98a0b4db-e61f-4fde-a7c8-e79214ec287e div.sk-parallel-item:first-child::after {align-self: flex-end;width: 50%;}#sk-98a0b4db-e61f-4fde-a7c8-e79214ec287e div.sk-parallel-item:last-child::after {align-self: flex-start;width: 50%;}#sk-98a0b4db-e61f-4fde-a7c8-e79214ec287e div.sk-parallel-item:only-child::after {width: 0;}#sk-98a0b4db-e61f-4fde-a7c8-e79214ec287e div.sk-dashed-wrapped {border: 1px dashed gray;margin: 0.2em;box-sizing: border-box;padding-bottom: 0.1em;background-color: white;position: relative;}#sk-98a0b4db-e61f-4fde-a7c8-e79214ec287e div.sk-label label {font-family: monospace;font-weight: bold;background-color: white;display: inline-block;line-height: 1.2em;}#sk-98a0b4db-e61f-4fde-a7c8-e79214ec287e div.sk-label-container {position: relative;z-index: 2;text-align: center;}#sk-98a0b4db-e61f-4fde-a7c8-e79214ec287e div.sk-container {display: inline-block;position: relative;}</style><div id=\"sk-98a0b4db-e61f-4fde-a7c8-e79214ec287e\" class\"sk-top-container\"><div class=\"sk-container\"><div class=\"sk-item sk-dashed-wrapped\"><div class=\"sk-label-container\"><div class=\"sk-label sk-toggleable\"><input class=\"sk-toggleable__control sk-hidden--visually\" id=\"4e0339c9-bd51-475e-8224-79ed8771efd3\" type=\"checkbox\" ><label class=\"sk-toggleable__label\" for=\"4e0339c9-bd51-475e-8224-79ed8771efd3\">Pipeline</label><div class=\"sk-toggleable__content\"><pre>Pipeline(steps=[('num_imputer',\n",
       "                 Imputer(features=Index(['pclass', 'age', 'sibsp', 'parch', 'fare'], dtype='object'),\n",
       "                         method='mean',\n",
       "                         value=pclass     2.3090\n",
       "age       29.8077\n",
       "sibsp      0.4930\n",
       "parch      0.3904\n",
       "fare      31.8198\n",
       "dtype: float64)),\n",
       "                ('scaler',\n",
       "                 Scaler(features=Index(['pclass', 'age', 'sibsp', 'parch', 'fare'], dtype='object'))),\n",
       "                ('cat_imputer',\n",
       "                 Imputer(features=Index(['deck', 'embark_town', 'sex'], dtype='object'))),\n",
       "                ('encoder',\n",
       "                 Encoder(features=Index(['deck', 'embark_town', 'sex'], dtype='object'))),\n",
       "                ('model', LogisticRegression())])</pre></div></div></div><div class=\"sk-serial\"><div class=\"sk-item\"><div class=\"sk-estimator sk-toggleable\"><input class=\"sk-toggleable__control sk-hidden--visually\" id=\"54f9dc75-bc59-47e4-b750-9e3a1b719728\" type=\"checkbox\" ><label class=\"sk-toggleable__label\" for=\"54f9dc75-bc59-47e4-b750-9e3a1b719728\">Imputer</label><div class=\"sk-toggleable__content\"><pre>Imputer(features=Index(['pclass', 'age', 'sibsp', 'parch', 'fare'], dtype='object'),\n",
       "        method='mean',\n",
       "        value=pclass     2.3090\n",
       "age       29.8077\n",
       "sibsp      0.4930\n",
       "parch      0.3904\n",
       "fare      31.8198\n",
       "dtype: float64)</pre></div></div></div><div class=\"sk-item\"><div class=\"sk-estimator sk-toggleable\"><input class=\"sk-toggleable__control sk-hidden--visually\" id=\"555b1432-fe66-4a3c-80d8-9be7b9a6777d\" type=\"checkbox\" ><label class=\"sk-toggleable__label\" for=\"555b1432-fe66-4a3c-80d8-9be7b9a6777d\">Scaler</label><div class=\"sk-toggleable__content\"><pre>Scaler(features=Index(['pclass', 'age', 'sibsp', 'parch', 'fare'], dtype='object'))</pre></div></div></div><div class=\"sk-item\"><div class=\"sk-estimator sk-toggleable\"><input class=\"sk-toggleable__control sk-hidden--visually\" id=\"978fc203-7892-4785-8155-6d1321367404\" type=\"checkbox\" ><label class=\"sk-toggleable__label\" for=\"978fc203-7892-4785-8155-6d1321367404\">Imputer</label><div class=\"sk-toggleable__content\"><pre>Imputer(features=Index(['deck', 'embark_town', 'sex'], dtype='object'))</pre></div></div></div><div class=\"sk-item\"><div class=\"sk-estimator sk-toggleable\"><input class=\"sk-toggleable__control sk-hidden--visually\" id=\"7229cb38-e496-48f1-bd18-a2cae4be5db1\" type=\"checkbox\" ><label class=\"sk-toggleable__label\" for=\"7229cb38-e496-48f1-bd18-a2cae4be5db1\">Encoder</label><div class=\"sk-toggleable__content\"><pre>Encoder(features=Index(['deck', 'embark_town', 'sex'], dtype='object'))</pre></div></div></div><div class=\"sk-item\"><div class=\"sk-estimator sk-toggleable\"><input class=\"sk-toggleable__control sk-hidden--visually\" id=\"59855b04-0fd7-4883-a594-a6487ee69089\" type=\"checkbox\" ><label class=\"sk-toggleable__label\" for=\"59855b04-0fd7-4883-a594-a6487ee69089\">LogisticRegression</label><div class=\"sk-toggleable__content\"><pre>LogisticRegression()</pre></div></div></div></div></div></div></div>"
      ],
      "text/plain": [
       "Pipeline(steps=[('num_imputer',\n",
       "                 Imputer(features=Index(['pclass', 'age', 'sibsp', 'parch', 'fare'], dtype='object'),\n",
       "                         method='mean',\n",
       "                         value=pclass     2.3090\n",
       "age       29.8077\n",
       "sibsp      0.4930\n",
       "parch      0.3904\n",
       "fare      31.8198\n",
       "dtype: float64)),\n",
       "                ('scaler',\n",
       "                 Scaler(features=Index(['pclass', 'age', 'sibsp', 'parch', 'fare'], dtype='object'))),\n",
       "                ('cat_imputer',\n",
       "                 Imputer(features=Index(['deck', 'embark_town', 'sex'], dtype='object'))),\n",
       "                ('encoder',\n",
       "                 Encoder(features=Index(['deck', 'embark_town', 'sex'], dtype='object'))),\n",
       "                ('model', LogisticRegression())])"
      ]
     },
     "execution_count": 30,
     "metadata": {},
     "output_type": "execute_result"
    }
   ],
   "source": [
    "class Imputer(BaseEstimator, TransformerMixin):\n",
    "    def __init__(self, features, method='constant', value='missing'):\n",
    "        self.features = features\n",
    "        self.method = method\n",
    "        self.value = value\n",
    "    \n",
    "    def fit(self, X, y=None):\n",
    "        if self.method=='mean':\n",
    "            self.value = X[self.features].mean()\n",
    "        return self\n",
    "    \n",
    "    def transform(self, X):\n",
    "        X_transformed = X.copy()\n",
    "        X_transformed[self.features] = X[self.features].fillna(self.value)\n",
    "        return X_transformed\n",
    "    \n",
    "class Scaler(BaseEstimator, TransformerMixin):\n",
    "    def __init__(self, features):\n",
    "        self.features = features\n",
    "    \n",
    "    def fit(self, X, y=None):\n",
    "        self.min = X[self.features].min()\n",
    "        self.range = X[self.features].max()-self.min\n",
    "        return self\n",
    "    \n",
    "    def transform(self, X):\n",
    "        X_transformed = X.copy()\n",
    "        X_transformed[self.features] = (X[self.features]-self.min)/self.range\n",
    "        return X_transformed\n",
    "  \n",
    "class Encoder(BaseEstimator, TransformerMixin):\n",
    "    def __init__(self, features, drop='first'):\n",
    "        self.features = features\n",
    "        self.drop = drop\n",
    "    \n",
    "    def fit(self, X, y=None):\n",
    "        self.encoder = OneHotEncoder(sparse=False, drop=self.drop)\n",
    "        self.encoder.fit(X[self.features])\n",
    "        return self\n",
    "    \n",
    "    def transform(self, X):\n",
    "        X_transformed = pd.concat([X.drop(columns=self.features).reset_index(drop=True), \n",
    "                                   pd.DataFrame(self.encoder.transform(X[self.features]))],\n",
    "                                  axis=1)\n",
    "        return X_transformed\n",
    "        \n",
    "pipe = Pipeline([\n",
    "    ('num_imputer', Imputer(NUMERICAL, method='mean')),\n",
    "    ('scaler', Scaler(NUMERICAL)),\n",
    "    ('cat_imputer', Imputer(CATEGORICAL)),\n",
    "    ('encoder', Encoder(CATEGORICAL)),\n",
    "    ('model', LogisticRegression())\n",
    "])\n",
    "\n",
    "pipe.fit(X_train, y_train)   "
   ]
  },
  {
   "cell_type": "code",
   "execution_count": 29,
   "metadata": {
    "ExecuteTime": {
     "end_time": "2022-05-12T16:16:14.759359Z",
     "start_time": "2022-05-12T16:16:14.659140Z"
    }
   },
   "outputs": [
    {
     "name": "stdout",
     "output_type": "stream",
     "text": [
      "Train ROC-AUC: 0.8670\n",
      "Test ROC-AUC: 0.8332\n"
     ]
    }
   ],
   "source": [
    "print(f\"Train ROC-AUC: {calculate_roc_auc(pipe, X_train, y_train):.4f}\")\n",
    "print(f\"Test ROC-AUC: {calculate_roc_auc(pipe, X_test, y_test):.4f}\")"
   ]
  },
  {
   "cell_type": "code",
   "execution_count": null,
   "metadata": {},
   "outputs": [],
   "source": []
  }
 ],
 "metadata": {
  "kernelspec": {
   "display_name": "Python 3",
   "language": "python",
   "name": "python3"
  },
  "language_info": {
   "codemirror_mode": {
    "name": "ipython",
    "version": 3
   },
   "file_extension": ".py",
   "mimetype": "text/x-python",
   "name": "python",
   "nbconvert_exporter": "python",
   "pygments_lexer": "ipython3",
   "version": "3.7.4"
  }
 },
 "nbformat": 4,
 "nbformat_minor": 4
}
