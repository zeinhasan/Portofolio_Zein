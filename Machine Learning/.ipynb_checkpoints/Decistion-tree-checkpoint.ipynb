{
 "cells": [
  {
   "cell_type": "markdown",
   "metadata": {},
   "source": [
    "\n",
    "\n",
    "\n",
    "\n",
    "\n",
    "\n",
    "\n",
    "\n",
    "\n",
    "\n",
    "\n",
    "\n",
    "\n",
    "\n",
    "\n",
    "\n",
    "\n",
    "\n",
    "\n",
    "\n",
    "\n",
    "\n",
    "\n",
    "\n",
    "\n",
    "\n",
    "\n",
    "\n",
    "\n",
    "\n",
    "\n",
    "\n",
    "\n",
    "\n",
    "\n",
    "\n",
    "\n",
    "\n",
    "\n",
    "\n",
    "\n",
    "\n",
    "\n",
    "\n",
    "\n",
    "\n",
    "\n",
    "\n",
    "\n",
    "\n",
    "\n",
    "\n",
    "\n",
    "\n",
    "\n",
    "\n",
    "\n",
    "\n",
    "\n",
    "\n",
    "\n",
    "\n",
    "\n",
    "\n",
    "\n",
    "\n",
    "\n",
    "\n",
    "\n",
    "\n",
    "\n",
    "\n",
    "\n",
    "\n",
    "\n",
    "\n",
    "\n",
    "\n",
    "\n",
    "\n",
    "\n",
    "\n",
    "\n",
    "\n",
    "\n",
    "\n",
    "\n",
    "\n",
    "\n",
    "\n",
    "\n",
    "\n",
    "\n",
    "\n",
    "\n",
    "\n",
    "\n",
    "\n",
    "\n",
    "\n",
    "\n",
    "\n",
    "\n",
    "\n",
    "\n",
    "\n",
    "\n",
    "\n",
    "\n",
    "\n",
    "\n",
    "\n",
    "\n",
    "\n",
    "\n",
    "\n",
    "\n",
    "\n",
    "\n",
    "\n",
    "\n",
    "\n",
    "\n",
    "\n",
    "\n",
    "\n",
    "\n",
    "# Importing packages "
   ]
  },
  {
   "cell_type": "code",
   "execution_count": 44,
   "metadata": {
    "ExecuteTime": {
     "end_time": "2022-05-12T16:17:39.935242Z",
     "start_time": "2022-05-12T16:17:39.661561Z"
    },
    "scrolled": true
   },
   "outputs": [],
   "source": [
    "# Data wrangling \n",
    "import pandas as pd \n",
    "\n",
    "# Array math\n",
    "import numpy as np \n",
    "\n",
    "# Ploting \n",
    "import seaborn as sns\n",
    "import matplotlib.pyplot as plt\n",
    "\n",
    "# List iteration tracking\n",
    "from tqdm import tqdm\n",
    "\n",
    "# Importing the custom written class \n",
    "from DecisionTree import Node \n",
    "\n",
    "# Importing the custom regression tree \n",
    "from RegressionDecisionTree import NodeRegression\n",
    "\n",
    "# Importing the scikit-learn tree implementation\n",
    "from sklearn.tree import DecisionTreeClassifier, export_text , DecisionTreeRegressor\n",
    "\n",
    "# Inspecting functions\n",
    "import inspect\n",
    "\n",
    "# Time tracking\n",
    "import time"
   ]
  },
  {
   "cell_type": "markdown",
   "metadata": {},
   "source": [
    "# Motivating example"
   ]
  },
  {
   "cell_type": "markdown",
   "metadata": {},
   "source": [
    "Lets load some data from the famous titanic dataset."
   ]
  },
  {
   "cell_type": "code",
   "execution_count": 2,
   "metadata": {
    "ExecuteTime": {
     "end_time": "2022-05-12T14:00:47.605338Z",
     "start_time": "2022-05-12T14:00:47.565739Z"
    }
   },
   "outputs": [],
   "source": [
    "# Loading data\n",
    "d = pd.read_csv('F:/Komputasi Statistika 2/decision-tree-python-main/data/classification/train.csv')"
   ]
  },
  {
   "cell_type": "code",
   "execution_count": 3,
   "metadata": {
    "ExecuteTime": {
     "end_time": "2022-05-12T14:00:49.653825Z",
     "start_time": "2022-05-12T14:00:49.618255Z"
    }
   },
   "outputs": [
    {
     "data": {
      "text/html": [
       "<div>\n",
       "<style scoped>\n",
       "    .dataframe tbody tr th:only-of-type {\n",
       "        vertical-align: middle;\n",
       "    }\n",
       "\n",
       "    .dataframe tbody tr th {\n",
       "        vertical-align: top;\n",
       "    }\n",
       "\n",
       "    .dataframe thead th {\n",
       "        text-align: right;\n",
       "    }\n",
       "</style>\n",
       "<table border=\"1\" class=\"dataframe\">\n",
       "  <thead>\n",
       "    <tr style=\"text-align: right;\">\n",
       "      <th></th>\n",
       "      <th>PassengerId</th>\n",
       "      <th>Survived</th>\n",
       "      <th>Pclass</th>\n",
       "      <th>Name</th>\n",
       "      <th>Sex</th>\n",
       "      <th>Age</th>\n",
       "      <th>SibSp</th>\n",
       "      <th>Parch</th>\n",
       "      <th>Ticket</th>\n",
       "      <th>Fare</th>\n",
       "      <th>Cabin</th>\n",
       "      <th>Embarked</th>\n",
       "    </tr>\n",
       "  </thead>\n",
       "  <tbody>\n",
       "    <tr>\n",
       "      <th>34</th>\n",
       "      <td>35</td>\n",
       "      <td>0</td>\n",
       "      <td>1</td>\n",
       "      <td>Meyer, Mr. Edgar Joseph</td>\n",
       "      <td>male</td>\n",
       "      <td>28.0</td>\n",
       "      <td>1</td>\n",
       "      <td>0</td>\n",
       "      <td>PC 17604</td>\n",
       "      <td>82.1708</td>\n",
       "      <td>NaN</td>\n",
       "      <td>C</td>\n",
       "    </tr>\n",
       "    <tr>\n",
       "      <th>606</th>\n",
       "      <td>607</td>\n",
       "      <td>0</td>\n",
       "      <td>3</td>\n",
       "      <td>Karaic, Mr. Milan</td>\n",
       "      <td>male</td>\n",
       "      <td>30.0</td>\n",
       "      <td>0</td>\n",
       "      <td>0</td>\n",
       "      <td>349246</td>\n",
       "      <td>7.8958</td>\n",
       "      <td>NaN</td>\n",
       "      <td>S</td>\n",
       "    </tr>\n",
       "    <tr>\n",
       "      <th>310</th>\n",
       "      <td>311</td>\n",
       "      <td>1</td>\n",
       "      <td>1</td>\n",
       "      <td>Hays, Miss. Margaret Bechstein</td>\n",
       "      <td>female</td>\n",
       "      <td>24.0</td>\n",
       "      <td>0</td>\n",
       "      <td>0</td>\n",
       "      <td>11767</td>\n",
       "      <td>83.1583</td>\n",
       "      <td>C54</td>\n",
       "      <td>C</td>\n",
       "    </tr>\n",
       "    <tr>\n",
       "      <th>167</th>\n",
       "      <td>168</td>\n",
       "      <td>0</td>\n",
       "      <td>3</td>\n",
       "      <td>Skoog, Mrs. William (Anna Bernhardina Karlsson)</td>\n",
       "      <td>female</td>\n",
       "      <td>45.0</td>\n",
       "      <td>1</td>\n",
       "      <td>4</td>\n",
       "      <td>347088</td>\n",
       "      <td>27.9000</td>\n",
       "      <td>NaN</td>\n",
       "      <td>S</td>\n",
       "    </tr>\n",
       "    <tr>\n",
       "      <th>309</th>\n",
       "      <td>310</td>\n",
       "      <td>1</td>\n",
       "      <td>1</td>\n",
       "      <td>Francatelli, Miss. Laura Mabel</td>\n",
       "      <td>female</td>\n",
       "      <td>30.0</td>\n",
       "      <td>0</td>\n",
       "      <td>0</td>\n",
       "      <td>PC 17485</td>\n",
       "      <td>56.9292</td>\n",
       "      <td>E36</td>\n",
       "      <td>C</td>\n",
       "    </tr>\n",
       "    <tr>\n",
       "      <th>412</th>\n",
       "      <td>413</td>\n",
       "      <td>1</td>\n",
       "      <td>1</td>\n",
       "      <td>Minahan, Miss. Daisy E</td>\n",
       "      <td>female</td>\n",
       "      <td>33.0</td>\n",
       "      <td>1</td>\n",
       "      <td>0</td>\n",
       "      <td>19928</td>\n",
       "      <td>90.0000</td>\n",
       "      <td>C78</td>\n",
       "      <td>Q</td>\n",
       "    </tr>\n",
       "    <tr>\n",
       "      <th>489</th>\n",
       "      <td>490</td>\n",
       "      <td>1</td>\n",
       "      <td>3</td>\n",
       "      <td>Coutts, Master. Eden Leslie \"Neville\"</td>\n",
       "      <td>male</td>\n",
       "      <td>9.0</td>\n",
       "      <td>1</td>\n",
       "      <td>1</td>\n",
       "      <td>C.A. 37671</td>\n",
       "      <td>15.9000</td>\n",
       "      <td>NaN</td>\n",
       "      <td>S</td>\n",
       "    </tr>\n",
       "    <tr>\n",
       "      <th>702</th>\n",
       "      <td>703</td>\n",
       "      <td>0</td>\n",
       "      <td>3</td>\n",
       "      <td>Barbara, Miss. Saiide</td>\n",
       "      <td>female</td>\n",
       "      <td>18.0</td>\n",
       "      <td>0</td>\n",
       "      <td>1</td>\n",
       "      <td>2691</td>\n",
       "      <td>14.4542</td>\n",
       "      <td>NaN</td>\n",
       "      <td>C</td>\n",
       "    </tr>\n",
       "    <tr>\n",
       "      <th>679</th>\n",
       "      <td>680</td>\n",
       "      <td>1</td>\n",
       "      <td>1</td>\n",
       "      <td>Cardeza, Mr. Thomas Drake Martinez</td>\n",
       "      <td>male</td>\n",
       "      <td>36.0</td>\n",
       "      <td>0</td>\n",
       "      <td>1</td>\n",
       "      <td>PC 17755</td>\n",
       "      <td>512.3292</td>\n",
       "      <td>B51 B53 B55</td>\n",
       "      <td>C</td>\n",
       "    </tr>\n",
       "    <tr>\n",
       "      <th>634</th>\n",
       "      <td>635</td>\n",
       "      <td>0</td>\n",
       "      <td>3</td>\n",
       "      <td>Skoog, Miss. Mabel</td>\n",
       "      <td>female</td>\n",
       "      <td>9.0</td>\n",
       "      <td>3</td>\n",
       "      <td>2</td>\n",
       "      <td>347088</td>\n",
       "      <td>27.9000</td>\n",
       "      <td>NaN</td>\n",
       "      <td>S</td>\n",
       "    </tr>\n",
       "  </tbody>\n",
       "</table>\n",
       "</div>"
      ],
      "text/plain": [
       "     PassengerId  Survived  Pclass  \\\n",
       "34            35         0       1   \n",
       "606          607         0       3   \n",
       "310          311         1       1   \n",
       "167          168         0       3   \n",
       "309          310         1       1   \n",
       "412          413         1       1   \n",
       "489          490         1       3   \n",
       "702          703         0       3   \n",
       "679          680         1       1   \n",
       "634          635         0       3   \n",
       "\n",
       "                                                Name     Sex   Age  SibSp  \\\n",
       "34                           Meyer, Mr. Edgar Joseph    male  28.0      1   \n",
       "606                                Karaic, Mr. Milan    male  30.0      0   \n",
       "310                   Hays, Miss. Margaret Bechstein  female  24.0      0   \n",
       "167  Skoog, Mrs. William (Anna Bernhardina Karlsson)  female  45.0      1   \n",
       "309                   Francatelli, Miss. Laura Mabel  female  30.0      0   \n",
       "412                           Minahan, Miss. Daisy E  female  33.0      1   \n",
       "489            Coutts, Master. Eden Leslie \"Neville\"    male   9.0      1   \n",
       "702                            Barbara, Miss. Saiide  female  18.0      0   \n",
       "679               Cardeza, Mr. Thomas Drake Martinez    male  36.0      0   \n",
       "634                               Skoog, Miss. Mabel  female   9.0      3   \n",
       "\n",
       "     Parch      Ticket      Fare        Cabin Embarked  \n",
       "34       0    PC 17604   82.1708          NaN        C  \n",
       "606      0      349246    7.8958          NaN        S  \n",
       "310      0       11767   83.1583          C54        C  \n",
       "167      4      347088   27.9000          NaN        S  \n",
       "309      0    PC 17485   56.9292          E36        C  \n",
       "412      0       19928   90.0000          C78        Q  \n",
       "489      1  C.A. 37671   15.9000          NaN        S  \n",
       "702      1        2691   14.4542          NaN        C  \n",
       "679      1    PC 17755  512.3292  B51 B53 B55        C  \n",
       "634      2      347088   27.9000          NaN        S  "
      ]
     },
     "execution_count": 3,
     "metadata": {},
     "output_type": "execute_result"
    }
   ],
   "source": [
    "d.sample(10)"
   ]
  },
  {
   "cell_type": "markdown",
   "metadata": {},
   "source": [
    "Lets say we want to create a classifier whether a passenger survived or not using two variables: age and fare (price for a ticket). We want to create a simple decision tree to accomplish this task. "
   ]
  },
  {
   "cell_type": "code",
   "execution_count": 4,
   "metadata": {
    "ExecuteTime": {
     "end_time": "2022-05-12T14:01:06.688726Z",
     "start_time": "2022-05-12T14:01:06.621610Z"
    }
   },
   "outputs": [],
   "source": [
    "dd = d[['Survived', 'Fare', 'Age']].copy()\n",
    "\n",
    "# Droping missing entries\n",
    "dd.dropna(inplace=True)"
   ]
  },
  {
   "cell_type": "code",
   "execution_count": 5,
   "metadata": {
    "ExecuteTime": {
     "end_time": "2022-05-12T14:01:09.702240Z",
     "start_time": "2022-05-12T14:01:09.697240Z"
    }
   },
   "outputs": [
    {
     "name": "stdout",
     "output_type": "stream",
     "text": [
      "Number of observations: 714\n"
     ]
    }
   ],
   "source": [
    "print(f\"Number of observations: {dd.shape[0]}\")"
   ]
  },
  {
   "cell_type": "code",
   "execution_count": 6,
   "metadata": {
    "ExecuteTime": {
     "end_time": "2022-05-12T14:01:12.471755Z",
     "start_time": "2022-05-12T14:01:12.092619Z"
    }
   },
   "outputs": [
    {
     "data": {
      "image/png": "[encoded data removed]",
      "text/plain": [
       "<Figure size 720x720 with 1 Axes>"
      ]
     },
     "metadata": {
      "needs_background": "light"
     },
     "output_type": "display_data"
    }
   ],
   "source": [
    "plt.figure(figsize=(10, 10))\n",
    "sns.scatterplot(y='Fare', x='Age', data=dd, hue='Survived')\n",
    "plt.grid()\n",
    "plt.show()"
   ]
  },
  {
   "cell_type": "markdown",
   "metadata": {},
   "source": [
    "Every decision tree creation starts with the selection of what variable and what value we should choose to split? "
   ]
  },
  {
   "cell_type": "code",
   "execution_count": 7,
   "metadata": {
    "ExecuteTime": {
     "end_time": "2022-05-12T14:01:18.761242Z",
     "start_time": "2022-05-12T14:01:18.516990Z"
    }
   },
   "outputs": [
    {
     "data": {
      "image/png": "[encoded data removed]",
      "text/plain": [
       "<Figure size 720x720 with 1 Axes>"
      ]
     },
     "metadata": {
      "needs_background": "light"
     },
     "output_type": "display_data"
    }
   ],
   "source": [
    "# Define the split value \n",
    "age_split = 10\n",
    "\n",
    "# Ploting the original plot\n",
    "plt.figure(figsize=(10, 10))\n",
    "sns.scatterplot(y='Fare', x='Age', data=dd, hue='Survived')\n",
    "plt.grid()\n",
    "\n",
    "# Adding the vertical line\n",
    "plt.axvline(age_split, label='Spliting criteria', color='red')\n",
    "plt.legend()\n",
    "plt.show()"
   ]
  },
  {
   "cell_type": "code",
   "execution_count": 8,
   "metadata": {
    "ExecuteTime": {
     "end_time": "2022-05-12T14:04:20.052899Z",
     "start_time": "2022-05-12T14:04:20.029676Z"
    }
   },
   "outputs": [],
   "source": [
    "# Getting the left and right datasets\n",
    "left = dd[dd['Age']<=age_split]\n",
    "right = dd[dd['Age']>age_split]"
   ]
  },
  {
   "cell_type": "markdown",
   "metadata": {},
   "source": [
    "We made a decision to split the data into two parts based on the visual ques from the scatterplot. Some statistics:"
   ]
  },
  {
   "cell_type": "code",
   "execution_count": 9,
   "metadata": {
    "ExecuteTime": {
     "end_time": "2022-05-12T14:04:33.037132Z",
     "start_time": "2022-05-12T14:04:33.024134Z"
    }
   },
   "outputs": [
    {
     "name": "stdout",
     "output_type": "stream",
     "text": [
      "Observations to the left of criteria: 64\n",
      "Observations to the right of criteria: 650\n"
     ]
    }
   ],
   "source": [
    "print(f\"Observations to the left of criteria: {left.shape[0]}\")\n",
    "print(f\"Observations to the right of criteria: {right.shape[0]}\")"
   ]
  },
  {
   "cell_type": "code",
   "execution_count": 10,
   "metadata": {
    "ExecuteTime": {
     "end_time": "2022-05-12T14:04:40.134538Z",
     "start_time": "2022-05-12T14:04:40.111704Z"
    }
   },
   "outputs": [
    {
     "data": {
      "text/html": [
       "<div>\n",
       "<style scoped>\n",
       "    .dataframe tbody tr th:only-of-type {\n",
       "        vertical-align: middle;\n",
       "    }\n",
       "\n",
       "    .dataframe tbody tr th {\n",
       "        vertical-align: top;\n",
       "    }\n",
       "\n",
       "    .dataframe thead th {\n",
       "        text-align: right;\n",
       "    }\n",
       "</style>\n",
       "<table border=\"1\" class=\"dataframe\">\n",
       "  <thead>\n",
       "    <tr style=\"text-align: right;\">\n",
       "      <th></th>\n",
       "      <th>Survived</th>\n",
       "      <th>size</th>\n",
       "    </tr>\n",
       "  </thead>\n",
       "  <tbody>\n",
       "    <tr>\n",
       "      <th>0</th>\n",
       "      <td>0</td>\n",
       "      <td>26</td>\n",
       "    </tr>\n",
       "    <tr>\n",
       "      <th>1</th>\n",
       "      <td>1</td>\n",
       "      <td>38</td>\n",
       "    </tr>\n",
       "  </tbody>\n",
       "</table>\n",
       "</div>"
      ],
      "text/plain": [
       "   Survived  size\n",
       "0         0    26\n",
       "1         1    38"
      ]
     },
     "execution_count": 10,
     "metadata": {},
     "output_type": "execute_result"
    }
   ],
   "source": [
    "left.groupby('Survived', as_index=False).size()"
   ]
  },
  {
   "cell_type": "code",
   "execution_count": 11,
   "metadata": {
    "ExecuteTime": {
     "end_time": "2022-05-12T14:04:43.648206Z",
     "start_time": "2022-05-12T14:04:43.628033Z"
    }
   },
   "outputs": [
    {
     "data": {
      "text/html": [
       "<div>\n",
       "<style scoped>\n",
       "    .dataframe tbody tr th:only-of-type {\n",
       "        vertical-align: middle;\n",
       "    }\n",
       "\n",
       "    .dataframe tbody tr th {\n",
       "        vertical-align: top;\n",
       "    }\n",
       "\n",
       "    .dataframe thead th {\n",
       "        text-align: right;\n",
       "    }\n",
       "</style>\n",
       "<table border=\"1\" class=\"dataframe\">\n",
       "  <thead>\n",
       "    <tr style=\"text-align: right;\">\n",
       "      <th></th>\n",
       "      <th>Survived</th>\n",
       "      <th>size</th>\n",
       "    </tr>\n",
       "  </thead>\n",
       "  <tbody>\n",
       "    <tr>\n",
       "      <th>0</th>\n",
       "      <td>0</td>\n",
       "      <td>398</td>\n",
       "    </tr>\n",
       "    <tr>\n",
       "      <th>1</th>\n",
       "      <td>1</td>\n",
       "      <td>252</td>\n",
       "    </tr>\n",
       "  </tbody>\n",
       "</table>\n",
       "</div>"
      ],
      "text/plain": [
       "   Survived  size\n",
       "0         0   398\n",
       "1         1   252"
      ]
     },
     "execution_count": 11,
     "metadata": {},
     "output_type": "execute_result"
    }
   ],
   "source": [
    "right.groupby('Survived', as_index=False).size()"
   ]
  },
  {
   "cell_type": "markdown",
   "metadata": {},
   "source": [
    "There are observations from both of the classes in the nodes. Thus, each of the nodes are are **impure**. But how impure? To measure impurity we use the **GINI** impurity coefficient. "
   ]
  },
  {
   "cell_type": "markdown",
   "metadata": {},
   "source": [
    "# GINI impurity definition "
   ]
  },
  {
   "cell_type": "markdown",
   "metadata": {},
   "source": [
    "The GINI impurity index is the default spliting criteria when building decision trees. "
   ]
  },
  {
   "cell_type": "markdown",
   "metadata": {},
   "source": [
    "The formal definition for GINI impurity is as follows: \n",
    "    \n",
    "*Gini impurity is a measure of how often a randomly chosen element from the set would be incorrectly labeled if it was randomly labeled according to the distribution of labels in the subset.*"
   ]
  },
  {
   "cell_type": "markdown",
   "metadata": {},
   "source": [
    "The definition is not very intuitive so lets bring some clarity. \n",
    "\n",
    "Suppose we have two classes in the dataset:\n",
    "\n",
    "$$k_{1}, k_{2}$$. \n",
    "\n",
    "Each of the classes have $n_{1}$ and $n_{2}$ observations."
   ]
  },
  {
   "cell_type": "markdown",
   "metadata": {},
   "source": [
    "The probability of observing something from one of the $k$ classes is: "
   ]
  },
  {
   "cell_type": "markdown",
   "metadata": {},
   "source": [
    "$$p(i) = P(x_{i} \\in k_{i}) = \\dfrac{n_{i}}{n_{1} + n_{2}},  i \\in \\{1, 2\\}$$"
   ]
  },
  {
   "cell_type": "markdown",
   "metadata": {},
   "source": [
    "The GINI impurity of such a system is calculated with the following formula:\n",
    "    \n",
    "$$G = 1 - \\Sigma_{i=1}^{2}p(i)^{2}$$"
   ]
  },
  {
   "cell_type": "markdown",
   "metadata": {},
   "source": [
    "The function for calculating the impurity is in the **Node** class:"
   ]
  },
  {
   "cell_type": "code",
   "execution_count": 12,
   "metadata": {
    "ExecuteTime": {
     "end_time": "2022-05-12T14:06:26.507343Z",
     "start_time": "2022-05-12T14:06:26.480290Z"
    }
   },
   "outputs": [
    {
     "name": "stdout",
     "output_type": "stream",
     "text": [
      "    @staticmethod\n",
      "    def GINI_impurity(y1_count: int, y2_count: int) -> float:\n",
      "        \"\"\"\n",
      "        Given the observations of a binary class calculate the GINI impurity\n",
      "        \"\"\"\n",
      "        # Ensuring the correct types\n",
      "        if y1_count is None:\n",
      "            y1_count = 0\n",
      "\n",
      "        if y2_count is None:\n",
      "            y2_count = 0\n",
      "\n",
      "        # Getting the total observations\n",
      "        n = y1_count + y2_count\n",
      "        \n",
      "        # If n is 0 then we return the lowest possible gini impurity\n",
      "        if n == 0:\n",
      "            return 0.0\n",
      "\n",
      "        # Getting the probability to see each of the classes\n",
      "        p1 = y1_count / n\n",
      "        p2 = y2_count / n\n",
      "        \n",
      "        # Calculating GINI \n",
      "        gini = 1 - (p1 ** 2 + p2 ** 2)\n",
      "        \n",
      "        # Returning the gini impurity\n",
      "        return gini\n",
      "\n"
     ]
    }
   ],
   "source": [
    "print(inspect.getsource(Node.GINI_impurity))"
   ]
  },
  {
   "cell_type": "code",
   "execution_count": 13,
   "metadata": {
    "ExecuteTime": {
     "end_time": "2022-05-12T14:10:38.883627Z",
     "start_time": "2022-05-12T14:10:38.866640Z"
    }
   },
   "outputs": [],
   "source": [
    "# Simulating some data\n",
    "n = 1000\n",
    "\n",
    "shares_y1 = [\n",
    "    0, \n",
    "    0.1,\n",
    "    0.2,\n",
    "    0.3,\n",
    "    0.4,\n",
    "    0.5, \n",
    "    0.6,\n",
    "    0.7,\n",
    "    0.8,\n",
    "    0.9,\n",
    "    1\n",
    "] \n",
    "\n",
    "y1_counts = [x * n for x in shares_y1]\n",
    "y2_counts = [n - x for x in y1_counts]\n",
    "\n",
    "y = list(zip(y1_counts, y2_counts))"
   ]
  },
  {
   "cell_type": "code",
   "execution_count": 14,
   "metadata": {
    "ExecuteTime": {
     "end_time": "2022-05-12T14:10:42.249104Z",
     "start_time": "2022-05-12T14:10:42.242141Z"
    }
   },
   "outputs": [
    {
     "data": {
      "text/plain": [
       "[(0, 1000),\n",
       " (100.0, 900.0),\n",
       " (200.0, 800.0),\n",
       " (300.0, 700.0),\n",
       " (400.0, 600.0),\n",
       " (500.0, 500.0),\n",
       " (600.0, 400.0),\n",
       " (700.0, 300.0),\n",
       " (800.0, 200.0),\n",
       " (900.0, 100.0),\n",
       " (1000, 0)]"
      ]
     },
     "execution_count": 14,
     "metadata": {},
     "output_type": "execute_result"
    }
   ],
   "source": [
    "y"
   ]
  },
  {
   "cell_type": "code",
   "execution_count": 15,
   "metadata": {
    "ExecuteTime": {
     "end_time": "2022-05-12T14:10:50.657013Z",
     "start_time": "2022-05-12T14:10:50.650040Z"
    }
   },
   "outputs": [],
   "source": [
    "# Getting the GINI impurities for such data\n",
    "ginis = [Node.GINI_impurity(x[0], x[1]) for x in y]"
   ]
  },
  {
   "cell_type": "code",
   "execution_count": 16,
   "metadata": {
    "ExecuteTime": {
     "end_time": "2022-05-12T14:10:54.221442Z",
     "start_time": "2022-05-12T14:10:54.097828Z"
    }
   },
   "outputs": [
    {
     "data": {
      "image/png": "[encoded data removed]",
      "text/plain": [
       "<Figure size 432x288 with 1 Axes>"
      ]
     },
     "metadata": {
      "needs_background": "light"
     },
     "output_type": "display_data"
    }
   ],
   "source": [
    "plt.plot(shares_y1, ginis, '-o')\n",
    "plt.xlabel(\"Share of first class in the whole dataset\")\n",
    "plt.ylabel(\"GINI impurity\")\n",
    "plt.show()"
   ]
  },
  {
   "cell_type": "markdown",
   "metadata": {},
   "source": [
    "The above graph shows a very important relationship. The upper bound of the GINI impurity index is 0.5. It occurs when there is an equal number of observations of each class in the dataset. This is the **worst** case in terms of GINI impurity.\n",
    "\n",
    "At the edges of graph, we get that impurity is 0. This occurs when there is only one class in the data. This is the **best** situation. "
   ]
  },
  {
   "cell_type": "markdown",
   "metadata": {},
   "source": [
    "# GINI impurity of a split "
   ]
  },
  {
   "cell_type": "markdown",
   "metadata": {},
   "source": [
    "Going back to the example with the titanic dataset, we have two datasets resulting from the chosen split. Each of the datasets have different GINI impurity indexes. "
   ]
  },
  {
   "cell_type": "code",
   "execution_count": 17,
   "metadata": {
    "ExecuteTime": {
     "end_time": "2022-05-12T14:17:34.621031Z",
     "start_time": "2022-05-12T14:17:34.600026Z"
    }
   },
   "outputs": [],
   "source": [
    "left_counts = left.groupby(\"Survived\").size().values.tolist()\n",
    "right_counts = right.groupby(\"Survived\").size().values.tolist()\n",
    "\n",
    "gini_left = Node.GINI_impurity(left_counts[0], left_counts[1])\n",
    "gini_right = Node.GINI_impurity(right_counts[0], right_counts[1])"
   ]
  },
  {
   "cell_type": "code",
   "execution_count": 18,
   "metadata": {
    "ExecuteTime": {
     "end_time": "2022-05-12T14:17:37.001786Z",
     "start_time": "2022-05-12T14:17:36.983750Z"
    }
   },
   "outputs": [
    {
     "name": "stdout",
     "output_type": "stream",
     "text": [
      "Gini impurity of the left node: 0.482421875\n",
      "Gini impurity of the right node: 0.47477396449704146\n"
     ]
    }
   ],
   "source": [
    "print(f\"Gini impurity of the left node: {gini_left}\")\n",
    "print(f\"Gini impurity of the right node: {gini_right}\")"
   ]
  },
  {
   "cell_type": "markdown",
   "metadata": {},
   "source": [
    "The final GINI impurity index is calculated using the weighted average based on the observation sizes in each of the datasets."
   ]
  },
  {
   "cell_type": "code",
   "execution_count": 19,
   "metadata": {
    "ExecuteTime": {
     "end_time": "2022-05-12T14:17:52.589091Z",
     "start_time": "2022-05-12T14:17:52.583091Z"
    }
   },
   "outputs": [],
   "source": [
    "w1 = left.shape[0]/ (left.shape[0] + right.shape[0]) \n",
    "w2 = right.shape[0] / (left.shape[0] + right.shape[0]) "
   ]
  },
  {
   "cell_type": "code",
   "execution_count": 20,
   "metadata": {
    "ExecuteTime": {
     "end_time": "2022-05-12T14:17:54.337443Z",
     "start_time": "2022-05-12T14:17:54.331443Z"
    }
   },
   "outputs": [],
   "source": [
    "gini_final = w1 * gini_left + w2 * gini_right"
   ]
  },
  {
   "cell_type": "code",
   "execution_count": 21,
   "metadata": {
    "ExecuteTime": {
     "end_time": "2022-05-12T14:17:58.232522Z",
     "start_time": "2022-05-12T14:17:58.223557Z"
    }
   },
   "outputs": [
    {
     "name": "stdout",
     "output_type": "stream",
     "text": [
      "Final gini impurity: 0.4754594914889033\n"
     ]
    }
   ],
   "source": [
    "print(f\"Final gini impurity: {gini_final}\")"
   ]
  },
  {
   "cell_type": "markdown",
   "metadata": {},
   "source": [
    "# GINI gain"
   ]
  },
  {
   "cell_type": "markdown",
   "metadata": {},
   "source": [
    "The last metric used in deciding where to split the data is the GINI gain metric. Its calculated by the difference of non splited GINI of the dataset and the GINI of the selected split. "
   ]
  },
  {
   "cell_type": "markdown",
   "metadata": {},
   "source": [
    "$$GINI gain = \\Delta Gini = Gini_{parent} - (Gini_{left} \\dfrac{n_{left}}{n_{right} + n_{left}} + Gini_{right} \\dfrac{n_{right}}{n_{right} + n_{left}} )$$"
   ]
  },
  {
   "cell_type": "code",
   "execution_count": 22,
   "metadata": {
    "ExecuteTime": {
     "end_time": "2022-05-12T14:20:26.955831Z",
     "start_time": "2022-05-12T14:20:26.940421Z"
    }
   },
   "outputs": [],
   "source": [
    "def GINI_impurity_df(df:pd.DataFrame, target):\n",
    "    \"\"\"\n",
    "    Function to calculate the resulting GINI impurity of a split\n",
    "    \"\"\"\n",
    "    # Getting the counts and ginis\n",
    "    counts = df.groupby(target).size().values.tolist()\n",
    "\n",
    "    gini = Node.GINI_impurity(counts[0], counts[1])\n",
    "    \n",
    "    return gini"
   ]
  },
  {
   "cell_type": "code",
   "execution_count": 23,
   "metadata": {
    "ExecuteTime": {
     "end_time": "2022-05-12T14:20:30.544171Z",
     "start_time": "2022-05-12T14:20:30.528373Z"
    }
   },
   "outputs": [],
   "source": [
    "gini_orig = GINI_impurity_df(dd, 'Survived')"
   ]
  },
  {
   "cell_type": "code",
   "execution_count": 24,
   "metadata": {
    "ExecuteTime": {
     "end_time": "2022-05-12T14:20:32.611130Z",
     "start_time": "2022-05-12T14:20:32.601856Z"
    }
   },
   "outputs": [
    {
     "name": "stdout",
     "output_type": "stream",
     "text": [
      "Gini non-splited: 0.48238903404499056\n",
      "Gini with the proposed split: 0.4754594914889033\n",
      "Gini gain: 0.006929542556087243\n"
     ]
    }
   ],
   "source": [
    "print(f\"Gini non-splited: {gini_orig}\")\n",
    "print(f\"Gini with the proposed split: {gini_final}\")\n",
    "print(f\"Gini gain: {gini_orig - gini_final}\")"
   ]
  },
  {
   "cell_type": "markdown",
   "metadata": {},
   "source": [
    "At each split decision, we chose that split that has the highest GINI gain. If the GINI gain is non positive, we do not perform the split."
   ]
  },
  {
   "cell_type": "markdown",
   "metadata": {},
   "source": [
    "# Spliting on numeric variables \n"
   ]
  },
  {
   "cell_type": "markdown",
   "metadata": {},
   "source": [
    "When deciding where to split a numeric feature, we first sort all the values, get the means between neighbouring values and calculate the GINI gains with each of the means.\n",
    "\n",
    "The full code to get the best split:"
   ]
  },
  {
   "cell_type": "code",
   "execution_count": 25,
   "metadata": {
    "ExecuteTime": {
     "end_time": "2022-05-12T14:20:45.099817Z",
     "start_time": "2022-05-12T14:20:45.088752Z"
    }
   },
   "outputs": [
    {
     "name": "stdout",
     "output_type": "stream",
     "text": [
      "    @staticmethod\n",
      "    def ma(x: np.array, window: int) -> np.array:\n",
      "        \"\"\"\n",
      "        Calculates the moving average of the given list. \n",
      "        \"\"\"\n",
      "        return np.convolve(x, np.ones(window), 'valid') / window\n",
      "\n"
     ]
    }
   ],
   "source": [
    "print(inspect.getsource(Node.ma))"
   ]
  },
  {
   "cell_type": "code",
   "execution_count": 26,
   "metadata": {
    "ExecuteTime": {
     "end_time": "2022-05-12T14:22:14.235183Z",
     "start_time": "2022-05-12T14:22:14.214776Z"
    }
   },
   "outputs": [
    {
     "name": "stdout",
     "output_type": "stream",
     "text": [
      "    def best_split(self) -> tuple:\n",
      "        \"\"\"\n",
      "        Given the X features and Y targets calculates the best split \n",
      "        for a decision tree\n",
      "        \"\"\"\n",
      "        # Creating a dataset for spliting\n",
      "        df = self.X.copy()\n",
      "        df['Y'] = self.Y\n",
      "\n",
      "        # Getting the GINI impurity for the base input \n",
      "        GINI_base = self.get_GINI()\n",
      "\n",
      "        # Finding which split yields the best GINI gain \n",
      "        max_gain = 0\n",
      "\n",
      "        # Default best feature and split\n",
      "        best_feature = None\n",
      "        best_value = None\n",
      "\n",
      "        for feature in self.features:\n",
      "            # Droping missing values\n",
      "            Xdf = df.dropna().sort_values(feature)\n",
      "\n",
      "            # Sorting the values and getting the rolling average\n",
      "            xmeans = self.ma(Xdf[feature].unique(), 2)\n",
      "\n",
      "            for value in xmeans:\n",
      "                # Spliting the dataset \n",
      "                left_counts = Counter(Xdf[Xdf[feature]<value]['Y'])\n",
      "                right_counts = Counter(Xdf[Xdf[feature]>=value]['Y'])\n",
      "\n",
      "                # Getting the Y distribution from the dicts\n",
      "                y0_left, y1_left, y0_right, y1_right = left_counts.get(0, 0), left_counts.get(1, 0), right_counts.get(0, 0), right_counts.get(1, 0)\n",
      "\n",
      "                # Getting the left and right gini impurities\n",
      "                gini_left = self.GINI_impurity(y0_left, y1_left)\n",
      "                gini_right = self.GINI_impurity(y0_right, y1_right)\n",
      "\n",
      "                # Getting the obs count from the left and the right data splits\n",
      "                n_left = y0_left + y1_left\n",
      "                n_right = y0_right + y1_right\n",
      "\n",
      "                # Calculating the weights for each of the nodes\n",
      "                w_left = n_left / (n_left + n_right)\n",
      "                w_right = n_right / (n_left + n_right)\n",
      "\n",
      "                # Calculating the weighted GINI impurity\n",
      "                wGINI = w_left * gini_left + w_right * gini_right\n",
      "\n",
      "                # Calculating the GINI gain \n",
      "                GINIgain = GINI_base - wGINI\n",
      "\n",
      "                # Checking if this is the best split so far \n",
      "                if GINIgain > max_gain:\n",
      "                    best_feature = feature\n",
      "                    best_value = value \n",
      "\n",
      "                    # Setting the best gain to the current one \n",
      "                    max_gain = GINIgain\n",
      "\n",
      "        return (best_feature, best_value)\n",
      "\n"
     ]
    }
   ],
   "source": [
    "print(inspect.getsource(Node.best_split))"
   ]
  },
  {
   "cell_type": "markdown",
   "metadata": {},
   "source": [
    "# Growing the full tree"
   ]
  },
  {
   "cell_type": "code",
   "execution_count": 27,
   "metadata": {
    "ExecuteTime": {
     "end_time": "2022-05-12T14:44:39.913171Z",
     "start_time": "2022-05-12T14:44:39.883373Z"
    }
   },
   "outputs": [],
   "source": [
    "# Dropping missing values\n",
    "dtree = d[['Survived', 'Age', 'Fare']].dropna().copy()\n",
    "\n",
    "# Defining the X and Y matrices\n",
    "Y = dtree['Survived'].values\n",
    "X = dtree[['Age', 'Fare']]\n",
    "\n",
    "# Saving the feature list \n",
    "features = list(X.columns)"
   ]
  },
  {
   "cell_type": "code",
   "execution_count": 28,
   "metadata": {
    "ExecuteTime": {
     "end_time": "2022-05-12T14:44:43.395071Z",
     "start_time": "2022-05-12T14:44:43.370352Z"
    }
   },
   "outputs": [],
   "source": [
    "# Setting the available hyper parameters of a tree\n",
    "hp = {\n",
    "    'max_depth': 3,\n",
    "    'min_samples_split': 50\n",
    "}"
   ]
  },
  {
   "cell_type": "code",
   "execution_count": 29,
   "metadata": {
    "ExecuteTime": {
     "end_time": "2022-05-12T14:44:56.232603Z",
     "start_time": "2022-05-12T14:44:50.943130Z"
    }
   },
   "outputs": [
    {
     "name": "stdout",
     "output_type": "stream",
     "text": [
      "Root\n",
      "   | GINI impurity of the node: 0.48\n",
      "   | Class distribution in the node: {0: 424, 1: 290}\n",
      "   | Predicted class: 0\n",
      "|-------- Split rule: Fare <= 52.277\n",
      "           | GINI impurity of the node: 0.44\n",
      "           | Class distribution in the node: {0: 389, 1: 195}\n",
      "           | Predicted class: 0\n",
      "|---------------- Split rule: Fare <= 10.481\n",
      "                   | GINI impurity of the node: 0.32\n",
      "                   | Class distribution in the node: {0: 192, 1: 47}\n",
      "                   | Predicted class: 0\n",
      "|------------------------ Split rule: Age <= 32.5\n",
      "                           | GINI impurity of the node: 0.37\n",
      "                           | Class distribution in the node: {0: 134, 1: 43}\n",
      "                           | Predicted class: 0\n",
      "|------------------------ Split rule: Age > 32.5\n",
      "                           | GINI impurity of the node: 0.12\n",
      "                           | Class distribution in the node: {0: 58, 1: 4}\n",
      "                           | Predicted class: 0\n",
      "|---------------- Split rule: Fare > 10.481\n",
      "                   | GINI impurity of the node: 0.49\n",
      "                   | Class distribution in the node: {0: 197, 1: 148}\n",
      "                   | Predicted class: 0\n",
      "|------------------------ Split rule: Age <= 6.5\n",
      "                           | GINI impurity of the node: 0.41\n",
      "                           | Class distribution in the node: {0: 12, 1: 30}\n",
      "                           | Predicted class: 1\n",
      "|------------------------ Split rule: Age > 6.5\n",
      "                           | GINI impurity of the node: 0.48\n",
      "                           | Class distribution in the node: {0: 185, 1: 118}\n",
      "                           | Predicted class: 0\n",
      "|-------- Split rule: Fare > 52.277\n",
      "           | GINI impurity of the node: 0.39\n",
      "           | Class distribution in the node: {1: 95, 0: 35}\n",
      "           | Predicted class: 1\n",
      "|---------------- Split rule: Age <= 63.5\n",
      "                   | GINI impurity of the node: 0.38\n",
      "                   | Class distribution in the node: {1: 95, 0: 32}\n",
      "                   | Predicted class: 1\n",
      "|------------------------ Split rule: Age <= 29.5\n",
      "                           | GINI impurity of the node: 0.44\n",
      "                           | Class distribution in the node: {0: 17, 1: 34}\n",
      "                           | Predicted class: 1\n",
      "|------------------------ Split rule: Age > 29.5\n",
      "                           | GINI impurity of the node: 0.32\n",
      "                           | Class distribution in the node: {1: 61, 0: 15}\n",
      "                           | Predicted class: 1\n",
      "|---------------- Split rule: Age > 63.5\n",
      "                   | GINI impurity of the node: 0.0\n",
      "                   | Class distribution in the node: {0: 3}\n",
      "                   | Predicted class: 0\n"
     ]
    }
   ],
   "source": [
    "# Initiating the Node\n",
    "root = Node(Y, X, **hp)\n",
    "\n",
    "# Getting teh best split\n",
    "root.grow_tree()\n",
    "\n",
    "# Printing the tree information \n",
    "root.print_tree()"
   ]
  },
  {
   "cell_type": "markdown",
   "metadata": {},
   "source": [
    "As it turns out, the best first split is the fare feature at value 52.227.  "
   ]
  },
  {
   "cell_type": "code",
   "execution_count": 30,
   "metadata": {
    "ExecuteTime": {
     "end_time": "2022-05-12T14:51:04.089794Z",
     "start_time": "2022-05-12T14:51:03.038131Z"
    }
   },
   "outputs": [
    {
     "data": {
      "image/png": "[encoded data removed]",
      "text/plain": [
       "<Figure size 720x720 with 1 Axes>"
      ]
     },
     "metadata": {
      "needs_background": "light"
     },
     "output_type": "display_data"
    }
   ],
   "source": [
    "# Define the split value \n",
    "age_split = 8 \n",
    "\n",
    "# Ploting the original plot\n",
    "plt.figure(figsize=(10, 10))\n",
    "sns.scatterplot(y='Fare', x='Age', data=dd, hue='Survived')\n",
    "plt.grid()\n",
    "\n",
    "# Adding the split line\n",
    "plt.axhline(52.77, label='Best fare split', color='green')\n",
    "plt.legend()\n",
    "plt.show()"
   ]
  },
  {
   "cell_type": "markdown",
   "metadata": {},
   "source": [
    "# Scikit-learn comparison "
   ]
  },
  {
   "cell_type": "markdown",
   "metadata": {},
   "source": [
    "The go-to machine learning framework with python is the scikit-learn package https://scikit-learn.org/stable/index.html. \n",
    "    \n",
    "The package has a decision tree creation implementation: https://scikit-learn.org/stable/modules/generated/sklearn.tree.DecisionTreeClassifier.html?highlight=decisiontree#sklearn.tree.DecisionTreeClassifier"
   ]
  },
  {
   "cell_type": "markdown",
   "metadata": {},
   "source": [
    "Lets see how it compares to the custom tree creation that I have written."
   ]
  },
  {
   "cell_type": "code",
   "execution_count": 31,
   "metadata": {
    "ExecuteTime": {
     "end_time": "2022-05-12T14:51:20.864363Z",
     "start_time": "2022-05-12T14:51:15.479351Z"
    }
   },
   "outputs": [],
   "source": [
    "custom_tree_start = time.time()\n",
    "\n",
    "# Initiating the Node\n",
    "root = Node(Y, X, **hp)\n",
    "\n",
    "# Getting teh best split\n",
    "root.grow_tree()\n",
    "\n",
    "custom_tree_time = time.time() - custom_tree_start"
   ]
  },
  {
   "cell_type": "code",
   "execution_count": 32,
   "metadata": {
    "ExecuteTime": {
     "end_time": "2022-05-12T14:51:20.946330Z",
     "start_time": "2022-05-12T14:51:20.877908Z"
    }
   },
   "outputs": [],
   "source": [
    "scikit_tree_start = time.time()\n",
    "\n",
    "# Using the ML package \n",
    "clf = DecisionTreeClassifier(**hp)\n",
    "clf.fit(X, Y)\n",
    "\n",
    "scikit_tree_time = time.time() - scikit_tree_start"
   ]
  },
  {
   "cell_type": "code",
   "execution_count": 33,
   "metadata": {
    "ExecuteTime": {
     "end_time": "2022-05-12T14:51:26.446860Z",
     "start_time": "2022-05-12T14:51:26.437103Z"
    }
   },
   "outputs": [
    {
     "name": "stdout",
     "output_type": "stream",
     "text": [
      "Custom tree growing time: 5.368656396865845s\n",
      "Scikit tree growing time: 0.04381918907165527s\n"
     ]
    }
   ],
   "source": [
    "print(f\"Custom tree growing time: {custom_tree_time}s\")\n",
    "print(f\"Scikit tree growing time: {scikit_tree_time}s\")"
   ]
  },
  {
   "cell_type": "markdown",
   "metadata": {},
   "source": [
    "As can be expected, the highly optimized scikit-learn solution works faster."
   ]
  },
  {
   "cell_type": "markdown",
   "metadata": {},
   "source": [
    "Both methods have a visualization: "
   ]
  },
  {
   "cell_type": "code",
   "execution_count": 34,
   "metadata": {
    "ExecuteTime": {
     "end_time": "2022-05-12T14:51:42.148248Z",
     "start_time": "2022-05-12T14:51:42.123199Z"
    },
    "scrolled": false
   },
   "outputs": [
    {
     "name": "stdout",
     "output_type": "stream",
     "text": [
      "Root\n",
      "   | GINI impurity of the node: 0.48\n",
      "   | Class distribution in the node: {0: 424, 1: 290}\n",
      "   | Predicted class: 0\n",
      "|-------- Split rule: Fare <= 52.277\n",
      "           | GINI impurity of the node: 0.44\n",
      "           | Class distribution in the node: {0: 389, 1: 195}\n",
      "           | Predicted class: 0\n",
      "|---------------- Split rule: Fare <= 10.481\n",
      "                   | GINI impurity of the node: 0.32\n",
      "                   | Class distribution in the node: {0: 192, 1: 47}\n",
      "                   | Predicted class: 0\n",
      "|------------------------ Split rule: Age <= 32.5\n",
      "                           | GINI impurity of the node: 0.37\n",
      "                           | Class distribution in the node: {0: 134, 1: 43}\n",
      "                           | Predicted class: 0\n",
      "|------------------------ Split rule: Age > 32.5\n",
      "                           | GINI impurity of the node: 0.12\n",
      "                           | Class distribution in the node: {0: 58, 1: 4}\n",
      "                           | Predicted class: 0\n",
      "|---------------- Split rule: Fare > 10.481\n",
      "                   | GINI impurity of the node: 0.49\n",
      "                   | Class distribution in the node: {0: 197, 1: 148}\n",
      "                   | Predicted class: 0\n",
      "|------------------------ Split rule: Age <= 6.5\n",
      "                           | GINI impurity of the node: 0.41\n",
      "                           | Class distribution in the node: {0: 12, 1: 30}\n",
      "                           | Predicted class: 1\n",
      "|------------------------ Split rule: Age > 6.5\n",
      "                           | GINI impurity of the node: 0.48\n",
      "                           | Class distribution in the node: {0: 185, 1: 118}\n",
      "                           | Predicted class: 0\n",
      "|-------- Split rule: Fare > 52.277\n",
      "           | GINI impurity of the node: 0.39\n",
      "           | Class distribution in the node: {1: 95, 0: 35}\n",
      "           | Predicted class: 1\n",
      "|---------------- Split rule: Age <= 63.5\n",
      "                   | GINI impurity of the node: 0.38\n",
      "                   | Class distribution in the node: {1: 95, 0: 32}\n",
      "                   | Predicted class: 1\n",
      "|------------------------ Split rule: Age <= 29.5\n",
      "                           | GINI impurity of the node: 0.44\n",
      "                           | Class distribution in the node: {0: 17, 1: 34}\n",
      "                           | Predicted class: 1\n",
      "|------------------------ Split rule: Age > 29.5\n",
      "                           | GINI impurity of the node: 0.32\n",
      "                           | Class distribution in the node: {1: 61, 0: 15}\n",
      "                           | Predicted class: 1\n",
      "|---------------- Split rule: Age > 63.5\n",
      "                   | GINI impurity of the node: 0.0\n",
      "                   | Class distribution in the node: {0: 3}\n",
      "                   | Predicted class: 0\n"
     ]
    }
   ],
   "source": [
    "root.print_tree()"
   ]
  },
  {
   "cell_type": "code",
   "execution_count": 35,
   "metadata": {
    "ExecuteTime": {
     "end_time": "2022-05-12T14:51:46.568024Z",
     "start_time": "2022-05-12T14:51:46.555724Z"
    }
   },
   "outputs": [
    {
     "name": "stdout",
     "output_type": "stream",
     "text": [
      "|--- Fare <= 52.28\n",
      "|   |--- Fare <= 10.48\n",
      "|   |   |--- Age <= 32.50\n",
      "|   |   |   |--- class: 0\n",
      "|   |   |--- Age >  32.50\n",
      "|   |   |   |--- class: 0\n",
      "|   |--- Fare >  10.48\n",
      "|   |   |--- Age <= 6.50\n",
      "|   |   |   |--- class: 1\n",
      "|   |   |--- Age >  6.50\n",
      "|   |   |   |--- class: 0\n",
      "|--- Fare >  52.28\n",
      "|   |--- Age <= 63.50\n",
      "|   |   |--- Age <= 29.50\n",
      "|   |   |   |--- class: 1\n",
      "|   |   |--- Age >  29.50\n",
      "|   |   |   |--- class: 1\n",
      "|   |--- Age >  63.50\n",
      "|   |   |--- class: 0\n",
      "\n"
     ]
    }
   ],
   "source": [
    "print(export_text(clf, feature_names=['Age', 'Fare']))"
   ]
  },
  {
   "cell_type": "markdown",
   "metadata": {},
   "source": [
    "# Predictions"
   ]
  },
  {
   "cell_type": "code",
   "execution_count": 36,
   "metadata": {
    "ExecuteTime": {
     "end_time": "2022-05-12T14:52:33.913841Z",
     "start_time": "2022-05-12T14:52:33.553697Z"
    }
   },
   "outputs": [
    {
     "data": {
      "text/plain": [
       "True"
      ]
     },
     "execution_count": 36,
     "metadata": {},
     "output_type": "execute_result"
    }
   ],
   "source": [
    "# Result frame\n",
    "results = X.copy()\n",
    "\n",
    "# Predictions\n",
    "results['scikit_learn'] = clf.predict(X[features])\n",
    "results['custom_yhat'] = root.predict(X[features])\n",
    "\n",
    "# Asserting that every prediction is the same \n",
    "np.all(results['scikit_learn'] == results['custom_yhat'])"
   ]
  },
  {
   "cell_type": "markdown",
   "metadata": {},
   "source": [
    "All the predictions are the same. "
   ]
  },
  {
   "cell_type": "markdown",
   "metadata": {},
   "source": [
    "# Regression trees "
   ]
  },
  {
   "cell_type": "markdown",
   "metadata": {},
   "source": [
    "If the response variable $Y$ is not binary but continuous, the spliting criteria of Gini impurity looses its sense. We then use what are called regression decision trees. "
   ]
  },
  {
   "cell_type": "markdown",
   "metadata": {},
   "source": [
    "The main difference between the classification decision tree is that each node saves the mean of the $Y$ variable in itself and the spliting logic aims to minimize the sum of squared **residuals** in each node. \n",
    "\n",
    "The residuals are calculated by the formula:\n",
    "\n",
    "$$r_{i} = y_{i} - \\widehat{y}$$ \n",
    "\n",
    "Where $y_{i}$ - is the true i-th observation in the node and $\\widehat{y}$ is the average of the response variables in the node."
   ]
  },
  {
   "cell_type": "markdown",
   "metadata": {},
   "source": [
    "# The data "
   ]
  },
  {
   "cell_type": "markdown",
   "metadata": {},
   "source": [
    "We will try to create a decision tree where the dependent variable $Y$ is the miles per gallon that a car can go and the explanatory variables $X$ are horsepower, accelaration and the weight of the car.  "
   ]
  },
  {
   "cell_type": "markdown",
   "metadata": {},
   "source": [
    "## Reading data "
   ]
  },
  {
   "cell_type": "code",
   "execution_count": 37,
   "metadata": {
    "ExecuteTime": {
     "end_time": "2022-05-12T14:53:46.678376Z",
     "start_time": "2022-05-12T14:53:46.517709Z"
    }
   },
   "outputs": [],
   "source": [
    "d = pd.read_csv(\"F:/Komputasi Statistika 2/decision-tree-python-main/data/regression/auto-mpg.csv\")\n",
    "\n",
    "# Subsetting\n",
    "d = d[d['horsepower']!='?']\n",
    "\n",
    "# Constructing the X and Y matrices\n",
    "features = ['horsepower', 'weight', 'acceleration']\n",
    "\n",
    "for ft in features:\n",
    "    d[ft] = pd.to_numeric(d[ft])\n",
    "\n",
    "X = d[features]\n",
    "Y = d['mpg'].values.tolist()"
   ]
  },
  {
   "cell_type": "markdown",
   "metadata": {},
   "source": [
    "### Ploting relationships"
   ]
  },
  {
   "cell_type": "code",
   "execution_count": 38,
   "metadata": {
    "ExecuteTime": {
     "end_time": "2022-05-12T14:53:51.625334Z",
     "start_time": "2022-05-12T14:53:49.384244Z"
    }
   },
   "outputs": [
    {
     "data": {
      "image/png": "[encoded data removed]",
      "text/plain": [
       "<Figure size 432x288 with 1 Axes>"
      ]
     },
     "metadata": {
      "needs_background": "light"
     },
     "output_type": "display_data"
    },
    {
     "data": {
      "image/png": "[encoded data removed]",
      "text/plain": [
       "<Figure size 432x288 with 1 Axes>"
      ]
     },
     "metadata": {
      "needs_background": "light"
     },
     "output_type": "display_data"
    },
    {
     "data": {
      "image/png": "[encoded data removed]",
      "text/plain": [
       "<Figure size 432x288 with 1 Axes>"
      ]
     },
     "metadata": {
      "needs_background": "light"
     },
     "output_type": "display_data"
    }
   ],
   "source": [
    "for feature in features:\n",
    "    plt.scatter(X[feature], Y)\n",
    "    plt.xlabel(feature)\n",
    "    plt.ylabel('mpg')\n",
    "    plt.title(f\"{feature} relationship with mpg\")\n",
    "    plt.grid()\n",
    "    plt.show()"
   ]
  },
  {
   "cell_type": "markdown",
   "metadata": {},
   "source": [
    "## The spliting criterion "
   ]
  },
  {
   "cell_type": "markdown",
   "metadata": {},
   "source": [
    "The main difference between a classification tree and a regression tree is the spliting criterion. Each node has the y mean saved and we can get the residuals by subtracting that mean from all the y values that fall into that node.\n",
    "\n",
    "Then we search for the feature and the feature value which minimizes the **mean squared error (mse)** statistic:\n",
    "\n",
    "$$mse = \\dfrac{1}{n} \\Sigma_{i=1}^{n} \\left( y_{i} - \\overline{y} \\right) ^ {2}$$"
   ]
  },
  {
   "cell_type": "markdown",
   "metadata": {},
   "source": [
    "# Implementation"
   ]
  },
  {
   "cell_type": "code",
   "execution_count": 39,
   "metadata": {
    "ExecuteTime": {
     "end_time": "2022-05-12T14:55:48.356699Z",
     "start_time": "2022-05-12T14:55:40.475452Z"
    }
   },
   "outputs": [],
   "source": [
    "custom_tree_start = time.time()\n",
    "\n",
    "# Initiating the Node\n",
    "root = NodeRegression(Y, X, **hp)\n",
    "\n",
    "# Getting teh best split\n",
    "root.grow_tree()\n",
    "\n",
    "custom_tree_time = time.time() - custom_tree_start"
   ]
  },
  {
   "cell_type": "code",
   "execution_count": 40,
   "metadata": {
    "ExecuteTime": {
     "end_time": "2022-05-12T14:55:50.937591Z",
     "start_time": "2022-05-12T14:55:50.916689Z"
    }
   },
   "outputs": [],
   "source": [
    "scikit_tree_start = time.time()\n",
    "\n",
    "# Using the ML package \n",
    "clf = DecisionTreeRegressor(**hp)\n",
    "clf.fit(X, Y)\n",
    "\n",
    "scikit_tree_time = time.time() - scikit_tree_start"
   ]
  },
  {
   "cell_type": "code",
   "execution_count": 41,
   "metadata": {
    "ExecuteTime": {
     "end_time": "2022-05-12T14:55:53.036437Z",
     "start_time": "2022-05-12T14:55:53.020959Z"
    }
   },
   "outputs": [
    {
     "name": "stdout",
     "output_type": "stream",
     "text": [
      "Custom tree growing time: 7.868364095687866s\n",
      "Scikit tree growing time: 0.007555246353149414s\n"
     ]
    }
   ],
   "source": [
    "print(f\"Custom tree growing time: {custom_tree_time}s\")\n",
    "print(f\"Scikit tree growing time: {scikit_tree_time}s\")"
   ]
  },
  {
   "cell_type": "code",
   "execution_count": 42,
   "metadata": {
    "ExecuteTime": {
     "end_time": "2022-05-12T14:55:56.401131Z",
     "start_time": "2022-05-12T14:55:56.367821Z"
    }
   },
   "outputs": [
    {
     "name": "stdout",
     "output_type": "stream",
     "text": [
      "Root\n",
      "   | MSE of the node: 60.76\n",
      "   | Count of observations in node: 392\n",
      "   | Prediction of node: 23.446\n",
      "|-------- Split rule: weight <= 2764.5\n",
      "           | MSE of the node: 32.65\n",
      "           | Count of observations in node: 191\n",
      "           | Prediction of node: 29.42\n",
      "|---------------- Split rule: horsepower <= 70.5\n",
      "                   | MSE of the node: 25.84\n",
      "                   | Count of observations in node: 69\n",
      "                   | Prediction of node: 33.68\n",
      "|------------------------ Split rule: acceleration <= 23.6\n",
      "                           | MSE of the node: 23.52\n",
      "                           | Count of observations in node: 67\n",
      "                           | Prediction of node: 33.381\n",
      "|------------------------ Split rule: acceleration > 23.6\n",
      "                           | MSE of the node: 0.09\n",
      "                           | Count of observations in node: 2\n",
      "                           | Prediction of node: 43.7\n",
      "|---------------- Split rule: horsepower > 70.5\n",
      "                   | MSE of the node: 20.43\n",
      "                   | Count of observations in node: 122\n",
      "                   | Prediction of node: 27.011\n",
      "|------------------------ Split rule: horsepower <= 84.5\n",
      "                           | MSE of the node: 17.65\n",
      "                           | Count of observations in node: 53\n",
      "                           | Prediction of node: 29.03\n",
      "|------------------------ Split rule: horsepower > 84.5\n",
      "                           | MSE of the node: 17.03\n",
      "                           | Count of observations in node: 69\n",
      "                           | Prediction of node: 25.459\n",
      "|-------- Split rule: weight > 2764.5\n",
      "           | MSE of the node: 21.34\n",
      "           | Count of observations in node: 201\n",
      "           | Prediction of node: 17.769\n",
      "|---------------- Split rule: horsepower <= 127.0\n",
      "                   | MSE of the node: 16.76\n",
      "                   | Count of observations in node: 103\n",
      "                   | Prediction of node: 20.669\n",
      "|------------------------ Split rule: horsepower <= 71.5\n",
      "                           | MSE of the node: 14.83\n",
      "                           | Count of observations in node: 3\n",
      "                           | Prediction of node: 31.2\n",
      "|------------------------ Split rule: horsepower > 71.5\n",
      "                           | MSE of the node: 13.39\n",
      "                           | Count of observations in node: 100\n",
      "                           | Prediction of node: 20.353\n",
      "|---------------- Split rule: horsepower > 127.0\n",
      "                   | MSE of the node: 8.02\n",
      "                   | Count of observations in node: 98\n",
      "                   | Prediction of node: 14.721\n",
      "|------------------------ Split rule: weight <= 2998.0\n",
      "                           | MSE of the node: 0.0\n",
      "                           | Count of observations in node: 1\n",
      "                           | Prediction of node: 32.7\n",
      "|------------------------ Split rule: weight > 2998.0\n",
      "                           | MSE of the node: 4.74\n",
      "                           | Count of observations in node: 97\n",
      "                           | Prediction of node: 14.536\n"
     ]
    }
   ],
   "source": [
    "root.print_tree()"
   ]
  },
  {
   "cell_type": "code",
   "execution_count": 43,
   "metadata": {
    "ExecuteTime": {
     "end_time": "2022-05-12T14:56:00.553257Z",
     "start_time": "2022-05-12T14:56:00.545265Z"
    }
   },
   "outputs": [
    {
     "name": "stdout",
     "output_type": "stream",
     "text": [
      "|--- weight <= 2764.50\n",
      "|   |--- horsepower <= 70.50\n",
      "|   |   |--- acceleration <= 23.60\n",
      "|   |   |   |--- value: [33.38]\n",
      "|   |   |--- acceleration >  23.60\n",
      "|   |   |   |--- value: [43.70]\n",
      "|   |--- horsepower >  70.50\n",
      "|   |   |--- horsepower <= 84.50\n",
      "|   |   |   |--- value: [29.03]\n",
      "|   |   |--- horsepower >  84.50\n",
      "|   |   |   |--- value: [25.46]\n",
      "|--- weight >  2764.50\n",
      "|   |--- horsepower <= 127.00\n",
      "|   |   |--- horsepower <= 71.50\n",
      "|   |   |   |--- value: [31.20]\n",
      "|   |   |--- horsepower >  71.50\n",
      "|   |   |   |--- value: [20.35]\n",
      "|   |--- horsepower >  127.00\n",
      "|   |   |--- weight <= 2998.00\n",
      "|   |   |   |--- value: [32.70]\n",
      "|   |   |--- weight >  2998.00\n",
      "|   |   |   |--- value: [14.54]\n",
      "\n"
     ]
    }
   ],
   "source": [
    "print(export_text(clf, feature_names=features))"
   ]
  },
  {
   "cell_type": "code",
   "execution_count": null,
   "metadata": {},
   "outputs": [],
   "source": []
  }
 ],
 "metadata": {
  "kernelspec": {
   "display_name": "Python 3",
   "language": "python",
   "name": "python3"
  },
  "language_info": {
   "codemirror_mode": {
    "name": "ipython",
    "version": 3
   },
   "file_extension": ".py",
   "mimetype": "text/x-python",
   "name": "python",
   "nbconvert_exporter": "python",
   "pygments_lexer": "ipython3",
   "version": "3.7.4"
  }
 },
 "nbformat": 4,
 "nbformat_minor": 4
}
