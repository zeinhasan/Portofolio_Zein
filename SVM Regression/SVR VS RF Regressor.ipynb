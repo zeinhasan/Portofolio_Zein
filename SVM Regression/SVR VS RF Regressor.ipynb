{
 "cells": [
  {
   "cell_type": "code",
   "execution_count": 1,
   "id": "af083232",
   "metadata": {
    "ExecuteTime": {
     "end_time": "2022-06-02T09:13:10.137698Z",
     "start_time": "2022-06-02T09:13:08.391681Z"
    },
    "scrolled": true
   },
   "outputs": [],
   "source": [
    "import pandas as pd\n",
    "import missingno as msno\n",
    "import matplotlib.pyplot as plt\n",
    "import numpy as np\n",
    "from sklearn.preprocessing import MinMaxScaler\n",
    "from sklearn.model_selection import train_test_split,cross_val_score\n",
    "from sklearn.impute import SimpleImputer\n",
    "from sklearn.preprocessing import OneHotEncoder\n",
    "from sklearn.compose import ColumnTransformer\n",
    "from sklearn.pipeline import Pipeline\n",
    "from sklearn.ensemble import RandomForestRegressor\n",
    "from sklearn.metrics import mean_absolute_error,make_scorer\n",
    "from sklearn.svm import SVR\n",
    "import time\n",
    "import optuna"
   ]
  },
  {
   "cell_type": "code",
   "execution_count": 2,
   "id": "add7282a",
   "metadata": {
    "ExecuteTime": {
     "end_time": "2022-06-02T09:13:10.169668Z",
     "start_time": "2022-06-02T09:13:10.138667Z"
    },
    "scrolled": true
   },
   "outputs": [],
   "source": [
    "data =  pd.read_csv(\"D:\\Kuliah\\Praktikum Komputasi Statistika 2\\Responsi\\Wage.csv\")"
   ]
  },
  {
   "cell_type": "code",
   "execution_count": 3,
   "id": "8e31d215",
   "metadata": {
    "ExecuteTime": {
     "end_time": "2022-06-02T09:13:10.201668Z",
     "start_time": "2022-06-02T09:13:10.171669Z"
    },
    "scrolled": false
   },
   "outputs": [
    {
     "data": {
      "text/html": [
       "<div>\n",
       "<style scoped>\n",
       "    .dataframe tbody tr th:only-of-type {\n",
       "        vertical-align: middle;\n",
       "    }\n",
       "\n",
       "    .dataframe tbody tr th {\n",
       "        vertical-align: top;\n",
       "    }\n",
       "\n",
       "    .dataframe thead th {\n",
       "        text-align: right;\n",
       "    }\n",
       "</style>\n",
       "<table border=\"1\" class=\"dataframe\">\n",
       "  <thead>\n",
       "    <tr style=\"text-align: right;\">\n",
       "      <th></th>\n",
       "      <th>year</th>\n",
       "      <th>age</th>\n",
       "      <th>maritl</th>\n",
       "      <th>race</th>\n",
       "      <th>education</th>\n",
       "      <th>region</th>\n",
       "      <th>jobclass</th>\n",
       "      <th>health</th>\n",
       "      <th>health_ins</th>\n",
       "      <th>logwage</th>\n",
       "      <th>wage</th>\n",
       "    </tr>\n",
       "  </thead>\n",
       "  <tbody>\n",
       "    <tr>\n",
       "      <th>0</th>\n",
       "      <td>2006</td>\n",
       "      <td>18</td>\n",
       "      <td>1. Never Married</td>\n",
       "      <td>1. White</td>\n",
       "      <td>1. &lt; HS Grad</td>\n",
       "      <td>2. Middle Atlantic</td>\n",
       "      <td>1. Industrial</td>\n",
       "      <td>1. &lt;=Good</td>\n",
       "      <td>2. No</td>\n",
       "      <td>4.318063</td>\n",
       "      <td>75.043154</td>\n",
       "    </tr>\n",
       "    <tr>\n",
       "      <th>1</th>\n",
       "      <td>2004</td>\n",
       "      <td>24</td>\n",
       "      <td>1. Never Married</td>\n",
       "      <td>1. White</td>\n",
       "      <td>4. College Grad</td>\n",
       "      <td>2. Middle Atlantic</td>\n",
       "      <td>2. Information</td>\n",
       "      <td>2. &gt;=Very Good</td>\n",
       "      <td>2. No</td>\n",
       "      <td>4.255273</td>\n",
       "      <td>70.476020</td>\n",
       "    </tr>\n",
       "    <tr>\n",
       "      <th>2</th>\n",
       "      <td>2003</td>\n",
       "      <td>45</td>\n",
       "      <td>2. Married</td>\n",
       "      <td>1. White</td>\n",
       "      <td>3. Some College</td>\n",
       "      <td>2. Middle Atlantic</td>\n",
       "      <td>1. Industrial</td>\n",
       "      <td>1. &lt;=Good</td>\n",
       "      <td>1. Yes</td>\n",
       "      <td>4.875061</td>\n",
       "      <td>130.982177</td>\n",
       "    </tr>\n",
       "    <tr>\n",
       "      <th>3</th>\n",
       "      <td>2003</td>\n",
       "      <td>43</td>\n",
       "      <td>2. Married</td>\n",
       "      <td>3. Asian</td>\n",
       "      <td>4. College Grad</td>\n",
       "      <td>2. Middle Atlantic</td>\n",
       "      <td>2. Information</td>\n",
       "      <td>2. &gt;=Very Good</td>\n",
       "      <td>1. Yes</td>\n",
       "      <td>5.041393</td>\n",
       "      <td>154.685293</td>\n",
       "    </tr>\n",
       "    <tr>\n",
       "      <th>4</th>\n",
       "      <td>2005</td>\n",
       "      <td>50</td>\n",
       "      <td>4. Divorced</td>\n",
       "      <td>1. White</td>\n",
       "      <td>2. HS Grad</td>\n",
       "      <td>2. Middle Atlantic</td>\n",
       "      <td>2. Information</td>\n",
       "      <td>1. &lt;=Good</td>\n",
       "      <td>1. Yes</td>\n",
       "      <td>4.318063</td>\n",
       "      <td>75.043154</td>\n",
       "    </tr>\n",
       "    <tr>\n",
       "      <th>...</th>\n",
       "      <td>...</td>\n",
       "      <td>...</td>\n",
       "      <td>...</td>\n",
       "      <td>...</td>\n",
       "      <td>...</td>\n",
       "      <td>...</td>\n",
       "      <td>...</td>\n",
       "      <td>...</td>\n",
       "      <td>...</td>\n",
       "      <td>...</td>\n",
       "      <td>...</td>\n",
       "    </tr>\n",
       "    <tr>\n",
       "      <th>2995</th>\n",
       "      <td>2008</td>\n",
       "      <td>44</td>\n",
       "      <td>2. Married</td>\n",
       "      <td>1. White</td>\n",
       "      <td>3. Some College</td>\n",
       "      <td>2. Middle Atlantic</td>\n",
       "      <td>1. Industrial</td>\n",
       "      <td>2. &gt;=Very Good</td>\n",
       "      <td>1. Yes</td>\n",
       "      <td>5.041393</td>\n",
       "      <td>154.685293</td>\n",
       "    </tr>\n",
       "    <tr>\n",
       "      <th>2996</th>\n",
       "      <td>2007</td>\n",
       "      <td>30</td>\n",
       "      <td>2. Married</td>\n",
       "      <td>1. White</td>\n",
       "      <td>2. HS Grad</td>\n",
       "      <td>2. Middle Atlantic</td>\n",
       "      <td>1. Industrial</td>\n",
       "      <td>2. &gt;=Very Good</td>\n",
       "      <td>2. No</td>\n",
       "      <td>4.602060</td>\n",
       "      <td>99.689464</td>\n",
       "    </tr>\n",
       "    <tr>\n",
       "      <th>2997</th>\n",
       "      <td>2005</td>\n",
       "      <td>27</td>\n",
       "      <td>2. Married</td>\n",
       "      <td>2. Black</td>\n",
       "      <td>1. &lt; HS Grad</td>\n",
       "      <td>2. Middle Atlantic</td>\n",
       "      <td>1. Industrial</td>\n",
       "      <td>1. &lt;=Good</td>\n",
       "      <td>2. No</td>\n",
       "      <td>4.193125</td>\n",
       "      <td>66.229408</td>\n",
       "    </tr>\n",
       "    <tr>\n",
       "      <th>2998</th>\n",
       "      <td>2005</td>\n",
       "      <td>27</td>\n",
       "      <td>1. Never Married</td>\n",
       "      <td>1. White</td>\n",
       "      <td>3. Some College</td>\n",
       "      <td>2. Middle Atlantic</td>\n",
       "      <td>1. Industrial</td>\n",
       "      <td>2. &gt;=Very Good</td>\n",
       "      <td>1. Yes</td>\n",
       "      <td>4.477121</td>\n",
       "      <td>87.981033</td>\n",
       "    </tr>\n",
       "    <tr>\n",
       "      <th>2999</th>\n",
       "      <td>2009</td>\n",
       "      <td>55</td>\n",
       "      <td>5. Separated</td>\n",
       "      <td>1. White</td>\n",
       "      <td>2. HS Grad</td>\n",
       "      <td>2. Middle Atlantic</td>\n",
       "      <td>1. Industrial</td>\n",
       "      <td>1. &lt;=Good</td>\n",
       "      <td>1. Yes</td>\n",
       "      <td>4.505150</td>\n",
       "      <td>90.481913</td>\n",
       "    </tr>\n",
       "  </tbody>\n",
       "</table>\n",
       "<p>3000 rows × 11 columns</p>\n",
       "</div>"
      ],
      "text/plain": [
       "      year  age            maritl      race        education  \\\n",
       "0     2006   18  1. Never Married  1. White     1. < HS Grad   \n",
       "1     2004   24  1. Never Married  1. White  4. College Grad   \n",
       "2     2003   45        2. Married  1. White  3. Some College   \n",
       "3     2003   43        2. Married  3. Asian  4. College Grad   \n",
       "4     2005   50       4. Divorced  1. White       2. HS Grad   \n",
       "...    ...  ...               ...       ...              ...   \n",
       "2995  2008   44        2. Married  1. White  3. Some College   \n",
       "2996  2007   30        2. Married  1. White       2. HS Grad   \n",
       "2997  2005   27        2. Married  2. Black     1. < HS Grad   \n",
       "2998  2005   27  1. Never Married  1. White  3. Some College   \n",
       "2999  2009   55      5. Separated  1. White       2. HS Grad   \n",
       "\n",
       "                  region        jobclass          health health_ins   logwage  \\\n",
       "0     2. Middle Atlantic   1. Industrial       1. <=Good      2. No  4.318063   \n",
       "1     2. Middle Atlantic  2. Information  2. >=Very Good      2. No  4.255273   \n",
       "2     2. Middle Atlantic   1. Industrial       1. <=Good     1. Yes  4.875061   \n",
       "3     2. Middle Atlantic  2. Information  2. >=Very Good     1. Yes  5.041393   \n",
       "4     2. Middle Atlantic  2. Information       1. <=Good     1. Yes  4.318063   \n",
       "...                  ...             ...             ...        ...       ...   \n",
       "2995  2. Middle Atlantic   1. Industrial  2. >=Very Good     1. Yes  5.041393   \n",
       "2996  2. Middle Atlantic   1. Industrial  2. >=Very Good      2. No  4.602060   \n",
       "2997  2. Middle Atlantic   1. Industrial       1. <=Good      2. No  4.193125   \n",
       "2998  2. Middle Atlantic   1. Industrial  2. >=Very Good     1. Yes  4.477121   \n",
       "2999  2. Middle Atlantic   1. Industrial       1. <=Good     1. Yes  4.505150   \n",
       "\n",
       "            wage  \n",
       "0      75.043154  \n",
       "1      70.476020  \n",
       "2     130.982177  \n",
       "3     154.685293  \n",
       "4      75.043154  \n",
       "...          ...  \n",
       "2995  154.685293  \n",
       "2996   99.689464  \n",
       "2997   66.229408  \n",
       "2998   87.981033  \n",
       "2999   90.481913  \n",
       "\n",
       "[3000 rows x 11 columns]"
      ]
     },
     "execution_count": 3,
     "metadata": {},
     "output_type": "execute_result"
    }
   ],
   "source": [
    "# Check data\n",
    "data"
   ]
  },
  {
   "cell_type": "code",
   "execution_count": 4,
   "id": "a1fbe05a",
   "metadata": {
    "ExecuteTime": {
     "end_time": "2022-06-02T09:13:10.217669Z",
     "start_time": "2022-06-02T09:13:10.203670Z"
    },
    "scrolled": true
   },
   "outputs": [
    {
     "data": {
      "text/plain": [
       "year            int64\n",
       "age             int64\n",
       "maritl         object\n",
       "race           object\n",
       "education      object\n",
       "region         object\n",
       "jobclass       object\n",
       "health         object\n",
       "health_ins     object\n",
       "logwage       float64\n",
       "wage          float64\n",
       "dtype: object"
      ]
     },
     "execution_count": 4,
     "metadata": {},
     "output_type": "execute_result"
    }
   ],
   "source": [
    "# Check data type each column\n",
    "data.dtypes"
   ]
  },
  {
   "cell_type": "markdown",
   "id": "161faee2",
   "metadata": {},
   "source": [
    "# Pengecekan Missing Value"
   ]
  },
  {
   "cell_type": "code",
   "execution_count": 5,
   "id": "b8390ddf",
   "metadata": {
    "ExecuteTime": {
     "end_time": "2022-06-02T09:13:10.233668Z",
     "start_time": "2022-06-02T09:13:10.219670Z"
    },
    "scrolled": true
   },
   "outputs": [
    {
     "data": {
      "text/plain": [
       "year          0\n",
       "age           0\n",
       "maritl        0\n",
       "race          0\n",
       "education     0\n",
       "region        0\n",
       "jobclass      0\n",
       "health        0\n",
       "health_ins    0\n",
       "logwage       0\n",
       "wage          0\n",
       "dtype: int64"
      ]
     },
     "execution_count": 5,
     "metadata": {},
     "output_type": "execute_result"
    }
   ],
   "source": [
    "# Check Missing value \n",
    "data.isnull().sum()"
   ]
  },
  {
   "cell_type": "code",
   "execution_count": 6,
   "id": "22aac466",
   "metadata": {
    "ExecuteTime": {
     "end_time": "2022-06-02T09:13:10.514846Z",
     "start_time": "2022-06-02T09:13:10.235670Z"
    },
    "scrolled": false
   },
   "outputs": [
    {
     "data": {
      "text/plain": [
       "<AxesSubplot:>"
      ]
     },
     "execution_count": 6,
     "metadata": {},
     "output_type": "execute_result"
    },
    {
     "data": {
      "image/png": "[encoded data removed]",
      "text/plain": [
       "<Figure size 1800x720 with 2 Axes>"
      ]
     },
     "metadata": {
      "needs_background": "light"
     },
     "output_type": "display_data"
    }
   ],
   "source": [
    "msno.matrix(data)"
   ]
  },
  {
   "cell_type": "code",
   "execution_count": 7,
   "id": "67dcc77d",
   "metadata": {
    "ExecuteTime": {
     "end_time": "2022-06-02T09:13:10.530817Z",
     "start_time": "2022-06-02T09:13:10.515816Z"
    },
    "scrolled": false
   },
   "outputs": [
    {
     "data": {
      "text/html": [
       "<div>\n",
       "<style scoped>\n",
       "    .dataframe tbody tr th:only-of-type {\n",
       "        vertical-align: middle;\n",
       "    }\n",
       "\n",
       "    .dataframe tbody tr th {\n",
       "        vertical-align: top;\n",
       "    }\n",
       "\n",
       "    .dataframe thead th {\n",
       "        text-align: right;\n",
       "    }\n",
       "</style>\n",
       "<table border=\"1\" class=\"dataframe\">\n",
       "  <thead>\n",
       "    <tr style=\"text-align: right;\">\n",
       "      <th></th>\n",
       "      <th>year</th>\n",
       "      <th>age</th>\n",
       "      <th>maritl</th>\n",
       "      <th>race</th>\n",
       "      <th>education</th>\n",
       "      <th>region</th>\n",
       "      <th>jobclass</th>\n",
       "      <th>health</th>\n",
       "      <th>health_ins</th>\n",
       "      <th>wage</th>\n",
       "    </tr>\n",
       "  </thead>\n",
       "  <tbody>\n",
       "    <tr>\n",
       "      <th>0</th>\n",
       "      <td>2006</td>\n",
       "      <td>18</td>\n",
       "      <td>1. Never Married</td>\n",
       "      <td>1. White</td>\n",
       "      <td>1. &lt; HS Grad</td>\n",
       "      <td>2. Middle Atlantic</td>\n",
       "      <td>1. Industrial</td>\n",
       "      <td>1. &lt;=Good</td>\n",
       "      <td>2. No</td>\n",
       "      <td>75.043154</td>\n",
       "    </tr>\n",
       "    <tr>\n",
       "      <th>1</th>\n",
       "      <td>2004</td>\n",
       "      <td>24</td>\n",
       "      <td>1. Never Married</td>\n",
       "      <td>1. White</td>\n",
       "      <td>4. College Grad</td>\n",
       "      <td>2. Middle Atlantic</td>\n",
       "      <td>2. Information</td>\n",
       "      <td>2. &gt;=Very Good</td>\n",
       "      <td>2. No</td>\n",
       "      <td>70.476020</td>\n",
       "    </tr>\n",
       "    <tr>\n",
       "      <th>2</th>\n",
       "      <td>2003</td>\n",
       "      <td>45</td>\n",
       "      <td>2. Married</td>\n",
       "      <td>1. White</td>\n",
       "      <td>3. Some College</td>\n",
       "      <td>2. Middle Atlantic</td>\n",
       "      <td>1. Industrial</td>\n",
       "      <td>1. &lt;=Good</td>\n",
       "      <td>1. Yes</td>\n",
       "      <td>130.982177</td>\n",
       "    </tr>\n",
       "    <tr>\n",
       "      <th>3</th>\n",
       "      <td>2003</td>\n",
       "      <td>43</td>\n",
       "      <td>2. Married</td>\n",
       "      <td>3. Asian</td>\n",
       "      <td>4. College Grad</td>\n",
       "      <td>2. Middle Atlantic</td>\n",
       "      <td>2. Information</td>\n",
       "      <td>2. &gt;=Very Good</td>\n",
       "      <td>1. Yes</td>\n",
       "      <td>154.685293</td>\n",
       "    </tr>\n",
       "    <tr>\n",
       "      <th>4</th>\n",
       "      <td>2005</td>\n",
       "      <td>50</td>\n",
       "      <td>4. Divorced</td>\n",
       "      <td>1. White</td>\n",
       "      <td>2. HS Grad</td>\n",
       "      <td>2. Middle Atlantic</td>\n",
       "      <td>2. Information</td>\n",
       "      <td>1. &lt;=Good</td>\n",
       "      <td>1. Yes</td>\n",
       "      <td>75.043154</td>\n",
       "    </tr>\n",
       "    <tr>\n",
       "      <th>...</th>\n",
       "      <td>...</td>\n",
       "      <td>...</td>\n",
       "      <td>...</td>\n",
       "      <td>...</td>\n",
       "      <td>...</td>\n",
       "      <td>...</td>\n",
       "      <td>...</td>\n",
       "      <td>...</td>\n",
       "      <td>...</td>\n",
       "      <td>...</td>\n",
       "    </tr>\n",
       "    <tr>\n",
       "      <th>2995</th>\n",
       "      <td>2008</td>\n",
       "      <td>44</td>\n",
       "      <td>2. Married</td>\n",
       "      <td>1. White</td>\n",
       "      <td>3. Some College</td>\n",
       "      <td>2. Middle Atlantic</td>\n",
       "      <td>1. Industrial</td>\n",
       "      <td>2. &gt;=Very Good</td>\n",
       "      <td>1. Yes</td>\n",
       "      <td>154.685293</td>\n",
       "    </tr>\n",
       "    <tr>\n",
       "      <th>2996</th>\n",
       "      <td>2007</td>\n",
       "      <td>30</td>\n",
       "      <td>2. Married</td>\n",
       "      <td>1. White</td>\n",
       "      <td>2. HS Grad</td>\n",
       "      <td>2. Middle Atlantic</td>\n",
       "      <td>1. Industrial</td>\n",
       "      <td>2. &gt;=Very Good</td>\n",
       "      <td>2. No</td>\n",
       "      <td>99.689464</td>\n",
       "    </tr>\n",
       "    <tr>\n",
       "      <th>2997</th>\n",
       "      <td>2005</td>\n",
       "      <td>27</td>\n",
       "      <td>2. Married</td>\n",
       "      <td>2. Black</td>\n",
       "      <td>1. &lt; HS Grad</td>\n",
       "      <td>2. Middle Atlantic</td>\n",
       "      <td>1. Industrial</td>\n",
       "      <td>1. &lt;=Good</td>\n",
       "      <td>2. No</td>\n",
       "      <td>66.229408</td>\n",
       "    </tr>\n",
       "    <tr>\n",
       "      <th>2998</th>\n",
       "      <td>2005</td>\n",
       "      <td>27</td>\n",
       "      <td>1. Never Married</td>\n",
       "      <td>1. White</td>\n",
       "      <td>3. Some College</td>\n",
       "      <td>2. Middle Atlantic</td>\n",
       "      <td>1. Industrial</td>\n",
       "      <td>2. &gt;=Very Good</td>\n",
       "      <td>1. Yes</td>\n",
       "      <td>87.981033</td>\n",
       "    </tr>\n",
       "    <tr>\n",
       "      <th>2999</th>\n",
       "      <td>2009</td>\n",
       "      <td>55</td>\n",
       "      <td>5. Separated</td>\n",
       "      <td>1. White</td>\n",
       "      <td>2. HS Grad</td>\n",
       "      <td>2. Middle Atlantic</td>\n",
       "      <td>1. Industrial</td>\n",
       "      <td>1. &lt;=Good</td>\n",
       "      <td>1. Yes</td>\n",
       "      <td>90.481913</td>\n",
       "    </tr>\n",
       "  </tbody>\n",
       "</table>\n",
       "<p>3000 rows × 10 columns</p>\n",
       "</div>"
      ],
      "text/plain": [
       "      year  age            maritl      race        education  \\\n",
       "0     2006   18  1. Never Married  1. White     1. < HS Grad   \n",
       "1     2004   24  1. Never Married  1. White  4. College Grad   \n",
       "2     2003   45        2. Married  1. White  3. Some College   \n",
       "3     2003   43        2. Married  3. Asian  4. College Grad   \n",
       "4     2005   50       4. Divorced  1. White       2. HS Grad   \n",
       "...    ...  ...               ...       ...              ...   \n",
       "2995  2008   44        2. Married  1. White  3. Some College   \n",
       "2996  2007   30        2. Married  1. White       2. HS Grad   \n",
       "2997  2005   27        2. Married  2. Black     1. < HS Grad   \n",
       "2998  2005   27  1. Never Married  1. White  3. Some College   \n",
       "2999  2009   55      5. Separated  1. White       2. HS Grad   \n",
       "\n",
       "                  region        jobclass          health health_ins  \\\n",
       "0     2. Middle Atlantic   1. Industrial       1. <=Good      2. No   \n",
       "1     2. Middle Atlantic  2. Information  2. >=Very Good      2. No   \n",
       "2     2. Middle Atlantic   1. Industrial       1. <=Good     1. Yes   \n",
       "3     2. Middle Atlantic  2. Information  2. >=Very Good     1. Yes   \n",
       "4     2. Middle Atlantic  2. Information       1. <=Good     1. Yes   \n",
       "...                  ...             ...             ...        ...   \n",
       "2995  2. Middle Atlantic   1. Industrial  2. >=Very Good     1. Yes   \n",
       "2996  2. Middle Atlantic   1. Industrial  2. >=Very Good      2. No   \n",
       "2997  2. Middle Atlantic   1. Industrial       1. <=Good      2. No   \n",
       "2998  2. Middle Atlantic   1. Industrial  2. >=Very Good     1. Yes   \n",
       "2999  2. Middle Atlantic   1. Industrial       1. <=Good     1. Yes   \n",
       "\n",
       "            wage  \n",
       "0      75.043154  \n",
       "1      70.476020  \n",
       "2     130.982177  \n",
       "3     154.685293  \n",
       "4      75.043154  \n",
       "...          ...  \n",
       "2995  154.685293  \n",
       "2996   99.689464  \n",
       "2997   66.229408  \n",
       "2998   87.981033  \n",
       "2999   90.481913  \n",
       "\n",
       "[3000 rows x 10 columns]"
      ]
     },
     "execution_count": 7,
     "metadata": {},
     "output_type": "execute_result"
    }
   ],
   "source": [
    "# Drop Logwage column\n",
    "DROP = [\"logwage\"]\n",
    "data = data.drop(columns=DROP)\n",
    "data"
   ]
  },
  {
   "cell_type": "markdown",
   "id": "76771aa3",
   "metadata": {},
   "source": [
    "# Statistik Deskriptif"
   ]
  },
  {
   "cell_type": "code",
   "execution_count": 8,
   "id": "183d7330",
   "metadata": {
    "ExecuteTime": {
     "end_time": "2022-06-02T09:13:10.545817Z",
     "start_time": "2022-06-02T09:13:10.531818Z"
    }
   },
   "outputs": [
    {
     "data": {
      "text/plain": [
       "2003    513\n",
       "2004    485\n",
       "2005    447\n",
       "2006    392\n",
       "2009    389\n",
       "2008    388\n",
       "2007    386\n",
       "Name: year, dtype: int64"
      ]
     },
     "execution_count": 8,
     "metadata": {},
     "output_type": "execute_result"
    }
   ],
   "source": [
    "data[\"year\"].value_counts()"
   ]
  },
  {
   "cell_type": "code",
   "execution_count": 9,
   "id": "2a568c62",
   "metadata": {
    "ExecuteTime": {
     "end_time": "2022-06-02T09:13:10.560846Z",
     "start_time": "2022-06-02T09:13:10.548819Z"
    }
   },
   "outputs": [
    {
     "data": {
      "text/plain": [
       "count    3000.000000\n",
       "mean       42.414667\n",
       "std        11.542406\n",
       "min        18.000000\n",
       "25%        33.750000\n",
       "50%        42.000000\n",
       "75%        51.000000\n",
       "max        80.000000\n",
       "Name: age, dtype: float64"
      ]
     },
     "execution_count": 9,
     "metadata": {},
     "output_type": "execute_result"
    }
   ],
   "source": [
    "data[\"age\"].describe()"
   ]
  },
  {
   "cell_type": "code",
   "execution_count": 10,
   "id": "f1230d73",
   "metadata": {
    "ExecuteTime": {
     "end_time": "2022-06-02T09:13:10.576816Z",
     "start_time": "2022-06-02T09:13:10.561837Z"
    }
   },
   "outputs": [
    {
     "data": {
      "text/plain": [
       "count    3000.000000\n",
       "mean      111.703608\n",
       "std        41.728595\n",
       "min        20.085537\n",
       "25%        85.383940\n",
       "50%       104.921507\n",
       "75%       128.680488\n",
       "max       318.342430\n",
       "Name: wage, dtype: float64"
      ]
     },
     "execution_count": 10,
     "metadata": {},
     "output_type": "execute_result"
    }
   ],
   "source": [
    "data[\"wage\"].describe()"
   ]
  },
  {
   "cell_type": "code",
   "execution_count": 11,
   "id": "fcf31421",
   "metadata": {
    "ExecuteTime": {
     "end_time": "2022-06-02T09:13:10.591816Z",
     "start_time": "2022-06-02T09:13:10.577817Z"
    }
   },
   "outputs": [
    {
     "data": {
      "text/plain": [
       "2. Married          2074\n",
       "1. Never Married     648\n",
       "4. Divorced          204\n",
       "5. Separated          55\n",
       "3. Widowed            19\n",
       "Name: maritl, dtype: int64"
      ]
     },
     "execution_count": 11,
     "metadata": {},
     "output_type": "execute_result"
    }
   ],
   "source": [
    "data[\"maritl\"].value_counts()"
   ]
  },
  {
   "cell_type": "code",
   "execution_count": 12,
   "id": "2d5951bf",
   "metadata": {
    "ExecuteTime": {
     "end_time": "2022-06-02T09:13:10.607816Z",
     "start_time": "2022-06-02T09:13:10.592817Z"
    }
   },
   "outputs": [
    {
     "data": {
      "text/plain": [
       "1. White    2480\n",
       "2. Black     293\n",
       "3. Asian     190\n",
       "4. Other      37\n",
       "Name: race, dtype: int64"
      ]
     },
     "execution_count": 12,
     "metadata": {},
     "output_type": "execute_result"
    }
   ],
   "source": [
    "data[\"race\"].value_counts()"
   ]
  },
  {
   "cell_type": "code",
   "execution_count": 13,
   "id": "992aa4f3",
   "metadata": {
    "ExecuteTime": {
     "end_time": "2022-06-02T09:13:10.622820Z",
     "start_time": "2022-06-02T09:13:10.608819Z"
    }
   },
   "outputs": [
    {
     "data": {
      "text/plain": [
       "2. HS Grad            971\n",
       "4. College Grad       685\n",
       "3. Some College       650\n",
       "5. Advanced Degree    426\n",
       "1. < HS Grad          268\n",
       "Name: education, dtype: int64"
      ]
     },
     "execution_count": 13,
     "metadata": {},
     "output_type": "execute_result"
    }
   ],
   "source": [
    "data[\"education\"].value_counts()"
   ]
  },
  {
   "cell_type": "code",
   "execution_count": 14,
   "id": "b8b5d569",
   "metadata": {
    "ExecuteTime": {
     "end_time": "2022-06-02T09:13:10.637816Z",
     "start_time": "2022-06-02T09:13:10.623817Z"
    }
   },
   "outputs": [
    {
     "data": {
      "text/plain": [
       "2. Middle Atlantic    3000\n",
       "Name: region, dtype: int64"
      ]
     },
     "execution_count": 14,
     "metadata": {},
     "output_type": "execute_result"
    }
   ],
   "source": [
    "data[\"region\"].value_counts()"
   ]
  },
  {
   "cell_type": "code",
   "execution_count": 15,
   "id": "1de72a97",
   "metadata": {
    "ExecuteTime": {
     "end_time": "2022-06-02T09:13:10.653817Z",
     "start_time": "2022-06-02T09:13:10.638817Z"
    }
   },
   "outputs": [
    {
     "data": {
      "text/plain": [
       "2. >=Very Good    2142\n",
       "1. <=Good          858\n",
       "Name: health, dtype: int64"
      ]
     },
     "execution_count": 15,
     "metadata": {},
     "output_type": "execute_result"
    }
   ],
   "source": [
    "data[\"health\"].value_counts()"
   ]
  },
  {
   "cell_type": "code",
   "execution_count": 16,
   "id": "86d16f0e",
   "metadata": {
    "ExecuteTime": {
     "end_time": "2022-06-02T09:13:10.669817Z",
     "start_time": "2022-06-02T09:13:10.654816Z"
    }
   },
   "outputs": [
    {
     "data": {
      "text/plain": [
       "1. Yes    2083\n",
       "2. No      917\n",
       "Name: health_ins, dtype: int64"
      ]
     },
     "execution_count": 16,
     "metadata": {},
     "output_type": "execute_result"
    }
   ],
   "source": [
    "data[\"health_ins\"].value_counts()"
   ]
  },
  {
   "cell_type": "markdown",
   "id": "65d3716a",
   "metadata": {},
   "source": [
    "# Visualisasi data"
   ]
  },
  {
   "cell_type": "code",
   "execution_count": 17,
   "id": "fa759c3e",
   "metadata": {
    "ExecuteTime": {
     "end_time": "2022-06-02T09:13:10.777815Z",
     "start_time": "2022-06-02T09:13:10.670818Z"
    },
    "scrolled": false
   },
   "outputs": [
    {
     "data": {
      "text/plain": [
       "<AxesSubplot:title={'center':'Barplot Marital Status'}>"
      ]
     },
     "execution_count": 17,
     "metadata": {},
     "output_type": "execute_result"
    },
    {
     "data": {
      "image/png": "[encoded data removed]",
      "text/plain": [
       "<Figure size 432x288 with 1 Axes>"
      ]
     },
     "metadata": {
      "needs_background": "light"
     },
     "output_type": "display_data"
    }
   ],
   "source": [
    "# Plot data maritl status\n",
    "data[\"maritl\"].value_counts().plot(kind='bar',title=\"Barplot Marital Status\")"
   ]
  },
  {
   "cell_type": "code",
   "execution_count": 18,
   "id": "86e04465",
   "metadata": {
    "ExecuteTime": {
     "end_time": "2022-06-02T09:13:10.857846Z",
     "start_time": "2022-06-02T09:13:10.778816Z"
    },
    "scrolled": true
   },
   "outputs": [
    {
     "data": {
      "text/plain": [
       "<AxesSubplot:title={'center':'Barplot Race'}>"
      ]
     },
     "execution_count": 18,
     "metadata": {},
     "output_type": "execute_result"
    },
    {
     "data": {
      "image/png": "[encoded data removed]",
      "text/plain": [
       "<Figure size 432x288 with 1 Axes>"
      ]
     },
     "metadata": {
      "needs_background": "light"
     },
     "output_type": "display_data"
    }
   ],
   "source": [
    "# Plot Race\n",
    "data[\"race\"].value_counts().plot(kind='bar',title=\"Barplot Race\")"
   ]
  },
  {
   "cell_type": "code",
   "execution_count": 19,
   "id": "48726d09",
   "metadata": {
    "ExecuteTime": {
     "end_time": "2022-06-02T09:13:10.953846Z",
     "start_time": "2022-06-02T09:13:10.858816Z"
    },
    "scrolled": false
   },
   "outputs": [
    {
     "data": {
      "text/plain": [
       "<AxesSubplot:title={'center':'Barplot Education'}>"
      ]
     },
     "execution_count": 19,
     "metadata": {},
     "output_type": "execute_result"
    },
    {
     "data": {
      "image/png": "[encoded data removed]",
      "text/plain": [
       "<Figure size 432x288 with 1 Axes>"
      ]
     },
     "metadata": {
      "needs_background": "light"
     },
     "output_type": "display_data"
    }
   ],
   "source": [
    "# Plot Education\n",
    "data[\"education\"].value_counts().plot(kind='bar',title=\"Barplot Education\")"
   ]
  },
  {
   "cell_type": "code",
   "execution_count": 20,
   "id": "758dad4f",
   "metadata": {
    "ExecuteTime": {
     "end_time": "2022-06-02T09:13:11.031815Z",
     "start_time": "2022-06-02T09:13:10.954816Z"
    },
    "scrolled": false
   },
   "outputs": [
    {
     "data": {
      "text/plain": [
       "<AxesSubplot:title={'center':'Barplot Region'}>"
      ]
     },
     "execution_count": 20,
     "metadata": {},
     "output_type": "execute_result"
    },
    {
     "data": {
      "image/png": "[encoded data removed]",
      "text/plain": [
       "<Figure size 432x288 with 1 Axes>"
      ]
     },
     "metadata": {
      "needs_background": "light"
     },
     "output_type": "display_data"
    }
   ],
   "source": [
    "# Plot Region\n",
    "data[\"region\"].value_counts().plot(kind='bar',title=\"Barplot Region\")"
   ]
  },
  {
   "cell_type": "code",
   "execution_count": 21,
   "id": "4b1f6c32",
   "metadata": {
    "ExecuteTime": {
     "end_time": "2022-06-02T09:13:11.127847Z",
     "start_time": "2022-06-02T09:13:11.032816Z"
    },
    "scrolled": false
   },
   "outputs": [
    {
     "data": {
      "text/plain": [
       "<AxesSubplot:title={'center':'Barplot Health'}>"
      ]
     },
     "execution_count": 21,
     "metadata": {},
     "output_type": "execute_result"
    },
    {
     "data": {
      "image/png": "[encoded data removed]",
      "text/plain": [
       "<Figure size 432x288 with 1 Axes>"
      ]
     },
     "metadata": {
      "needs_background": "light"
     },
     "output_type": "display_data"
    }
   ],
   "source": [
    "# Plot Health\n",
    "data[\"health\"].value_counts().plot(kind='bar',title=\"Barplot Health\")"
   ]
  },
  {
   "cell_type": "code",
   "execution_count": 22,
   "id": "0a716aa3",
   "metadata": {
    "ExecuteTime": {
     "end_time": "2022-06-02T09:13:11.207818Z",
     "start_time": "2022-06-02T09:13:11.128818Z"
    },
    "scrolled": true
   },
   "outputs": [
    {
     "data": {
      "text/plain": [
       "<AxesSubplot:title={'center':'Barplot Health_ins'}>"
      ]
     },
     "execution_count": 22,
     "metadata": {},
     "output_type": "execute_result"
    },
    {
     "data": {
      "image/png": "[encoded data removed]",
      "text/plain": [
       "<Figure size 432x288 with 1 Axes>"
      ]
     },
     "metadata": {
      "needs_background": "light"
     },
     "output_type": "display_data"
    }
   ],
   "source": [
    "# Plot health_ins\n",
    "data[\"health_ins\"].value_counts().plot(kind='bar',title=\"Barplot Health_ins\")"
   ]
  },
  {
   "cell_type": "code",
   "execution_count": 23,
   "id": "d32a5d69",
   "metadata": {
    "ExecuteTime": {
     "end_time": "2022-06-02T09:13:11.287816Z",
     "start_time": "2022-06-02T09:13:11.208816Z"
    },
    "scrolled": true
   },
   "outputs": [
    {
     "data": {
      "image/png": "[encoded data removed]",
      "text/plain": [
       "<Figure size 432x288 with 1 Axes>"
      ]
     },
     "metadata": {
      "needs_background": "light"
     },
     "output_type": "display_data"
    }
   ],
   "source": [
    "# Boxplot age\n",
    "plt.boxplot(data[\"age\"])\n",
    "plt.xlabel(\"Age\")\n",
    "plt.ylabel(\"Value\")\n",
    "plt.title(\"Boxplot Age\")\n",
    "plt.show()"
   ]
  },
  {
   "cell_type": "code",
   "execution_count": 24,
   "id": "80352287",
   "metadata": {
    "ExecuteTime": {
     "end_time": "2022-06-02T09:13:11.365816Z",
     "start_time": "2022-06-02T09:13:11.288817Z"
    },
    "scrolled": true
   },
   "outputs": [
    {
     "data": {
      "image/png": "[encoded data removed]",
      "text/plain": [
       "<Figure size 432x288 with 1 Axes>"
      ]
     },
     "metadata": {
      "needs_background": "light"
     },
     "output_type": "display_data"
    }
   ],
   "source": [
    "# Boxplot Wage\n",
    "plt.boxplot(data[\"year\"])\n",
    "plt.xlabel(\"Year\")\n",
    "plt.ylabel(\"Value\")\n",
    "plt.title(\"Boxplot Year\")\n",
    "plt.show()"
   ]
  },
  {
   "cell_type": "code",
   "execution_count": 25,
   "id": "804e9256",
   "metadata": {
    "ExecuteTime": {
     "end_time": "2022-06-02T09:13:11.445817Z",
     "start_time": "2022-06-02T09:13:11.366817Z"
    },
    "scrolled": true
   },
   "outputs": [
    {
     "data": {
      "image/png": "[encoded data removed]",
      "text/plain": [
       "<Figure size 432x288 with 1 Axes>"
      ]
     },
     "metadata": {
      "needs_background": "light"
     },
     "output_type": "display_data"
    }
   ],
   "source": [
    "# Boxplot Wage\n",
    "plt.boxplot(data[\"wage\"])\n",
    "plt.xlabel(\"Wage\")\n",
    "plt.ylabel(\"Value\")\n",
    "plt.title(\"Boxplot Wage\")\n",
    "plt.show()"
   ]
  },
  {
   "cell_type": "markdown",
   "id": "c13b0de8",
   "metadata": {},
   "source": [
    "# Pre Built Pipeline"
   ]
  },
  {
   "cell_type": "code",
   "execution_count": 26,
   "id": "31257409",
   "metadata": {
    "ExecuteTime": {
     "end_time": "2022-06-02T09:13:11.461816Z",
     "start_time": "2022-06-02T09:13:11.446817Z"
    },
    "scrolled": true
   },
   "outputs": [
    {
     "name": "stdout",
     "output_type": "stream",
     "text": [
      "Numerical features: year, age\n",
      "Categorical features: education, health, health_ins, jobclass, maritl, race, region\n"
     ]
    }
   ],
   "source": [
    "SEED = 1234\n",
    "TARGET = \"wage\"\n",
    "FEATURES = data.columns.drop(TARGET)\n",
    "\n",
    "NUMERICAL = data[FEATURES].select_dtypes('number').columns\n",
    "print(f\"Numerical features: {', '.join(NUMERICAL)}\")\n",
    "\n",
    "CATEGORICAL = pd.Index(np.setdiff1d(FEATURES, NUMERICAL))\n",
    "print(f\"Categorical features: {', '.join(CATEGORICAL)}\")"
   ]
  },
  {
   "cell_type": "code",
   "execution_count": 27,
   "id": "ca4a7f46",
   "metadata": {
    "ExecuteTime": {
     "end_time": "2022-06-02T09:13:11.476817Z",
     "start_time": "2022-06-02T09:13:11.464818Z"
    },
    "scrolled": true
   },
   "outputs": [],
   "source": [
    "X_train, X_test, y_train, y_test = train_test_split(data.drop(columns=TARGET), data[TARGET], \n",
    "                                                    test_size=.25, random_state=SEED)"
   ]
  },
  {
   "cell_type": "markdown",
   "id": "fe323dbe",
   "metadata": {},
   "source": [
    "# Tanpa Hyperparameter Tunning"
   ]
  },
  {
   "cell_type": "code",
   "execution_count": 28,
   "id": "af1cda51",
   "metadata": {
    "ExecuteTime": {
     "end_time": "2022-06-02T09:13:11.492816Z",
     "start_time": "2022-06-02T09:13:11.477817Z"
    },
    "scrolled": true
   },
   "outputs": [],
   "source": [
    "def exec_time(start, end):\n",
    "   diff_time = end - start\n",
    "   m, s = divmod(diff_time, 60)\n",
    "   h, m = divmod(m, 60)\n",
    "   s,m,h = int(round(s, 0)), int(round(m, 0)), int(round(h, 0))\n",
    "   return f\"{h}:{m}:{s}\""
   ]
  },
  {
   "cell_type": "code",
   "execution_count": 29,
   "id": "1ad87f98",
   "metadata": {
    "ExecuteTime": {
     "end_time": "2022-06-02T09:13:11.507819Z",
     "start_time": "2022-06-02T09:13:11.493818Z"
    },
    "scrolled": true
   },
   "outputs": [],
   "source": [
    "X_train_numerical = X_train[NUMERICAL]\n",
    "X_test_numerical = X_test[NUMERICAL]"
   ]
  },
  {
   "cell_type": "code",
   "execution_count": 30,
   "id": "c1888eb3",
   "metadata": {
    "ExecuteTime": {
     "end_time": "2022-06-02T09:13:11.522835Z",
     "start_time": "2022-06-02T09:13:11.508817Z"
    },
    "scrolled": true
   },
   "outputs": [],
   "source": [
    "X_train_Categorical = X_train[CATEGORICAL]\n",
    "X_test_Categorical = X_test[CATEGORICAL]"
   ]
  },
  {
   "cell_type": "code",
   "execution_count": 31,
   "id": "db48f137",
   "metadata": {
    "ExecuteTime": {
     "end_time": "2022-06-02T09:13:11.538897Z",
     "start_time": "2022-06-02T09:13:11.523828Z"
    },
    "scrolled": true
   },
   "outputs": [],
   "source": [
    "X_train_Categorical_encoded = pd.get_dummies(X_train_Categorical, drop_first=True)\n",
    "X_test_Categorical_encoded = pd.get_dummies(X_test_Categorical, drop_first=True)"
   ]
  },
  {
   "cell_type": "code",
   "execution_count": 32,
   "id": "d9c37e0d",
   "metadata": {
    "ExecuteTime": {
     "end_time": "2022-06-02T09:13:11.553947Z",
     "start_time": "2022-06-02T09:13:11.539890Z"
    },
    "scrolled": true
   },
   "outputs": [],
   "source": [
    "X_train_preprocessed = X_train_numerical.join(X_train_Categorical_encoded)\n",
    "X_test_preprocessed = X_test_numerical.join(X_test_Categorical_encoded)"
   ]
  },
  {
   "cell_type": "markdown",
   "id": "32ac6bb8",
   "metadata": {},
   "source": [
    "# Evaluasi tanpa hyperparameter tunning"
   ]
  },
  {
   "cell_type": "markdown",
   "id": "df3d398a",
   "metadata": {},
   "source": [
    "## RandomForestRegressor"
   ]
  },
  {
   "cell_type": "code",
   "execution_count": 33,
   "id": "7bb062ec",
   "metadata": {
    "ExecuteTime": {
     "end_time": "2022-06-02T09:13:11.569887Z",
     "start_time": "2022-06-02T09:13:11.554888Z"
    },
    "scrolled": true
   },
   "outputs": [],
   "source": [
    "Rf_model = RandomForestRegressor(random_state=SEED)"
   ]
  },
  {
   "cell_type": "code",
   "execution_count": 34,
   "id": "8c24652f",
   "metadata": {
    "ExecuteTime": {
     "end_time": "2022-06-02T09:13:13.841916Z",
     "start_time": "2022-06-02T09:13:11.570888Z"
    },
    "scrolled": true
   },
   "outputs": [],
   "source": [
    "start_base = time.time()\n",
    "Rf_model.fit(X_train_preprocessed,y_train)\n",
    "end_base = time.time()"
   ]
  },
  {
   "cell_type": "code",
   "execution_count": 35,
   "id": "aa26c90d",
   "metadata": {
    "ExecuteTime": {
     "end_time": "2022-06-02T09:13:13.857890Z",
     "start_time": "2022-06-02T09:13:13.842886Z"
    },
    "scrolled": true
   },
   "outputs": [
    {
     "data": {
      "text/plain": [
       "'0:0:2'"
      ]
     },
     "execution_count": 35,
     "metadata": {},
     "output_type": "execute_result"
    }
   ],
   "source": [
    "basemodel_time = exec_time(start_base,end_base)\n",
    "basemodel_time"
   ]
  },
  {
   "cell_type": "code",
   "execution_count": 36,
   "id": "c441edae",
   "metadata": {
    "ExecuteTime": {
     "end_time": "2022-06-02T09:13:13.904003Z",
     "start_time": "2022-06-02T09:13:13.858889Z"
    },
    "scrolled": true
   },
   "outputs": [
    {
     "name": "stdout",
     "output_type": "stream",
     "text": [
      "MAE: 10.770851354199845\n"
     ]
    }
   ],
   "source": [
    "pred = Rf_model.predict(X_train_preprocessed)\n",
    "print(\"MAE:\",mean_absolute_error(y_train,pred))"
   ]
  },
  {
   "cell_type": "code",
   "execution_count": 37,
   "id": "ebbcf960",
   "metadata": {
    "ExecuteTime": {
     "end_time": "2022-06-02T09:13:13.936005Z",
     "start_time": "2022-06-02T09:13:13.905004Z"
    },
    "scrolled": true
   },
   "outputs": [
    {
     "name": "stdout",
     "output_type": "stream",
     "text": [
      "MAE: 25.38263742350846\n"
     ]
    }
   ],
   "source": [
    "y_pred=Rf_model.predict(X_test_preprocessed)\n",
    "print(\"MAE:\",mean_absolute_error(y_test,y_pred))"
   ]
  },
  {
   "cell_type": "code",
   "execution_count": 49,
   "id": "880d3a61",
   "metadata": {
    "ExecuteTime": {
     "end_time": "2022-06-02T13:41:32.878750Z",
     "start_time": "2022-06-02T13:41:32.849566Z"
    },
    "scrolled": true
   },
   "outputs": [
    {
     "data": {
      "text/plain": [
       "{'bootstrap': True,\n",
       " 'ccp_alpha': 0.0,\n",
       " 'criterion': 'squared_error',\n",
       " 'max_depth': None,\n",
       " 'max_features': 1.0,\n",
       " 'max_leaf_nodes': None,\n",
       " 'max_samples': None,\n",
       " 'min_impurity_decrease': 0.0,\n",
       " 'min_samples_leaf': 1,\n",
       " 'min_samples_split': 2,\n",
       " 'min_weight_fraction_leaf': 0.0,\n",
       " 'n_estimators': 100,\n",
       " 'n_jobs': None,\n",
       " 'oob_score': False,\n",
       " 'random_state': 1234,\n",
       " 'verbose': 0,\n",
       " 'warm_start': False}"
      ]
     },
     "execution_count": 49,
     "metadata": {},
     "output_type": "execute_result"
    }
   ],
   "source": [
    "Rf_model.get_params()"
   ]
  },
  {
   "cell_type": "markdown",
   "id": "cdee3fc0",
   "metadata": {},
   "source": [
    "## SVR"
   ]
  },
  {
   "cell_type": "code",
   "execution_count": 39,
   "id": "b8748e6d",
   "metadata": {
    "ExecuteTime": {
     "end_time": "2022-06-02T09:13:13.967013Z",
     "start_time": "2022-06-02T09:13:13.952004Z"
    },
    "scrolled": true
   },
   "outputs": [],
   "source": [
    "SVR_Model=SVR()"
   ]
  },
  {
   "cell_type": "code",
   "execution_count": 40,
   "id": "31a291d3",
   "metadata": {
    "ExecuteTime": {
     "end_time": "2022-06-02T09:13:14.202246Z",
     "start_time": "2022-06-02T09:13:13.968003Z"
    },
    "scrolled": true
   },
   "outputs": [],
   "source": [
    "start_base = time.time()\n",
    "SVR_Model.fit(X_train_preprocessed,y_train)\n",
    "end_base = time.time()"
   ]
  },
  {
   "cell_type": "code",
   "execution_count": 41,
   "id": "76912cd2",
   "metadata": {
    "ExecuteTime": {
     "end_time": "2022-06-02T09:13:14.624215Z",
     "start_time": "2022-06-02T09:13:14.203215Z"
    },
    "scrolled": true
   },
   "outputs": [
    {
     "name": "stdout",
     "output_type": "stream",
     "text": [
      "MAE: 29.299509577666086\n"
     ]
    }
   ],
   "source": [
    "pred = SVR_Model.predict(X_train_preprocessed)\n",
    "print(\"MAE:\",mean_absolute_error(y_train,pred))"
   ]
  },
  {
   "cell_type": "code",
   "execution_count": 42,
   "id": "c07abf73",
   "metadata": {
    "ExecuteTime": {
     "end_time": "2022-06-02T09:13:14.777249Z",
     "start_time": "2022-06-02T09:13:14.625213Z"
    },
    "scrolled": true
   },
   "outputs": [
    {
     "name": "stdout",
     "output_type": "stream",
     "text": [
      "MAE: 28.464927464791835\n"
     ]
    }
   ],
   "source": [
    "y_pred=SVR_Model.predict(X_test_preprocessed)\n",
    "print(\"MAE:\",mean_absolute_error(y_test,y_pred))"
   ]
  },
  {
   "cell_type": "code",
   "execution_count": 50,
   "id": "2e757a71",
   "metadata": {
    "ExecuteTime": {
     "end_time": "2022-06-02T13:48:29.280826Z",
     "start_time": "2022-06-02T13:48:29.274819Z"
    },
    "scrolled": true
   },
   "outputs": [
    {
     "data": {
      "text/plain": [
       "{'C': 1.0,\n",
       " 'cache_size': 200,\n",
       " 'coef0': 0.0,\n",
       " 'degree': 3,\n",
       " 'epsilon': 0.1,\n",
       " 'gamma': 'scale',\n",
       " 'kernel': 'rbf',\n",
       " 'max_iter': -1,\n",
       " 'shrinking': True,\n",
       " 'tol': 0.001,\n",
       " 'verbose': False}"
      ]
     },
     "execution_count": 50,
     "metadata": {},
     "output_type": "execute_result"
    }
   ],
   "source": [
    "SVR_Model.get_params()"
   ]
  },
  {
   "cell_type": "markdown",
   "id": "151908e6",
   "metadata": {},
   "source": [
    "# Dengan Hyperparameter Tunning"
   ]
  },
  {
   "cell_type": "code",
   "execution_count": 44,
   "id": "fa7bc485",
   "metadata": {
    "ExecuteTime": {
     "end_time": "2022-06-02T09:13:14.808271Z",
     "start_time": "2022-06-02T09:13:14.794214Z"
    },
    "scrolled": true
   },
   "outputs": [],
   "source": [
    "def objective(trial):\n",
    "    numerical_pipe = Pipeline([\n",
    "        ('imputer', SimpleImputer(strategy='mean')),\n",
    "        ('scaler', MinMaxScaler())\n",
    "    ])\n",
    "\n",
    "    categorical_pipe = Pipeline([\n",
    "        ('imputer', SimpleImputer(strategy='constant', fill_value='missing')),\n",
    "        ('encoder', OneHotEncoder(handle_unknown='ignore', sparse=False))\n",
    "    ])\n",
    "\n",
    "    transformer = ColumnTransformer(transformers=[\n",
    "        ('num', numerical_pipe, NUMERICAL),\n",
    "        ('cat', categorical_pipe, CATEGORICAL)\n",
    "    ])\n",
    "\n",
    "    classifier =trial.suggest_categorical('classifier',['SVR','RandomForestRegressor'])\n",
    "    if classifier == 'RandomForestRegressor':\n",
    "        bootstrap = trial.suggest_categorical('bootstrap',[True,False])\n",
    "        ccp_alpha = trial.suggest_int('ccp',0.2,0.9)\n",
    "        max_depth = trial.suggest_int('max_depth',10,100)\n",
    "        max_features = trial.suggest_categorical(\"max_features\",[\"auto\",\"sqrt\"])\n",
    "        n_estimators = trial.suggest_int(' n_estimators',10,200)\n",
    "        min_samples_split = trial.suggest_int(\"min_samples_split\",2,20)\n",
    "        \n",
    "        clf = RandomForestRegressor(bootstrap=bootstrap,ccp_alpha=ccp_alpha,max_depth=max_depth,\n",
    "                                   max_features=max_features,n_estimators=n_estimators,\n",
    "                                    min_samples_split=min_samples_split,random_state=SEED)\n",
    "        \n",
    "    elif classifier == 'SVR':\n",
    "        kernel=trial.suggest_categorical('kernel',['rbf','poly','linear','sigmoid'])\n",
    "        c=trial.suggest_float(\"C\",1,3.0,log=True)\n",
    "        gamma=trial.suggest_categorical('gamma',['auto','scale'])\n",
    "        degree=trial.suggest_int(\"degree\",1,3)\n",
    "        \n",
    "        clf = SVR(kernel=kernel,C=c,gamma=gamma,degree=degree)\n",
    "        \n",
    "    model = Pipeline(steps=[('transformer',transformer),\n",
    "                           ('classifier',clf)])\n",
    "    \n",
    "    my_scorer = make_scorer(mean_absolute_error)\n",
    "    \n",
    "    return cross_val_score(model,X_train,y_train, n_jobs=-1,cv=5,scoring=my_scorer).mean()"
   ]
  },
  {
   "cell_type": "code",
   "execution_count": 45,
   "id": "4d6c8c02",
   "metadata": {
    "ExecuteTime": {
     "end_time": "2022-06-02T09:15:14.843217Z",
     "start_time": "2022-06-02T09:13:14.809214Z"
    },
    "scrolled": true
   },
   "outputs": [
    {
     "name": "stderr",
     "output_type": "stream",
     "text": [
      "\u001b[32m[I 2022-06-02 16:13:14,811]\u001b[0m A new study created in memory with name: no-name-015a0b2b-66bc-4c0f-8bfb-ffe8f8e6e40f\u001b[0m\n",
      "C:\\Users\\Hasan Zein\\AppData\\Local\\Programs\\Python\\Python39\\lib\\site-packages\\optuna\\distributions.py:560: UserWarning: The distribution is specified by [0.2, 0.9] and step=1, but the range is not divisible by `step`. It will be replaced by [0.2, 0.2].\n",
      "  warnings.warn(\n",
      "\u001b[32m[I 2022-06-02 16:13:20,623]\u001b[0m Trial 0 finished with value: 23.82069471029214 and parameters: {'classifier': 'RandomForestRegressor', 'bootstrap': True, 'ccp': 0, 'max_depth': 92, 'max_features': 'auto', ' n_estimators': 191, 'min_samples_split': 18}. Best is trial 0 with value: 23.82069471029214.\u001b[0m\n",
      "\u001b[32m[I 2022-06-02 16:13:21,636]\u001b[0m Trial 1 finished with value: 24.988682792686756 and parameters: {'classifier': 'SVR', 'kernel': 'sigmoid', 'C': 1.0736870880773455, 'gamma': 'auto', 'degree': 2}. Best is trial 0 with value: 23.82069471029214.\u001b[0m\n",
      "\u001b[32m[I 2022-06-02 16:13:22,491]\u001b[0m Trial 2 finished with value: 22.958938368290692 and parameters: {'classifier': 'SVR', 'kernel': 'linear', 'C': 1.1111410097300052, 'gamma': 'scale', 'degree': 2}. Best is trial 2 with value: 22.958938368290692.\u001b[0m\n",
      "\u001b[32m[I 2022-06-02 16:13:22,785]\u001b[0m Trial 3 finished with value: 25.060443870382045 and parameters: {'classifier': 'SVR', 'kernel': 'sigmoid', 'C': 1.509773384717812, 'gamma': 'scale', 'degree': 2}. Best is trial 2 with value: 22.958938368290692.\u001b[0m\n",
      "\u001b[32m[I 2022-06-02 16:13:22,998]\u001b[0m Trial 4 finished with value: 22.93604174294847 and parameters: {'classifier': 'SVR', 'kernel': 'linear', 'C': 2.7292381757882045, 'gamma': 'scale', 'degree': 3}. Best is trial 4 with value: 22.93604174294847.\u001b[0m\n",
      "\u001b[32m[I 2022-06-02 16:13:23,195]\u001b[0m Trial 5 finished with value: 22.936800136249545 and parameters: {'classifier': 'SVR', 'kernel': 'linear', 'C': 2.5720744214282374, 'gamma': 'auto', 'degree': 3}. Best is trial 4 with value: 22.93604174294847.\u001b[0m\n",
      "\u001b[32m[I 2022-06-02 16:13:23,512]\u001b[0m Trial 6 finished with value: 24.33889964295023 and parameters: {'classifier': 'SVR', 'kernel': 'rbf', 'C': 1.0092721511863894, 'gamma': 'auto', 'degree': 3}. Best is trial 4 with value: 22.93604174294847.\u001b[0m\n",
      "\u001b[32m[I 2022-06-02 16:13:23,719]\u001b[0m Trial 7 finished with value: 23.210446923410426 and parameters: {'classifier': 'SVR', 'kernel': 'poly', 'C': 1.453578215168618, 'gamma': 'scale', 'degree': 1}. Best is trial 4 with value: 22.93604174294847.\u001b[0m\n",
      "\u001b[32m[I 2022-06-02 16:13:23,906]\u001b[0m Trial 8 finished with value: 22.950714662673487 and parameters: {'classifier': 'SVR', 'kernel': 'linear', 'C': 1.4342078687673911, 'gamma': 'scale', 'degree': 3}. Best is trial 4 with value: 22.93604174294847.\u001b[0m\n",
      "\u001b[32m[I 2022-06-02 16:13:24,092]\u001b[0m Trial 9 finished with value: 22.93647064013826 and parameters: {'classifier': 'SVR', 'kernel': 'linear', 'C': 2.364780656423738, 'gamma': 'scale', 'degree': 2}. Best is trial 4 with value: 22.93604174294847.\u001b[0m\n",
      "C:\\Users\\Hasan Zein\\AppData\\Local\\Programs\\Python\\Python39\\lib\\site-packages\\optuna\\distributions.py:560: UserWarning: The distribution is specified by [0.2, 0.9] and step=1, but the range is not divisible by `step`. It will be replaced by [0.2, 0.2].\n",
      "  warnings.warn(\n",
      "\u001b[32m[I 2022-06-02 16:13:24,507]\u001b[0m Trial 10 finished with value: 25.48544235910918 and parameters: {'classifier': 'RandomForestRegressor', 'bootstrap': False, 'ccp': 0, 'max_depth': 13, 'max_features': 'sqrt', ' n_estimators': 29, 'min_samples_split': 2}. Best is trial 4 with value: 22.93604174294847.\u001b[0m\n",
      "C:\\Users\\Hasan Zein\\AppData\\Local\\Programs\\Python\\Python39\\lib\\site-packages\\optuna\\distributions.py:560: UserWarning: The distribution is specified by [0.2, 0.9] and step=1, but the range is not divisible by `step`. It will be replaced by [0.2, 0.2].\n",
      "  warnings.warn(\n",
      "\u001b[32m[I 2022-06-02 16:13:26,067]\u001b[0m Trial 11 finished with value: 25.45541698234017 and parameters: {'classifier': 'RandomForestRegressor', 'bootstrap': False, 'ccp': 0, 'max_depth': 49, 'max_features': 'sqrt', ' n_estimators': 132, 'min_samples_split': 7}. Best is trial 4 with value: 22.93604174294847.\u001b[0m\n",
      "\u001b[32m[I 2022-06-02 16:13:26,272]\u001b[0m Trial 12 finished with value: 22.93636112201699 and parameters: {'classifier': 'SVR', 'kernel': 'linear', 'C': 2.787857208505278, 'gamma': 'scale', 'degree': 1}. Best is trial 4 with value: 22.93604174294847.\u001b[0m\n",
      "\u001b[32m[I 2022-06-02 16:13:26,472]\u001b[0m Trial 13 finished with value: 22.935514960219173 and parameters: {'classifier': 'SVR', 'kernel': 'linear', 'C': 2.9560315927885843, 'gamma': 'scale', 'degree': 1}. Best is trial 13 with value: 22.935514960219173.\u001b[0m\n",
      "\u001b[32m[I 2022-06-02 16:13:26,677]\u001b[0m Trial 14 finished with value: 23.10626477668893 and parameters: {'classifier': 'SVR', 'kernel': 'poly', 'C': 2.152794695272523, 'gamma': 'scale', 'degree': 1}. Best is trial 13 with value: 22.935514960219173.\u001b[0m\n",
      "C:\\Users\\Hasan Zein\\AppData\\Local\\Programs\\Python\\Python39\\lib\\site-packages\\optuna\\distributions.py:560: UserWarning: The distribution is specified by [0.2, 0.9] and step=1, but the range is not divisible by `step`. It will be replaced by [0.2, 0.2].\n",
      "  warnings.warn(\n",
      "\u001b[32m[I 2022-06-02 16:13:27,185]\u001b[0m Trial 15 finished with value: 24.01554198761617 and parameters: {'classifier': 'RandomForestRegressor', 'bootstrap': True, 'ccp': 0, 'max_depth': 100, 'max_features': 'auto', ' n_estimators': 21, 'min_samples_split': 20}. Best is trial 13 with value: 22.935514960219173.\u001b[0m\n",
      "\u001b[32m[I 2022-06-02 16:13:27,512]\u001b[0m Trial 16 finished with value: 22.918137451128256 and parameters: {'classifier': 'SVR', 'kernel': 'rbf', 'C': 2.970691369558216, 'gamma': 'scale', 'degree': 1}. Best is trial 16 with value: 22.918137451128256.\u001b[0m\n",
      "\u001b[32m[I 2022-06-02 16:13:27,817]\u001b[0m Trial 17 finished with value: 23.085759905437357 and parameters: {'classifier': 'SVR', 'kernel': 'rbf', 'C': 2.0364746298294745, 'gamma': 'scale', 'degree': 1}. Best is trial 16 with value: 22.918137451128256.\u001b[0m\n",
      "C:\\Users\\Hasan Zein\\AppData\\Local\\Programs\\Python\\Python39\\lib\\site-packages\\optuna\\distributions.py:560: UserWarning: The distribution is specified by [0.2, 0.9] and step=1, but the range is not divisible by `step`. It will be replaced by [0.2, 0.2].\n",
      "  warnings.warn(\n",
      "\u001b[32m[I 2022-06-02 16:13:28,944]\u001b[0m Trial 18 finished with value: 23.28739274667215 and parameters: {'classifier': 'RandomForestRegressor', 'bootstrap': False, 'ccp': 0, 'max_depth': 11, 'max_features': 'sqrt', ' n_estimators': 96, 'min_samples_split': 12}. Best is trial 16 with value: 22.918137451128256.\u001b[0m\n",
      "\u001b[32m[I 2022-06-02 16:13:29,266]\u001b[0m Trial 19 finished with value: 22.92231844812535 and parameters: {'classifier': 'SVR', 'kernel': 'rbf', 'C': 2.9394392331988555, 'gamma': 'scale', 'degree': 1}. Best is trial 16 with value: 22.918137451128256.\u001b[0m\n",
      "\u001b[32m[I 2022-06-02 16:13:29,608]\u001b[0m Trial 20 finished with value: 23.637750975206792 and parameters: {'classifier': 'SVR', 'kernel': 'rbf', 'C': 1.828068233484081, 'gamma': 'auto', 'degree': 1}. Best is trial 16 with value: 22.918137451128256.\u001b[0m\n",
      "\u001b[32m[I 2022-06-02 16:13:29,921]\u001b[0m Trial 21 finished with value: 22.919948527689986 and parameters: {'classifier': 'SVR', 'kernel': 'rbf', 'C': 2.9572071189430074, 'gamma': 'scale', 'degree': 1}. Best is trial 16 with value: 22.918137451128256.\u001b[0m\n",
      "\u001b[32m[I 2022-06-02 16:13:30,246]\u001b[0m Trial 22 finished with value: 23.000337463748924 and parameters: {'classifier': 'SVR', 'kernel': 'rbf', 'C': 2.4508774795408366, 'gamma': 'scale', 'degree': 1}. Best is trial 16 with value: 22.918137451128256.\u001b[0m\n",
      "\u001b[32m[I 2022-06-02 16:13:30,558]\u001b[0m Trial 23 finished with value: 22.923938476228308 and parameters: {'classifier': 'SVR', 'kernel': 'rbf', 'C': 2.927672276597667, 'gamma': 'scale', 'degree': 1}. Best is trial 16 with value: 22.918137451128256.\u001b[0m\n",
      "\u001b[32m[I 2022-06-02 16:13:30,897]\u001b[0m Trial 24 finished with value: 23.03191833733373 and parameters: {'classifier': 'SVR', 'kernel': 'rbf', 'C': 2.2689107428445108, 'gamma': 'scale', 'degree': 1}. Best is trial 16 with value: 22.918137451128256.\u001b[0m\n",
      "\u001b[32m[I 2022-06-02 16:13:31,224]\u001b[0m Trial 25 finished with value: 22.969995672001673 and parameters: {'classifier': 'SVR', 'kernel': 'rbf', 'C': 2.6149282134667704, 'gamma': 'scale', 'degree': 2}. Best is trial 16 with value: 22.918137451128256.\u001b[0m\n"
     ]
    },
    {
     "name": "stderr",
     "output_type": "stream",
     "text": [
      "C:\\Users\\Hasan Zein\\AppData\\Local\\Programs\\Python\\Python39\\lib\\site-packages\\optuna\\distributions.py:560: UserWarning: The distribution is specified by [0.2, 0.9] and step=1, but the range is not divisible by `step`. It will be replaced by [0.2, 0.2].\n",
      "  warnings.warn(\n",
      "\u001b[32m[I 2022-06-02 16:13:36,003]\u001b[0m Trial 26 finished with value: 24.242215568386804 and parameters: {'classifier': 'RandomForestRegressor', 'bootstrap': True, 'ccp': 0, 'max_depth': 56, 'max_features': 'auto', ' n_estimators': 198, 'min_samples_split': 12}. Best is trial 16 with value: 22.918137451128256.\u001b[0m\n",
      "\u001b[32m[I 2022-06-02 16:13:36,309]\u001b[0m Trial 27 finished with value: 23.114610582853413 and parameters: {'classifier': 'SVR', 'kernel': 'rbf', 'C': 1.9362157829033857, 'gamma': 'scale', 'degree': 1}. Best is trial 16 with value: 22.918137451128256.\u001b[0m\n",
      "\u001b[32m[I 2022-06-02 16:13:36,631]\u001b[0m Trial 28 finished with value: 22.919833757439903 and parameters: {'classifier': 'SVR', 'kernel': 'rbf', 'C': 2.958035170142947, 'gamma': 'scale', 'degree': 1}. Best is trial 16 with value: 22.918137451128256.\u001b[0m\n",
      "C:\\Users\\Hasan Zein\\AppData\\Local\\Programs\\Python\\Python39\\lib\\site-packages\\optuna\\distributions.py:560: UserWarning: The distribution is specified by [0.2, 0.9] and step=1, but the range is not divisible by `step`. It will be replaced by [0.2, 0.2].\n",
      "  warnings.warn(\n",
      "\u001b[32m[I 2022-06-02 16:13:38,837]\u001b[0m Trial 29 finished with value: 26.40395722967935 and parameters: {'classifier': 'RandomForestRegressor', 'bootstrap': True, 'ccp': 0, 'max_depth': 64, 'max_features': 'auto', ' n_estimators': 88, 'min_samples_split': 2}. Best is trial 16 with value: 22.918137451128256.\u001b[0m\n",
      "\u001b[32m[I 2022-06-02 16:13:39,155]\u001b[0m Trial 30 finished with value: 23.72176844838092 and parameters: {'classifier': 'SVR', 'kernel': 'rbf', 'C': 1.679920226497733, 'gamma': 'auto', 'degree': 2}. Best is trial 16 with value: 22.918137451128256.\u001b[0m\n",
      "\u001b[32m[I 2022-06-02 16:13:39,468]\u001b[0m Trial 31 finished with value: 22.929937302024378 and parameters: {'classifier': 'SVR', 'kernel': 'rbf', 'C': 2.882832263822202, 'gamma': 'scale', 'degree': 1}. Best is trial 16 with value: 22.918137451128256.\u001b[0m\n",
      "\u001b[32m[I 2022-06-02 16:13:39,779]\u001b[0m Trial 32 finished with value: 22.91821020194579 and parameters: {'classifier': 'SVR', 'kernel': 'rbf', 'C': 2.9700731591916623, 'gamma': 'scale', 'degree': 1}. Best is trial 16 with value: 22.918137451128256.\u001b[0m\n",
      "\u001b[32m[I 2022-06-02 16:13:40,109]\u001b[0m Trial 33 finished with value: 22.976461972088867 and parameters: {'classifier': 'SVR', 'kernel': 'rbf', 'C': 2.5850293312614463, 'gamma': 'scale', 'degree': 1}. Best is trial 16 with value: 22.918137451128256.\u001b[0m\n",
      "\u001b[32m[I 2022-06-02 16:13:40,424]\u001b[0m Trial 34 finished with value: 22.999255497887127 and parameters: {'classifier': 'SVR', 'kernel': 'rbf', 'C': 2.4574159732549425, 'gamma': 'scale', 'degree': 1}. Best is trial 16 with value: 22.918137451128256.\u001b[0m\n",
      "\u001b[32m[I 2022-06-02 16:13:40,624]\u001b[0m Trial 35 finished with value: 23.047309657157022 and parameters: {'classifier': 'SVR', 'kernel': 'poly', 'C': 2.993703487993203, 'gamma': 'scale', 'degree': 1}. Best is trial 16 with value: 22.918137451128256.\u001b[0m\n",
      "\u001b[32m[I 2022-06-02 16:13:40,927]\u001b[0m Trial 36 finished with value: 29.950889246152496 and parameters: {'classifier': 'SVR', 'kernel': 'sigmoid', 'C': 2.701866245990658, 'gamma': 'scale', 'degree': 1}. Best is trial 16 with value: 22.918137451128256.\u001b[0m\n",
      "\u001b[32m[I 2022-06-02 16:13:41,169]\u001b[0m Trial 37 finished with value: 24.00687337154799 and parameters: {'classifier': 'SVR', 'kernel': 'sigmoid', 'C': 2.243347648990921, 'gamma': 'auto', 'degree': 2}. Best is trial 16 with value: 22.918137451128256.\u001b[0m\n",
      "\u001b[32m[I 2022-06-02 16:13:41,486]\u001b[0m Trial 38 finished with value: 23.351230476260547 and parameters: {'classifier': 'SVR', 'kernel': 'rbf', 'C': 1.2407762879486688, 'gamma': 'scale', 'degree': 1}. Best is trial 16 with value: 22.918137451128256.\u001b[0m\n",
      "\u001b[32m[I 2022-06-02 16:13:41,808]\u001b[0m Trial 39 finished with value: 22.953249604443084 and parameters: {'classifier': 'SVR', 'kernel': 'rbf', 'C': 2.7152150432265074, 'gamma': 'scale', 'degree': 2}. Best is trial 16 with value: 22.918137451128256.\u001b[0m\n",
      "\u001b[32m[I 2022-06-02 16:13:42,106]\u001b[0m Trial 40 finished with value: 22.981749520702465 and parameters: {'classifier': 'SVR', 'kernel': 'rbf', 'C': 2.556791536079059, 'gamma': 'scale', 'degree': 1}. Best is trial 16 with value: 22.918137451128256.\u001b[0m\n",
      "\u001b[32m[I 2022-06-02 16:13:42,449]\u001b[0m Trial 41 finished with value: 22.916836463552436 and parameters: {'classifier': 'SVR', 'kernel': 'rbf', 'C': 2.980513653291165, 'gamma': 'scale', 'degree': 1}. Best is trial 41 with value: 22.916836463552436.\u001b[0m\n",
      "\u001b[32m[I 2022-06-02 16:13:42,746]\u001b[0m Trial 42 finished with value: 22.94282055297584 and parameters: {'classifier': 'SVR', 'kernel': 'rbf', 'C': 2.7843250662078343, 'gamma': 'scale', 'degree': 1}. Best is trial 41 with value: 22.916836463552436.\u001b[0m\n",
      "\u001b[32m[I 2022-06-02 16:13:43,053]\u001b[0m Trial 43 finished with value: 30.52543165497775 and parameters: {'classifier': 'SVR', 'kernel': 'sigmoid', 'C': 2.7743327820273107, 'gamma': 'scale', 'degree': 1}. Best is trial 41 with value: 22.916836463552436.\u001b[0m\n",
      "\u001b[32m[I 2022-06-02 16:13:43,381]\u001b[0m Trial 44 finished with value: 22.91624407172668 and parameters: {'classifier': 'SVR', 'kernel': 'rbf', 'C': 2.9850297508987684, 'gamma': 'scale', 'degree': 1}. Best is trial 44 with value: 22.91624407172668.\u001b[0m\n",
      "\u001b[32m[I 2022-06-02 16:13:43,729]\u001b[0m Trial 45 finished with value: 23.42909295232157 and parameters: {'classifier': 'SVR', 'kernel': 'rbf', 'C': 2.4380503164113234, 'gamma': 'auto', 'degree': 2}. Best is trial 44 with value: 22.91624407172668.\u001b[0m\n",
      "\u001b[32m[I 2022-06-02 16:13:43,921]\u001b[0m Trial 46 finished with value: 23.06628833674139 and parameters: {'classifier': 'SVR', 'kernel': 'poly', 'C': 2.634365450561951, 'gamma': 'scale', 'degree': 1}. Best is trial 44 with value: 22.91624407172668.\u001b[0m\n",
      "C:\\Users\\Hasan Zein\\AppData\\Local\\Programs\\Python\\Python39\\lib\\site-packages\\optuna\\distributions.py:560: UserWarning: The distribution is specified by [0.2, 0.9] and step=1, but the range is not divisible by `step`. It will be replaced by [0.2, 0.2].\n",
      "  warnings.warn(\n",
      "\u001b[32m[I 2022-06-02 16:13:45,604]\u001b[0m Trial 47 finished with value: 23.74106269376076 and parameters: {'classifier': 'RandomForestRegressor', 'bootstrap': False, 'ccp': 0, 'max_depth': 36, 'max_features': 'sqrt', ' n_estimators': 144, 'min_samples_split': 16}. Best is trial 44 with value: 22.91624407172668.\u001b[0m\n",
      "\u001b[32m[I 2022-06-02 16:13:45,932]\u001b[0m Trial 48 finished with value: 22.941059260512368 and parameters: {'classifier': 'SVR', 'kernel': 'rbf', 'C': 2.796198223016224, 'gamma': 'scale', 'degree': 1}. Best is trial 44 with value: 22.91624407172668.\u001b[0m\n",
      "\u001b[32m[I 2022-06-02 16:13:46,268]\u001b[0m Trial 49 finished with value: 23.360657510143504 and parameters: {'classifier': 'SVR', 'kernel': 'rbf', 'C': 1.2224620923048182, 'gamma': 'scale', 'degree': 1}. Best is trial 44 with value: 22.91624407172668.\u001b[0m\n",
      "\u001b[32m[I 2022-06-02 16:13:46,580]\u001b[0m Trial 50 finished with value: 23.404630354406816 and parameters: {'classifier': 'SVR', 'kernel': 'rbf', 'C': 2.5427464703435945, 'gamma': 'auto', 'degree': 2}. Best is trial 44 with value: 22.91624407172668.\u001b[0m\n",
      "\u001b[32m[I 2022-06-02 16:13:46,885]\u001b[0m Trial 51 finished with value: 22.914834105609394 and parameters: {'classifier': 'SVR', 'kernel': 'rbf', 'C': 2.9959414501219657, 'gamma': 'scale', 'degree': 1}. Best is trial 51 with value: 22.914834105609394.\u001b[0m\n",
      "\u001b[32m[I 2022-06-02 16:13:47,193]\u001b[0m Trial 52 finished with value: 22.93662757958138 and parameters: {'classifier': 'SVR', 'kernel': 'rbf', 'C': 2.8285345116732756, 'gamma': 'scale', 'degree': 1}. Best is trial 51 with value: 22.914834105609394.\u001b[0m\n",
      "\u001b[32m[I 2022-06-02 16:13:47,513]\u001b[0m Trial 53 finished with value: 22.915875978754663 and parameters: {'classifier': 'SVR', 'kernel': 'rbf', 'C': 2.987766033455945, 'gamma': 'scale', 'degree': 1}. Best is trial 51 with value: 22.914834105609394.\u001b[0m\n",
      "\u001b[32m[I 2022-06-02 16:13:47,714]\u001b[0m Trial 54 finished with value: 22.93482326441652 and parameters: {'classifier': 'SVR', 'kernel': 'linear', 'C': 2.9958486857617377, 'gamma': 'scale', 'degree': 3}. Best is trial 51 with value: 22.914834105609394.\u001b[0m\n"
     ]
    },
    {
     "name": "stderr",
     "output_type": "stream",
     "text": [
      "C:\\Users\\Hasan Zein\\AppData\\Local\\Programs\\Python\\Python39\\lib\\site-packages\\optuna\\distributions.py:560: UserWarning: The distribution is specified by [0.2, 0.9] and step=1, but the range is not divisible by `step`. It will be replaced by [0.2, 0.2].\n",
      "  warnings.warn(\n",
      "\u001b[32m[I 2022-06-02 16:13:48,052]\u001b[0m Trial 55 finished with value: 23.923018349950148 and parameters: {'classifier': 'RandomForestRegressor', 'bootstrap': True, 'ccp': 0, 'max_depth': 76, 'max_features': 'sqrt', ' n_estimators': 55, 'min_samples_split': 8}. Best is trial 51 with value: 22.914834105609394.\u001b[0m\n",
      "\u001b[32m[I 2022-06-02 16:13:48,368]\u001b[0m Trial 56 finished with value: 22.949075027987202 and parameters: {'classifier': 'SVR', 'kernel': 'rbf', 'C': 2.7430070233726096, 'gamma': 'scale', 'degree': 1}. Best is trial 51 with value: 22.914834105609394.\u001b[0m\n",
      "\u001b[32m[I 2022-06-02 16:13:48,568]\u001b[0m Trial 57 finished with value: 23.185631239300385 and parameters: {'classifier': 'SVR', 'kernel': 'poly', 'C': 1.5848766494429225, 'gamma': 'scale', 'degree': 1}. Best is trial 51 with value: 22.914834105609394.\u001b[0m\n",
      "\u001b[32m[I 2022-06-02 16:13:48,877]\u001b[0m Trial 58 finished with value: 27.918164994503417 and parameters: {'classifier': 'SVR', 'kernel': 'sigmoid', 'C': 2.3536166156722813, 'gamma': 'scale', 'degree': 1}. Best is trial 51 with value: 22.914834105609394.\u001b[0m\n",
      "\u001b[32m[I 2022-06-02 16:13:49,218]\u001b[0m Trial 59 finished with value: 22.933697792339608 and parameters: {'classifier': 'SVR', 'kernel': 'rbf', 'C': 2.851970643044894, 'gamma': 'scale', 'degree': 1}. Best is trial 51 with value: 22.914834105609394.\u001b[0m\n",
      "\u001b[32m[I 2022-06-02 16:13:49,531]\u001b[0m Trial 60 finished with value: 22.958288385045552 and parameters: {'classifier': 'SVR', 'kernel': 'rbf', 'C': 2.6770862738679053, 'gamma': 'scale', 'degree': 1}. Best is trial 51 with value: 22.914834105609394.\u001b[0m\n",
      "\u001b[32m[I 2022-06-02 16:13:49,867]\u001b[0m Trial 61 finished with value: 22.91582876014994 and parameters: {'classifier': 'SVR', 'kernel': 'rbf', 'C': 2.9881979690145695, 'gamma': 'scale', 'degree': 1}. Best is trial 51 with value: 22.914834105609394.\u001b[0m\n",
      "\u001b[32m[I 2022-06-02 16:13:50,181]\u001b[0m Trial 62 finished with value: 22.93289772189225 and parameters: {'classifier': 'SVR', 'kernel': 'rbf', 'C': 2.8587694996081083, 'gamma': 'scale', 'degree': 1}. Best is trial 51 with value: 22.914834105609394.\u001b[0m\n",
      "\u001b[32m[I 2022-06-02 16:13:50,498]\u001b[0m Trial 63 finished with value: 22.91467080445442 and parameters: {'classifier': 'SVR', 'kernel': 'rbf', 'C': 2.9970471410671515, 'gamma': 'scale', 'degree': 1}. Best is trial 63 with value: 22.91467080445442.\u001b[0m\n",
      "\u001b[32m[I 2022-06-02 16:13:50,701]\u001b[0m Trial 64 finished with value: 22.936009716989055 and parameters: {'classifier': 'SVR', 'kernel': 'linear', 'C': 2.684011698593448, 'gamma': 'scale', 'degree': 1}. Best is trial 63 with value: 22.91467080445442.\u001b[0m\n",
      "C:\\Users\\Hasan Zein\\AppData\\Local\\Programs\\Python\\Python39\\lib\\site-packages\\optuna\\distributions.py:560: UserWarning: The distribution is specified by [0.2, 0.9] and step=1, but the range is not divisible by `step`. It will be replaced by [0.2, 0.2].\n",
      "  warnings.warn(\n",
      "\u001b[32m[I 2022-06-02 16:13:59,187]\u001b[0m Trial 65 finished with value: 27.975353387580178 and parameters: {'classifier': 'RandomForestRegressor', 'bootstrap': False, 'ccp': 0, 'max_depth': 31, 'max_features': 'auto', ' n_estimators': 154, 'min_samples_split': 15}. Best is trial 63 with value: 22.91467080445442.\u001b[0m\n",
      "\u001b[32m[I 2022-06-02 16:13:59,494]\u001b[0m Trial 66 finished with value: 22.938759373787814 and parameters: {'classifier': 'SVR', 'kernel': 'rbf', 'C': 2.8118280175153285, 'gamma': 'scale', 'degree': 1}. Best is trial 63 with value: 22.91467080445442.\u001b[0m\n",
      "\u001b[32m[I 2022-06-02 16:13:59,805]\u001b[0m Trial 67 finished with value: 22.930826509587227 and parameters: {'classifier': 'SVR', 'kernel': 'rbf', 'C': 2.8754154907080838, 'gamma': 'scale', 'degree': 1}. Best is trial 63 with value: 22.91467080445442.\u001b[0m\n",
      "\u001b[32m[I 2022-06-02 16:14:00,125]\u001b[0m Trial 68 finished with value: 22.914883963327675 and parameters: {'classifier': 'SVR', 'kernel': 'rbf', 'C': 2.9955947328611687, 'gamma': 'scale', 'degree': 1}. Best is trial 63 with value: 22.91467080445442.\u001b[0m\n",
      "\u001b[32m[I 2022-06-02 16:14:00,438]\u001b[0m Trial 69 finished with value: 23.40632754952562 and parameters: {'classifier': 'SVR', 'kernel': 'rbf', 'C': 2.534903229107908, 'gamma': 'auto', 'degree': 1}. Best is trial 63 with value: 22.91467080445442.\u001b[0m\n",
      "\u001b[32m[I 2022-06-02 16:14:00,757]\u001b[0m Trial 70 finished with value: 22.91509863766759 and parameters: {'classifier': 'SVR', 'kernel': 'rbf', 'C': 2.9940265648830438, 'gamma': 'scale', 'degree': 3}. Best is trial 63 with value: 22.91467080445442.\u001b[0m\n",
      "\u001b[32m[I 2022-06-02 16:14:01,087]\u001b[0m Trial 71 finished with value: 22.914993808227727 and parameters: {'classifier': 'SVR', 'kernel': 'rbf', 'C': 2.994832546476929, 'gamma': 'scale', 'degree': 3}. Best is trial 63 with value: 22.91467080445442.\u001b[0m\n",
      "\u001b[32m[I 2022-06-02 16:14:01,414]\u001b[0m Trial 72 finished with value: 22.931795331991186 and parameters: {'classifier': 'SVR', 'kernel': 'rbf', 'C': 2.867763798089542, 'gamma': 'scale', 'degree': 3}. Best is trial 63 with value: 22.91467080445442.\u001b[0m\n",
      "\u001b[32m[I 2022-06-02 16:14:01,733]\u001b[0m Trial 73 finished with value: 22.952113419280767 and parameters: {'classifier': 'SVR', 'kernel': 'rbf', 'C': 2.7228643956781378, 'gamma': 'scale', 'degree': 3}. Best is trial 63 with value: 22.91467080445442.\u001b[0m\n",
      "\u001b[32m[I 2022-06-02 16:14:02,043]\u001b[0m Trial 74 finished with value: 22.92796947491835 and parameters: {'classifier': 'SVR', 'kernel': 'rbf', 'C': 2.897892170739175, 'gamma': 'scale', 'degree': 3}. Best is trial 63 with value: 22.91467080445442.\u001b[0m\n",
      "\u001b[32m[I 2022-06-02 16:14:02,353]\u001b[0m Trial 75 finished with value: 22.916083741712633 and parameters: {'classifier': 'SVR', 'kernel': 'rbf', 'C': 2.986316134111949, 'gamma': 'scale', 'degree': 3}. Best is trial 63 with value: 22.91467080445442.\u001b[0m\n",
      "\u001b[32m[I 2022-06-02 16:14:02,665]\u001b[0m Trial 76 finished with value: 22.967006219267187 and parameters: {'classifier': 'SVR', 'kernel': 'rbf', 'C': 2.628894825230754, 'gamma': 'scale', 'degree': 3}. Best is trial 63 with value: 22.91467080445442.\u001b[0m\n",
      "\u001b[32m[I 2022-06-02 16:14:02,887]\u001b[0m Trial 77 finished with value: 22.936627965550493 and parameters: {'classifier': 'SVR', 'kernel': 'linear', 'C': 2.805560168437202, 'gamma': 'scale', 'degree': 3}. Best is trial 63 with value: 22.91467080445442.\u001b[0m\n",
      "C:\\Users\\Hasan Zein\\AppData\\Local\\Programs\\Python\\Python39\\lib\\site-packages\\optuna\\distributions.py:560: UserWarning: The distribution is specified by [0.2, 0.9] and step=1, but the range is not divisible by `step`. It will be replaced by [0.2, 0.2].\n",
      "  warnings.warn(\n",
      "\u001b[32m[I 2022-06-02 16:14:03,663]\u001b[0m Trial 78 finished with value: 25.888899574674202 and parameters: {'classifier': 'RandomForestRegressor', 'bootstrap': False, 'ccp': 0, 'max_depth': 84, 'max_features': 'sqrt', ' n_estimators': 61, 'min_samples_split': 6}. Best is trial 63 with value: 22.91467080445442.\u001b[0m\n",
      "\u001b[32m[I 2022-06-02 16:14:03,885]\u001b[0m Trial 79 finished with value: 22.859563415567045 and parameters: {'classifier': 'SVR', 'kernel': 'poly', 'C': 2.0470275369424145, 'gamma': 'scale', 'degree': 3}. Best is trial 79 with value: 22.859563415567045.\u001b[0m\n",
      "\u001b[32m[I 2022-06-02 16:14:04,090]\u001b[0m Trial 80 finished with value: 22.858799132111205 and parameters: {'classifier': 'SVR', 'kernel': 'poly', 'C': 2.0598577432254723, 'gamma': 'scale', 'degree': 3}. Best is trial 80 with value: 22.858799132111205.\u001b[0m\n",
      "\u001b[32m[I 2022-06-02 16:14:04,306]\u001b[0m Trial 81 finished with value: 22.864713580489955 and parameters: {'classifier': 'SVR', 'kernel': 'poly', 'C': 1.9465421194548977, 'gamma': 'scale', 'degree': 3}. Best is trial 80 with value: 22.858799132111205.\u001b[0m\n",
      "\u001b[32m[I 2022-06-02 16:14:04,519]\u001b[0m Trial 82 finished with value: 22.860281938047528 and parameters: {'classifier': 'SVR', 'kernel': 'poly', 'C': 2.0353360833817775, 'gamma': 'scale', 'degree': 3}. Best is trial 80 with value: 22.858799132111205.\u001b[0m\n",
      "\u001b[32m[I 2022-06-02 16:14:04,749]\u001b[0m Trial 83 finished with value: 22.86127200171771 and parameters: {'classifier': 'SVR', 'kernel': 'poly', 'C': 2.0109193542647854, 'gamma': 'scale', 'degree': 3}. Best is trial 80 with value: 22.858799132111205.\u001b[0m\n"
     ]
    },
    {
     "name": "stderr",
     "output_type": "stream",
     "text": [
      "\u001b[32m[I 2022-06-02 16:14:04,973]\u001b[0m Trial 84 finished with value: 22.860632878466184 and parameters: {'classifier': 'SVR', 'kernel': 'poly', 'C': 2.0261683649938163, 'gamma': 'scale', 'degree': 3}. Best is trial 80 with value: 22.858799132111205.\u001b[0m\n",
      "\u001b[32m[I 2022-06-02 16:14:05,192]\u001b[0m Trial 85 finished with value: 22.860534584553683 and parameters: {'classifier': 'SVR', 'kernel': 'poly', 'C': 2.0286831258587537, 'gamma': 'scale', 'degree': 3}. Best is trial 80 with value: 22.858799132111205.\u001b[0m\n",
      "\u001b[32m[I 2022-06-02 16:14:05,409]\u001b[0m Trial 86 finished with value: 22.859940085791077 and parameters: {'classifier': 'SVR', 'kernel': 'poly', 'C': 2.0422389446825107, 'gamma': 'scale', 'degree': 3}. Best is trial 80 with value: 22.858799132111205.\u001b[0m\n",
      "\u001b[32m[I 2022-06-02 16:14:05,633]\u001b[0m Trial 87 finished with value: 27.40109860313246 and parameters: {'classifier': 'SVR', 'kernel': 'poly', 'C': 2.0171926725239753, 'gamma': 'auto', 'degree': 3}. Best is trial 80 with value: 22.858799132111205.\u001b[0m\n",
      "\u001b[32m[I 2022-06-02 16:14:05,873]\u001b[0m Trial 88 finished with value: 22.86780777244149 and parameters: {'classifier': 'SVR', 'kernel': 'poly', 'C': 1.8491459524748264, 'gamma': 'scale', 'degree': 3}. Best is trial 80 with value: 22.858799132111205.\u001b[0m\n",
      "\u001b[32m[I 2022-06-02 16:14:06,082]\u001b[0m Trial 89 finished with value: 22.867686666967604 and parameters: {'classifier': 'SVR', 'kernel': 'poly', 'C': 1.851804708278473, 'gamma': 'scale', 'degree': 3}. Best is trial 80 with value: 22.858799132111205.\u001b[0m\n",
      "\u001b[32m[I 2022-06-02 16:14:06,297]\u001b[0m Trial 90 finished with value: 22.862977357837842 and parameters: {'classifier': 'SVR', 'kernel': 'poly', 'C': 1.975934059907407, 'gamma': 'scale', 'degree': 3}. Best is trial 80 with value: 22.858799132111205.\u001b[0m\n",
      "\u001b[32m[I 2022-06-02 16:14:06,520]\u001b[0m Trial 91 finished with value: 22.855826409289833 and parameters: {'classifier': 'SVR', 'kernel': 'poly', 'C': 2.1335166405473664, 'gamma': 'scale', 'degree': 3}. Best is trial 91 with value: 22.855826409289833.\u001b[0m\n",
      "\u001b[32m[I 2022-06-02 16:14:06,726]\u001b[0m Trial 92 finished with value: 22.856761590987606 and parameters: {'classifier': 'SVR', 'kernel': 'poly', 'C': 2.09979737265813, 'gamma': 'scale', 'degree': 3}. Best is trial 91 with value: 22.855826409289833.\u001b[0m\n",
      "\u001b[32m[I 2022-06-02 16:14:06,956]\u001b[0m Trial 93 finished with value: 22.854939153828706 and parameters: {'classifier': 'SVR', 'kernel': 'poly', 'C': 2.149323166101012, 'gamma': 'scale', 'degree': 3}. Best is trial 93 with value: 22.854939153828706.\u001b[0m\n",
      "\u001b[32m[I 2022-06-02 16:14:07,172]\u001b[0m Trial 94 finished with value: 22.85600777729375 and parameters: {'classifier': 'SVR', 'kernel': 'poly', 'C': 2.1273445834163125, 'gamma': 'scale', 'degree': 3}. Best is trial 93 with value: 22.854939153828706.\u001b[0m\n",
      "\u001b[32m[I 2022-06-02 16:14:07,392]\u001b[0m Trial 95 finished with value: 22.856307690643337 and parameters: {'classifier': 'SVR', 'kernel': 'poly', 'C': 2.117057683213737, 'gamma': 'scale', 'degree': 3}. Best is trial 93 with value: 22.854939153828706.\u001b[0m\n",
      "\u001b[32m[I 2022-06-02 16:14:07,600]\u001b[0m Trial 96 finished with value: 22.855894593339254 and parameters: {'classifier': 'SVR', 'kernel': 'poly', 'C': 2.1315690113867176, 'gamma': 'scale', 'degree': 3}. Best is trial 93 with value: 22.854939153828706.\u001b[0m\n",
      "C:\\Users\\Hasan Zein\\AppData\\Local\\Programs\\Python\\Python39\\lib\\site-packages\\optuna\\distributions.py:560: UserWarning: The distribution is specified by [0.2, 0.9] and step=1, but the range is not divisible by `step`. It will be replaced by [0.2, 0.2].\n",
      "  warnings.warn(\n",
      "\u001b[32m[I 2022-06-02 16:14:11,696]\u001b[0m Trial 97 finished with value: 24.42381036960178 and parameters: {'classifier': 'RandomForestRegressor', 'bootstrap': True, 'ccp': 0, 'max_depth': 30, 'max_features': 'auto', ' n_estimators': 170, 'min_samples_split': 10}. Best is trial 93 with value: 22.854939153828706.\u001b[0m\n",
      "\u001b[32m[I 2022-06-02 16:14:11,917]\u001b[0m Trial 98 finished with value: 22.855892869312036 and parameters: {'classifier': 'SVR', 'kernel': 'poly', 'C': 2.1311511806415675, 'gamma': 'scale', 'degree': 3}. Best is trial 93 with value: 22.854939153828706.\u001b[0m\n",
      "\u001b[32m[I 2022-06-02 16:14:12,137]\u001b[0m Trial 99 finished with value: 22.856257840857456 and parameters: {'classifier': 'SVR', 'kernel': 'poly', 'C': 2.119174886194873, 'gamma': 'scale', 'degree': 3}. Best is trial 93 with value: 22.854939153828706.\u001b[0m\n",
      "\u001b[32m[I 2022-06-02 16:14:12,362]\u001b[0m Trial 100 finished with value: 22.855496484931727 and parameters: {'classifier': 'SVR', 'kernel': 'poly', 'C': 2.140306073461115, 'gamma': 'scale', 'degree': 3}. Best is trial 93 with value: 22.854939153828706.\u001b[0m\n",
      "\u001b[32m[I 2022-06-02 16:14:12,589]\u001b[0m Trial 101 finished with value: 22.855810078867002 and parameters: {'classifier': 'SVR', 'kernel': 'poly', 'C': 2.134283607283278, 'gamma': 'scale', 'degree': 3}. Best is trial 93 with value: 22.854939153828706.\u001b[0m\n",
      "\u001b[32m[I 2022-06-02 16:14:12,799]\u001b[0m Trial 102 finished with value: 22.855598765371116 and parameters: {'classifier': 'SVR', 'kernel': 'poly', 'C': 2.1383872165268416, 'gamma': 'scale', 'degree': 3}. Best is trial 93 with value: 22.854939153828706.\u001b[0m\n",
      "\u001b[32m[I 2022-06-02 16:14:13,015]\u001b[0m Trial 103 finished with value: 22.855231743797646 and parameters: {'classifier': 'SVR', 'kernel': 'poly', 'C': 2.1447723505308907, 'gamma': 'scale', 'degree': 3}. Best is trial 93 with value: 22.854939153828706.\u001b[0m\n",
      "\u001b[32m[I 2022-06-02 16:14:13,222]\u001b[0m Trial 104 finished with value: 22.850064973768617 and parameters: {'classifier': 'SVR', 'kernel': 'poly', 'C': 2.2516923361516663, 'gamma': 'scale', 'degree': 3}. Best is trial 104 with value: 22.850064973768617.\u001b[0m\n",
      "\u001b[32m[I 2022-06-02 16:14:13,438]\u001b[0m Trial 105 finished with value: 22.85295744418976 and parameters: {'classifier': 'SVR', 'kernel': 'poly', 'C': 2.194297880387129, 'gamma': 'scale', 'degree': 3}. Best is trial 104 with value: 22.850064973768617.\u001b[0m\n",
      "\u001b[32m[I 2022-06-02 16:14:13,647]\u001b[0m Trial 106 finished with value: 27.266551768611105 and parameters: {'classifier': 'SVR', 'kernel': 'poly', 'C': 2.2159717641913774, 'gamma': 'auto', 'degree': 3}. Best is trial 104 with value: 22.850064973768617.\u001b[0m\n",
      "\u001b[32m[I 2022-06-02 16:14:13,865]\u001b[0m Trial 107 finished with value: 22.848204863595765 and parameters: {'classifier': 'SVR', 'kernel': 'poly', 'C': 2.306670881025457, 'gamma': 'scale', 'degree': 3}. Best is trial 107 with value: 22.848204863595765.\u001b[0m\n",
      "\u001b[32m[I 2022-06-02 16:14:14,074]\u001b[0m Trial 108 finished with value: 22.847980680308275 and parameters: {'classifier': 'SVR', 'kernel': 'poly', 'C': 2.3138789546522456, 'gamma': 'scale', 'degree': 3}. Best is trial 108 with value: 22.847980680308275.\u001b[0m\n",
      "\u001b[32m[I 2022-06-02 16:14:14,289]\u001b[0m Trial 109 finished with value: 22.847775243083856 and parameters: {'classifier': 'SVR', 'kernel': 'poly', 'C': 2.3217437904655753, 'gamma': 'scale', 'degree': 3}. Best is trial 109 with value: 22.847775243083856.\u001b[0m\n",
      "\u001b[32m[I 2022-06-02 16:14:14,504]\u001b[0m Trial 110 finished with value: 22.847874430449806 and parameters: {'classifier': 'SVR', 'kernel': 'poly', 'C': 2.3180791769599347, 'gamma': 'scale', 'degree': 3}. Best is trial 109 with value: 22.847775243083856.\u001b[0m\n",
      "\u001b[32m[I 2022-06-02 16:14:14,715]\u001b[0m Trial 111 finished with value: 22.847825092582262 and parameters: {'classifier': 'SVR', 'kernel': 'poly', 'C': 2.3200083450516518, 'gamma': 'scale', 'degree': 3}. Best is trial 109 with value: 22.847775243083856.\u001b[0m\n",
      "\u001b[32m[I 2022-06-02 16:14:14,927]\u001b[0m Trial 112 finished with value: 22.849755483605755 and parameters: {'classifier': 'SVR', 'kernel': 'poly', 'C': 2.2573561466142102, 'gamma': 'scale', 'degree': 3}. Best is trial 109 with value: 22.847775243083856.\u001b[0m\n",
      "\u001b[32m[I 2022-06-02 16:14:15,149]\u001b[0m Trial 113 finished with value: 22.847640525367154 and parameters: {'classifier': 'SVR', 'kernel': 'poly', 'C': 2.3286393878593916, 'gamma': 'scale', 'degree': 3}. Best is trial 113 with value: 22.847640525367154.\u001b[0m\n",
      "\u001b[32m[I 2022-06-02 16:14:15,379]\u001b[0m Trial 114 finished with value: 22.84803238171711 and parameters: {'classifier': 'SVR', 'kernel': 'poly', 'C': 2.3124622257281486, 'gamma': 'scale', 'degree': 3}. Best is trial 113 with value: 22.847640525367154.\u001b[0m\n",
      "\u001b[32m[I 2022-06-02 16:14:15,589]\u001b[0m Trial 115 finished with value: 22.847653658867934 and parameters: {'classifier': 'SVR', 'kernel': 'poly', 'C': 2.3277396882230454, 'gamma': 'scale', 'degree': 3}. Best is trial 113 with value: 22.847640525367154.\u001b[0m\n"
     ]
    },
    {
     "name": "stderr",
     "output_type": "stream",
     "text": [
      "\u001b[32m[I 2022-06-02 16:14:15,816]\u001b[0m Trial 116 finished with value: 22.848064531061823 and parameters: {'classifier': 'SVR', 'kernel': 'poly', 'C': 2.3120682605950877, 'gamma': 'scale', 'degree': 3}. Best is trial 113 with value: 22.847640525367154.\u001b[0m\n",
      "\u001b[32m[I 2022-06-02 16:14:16,045]\u001b[0m Trial 117 finished with value: 22.847825351239397 and parameters: {'classifier': 'SVR', 'kernel': 'poly', 'C': 2.320064597657265, 'gamma': 'scale', 'degree': 3}. Best is trial 113 with value: 22.847640525367154.\u001b[0m\n",
      "C:\\Users\\Hasan Zein\\AppData\\Local\\Programs\\Python\\Python39\\lib\\site-packages\\optuna\\distributions.py:560: UserWarning: The distribution is specified by [0.2, 0.9] and step=1, but the range is not divisible by `step`. It will be replaced by [0.2, 0.2].\n",
      "  warnings.warn(\n",
      "\u001b[32m[I 2022-06-02 16:14:19,058]\u001b[0m Trial 118 finished with value: 25.47868906876175 and parameters: {'classifier': 'RandomForestRegressor', 'bootstrap': True, 'ccp': 0, 'max_depth': 72, 'max_features': 'auto', ' n_estimators': 119, 'min_samples_split': 5}. Best is trial 113 with value: 22.847640525367154.\u001b[0m\n",
      "\u001b[32m[I 2022-06-02 16:14:19,278]\u001b[0m Trial 119 finished with value: 22.848165657445414 and parameters: {'classifier': 'SVR', 'kernel': 'poly', 'C': 2.308217392894585, 'gamma': 'scale', 'degree': 3}. Best is trial 113 with value: 22.847640525367154.\u001b[0m\n",
      "\u001b[32m[I 2022-06-02 16:14:19,500]\u001b[0m Trial 120 finished with value: 22.84686539541597 and parameters: {'classifier': 'SVR', 'kernel': 'poly', 'C': 2.3717889002358588, 'gamma': 'scale', 'degree': 3}. Best is trial 120 with value: 22.84686539541597.\u001b[0m\n",
      "\u001b[32m[I 2022-06-02 16:14:19,728]\u001b[0m Trial 121 finished with value: 22.847572210413915 and parameters: {'classifier': 'SVR', 'kernel': 'poly', 'C': 2.3369871293153563, 'gamma': 'scale', 'degree': 3}. Best is trial 120 with value: 22.84686539541597.\u001b[0m\n",
      "\u001b[32m[I 2022-06-02 16:14:19,944]\u001b[0m Trial 122 finished with value: 22.84759465667407 and parameters: {'classifier': 'SVR', 'kernel': 'poly', 'C': 2.3357998713185406, 'gamma': 'scale', 'degree': 3}. Best is trial 120 with value: 22.84686539541597.\u001b[0m\n",
      "\u001b[32m[I 2022-06-02 16:14:20,161]\u001b[0m Trial 123 finished with value: 22.845941119427128 and parameters: {'classifier': 'SVR', 'kernel': 'poly', 'C': 2.409780367859806, 'gamma': 'scale', 'degree': 3}. Best is trial 123 with value: 22.845941119427128.\u001b[0m\n",
      "\u001b[32m[I 2022-06-02 16:14:20,392]\u001b[0m Trial 124 finished with value: 22.84599300075147 and parameters: {'classifier': 'SVR', 'kernel': 'poly', 'C': 2.408393563241694, 'gamma': 'scale', 'degree': 3}. Best is trial 123 with value: 22.845941119427128.\u001b[0m\n",
      "\u001b[32m[I 2022-06-02 16:14:20,707]\u001b[0m Trial 125 finished with value: 28.179449317073836 and parameters: {'classifier': 'SVR', 'kernel': 'sigmoid', 'C': 2.3861369404532047, 'gamma': 'scale', 'degree': 3}. Best is trial 123 with value: 22.845941119427128.\u001b[0m\n",
      "\u001b[32m[I 2022-06-02 16:14:20,924]\u001b[0m Trial 126 finished with value: 22.845114490603915 and parameters: {'classifier': 'SVR', 'kernel': 'poly', 'C': 2.4564050308579666, 'gamma': 'scale', 'degree': 3}. Best is trial 126 with value: 22.845114490603915.\u001b[0m\n",
      "\u001b[32m[I 2022-06-02 16:14:21,119]\u001b[0m Trial 127 finished with value: 27.085971549513097 and parameters: {'classifier': 'SVR', 'kernel': 'poly', 'C': 2.48508249944195, 'gamma': 'auto', 'degree': 3}. Best is trial 126 with value: 22.845114490603915.\u001b[0m\n",
      "\u001b[32m[I 2022-06-02 16:14:21,338]\u001b[0m Trial 128 finished with value: 22.846155115064736 and parameters: {'classifier': 'SVR', 'kernel': 'poly', 'C': 2.401804866639809, 'gamma': 'scale', 'degree': 3}. Best is trial 126 with value: 22.845114490603915.\u001b[0m\n",
      "\u001b[32m[I 2022-06-02 16:14:21,558]\u001b[0m Trial 129 finished with value: 22.846740953363156 and parameters: {'classifier': 'SVR', 'kernel': 'poly', 'C': 2.378825387751474, 'gamma': 'scale', 'degree': 3}. Best is trial 126 with value: 22.845114490603915.\u001b[0m\n",
      "\u001b[32m[I 2022-06-02 16:14:21,777]\u001b[0m Trial 130 finished with value: 22.84609634805944 and parameters: {'classifier': 'SVR', 'kernel': 'poly', 'C': 2.4040346145248668, 'gamma': 'scale', 'degree': 3}. Best is trial 126 with value: 22.845114490603915.\u001b[0m\n",
      "\u001b[32m[I 2022-06-02 16:14:21,985]\u001b[0m Trial 131 finished with value: 22.84572788852983 and parameters: {'classifier': 'SVR', 'kernel': 'poly', 'C': 2.419560471834774, 'gamma': 'scale', 'degree': 3}. Best is trial 126 with value: 22.845114490603915.\u001b[0m\n",
      "\u001b[32m[I 2022-06-02 16:14:22,203]\u001b[0m Trial 132 finished with value: 22.845626783543647 and parameters: {'classifier': 'SVR', 'kernel': 'poly', 'C': 2.4232097061138527, 'gamma': 'scale', 'degree': 3}. Best is trial 126 with value: 22.845114490603915.\u001b[0m\n",
      "\u001b[32m[I 2022-06-02 16:14:22,428]\u001b[0m Trial 133 finished with value: 22.846206468216128 and parameters: {'classifier': 'SVR', 'kernel': 'poly', 'C': 2.400354052989571, 'gamma': 'scale', 'degree': 3}. Best is trial 126 with value: 22.845114490603915.\u001b[0m\n",
      "\u001b[32m[I 2022-06-02 16:14:22,650]\u001b[0m Trial 134 finished with value: 22.846255817619674 and parameters: {'classifier': 'SVR', 'kernel': 'poly', 'C': 2.398098377370145, 'gamma': 'scale', 'degree': 3}. Best is trial 126 with value: 22.845114490603915.\u001b[0m\n",
      "\u001b[32m[I 2022-06-02 16:14:22,891]\u001b[0m Trial 135 finished with value: 22.845286509024273 and parameters: {'classifier': 'SVR', 'kernel': 'poly', 'C': 2.4447437066372473, 'gamma': 'scale', 'degree': 3}. Best is trial 126 with value: 22.845114490603915.\u001b[0m\n",
      "\u001b[32m[I 2022-06-02 16:14:23,117]\u001b[0m Trial 136 finished with value: 22.845519494205497 and parameters: {'classifier': 'SVR', 'kernel': 'poly', 'C': 2.4289100824532097, 'gamma': 'scale', 'degree': 3}. Best is trial 126 with value: 22.845114490603915.\u001b[0m\n",
      "\u001b[32m[I 2022-06-02 16:14:23,341]\u001b[0m Trial 137 finished with value: 22.845293197631513 and parameters: {'classifier': 'SVR', 'kernel': 'poly', 'C': 2.4440001438631636, 'gamma': 'scale', 'degree': 3}. Best is trial 126 with value: 22.845114490603915.\u001b[0m\n",
      "C:\\Users\\Hasan Zein\\AppData\\Local\\Programs\\Python\\Python39\\lib\\site-packages\\optuna\\distributions.py:560: UserWarning: The distribution is specified by [0.2, 0.9] and step=1, but the range is not divisible by `step`. It will be replaced by [0.2, 0.2].\n",
      "  warnings.warn(\n",
      "\u001b[32m[I 2022-06-02 16:14:24,224]\u001b[0m Trial 138 finished with value: 23.812686590524663 and parameters: {'classifier': 'RandomForestRegressor', 'bootstrap': False, 'ccp': 0, 'max_depth': 45, 'max_features': 'sqrt', ' n_estimators': 70, 'min_samples_split': 15}. Best is trial 126 with value: 22.845114490603915.\u001b[0m\n",
      "\u001b[32m[I 2022-06-02 16:14:24,453]\u001b[0m Trial 139 finished with value: 22.936011381694826 and parameters: {'classifier': 'SVR', 'kernel': 'linear', 'C': 2.4202480243383673, 'gamma': 'scale', 'degree': 3}. Best is trial 126 with value: 22.845114490603915.\u001b[0m\n",
      "\u001b[32m[I 2022-06-02 16:14:24,669]\u001b[0m Trial 140 finished with value: 22.84389794878485 and parameters: {'classifier': 'SVR', 'kernel': 'poly', 'C': 2.504796375188202, 'gamma': 'scale', 'degree': 3}. Best is trial 140 with value: 22.84389794878485.\u001b[0m\n",
      "\u001b[32m[I 2022-06-02 16:14:24,895]\u001b[0m Trial 141 finished with value: 22.844048593493376 and parameters: {'classifier': 'SVR', 'kernel': 'poly', 'C': 2.498128350154623, 'gamma': 'scale', 'degree': 3}. Best is trial 140 with value: 22.84389794878485.\u001b[0m\n",
      "\u001b[32m[I 2022-06-02 16:14:25,102]\u001b[0m Trial 142 finished with value: 22.84336695369945 and parameters: {'classifier': 'SVR', 'kernel': 'poly', 'C': 2.5265896666402825, 'gamma': 'scale', 'degree': 3}. Best is trial 142 with value: 22.84336695369945.\u001b[0m\n",
      "\u001b[32m[I 2022-06-02 16:14:25,309]\u001b[0m Trial 143 finished with value: 22.844178310720363 and parameters: {'classifier': 'SVR', 'kernel': 'poly', 'C': 2.4932741212770893, 'gamma': 'scale', 'degree': 3}. Best is trial 142 with value: 22.84336695369945.\u001b[0m\n",
      "\u001b[32m[I 2022-06-02 16:14:25,534]\u001b[0m Trial 144 finished with value: 22.844145227025077 and parameters: {'classifier': 'SVR', 'kernel': 'poly', 'C': 2.4945540670354758, 'gamma': 'scale', 'degree': 3}. Best is trial 142 with value: 22.84336695369945.\u001b[0m\n",
      "\u001b[32m[I 2022-06-02 16:14:25,747]\u001b[0m Trial 145 finished with value: 22.8441903132466 and parameters: {'classifier': 'SVR', 'kernel': 'poly', 'C': 2.493085811869025, 'gamma': 'scale', 'degree': 3}. Best is trial 142 with value: 22.84336695369945.\u001b[0m\n"
     ]
    },
    {
     "name": "stderr",
     "output_type": "stream",
     "text": [
      "\u001b[32m[I 2022-06-02 16:14:26,034]\u001b[0m Trial 146 finished with value: 28.60253393067603 and parameters: {'classifier': 'SVR', 'kernel': 'sigmoid', 'C': 2.4763696032652076, 'gamma': 'scale', 'degree': 3}. Best is trial 142 with value: 22.84336695369945.\u001b[0m\n",
      "\u001b[32m[I 2022-06-02 16:14:26,246]\u001b[0m Trial 147 finished with value: 22.843095535424414 and parameters: {'classifier': 'SVR', 'kernel': 'poly', 'C': 2.5381571726848424, 'gamma': 'scale', 'degree': 3}. Best is trial 147 with value: 22.843095535424414.\u001b[0m\n",
      "\u001b[32m[I 2022-06-02 16:14:26,462]\u001b[0m Trial 148 finished with value: 22.84318953047359 and parameters: {'classifier': 'SVR', 'kernel': 'poly', 'C': 2.534127430013323, 'gamma': 'scale', 'degree': 3}. Best is trial 147 with value: 22.843095535424414.\u001b[0m\n",
      "\u001b[32m[I 2022-06-02 16:14:26,698]\u001b[0m Trial 149 finished with value: 22.8434500840322 and parameters: {'classifier': 'SVR', 'kernel': 'poly', 'C': 2.523398797515276, 'gamma': 'scale', 'degree': 3}. Best is trial 147 with value: 22.843095535424414.\u001b[0m\n",
      "\u001b[32m[I 2022-06-02 16:14:26,923]\u001b[0m Trial 150 finished with value: 27.0601875464947 and parameters: {'classifier': 'SVR', 'kernel': 'poly', 'C': 2.5252566397638456, 'gamma': 'auto', 'degree': 3}. Best is trial 147 with value: 22.843095535424414.\u001b[0m\n",
      "\u001b[32m[I 2022-06-02 16:14:27,146]\u001b[0m Trial 151 finished with value: 22.84208002624892 and parameters: {'classifier': 'SVR', 'kernel': 'poly', 'C': 2.576873006148784, 'gamma': 'scale', 'degree': 3}. Best is trial 151 with value: 22.84208002624892.\u001b[0m\n",
      "\u001b[32m[I 2022-06-02 16:14:27,366]\u001b[0m Trial 152 finished with value: 22.842019223511745 and parameters: {'classifier': 'SVR', 'kernel': 'poly', 'C': 2.580593218686563, 'gamma': 'scale', 'degree': 3}. Best is trial 152 with value: 22.842019223511745.\u001b[0m\n",
      "\u001b[32m[I 2022-06-02 16:14:27,585]\u001b[0m Trial 153 finished with value: 22.842123791888675 and parameters: {'classifier': 'SVR', 'kernel': 'poly', 'C': 2.575004491985489, 'gamma': 'scale', 'degree': 3}. Best is trial 152 with value: 22.842019223511745.\u001b[0m\n",
      "\u001b[32m[I 2022-06-02 16:14:27,808]\u001b[0m Trial 154 finished with value: 22.841879946016498 and parameters: {'classifier': 'SVR', 'kernel': 'poly', 'C': 2.5881802571340957, 'gamma': 'scale', 'degree': 3}. Best is trial 154 with value: 22.841879946016498.\u001b[0m\n",
      "\u001b[32m[I 2022-06-02 16:14:28,039]\u001b[0m Trial 155 finished with value: 22.84142212754903 and parameters: {'classifier': 'SVR', 'kernel': 'poly', 'C': 2.6124262224358685, 'gamma': 'scale', 'degree': 3}. Best is trial 155 with value: 22.84142212754903.\u001b[0m\n",
      "\u001b[32m[I 2022-06-02 16:14:28,255]\u001b[0m Trial 156 finished with value: 22.841899815936436 and parameters: {'classifier': 'SVR', 'kernel': 'poly', 'C': 2.587182652398064, 'gamma': 'scale', 'degree': 3}. Best is trial 155 with value: 22.84142212754903.\u001b[0m\n",
      "\u001b[32m[I 2022-06-02 16:14:28,491]\u001b[0m Trial 157 finished with value: 22.839797889691567 and parameters: {'classifier': 'SVR', 'kernel': 'poly', 'C': 2.584547835213853, 'gamma': 'scale', 'degree': 2}. Best is trial 157 with value: 22.839797889691567.\u001b[0m\n",
      "\u001b[32m[I 2022-06-02 16:14:28,697]\u001b[0m Trial 158 finished with value: 22.839819524376765 and parameters: {'classifier': 'SVR', 'kernel': 'poly', 'C': 2.5911861111506425, 'gamma': 'scale', 'degree': 2}. Best is trial 157 with value: 22.839797889691567.\u001b[0m\n",
      "\u001b[32m[I 2022-06-02 16:14:28,921]\u001b[0m Trial 159 finished with value: 22.839821011976415 and parameters: {'classifier': 'SVR', 'kernel': 'poly', 'C': 2.594393431298109, 'gamma': 'scale', 'degree': 2}. Best is trial 157 with value: 22.839797889691567.\u001b[0m\n",
      "\u001b[32m[I 2022-06-02 16:14:29,111]\u001b[0m Trial 160 finished with value: 22.936146313840688 and parameters: {'classifier': 'SVR', 'kernel': 'linear', 'C': 2.6115184412499106, 'gamma': 'scale', 'degree': 2}. Best is trial 157 with value: 22.839797889691567.\u001b[0m\n",
      "\u001b[32m[I 2022-06-02 16:14:29,332]\u001b[0m Trial 161 finished with value: 22.839785048488153 and parameters: {'classifier': 'SVR', 'kernel': 'poly', 'C': 2.5703291235633268, 'gamma': 'scale', 'degree': 2}. Best is trial 161 with value: 22.839785048488153.\u001b[0m\n",
      "\u001b[32m[I 2022-06-02 16:14:29,545]\u001b[0m Trial 162 finished with value: 22.83981674312407 and parameters: {'classifier': 'SVR', 'kernel': 'poly', 'C': 2.582270890582338, 'gamma': 'scale', 'degree': 2}. Best is trial 161 with value: 22.839785048488153.\u001b[0m\n",
      "\u001b[32m[I 2022-06-02 16:14:29,763]\u001b[0m Trial 163 finished with value: 22.839796508969314 and parameters: {'classifier': 'SVR', 'kernel': 'poly', 'C': 2.5797340917187643, 'gamma': 'scale', 'degree': 2}. Best is trial 161 with value: 22.839785048488153.\u001b[0m\n",
      "\u001b[32m[I 2022-06-02 16:14:29,978]\u001b[0m Trial 164 finished with value: 22.840204963556012 and parameters: {'classifier': 'SVR', 'kernel': 'poly', 'C': 2.6581321459869205, 'gamma': 'scale', 'degree': 2}. Best is trial 161 with value: 22.839785048488153.\u001b[0m\n",
      "\u001b[32m[I 2022-06-02 16:14:30,195]\u001b[0m Trial 165 finished with value: 22.83979647386679 and parameters: {'classifier': 'SVR', 'kernel': 'poly', 'C': 2.5847516657616336, 'gamma': 'scale', 'degree': 2}. Best is trial 161 with value: 22.839785048488153.\u001b[0m\n",
      "\u001b[32m[I 2022-06-02 16:14:30,398]\u001b[0m Trial 166 finished with value: 22.84018296670844 and parameters: {'classifier': 'SVR', 'kernel': 'poly', 'C': 2.6659006771480174, 'gamma': 'scale', 'degree': 2}. Best is trial 161 with value: 22.839785048488153.\u001b[0m\n",
      "\u001b[32m[I 2022-06-02 16:14:30,623]\u001b[0m Trial 167 finished with value: 22.840169354684168 and parameters: {'classifier': 'SVR', 'kernel': 'poly', 'C': 2.650672437142533, 'gamma': 'scale', 'degree': 2}. Best is trial 161 with value: 22.839785048488153.\u001b[0m\n",
      "C:\\Users\\Hasan Zein\\AppData\\Local\\Programs\\Python\\Python39\\lib\\site-packages\\optuna\\distributions.py:560: UserWarning: The distribution is specified by [0.2, 0.9] and step=1, but the range is not divisible by `step`. It will be replaced by [0.2, 0.2].\n",
      "  warnings.warn(\n",
      "\u001b[32m[I 2022-06-02 16:14:30,741]\u001b[0m Trial 168 finished with value: 25.531701531343817 and parameters: {'classifier': 'RandomForestRegressor', 'bootstrap': True, 'ccp': 0, 'max_depth': 24, 'max_features': 'sqrt', ' n_estimators': 13, 'min_samples_split': 4}. Best is trial 161 with value: 22.839785048488153.\u001b[0m\n",
      "\u001b[32m[I 2022-06-02 16:14:30,948]\u001b[0m Trial 169 finished with value: 22.840160025592212 and parameters: {'classifier': 'SVR', 'kernel': 'poly', 'C': 2.667939249591916, 'gamma': 'scale', 'degree': 2}. Best is trial 161 with value: 22.839785048488153.\u001b[0m\n",
      "\u001b[32m[I 2022-06-02 16:14:31,163]\u001b[0m Trial 170 finished with value: 22.840185648014614 and parameters: {'classifier': 'SVR', 'kernel': 'poly', 'C': 2.652681354041742, 'gamma': 'scale', 'degree': 2}. Best is trial 161 with value: 22.839785048488153.\u001b[0m\n",
      "\u001b[32m[I 2022-06-02 16:14:31,376]\u001b[0m Trial 171 finished with value: 22.840223184454402 and parameters: {'classifier': 'SVR', 'kernel': 'poly', 'C': 2.662277078215976, 'gamma': 'scale', 'degree': 2}. Best is trial 161 with value: 22.839785048488153.\u001b[0m\n",
      "\u001b[32m[I 2022-06-02 16:14:31,608]\u001b[0m Trial 172 finished with value: 22.840193254349646 and parameters: {'classifier': 'SVR', 'kernel': 'poly', 'C': 2.6649888072429464, 'gamma': 'scale', 'degree': 2}. Best is trial 161 with value: 22.839785048488153.\u001b[0m\n",
      "\u001b[32m[I 2022-06-02 16:14:31,830]\u001b[0m Trial 173 finished with value: 22.840079038548442 and parameters: {'classifier': 'SVR', 'kernel': 'poly', 'C': 2.677460854574596, 'gamma': 'scale', 'degree': 2}. Best is trial 161 with value: 22.839785048488153.\u001b[0m\n",
      "\u001b[32m[I 2022-06-02 16:14:32,062]\u001b[0m Trial 174 finished with value: 22.840214187198466 and parameters: {'classifier': 'SVR', 'kernel': 'poly', 'C': 2.662631714792752, 'gamma': 'scale', 'degree': 2}. Best is trial 161 with value: 22.839785048488153.\u001b[0m\n",
      "\u001b[32m[I 2022-06-02 16:14:32,274]\u001b[0m Trial 175 finished with value: 22.840122149789877 and parameters: {'classifier': 'SVR', 'kernel': 'poly', 'C': 2.671856177527074, 'gamma': 'scale', 'degree': 2}. Best is trial 161 with value: 22.839785048488153.\u001b[0m\n",
      "\u001b[32m[I 2022-06-02 16:14:32,479]\u001b[0m Trial 176 finished with value: 22.839928762590453 and parameters: {'classifier': 'SVR', 'kernel': 'poly', 'C': 2.6937437836206946, 'gamma': 'scale', 'degree': 2}. Best is trial 161 with value: 22.839785048488153.\u001b[0m\n",
      "\u001b[32m[I 2022-06-02 16:14:32,776]\u001b[0m Trial 177 finished with value: 29.789282889058427 and parameters: {'classifier': 'SVR', 'kernel': 'sigmoid', 'C': 2.673614428917447, 'gamma': 'scale', 'degree': 2}. Best is trial 161 with value: 22.839785048488153.\u001b[0m\n"
     ]
    },
    {
     "name": "stderr",
     "output_type": "stream",
     "text": [
      "\u001b[32m[I 2022-06-02 16:14:32,992]\u001b[0m Trial 178 finished with value: 22.840970580651923 and parameters: {'classifier': 'SVR', 'kernel': 'poly', 'C': 2.7521213777742806, 'gamma': 'scale', 'degree': 2}. Best is trial 161 with value: 22.839785048488153.\u001b[0m\n",
      "\u001b[32m[I 2022-06-02 16:14:33,211]\u001b[0m Trial 179 finished with value: 22.840069189953038 and parameters: {'classifier': 'SVR', 'kernel': 'poly', 'C': 2.6793503120288165, 'gamma': 'scale', 'degree': 2}. Best is trial 161 with value: 22.839785048488153.\u001b[0m\n",
      "\u001b[32m[I 2022-06-02 16:14:33,449]\u001b[0m Trial 180 finished with value: 24.902089353279557 and parameters: {'classifier': 'SVR', 'kernel': 'poly', 'C': 2.697247475408624, 'gamma': 'auto', 'degree': 2}. Best is trial 161 with value: 22.839785048488153.\u001b[0m\n",
      "\u001b[32m[I 2022-06-02 16:14:33,670]\u001b[0m Trial 181 finished with value: 22.840231532714903 and parameters: {'classifier': 'SVR', 'kernel': 'poly', 'C': 2.6598148413042897, 'gamma': 'scale', 'degree': 2}. Best is trial 161 with value: 22.839785048488153.\u001b[0m\n",
      "\u001b[32m[I 2022-06-02 16:14:33,896]\u001b[0m Trial 182 finished with value: 22.840933383478948 and parameters: {'classifier': 'SVR', 'kernel': 'poly', 'C': 2.7514081680890516, 'gamma': 'scale', 'degree': 2}. Best is trial 161 with value: 22.839785048488153.\u001b[0m\n",
      "\u001b[32m[I 2022-06-02 16:14:34,112]\u001b[0m Trial 183 finished with value: 22.840170883006472 and parameters: {'classifier': 'SVR', 'kernel': 'poly', 'C': 2.654469714097476, 'gamma': 'scale', 'degree': 2}. Best is trial 161 with value: 22.839785048488153.\u001b[0m\n",
      "\u001b[32m[I 2022-06-02 16:14:34,331]\u001b[0m Trial 184 finished with value: 22.84010010091062 and parameters: {'classifier': 'SVR', 'kernel': 'poly', 'C': 2.72635078510621, 'gamma': 'scale', 'degree': 2}. Best is trial 161 with value: 22.839785048488153.\u001b[0m\n",
      "\u001b[32m[I 2022-06-02 16:14:34,562]\u001b[0m Trial 185 finished with value: 22.842550818742026 and parameters: {'classifier': 'SVR', 'kernel': 'poly', 'C': 2.800004234432086, 'gamma': 'scale', 'degree': 2}. Best is trial 161 with value: 22.839785048488153.\u001b[0m\n",
      "\u001b[32m[I 2022-06-02 16:14:34,777]\u001b[0m Trial 186 finished with value: 22.840028414305635 and parameters: {'classifier': 'SVR', 'kernel': 'poly', 'C': 2.7201124877254896, 'gamma': 'scale', 'degree': 2}. Best is trial 161 with value: 22.839785048488153.\u001b[0m\n",
      "\u001b[32m[I 2022-06-02 16:14:34,993]\u001b[0m Trial 187 finished with value: 22.840156063968852 and parameters: {'classifier': 'SVR', 'kernel': 'poly', 'C': 2.730190822128074, 'gamma': 'scale', 'degree': 2}. Best is trial 161 with value: 22.839785048488153.\u001b[0m\n",
      "\u001b[32m[I 2022-06-02 16:14:35,286]\u001b[0m Trial 188 finished with value: 22.840383272300812 and parameters: {'classifier': 'SVR', 'kernel': 'poly', 'C': 2.7378593288718003, 'gamma': 'scale', 'degree': 2}. Best is trial 161 with value: 22.839785048488153.\u001b[0m\n",
      "\u001b[32m[I 2022-06-02 16:14:35,480]\u001b[0m Trial 189 finished with value: 22.840431097827132 and parameters: {'classifier': 'SVR', 'kernel': 'poly', 'C': 2.739069498196765, 'gamma': 'scale', 'degree': 2}. Best is trial 161 with value: 22.839785048488153.\u001b[0m\n",
      "\u001b[32m[I 2022-06-02 16:14:35,704]\u001b[0m Trial 190 finished with value: 22.842810641347125 and parameters: {'classifier': 'SVR', 'kernel': 'poly', 'C': 2.8151341317500647, 'gamma': 'scale', 'degree': 2}. Best is trial 161 with value: 22.839785048488153.\u001b[0m\n",
      "\u001b[32m[I 2022-06-02 16:14:35,920]\u001b[0m Trial 191 finished with value: 22.839990771927415 and parameters: {'classifier': 'SVR', 'kernel': 'poly', 'C': 2.7107587860615525, 'gamma': 'scale', 'degree': 2}. Best is trial 161 with value: 22.839785048488153.\u001b[0m\n",
      "\u001b[32m[I 2022-06-02 16:14:36,124]\u001b[0m Trial 192 finished with value: 22.839963113078817 and parameters: {'classifier': 'SVR', 'kernel': 'poly', 'C': 2.702881847744233, 'gamma': 'scale', 'degree': 2}. Best is trial 161 with value: 22.839785048488153.\u001b[0m\n",
      "\u001b[32m[I 2022-06-02 16:14:36,366]\u001b[0m Trial 193 finished with value: 22.84001343630082 and parameters: {'classifier': 'SVR', 'kernel': 'poly', 'C': 2.7173082596726266, 'gamma': 'scale', 'degree': 2}. Best is trial 161 with value: 22.839785048488153.\u001b[0m\n",
      "\u001b[32m[I 2022-06-02 16:14:36,573]\u001b[0m Trial 194 finished with value: 22.843782045890755 and parameters: {'classifier': 'SVR', 'kernel': 'poly', 'C': 2.8838287538513936, 'gamma': 'scale', 'degree': 2}. Best is trial 161 with value: 22.839785048488153.\u001b[0m\n",
      "\u001b[32m[I 2022-06-02 16:14:36,798]\u001b[0m Trial 195 finished with value: 22.84002243881019 and parameters: {'classifier': 'SVR', 'kernel': 'poly', 'C': 2.7211014247133627, 'gamma': 'scale', 'degree': 2}. Best is trial 161 with value: 22.839785048488153.\u001b[0m\n",
      "\u001b[32m[I 2022-06-02 16:14:37,017]\u001b[0m Trial 196 finished with value: 22.840084217034605 and parameters: {'classifier': 'SVR', 'kernel': 'poly', 'C': 2.7250239982692763, 'gamma': 'scale', 'degree': 2}. Best is trial 161 with value: 22.839785048488153.\u001b[0m\n",
      "\u001b[32m[I 2022-06-02 16:14:37,244]\u001b[0m Trial 197 finished with value: 22.93600284028027 and parameters: {'classifier': 'SVR', 'kernel': 'linear', 'C': 2.727734068288211, 'gamma': 'scale', 'degree': 2}. Best is trial 161 with value: 22.839785048488153.\u001b[0m\n",
      "C:\\Users\\Hasan Zein\\AppData\\Local\\Programs\\Python\\Python39\\lib\\site-packages\\optuna\\distributions.py:560: UserWarning: The distribution is specified by [0.2, 0.9] and step=1, but the range is not divisible by `step`. It will be replaced by [0.2, 0.2].\n",
      "  warnings.warn(\n",
      "\u001b[32m[I 2022-06-02 16:14:39,519]\u001b[0m Trial 198 finished with value: 29.318440320992114 and parameters: {'classifier': 'RandomForestRegressor', 'bootstrap': False, 'ccp': 0, 'max_depth': 62, 'max_features': 'auto', ' n_estimators': 41, 'min_samples_split': 10}. Best is trial 161 with value: 22.839785048488153.\u001b[0m\n",
      "\u001b[32m[I 2022-06-02 16:14:39,738]\u001b[0m Trial 199 finished with value: 22.842542664983235 and parameters: {'classifier': 'SVR', 'kernel': 'poly', 'C': 2.7998214348706973, 'gamma': 'scale', 'degree': 2}. Best is trial 161 with value: 22.839785048488153.\u001b[0m\n",
      "\u001b[32m[I 2022-06-02 16:14:39,965]\u001b[0m Trial 200 finished with value: 22.840653858514823 and parameters: {'classifier': 'SVR', 'kernel': 'poly', 'C': 2.7445990902234416, 'gamma': 'scale', 'degree': 2}. Best is trial 161 with value: 22.839785048488153.\u001b[0m\n",
      "\u001b[32m[I 2022-06-02 16:14:40,208]\u001b[0m Trial 201 finished with value: 22.839978803558672 and parameters: {'classifier': 'SVR', 'kernel': 'poly', 'C': 2.7084485999319807, 'gamma': 'scale', 'degree': 2}. Best is trial 161 with value: 22.839785048488153.\u001b[0m\n",
      "\u001b[32m[I 2022-06-02 16:14:40,432]\u001b[0m Trial 202 finished with value: 22.84305781795337 and parameters: {'classifier': 'SVR', 'kernel': 'poly', 'C': 2.8350613726825493, 'gamma': 'scale', 'degree': 2}. Best is trial 161 with value: 22.839785048488153.\u001b[0m\n",
      "\u001b[32m[I 2022-06-02 16:14:40,653]\u001b[0m Trial 203 finished with value: 22.840002295881142 and parameters: {'classifier': 'SVR', 'kernel': 'poly', 'C': 2.7132493577093335, 'gamma': 'scale', 'degree': 2}. Best is trial 161 with value: 22.839785048488153.\u001b[0m\n",
      "\u001b[32m[I 2022-06-02 16:14:40,865]\u001b[0m Trial 204 finished with value: 22.840146643254887 and parameters: {'classifier': 'SVR', 'kernel': 'poly', 'C': 2.7295901711906807, 'gamma': 'scale', 'degree': 2}. Best is trial 161 with value: 22.839785048488153.\u001b[0m\n",
      "\u001b[32m[I 2022-06-02 16:14:41,087]\u001b[0m Trial 205 finished with value: 22.839854034679316 and parameters: {'classifier': 'SVR', 'kernel': 'poly', 'C': 2.5996066883839513, 'gamma': 'scale', 'degree': 2}. Best is trial 161 with value: 22.839785048488153.\u001b[0m\n",
      "\u001b[32m[I 2022-06-02 16:14:41,308]\u001b[0m Trial 206 finished with value: 22.8398443438645 and parameters: {'classifier': 'SVR', 'kernel': 'poly', 'C': 2.5982062925528893, 'gamma': 'scale', 'degree': 2}. Best is trial 161 with value: 22.839785048488153.\u001b[0m\n",
      "\u001b[32m[I 2022-06-02 16:14:41,500]\u001b[0m Trial 207 finished with value: 22.839856506454428 and parameters: {'classifier': 'SVR', 'kernel': 'poly', 'C': 2.59942813151273, 'gamma': 'scale', 'degree': 2}. Best is trial 161 with value: 22.839785048488153.\u001b[0m\n",
      "\u001b[32m[I 2022-06-02 16:14:41,707]\u001b[0m Trial 208 finished with value: 22.83979387107076 and parameters: {'classifier': 'SVR', 'kernel': 'poly', 'C': 2.577293788695807, 'gamma': 'scale', 'degree': 2}. Best is trial 161 with value: 22.839785048488153.\u001b[0m\n",
      "\u001b[32m[I 2022-06-02 16:14:41,928]\u001b[0m Trial 209 finished with value: 22.839899290578177 and parameters: {'classifier': 'SVR', 'kernel': 'poly', 'C': 2.6041804406469855, 'gamma': 'scale', 'degree': 2}. Best is trial 161 with value: 22.839785048488153.\u001b[0m\n"
     ]
    },
    {
     "name": "stderr",
     "output_type": "stream",
     "text": [
      "\u001b[32m[I 2022-06-02 16:14:42,141]\u001b[0m Trial 210 finished with value: 22.839845422246658 and parameters: {'classifier': 'SVR', 'kernel': 'poly', 'C': 2.599295749334806, 'gamma': 'scale', 'degree': 2}. Best is trial 161 with value: 22.839785048488153.\u001b[0m\n",
      "\u001b[32m[I 2022-06-02 16:14:42,361]\u001b[0m Trial 211 finished with value: 22.908536763492428 and parameters: {'classifier': 'SVR', 'kernel': 'poly', 'C': 1.3891960500418754, 'gamma': 'scale', 'degree': 2}. Best is trial 161 with value: 22.839785048488153.\u001b[0m\n",
      "\u001b[32m[I 2022-06-02 16:14:42,591]\u001b[0m Trial 212 finished with value: 22.83981735887558 and parameters: {'classifier': 'SVR', 'kernel': 'poly', 'C': 2.591699667040055, 'gamma': 'scale', 'degree': 2}. Best is trial 161 with value: 22.839785048488153.\u001b[0m\n",
      "\u001b[32m[I 2022-06-02 16:14:42,800]\u001b[0m Trial 213 finished with value: 22.83982796601718 and parameters: {'classifier': 'SVR', 'kernel': 'poly', 'C': 2.5945435083165895, 'gamma': 'scale', 'degree': 2}. Best is trial 161 with value: 22.839785048488153.\u001b[0m\n",
      "\u001b[32m[I 2022-06-02 16:14:43,016]\u001b[0m Trial 214 finished with value: 22.839840443126228 and parameters: {'classifier': 'SVR', 'kernel': 'poly', 'C': 2.5991480238551885, 'gamma': 'scale', 'degree': 2}. Best is trial 161 with value: 22.839785048488153.\u001b[0m\n",
      "\u001b[32m[I 2022-06-02 16:14:43,239]\u001b[0m Trial 215 finished with value: 22.83982002253839 and parameters: {'classifier': 'SVR', 'kernel': 'poly', 'C': 2.590321155104481, 'gamma': 'scale', 'degree': 2}. Best is trial 161 with value: 22.839785048488153.\u001b[0m\n",
      "\u001b[32m[I 2022-06-02 16:14:43,452]\u001b[0m Trial 216 finished with value: 22.839794253943907 and parameters: {'classifier': 'SVR', 'kernel': 'poly', 'C': 2.5874688314074317, 'gamma': 'scale', 'degree': 2}. Best is trial 161 with value: 22.839785048488153.\u001b[0m\n",
      "\u001b[32m[I 2022-06-02 16:14:43,769]\u001b[0m Trial 217 finished with value: 29.344237910291305 and parameters: {'classifier': 'SVR', 'kernel': 'sigmoid', 'C': 2.587155824269372, 'gamma': 'scale', 'degree': 2}. Best is trial 161 with value: 22.839785048488153.\u001b[0m\n",
      "\u001b[32m[I 2022-06-02 16:14:43,992]\u001b[0m Trial 218 finished with value: 22.839719380132834 and parameters: {'classifier': 'SVR', 'kernel': 'poly', 'C': 2.563773064399742, 'gamma': 'scale', 'degree': 2}. Best is trial 218 with value: 22.839719380132834.\u001b[0m\n",
      "\u001b[32m[I 2022-06-02 16:14:44,198]\u001b[0m Trial 219 finished with value: 24.974251879198224 and parameters: {'classifier': 'SVR', 'kernel': 'poly', 'C': 2.5661705321867627, 'gamma': 'auto', 'degree': 2}. Best is trial 218 with value: 22.839719380132834.\u001b[0m\n",
      "\u001b[32m[I 2022-06-02 16:14:44,404]\u001b[0m Trial 220 finished with value: 22.839896938947078 and parameters: {'classifier': 'SVR', 'kernel': 'poly', 'C': 2.6038019638340755, 'gamma': 'scale', 'degree': 2}. Best is trial 218 with value: 22.839719380132834.\u001b[0m\n",
      "\u001b[32m[I 2022-06-02 16:14:44,620]\u001b[0m Trial 221 finished with value: 22.839882543978383 and parameters: {'classifier': 'SVR', 'kernel': 'poly', 'C': 2.601280495668799, 'gamma': 'scale', 'degree': 2}. Best is trial 218 with value: 22.839719380132834.\u001b[0m\n",
      "\u001b[32m[I 2022-06-02 16:14:44,839]\u001b[0m Trial 222 finished with value: 22.839903656633936 and parameters: {'classifier': 'SVR', 'kernel': 'poly', 'C': 2.603719433374952, 'gamma': 'scale', 'degree': 2}. Best is trial 218 with value: 22.839719380132834.\u001b[0m\n",
      "\u001b[32m[I 2022-06-02 16:14:45,064]\u001b[0m Trial 223 finished with value: 22.83981854954398 and parameters: {'classifier': 'SVR', 'kernel': 'poly', 'C': 2.5933295085691705, 'gamma': 'scale', 'degree': 2}. Best is trial 218 with value: 22.839719380132834.\u001b[0m\n",
      "\u001b[32m[I 2022-06-02 16:14:45,266]\u001b[0m Trial 224 finished with value: 22.839819135728053 and parameters: {'classifier': 'SVR', 'kernel': 'poly', 'C': 2.5962443580869636, 'gamma': 'scale', 'degree': 2}. Best is trial 218 with value: 22.839719380132834.\u001b[0m\n",
      "\u001b[32m[I 2022-06-02 16:14:45,505]\u001b[0m Trial 225 finished with value: 22.83973034519973 and parameters: {'classifier': 'SVR', 'kernel': 'poly', 'C': 2.559959905122149, 'gamma': 'scale', 'degree': 2}. Best is trial 218 with value: 22.839719380132834.\u001b[0m\n",
      "\u001b[32m[I 2022-06-02 16:14:45,734]\u001b[0m Trial 226 finished with value: 22.83974355737355 and parameters: {'classifier': 'SVR', 'kernel': 'poly', 'C': 2.5580599253501677, 'gamma': 'scale', 'degree': 2}. Best is trial 218 with value: 22.839719380132834.\u001b[0m\n",
      "\u001b[32m[I 2022-06-02 16:14:45,956]\u001b[0m Trial 227 finished with value: 22.839768802730955 and parameters: {'classifier': 'SVR', 'kernel': 'poly', 'C': 2.5425485692761156, 'gamma': 'scale', 'degree': 2}. Best is trial 218 with value: 22.839719380132834.\u001b[0m\n",
      "\u001b[32m[I 2022-06-02 16:14:46,169]\u001b[0m Trial 228 finished with value: 22.8397441106093 and parameters: {'classifier': 'SVR', 'kernel': 'poly', 'C': 2.539082784271848, 'gamma': 'scale', 'degree': 2}. Best is trial 218 with value: 22.839719380132834.\u001b[0m\n",
      "\u001b[32m[I 2022-06-02 16:14:46,384]\u001b[0m Trial 229 finished with value: 22.839739594947154 and parameters: {'classifier': 'SVR', 'kernel': 'poly', 'C': 2.5380206937633005, 'gamma': 'scale', 'degree': 2}. Best is trial 218 with value: 22.839719380132834.\u001b[0m\n",
      "\u001b[32m[I 2022-06-02 16:14:46,593]\u001b[0m Trial 230 finished with value: 22.8397512737318 and parameters: {'classifier': 'SVR', 'kernel': 'poly', 'C': 2.5438099156859995, 'gamma': 'scale', 'degree': 2}. Best is trial 218 with value: 22.839719380132834.\u001b[0m\n",
      "\u001b[32m[I 2022-06-02 16:14:46,816]\u001b[0m Trial 231 finished with value: 22.83973773989396 and parameters: {'classifier': 'SVR', 'kernel': 'poly', 'C': 2.537001208241415, 'gamma': 'scale', 'degree': 2}. Best is trial 218 with value: 22.839719380132834.\u001b[0m\n",
      "\u001b[32m[I 2022-06-02 16:14:47,033]\u001b[0m Trial 232 finished with value: 22.839696499111806 and parameters: {'classifier': 'SVR', 'kernel': 'poly', 'C': 2.531482660127249, 'gamma': 'scale', 'degree': 2}. Best is trial 232 with value: 22.839696499111806.\u001b[0m\n",
      "\u001b[32m[I 2022-06-02 16:14:47,257]\u001b[0m Trial 233 finished with value: 22.839725021539028 and parameters: {'classifier': 'SVR', 'kernel': 'poly', 'C': 2.5349704422663453, 'gamma': 'scale', 'degree': 2}. Best is trial 232 with value: 22.839696499111806.\u001b[0m\n",
      "\u001b[32m[I 2022-06-02 16:14:47,491]\u001b[0m Trial 234 finished with value: 22.839732264053318 and parameters: {'classifier': 'SVR', 'kernel': 'poly', 'C': 2.538320318780295, 'gamma': 'scale', 'degree': 2}. Best is trial 232 with value: 22.839696499111806.\u001b[0m\n",
      "\u001b[32m[I 2022-06-02 16:14:47,704]\u001b[0m Trial 235 finished with value: 22.83970327276898 and parameters: {'classifier': 'SVR', 'kernel': 'poly', 'C': 2.5224259242729588, 'gamma': 'scale', 'degree': 2}. Best is trial 232 with value: 22.839696499111806.\u001b[0m\n",
      "\u001b[32m[I 2022-06-02 16:14:47,907]\u001b[0m Trial 236 finished with value: 22.83969842516437 and parameters: {'classifier': 'SVR', 'kernel': 'poly', 'C': 2.529954117482514, 'gamma': 'scale', 'degree': 2}. Best is trial 232 with value: 22.839696499111806.\u001b[0m\n",
      "\u001b[32m[I 2022-06-02 16:14:48,124]\u001b[0m Trial 237 finished with value: 22.8396874240432 and parameters: {'classifier': 'SVR', 'kernel': 'poly', 'C': 2.523382495295169, 'gamma': 'scale', 'degree': 2}. Best is trial 237 with value: 22.8396874240432.\u001b[0m\n",
      "\u001b[32m[I 2022-06-02 16:14:48,326]\u001b[0m Trial 238 finished with value: 22.93696216243055 and parameters: {'classifier': 'SVR', 'kernel': 'linear', 'C': 2.5153279238202995, 'gamma': 'scale', 'degree': 2}. Best is trial 237 with value: 22.8396874240432.\u001b[0m\n",
      "C:\\Users\\Hasan Zein\\AppData\\Local\\Programs\\Python\\Python39\\lib\\site-packages\\optuna\\distributions.py:560: UserWarning: The distribution is specified by [0.2, 0.9] and step=1, but the range is not divisible by `step`. It will be replaced by [0.2, 0.2].\n",
      "  warnings.warn(\n",
      "\u001b[32m[I 2022-06-02 16:14:50,974]\u001b[0m Trial 239 finished with value: 23.748335989490254 and parameters: {'classifier': 'RandomForestRegressor', 'bootstrap': True, 'ccp': 0, 'max_depth': 84, 'max_features': 'auto', ' n_estimators': 108, 'min_samples_split': 20}. Best is trial 237 with value: 22.8396874240432.\u001b[0m\n",
      "\u001b[32m[I 2022-06-02 16:14:51,204]\u001b[0m Trial 240 finished with value: 22.840130759600182 and parameters: {'classifier': 'SVR', 'kernel': 'poly', 'C': 2.4867898173626553, 'gamma': 'scale', 'degree': 2}. Best is trial 237 with value: 22.8396874240432.\u001b[0m\n",
      "\u001b[32m[I 2022-06-02 16:14:51,437]\u001b[0m Trial 241 finished with value: 22.839738580909525 and parameters: {'classifier': 'SVR', 'kernel': 'poly', 'C': 2.5369633488234906, 'gamma': 'scale', 'degree': 2}. Best is trial 237 with value: 22.8396874240432.\u001b[0m\n"
     ]
    },
    {
     "name": "stderr",
     "output_type": "stream",
     "text": [
      "\u001b[32m[I 2022-06-02 16:14:51,645]\u001b[0m Trial 242 finished with value: 22.83975180166564 and parameters: {'classifier': 'SVR', 'kernel': 'poly', 'C': 2.5414497105466727, 'gamma': 'scale', 'degree': 2}. Best is trial 237 with value: 22.8396874240432.\u001b[0m\n",
      "\u001b[32m[I 2022-06-02 16:14:51,853]\u001b[0m Trial 243 finished with value: 22.83977756414445 and parameters: {'classifier': 'SVR', 'kernel': 'poly', 'C': 2.514884475973901, 'gamma': 'scale', 'degree': 2}. Best is trial 237 with value: 22.8396874240432.\u001b[0m\n",
      "\u001b[32m[I 2022-06-02 16:14:52,071]\u001b[0m Trial 244 finished with value: 22.839726937931694 and parameters: {'classifier': 'SVR', 'kernel': 'poly', 'C': 2.533504933958604, 'gamma': 'scale', 'degree': 2}. Best is trial 237 with value: 22.8396874240432.\u001b[0m\n",
      "\u001b[32m[I 2022-06-02 16:14:52,293]\u001b[0m Trial 245 finished with value: 22.84002027540608 and parameters: {'classifier': 'SVR', 'kernel': 'poly', 'C': 2.4721708190430873, 'gamma': 'scale', 'degree': 2}. Best is trial 237 with value: 22.8396874240432.\u001b[0m\n",
      "\u001b[32m[I 2022-06-02 16:14:52,492]\u001b[0m Trial 246 finished with value: 22.839739095784676 and parameters: {'classifier': 'SVR', 'kernel': 'poly', 'C': 2.5370871582941974, 'gamma': 'scale', 'degree': 2}. Best is trial 237 with value: 22.8396874240432.\u001b[0m\n",
      "\u001b[32m[I 2022-06-02 16:14:52,709]\u001b[0m Trial 247 finished with value: 22.83967571842155 and parameters: {'classifier': 'SVR', 'kernel': 'poly', 'C': 2.5241680740245434, 'gamma': 'scale', 'degree': 2}. Best is trial 247 with value: 22.83967571842155.\u001b[0m\n",
      "\u001b[32m[I 2022-06-02 16:14:52,949]\u001b[0m Trial 248 finished with value: 22.83967043420544 and parameters: {'classifier': 'SVR', 'kernel': 'poly', 'C': 2.524500729899859, 'gamma': 'scale', 'degree': 2}. Best is trial 248 with value: 22.83967043420544.\u001b[0m\n",
      "\u001b[32m[I 2022-06-02 16:14:53,163]\u001b[0m Trial 249 finished with value: 22.839788708929227 and parameters: {'classifier': 'SVR', 'kernel': 'poly', 'C': 2.5151131014555586, 'gamma': 'scale', 'degree': 2}. Best is trial 248 with value: 22.83967043420544.\u001b[0m\n",
      "\u001b[32m[I 2022-06-02 16:14:53,369]\u001b[0m Trial 250 finished with value: 22.83966694182813 and parameters: {'classifier': 'SVR', 'kernel': 'poly', 'C': 2.5263332078577903, 'gamma': 'scale', 'degree': 2}. Best is trial 250 with value: 22.83966694182813.\u001b[0m\n",
      "\u001b[32m[I 2022-06-02 16:14:53,571]\u001b[0m Trial 251 finished with value: 22.839675975327804 and parameters: {'classifier': 'SVR', 'kernel': 'poly', 'C': 2.524093105615142, 'gamma': 'scale', 'degree': 2}. Best is trial 250 with value: 22.83966694182813.\u001b[0m\n",
      "\u001b[32m[I 2022-06-02 16:14:53,788]\u001b[0m Trial 252 finished with value: 22.839677092481953 and parameters: {'classifier': 'SVR', 'kernel': 'poly', 'C': 2.5253827085483547, 'gamma': 'scale', 'degree': 2}. Best is trial 250 with value: 22.83966694182813.\u001b[0m\n",
      "\u001b[32m[I 2022-06-02 16:14:53,989]\u001b[0m Trial 253 finished with value: 25.043449273789697 and parameters: {'classifier': 'SVR', 'kernel': 'poly', 'C': 2.46187381227456, 'gamma': 'auto', 'degree': 2}. Best is trial 250 with value: 22.83966694182813.\u001b[0m\n",
      "\u001b[32m[I 2022-06-02 16:14:54,201]\u001b[0m Trial 254 finished with value: 22.83967320846985 and parameters: {'classifier': 'SVR', 'kernel': 'poly', 'C': 2.5267376823291365, 'gamma': 'scale', 'degree': 2}. Best is trial 250 with value: 22.83966694182813.\u001b[0m\n",
      "\u001b[32m[I 2022-06-02 16:14:54,512]\u001b[0m Trial 255 finished with value: 28.8156784116993 and parameters: {'classifier': 'SVR', 'kernel': 'sigmoid', 'C': 2.5154271461127338, 'gamma': 'scale', 'degree': 2}. Best is trial 250 with value: 22.83966694182813.\u001b[0m\n",
      "\u001b[32m[I 2022-06-02 16:14:54,731]\u001b[0m Trial 256 finished with value: 22.839902922975433 and parameters: {'classifier': 'SVR', 'kernel': 'poly', 'C': 2.4621759384841218, 'gamma': 'scale', 'degree': 2}. Best is trial 250 with value: 22.83966694182813.\u001b[0m\n",
      "\u001b[32m[I 2022-06-02 16:14:54,948]\u001b[0m Trial 257 finished with value: 22.83968893379768 and parameters: {'classifier': 'SVR', 'kernel': 'poly', 'C': 2.5229439967608025, 'gamma': 'scale', 'degree': 2}. Best is trial 250 with value: 22.83966694182813.\u001b[0m\n",
      "\u001b[32m[I 2022-06-02 16:14:55,168]\u001b[0m Trial 258 finished with value: 22.839964541481855 and parameters: {'classifier': 'SVR', 'kernel': 'poly', 'C': 2.467498104599366, 'gamma': 'scale', 'degree': 2}. Best is trial 250 with value: 22.83966694182813.\u001b[0m\n",
      "\u001b[32m[I 2022-06-02 16:14:55,394]\u001b[0m Trial 259 finished with value: 22.83969053901276 and parameters: {'classifier': 'SVR', 'kernel': 'poly', 'C': 2.5215139217649503, 'gamma': 'scale', 'degree': 2}. Best is trial 250 with value: 22.83966694182813.\u001b[0m\n",
      "\u001b[32m[I 2022-06-02 16:14:55,620]\u001b[0m Trial 260 finished with value: 22.83967953119841 and parameters: {'classifier': 'SVR', 'kernel': 'poly', 'C': 2.5236181254109553, 'gamma': 'scale', 'degree': 2}. Best is trial 250 with value: 22.83966694182813.\u001b[0m\n",
      "\u001b[32m[I 2022-06-02 16:14:55,833]\u001b[0m Trial 261 finished with value: 22.83974746724043 and parameters: {'classifier': 'SVR', 'kernel': 'poly', 'C': 2.453608722135832, 'gamma': 'scale', 'degree': 2}. Best is trial 250 with value: 22.83966694182813.\u001b[0m\n",
      "\u001b[32m[I 2022-06-02 16:14:56,048]\u001b[0m Trial 262 finished with value: 22.83972666037548 and parameters: {'classifier': 'SVR', 'kernel': 'poly', 'C': 2.4524068538170423, 'gamma': 'scale', 'degree': 2}. Best is trial 250 with value: 22.83966694182813.\u001b[0m\n",
      "C:\\Users\\Hasan Zein\\AppData\\Local\\Programs\\Python\\Python39\\lib\\site-packages\\optuna\\distributions.py:560: UserWarning: The distribution is specified by [0.2, 0.9] and step=1, but the range is not divisible by `step`. It will be replaced by [0.2, 0.2].\n",
      "  warnings.warn(\n",
      "\u001b[32m[I 2022-06-02 16:14:56,954]\u001b[0m Trial 263 finished with value: 24.139544439759582 and parameters: {'classifier': 'RandomForestRegressor', 'bootstrap': False, 'ccp': 0, 'max_depth': 41, 'max_features': 'sqrt', ' n_estimators': 74, 'min_samples_split': 13}. Best is trial 250 with value: 22.83966694182813.\u001b[0m\n",
      "\u001b[32m[I 2022-06-02 16:14:57,193]\u001b[0m Trial 264 finished with value: 22.840123498494393 and parameters: {'classifier': 'SVR', 'kernel': 'poly', 'C': 2.4890832988294065, 'gamma': 'scale', 'degree': 2}. Best is trial 250 with value: 22.83966694182813.\u001b[0m\n",
      "\u001b[32m[I 2022-06-02 16:14:57,392]\u001b[0m Trial 265 finished with value: 22.86700591334849 and parameters: {'classifier': 'SVR', 'kernel': 'poly', 'C': 1.7136157359014388, 'gamma': 'scale', 'degree': 2}. Best is trial 250 with value: 22.83966694182813.\u001b[0m\n",
      "\u001b[32m[I 2022-06-02 16:14:57,601]\u001b[0m Trial 266 finished with value: 22.83974341236854 and parameters: {'classifier': 'SVR', 'kernel': 'poly', 'C': 2.518256816804012, 'gamma': 'scale', 'degree': 2}. Best is trial 250 with value: 22.83966694182813.\u001b[0m\n",
      "\u001b[32m[I 2022-06-02 16:14:57,805]\u001b[0m Trial 267 finished with value: 22.83960694849822 and parameters: {'classifier': 'SVR', 'kernel': 'poly', 'C': 2.440779032281614, 'gamma': 'scale', 'degree': 2}. Best is trial 267 with value: 22.83960694849822.\u001b[0m\n",
      "\u001b[32m[I 2022-06-02 16:14:58,018]\u001b[0m Trial 268 finished with value: 22.839583217540966 and parameters: {'classifier': 'SVR', 'kernel': 'poly', 'C': 2.438701970178043, 'gamma': 'scale', 'degree': 2}. Best is trial 268 with value: 22.839583217540966.\u001b[0m\n",
      "\u001b[32m[I 2022-06-02 16:14:58,222]\u001b[0m Trial 269 finished with value: 22.84032405828861 and parameters: {'classifier': 'SVR', 'kernel': 'poly', 'C': 2.3828760435050222, 'gamma': 'scale', 'degree': 2}. Best is trial 268 with value: 22.839583217540966.\u001b[0m\n",
      "\u001b[32m[I 2022-06-02 16:14:58,443]\u001b[0m Trial 270 finished with value: 22.936439901516945 and parameters: {'classifier': 'SVR', 'kernel': 'linear', 'C': 2.458002231846506, 'gamma': 'scale', 'degree': 2}. Best is trial 268 with value: 22.839583217540966.\u001b[0m\n",
      "\u001b[32m[I 2022-06-02 16:14:58,644]\u001b[0m Trial 271 finished with value: 22.839655616818753 and parameters: {'classifier': 'SVR', 'kernel': 'poly', 'C': 2.4292909549413504, 'gamma': 'scale', 'degree': 2}. Best is trial 268 with value: 22.839583217540966.\u001b[0m\n",
      "\u001b[32m[I 2022-06-02 16:14:58,846]\u001b[0m Trial 272 finished with value: 22.839653076085526 and parameters: {'classifier': 'SVR', 'kernel': 'poly', 'C': 2.425606458696264, 'gamma': 'scale', 'degree': 2}. Best is trial 268 with value: 22.839583217540966.\u001b[0m\n",
      "\u001b[32m[I 2022-06-02 16:14:59,051]\u001b[0m Trial 273 finished with value: 22.839643127913824 and parameters: {'classifier': 'SVR', 'kernel': 'poly', 'C': 2.4271490712618218, 'gamma': 'scale', 'degree': 2}. Best is trial 268 with value: 22.839583217540966.\u001b[0m\n"
     ]
    },
    {
     "name": "stderr",
     "output_type": "stream",
     "text": [
      "\u001b[32m[I 2022-06-02 16:14:59,277]\u001b[0m Trial 274 finished with value: 22.83966201256532 and parameters: {'classifier': 'SVR', 'kernel': 'poly', 'C': 2.4239793833318295, 'gamma': 'scale', 'degree': 2}. Best is trial 268 with value: 22.839583217540966.\u001b[0m\n",
      "\u001b[32m[I 2022-06-02 16:14:59,483]\u001b[0m Trial 275 finished with value: 25.070921410391907 and parameters: {'classifier': 'SVR', 'kernel': 'poly', 'C': 2.4186157813002964, 'gamma': 'auto', 'degree': 2}. Best is trial 268 with value: 22.839583217540966.\u001b[0m\n",
      "\u001b[32m[I 2022-06-02 16:14:59,718]\u001b[0m Trial 276 finished with value: 22.84082839399247 and parameters: {'classifier': 'SVR', 'kernel': 'poly', 'C': 2.3654111161491924, 'gamma': 'scale', 'degree': 2}. Best is trial 268 with value: 22.839583217540966.\u001b[0m\n",
      "\u001b[32m[I 2022-06-02 16:14:59,922]\u001b[0m Trial 277 finished with value: 22.83963268699266 and parameters: {'classifier': 'SVR', 'kernel': 'poly', 'C': 2.433047172977769, 'gamma': 'scale', 'degree': 2}. Best is trial 268 with value: 22.839583217540966.\u001b[0m\n",
      "\u001b[32m[I 2022-06-02 16:15:00,131]\u001b[0m Trial 278 finished with value: 22.839654568666734 and parameters: {'classifier': 'SVR', 'kernel': 'poly', 'C': 2.43162310519151, 'gamma': 'scale', 'degree': 2}. Best is trial 268 with value: 22.839583217540966.\u001b[0m\n",
      "\u001b[32m[I 2022-06-02 16:15:00,355]\u001b[0m Trial 279 finished with value: 22.839679128348855 and parameters: {'classifier': 'SVR', 'kernel': 'poly', 'C': 2.4206316160251427, 'gamma': 'scale', 'degree': 2}. Best is trial 268 with value: 22.839583217540966.\u001b[0m\n",
      "\u001b[32m[I 2022-06-02 16:15:00,558]\u001b[0m Trial 280 finished with value: 22.83969268051201 and parameters: {'classifier': 'SVR', 'kernel': 'poly', 'C': 2.414233721672417, 'gamma': 'scale', 'degree': 2}. Best is trial 268 with value: 22.839583217540966.\u001b[0m\n",
      "\u001b[32m[I 2022-06-02 16:15:00,852]\u001b[0m Trial 281 finished with value: 28.151464293576755 and parameters: {'classifier': 'SVR', 'kernel': 'sigmoid', 'C': 2.3817484701380547, 'gamma': 'scale', 'degree': 2}. Best is trial 268 with value: 22.839583217540966.\u001b[0m\n",
      "\u001b[32m[I 2022-06-02 16:15:01,063]\u001b[0m Trial 282 finished with value: 22.839705029698656 and parameters: {'classifier': 'SVR', 'kernel': 'poly', 'C': 2.4148987705250744, 'gamma': 'scale', 'degree': 2}. Best is trial 268 with value: 22.839583217540966.\u001b[0m\n",
      "\u001b[32m[I 2022-06-02 16:15:01,277]\u001b[0m Trial 283 finished with value: 22.83968676103246 and parameters: {'classifier': 'SVR', 'kernel': 'poly', 'C': 2.417480890977938, 'gamma': 'scale', 'degree': 2}. Best is trial 268 with value: 22.839583217540966.\u001b[0m\n",
      "C:\\Users\\Hasan Zein\\AppData\\Local\\Programs\\Python\\Python39\\lib\\site-packages\\optuna\\distributions.py:560: UserWarning: The distribution is specified by [0.2, 0.9] and step=1, but the range is not divisible by `step`. It will be replaced by [0.2, 0.2].\n",
      "  warnings.warn(\n",
      "\u001b[32m[I 2022-06-02 16:15:05,478]\u001b[0m Trial 284 finished with value: 23.872404038376413 and parameters: {'classifier': 'RandomForestRegressor', 'bootstrap': True, 'ccp': 0, 'max_depth': 98, 'max_features': 'auto', ' n_estimators': 175, 'min_samples_split': 17}. Best is trial 268 with value: 22.839583217540966.\u001b[0m\n",
      "\u001b[32m[I 2022-06-02 16:15:05,700]\u001b[0m Trial 285 finished with value: 22.84086194854044 and parameters: {'classifier': 'SVR', 'kernel': 'poly', 'C': 2.363369675013279, 'gamma': 'scale', 'degree': 2}. Best is trial 268 with value: 22.839583217540966.\u001b[0m\n",
      "\u001b[32m[I 2022-06-02 16:15:05,910]\u001b[0m Trial 286 finished with value: 22.839656855801948 and parameters: {'classifier': 'SVR', 'kernel': 'poly', 'C': 2.4256318062432625, 'gamma': 'scale', 'degree': 2}. Best is trial 268 with value: 22.839583217540966.\u001b[0m\n",
      "\u001b[32m[I 2022-06-02 16:15:06,114]\u001b[0m Trial 287 finished with value: 22.839602349983483 and parameters: {'classifier': 'SVR', 'kernel': 'poly', 'C': 2.439375631506206, 'gamma': 'scale', 'degree': 2}. Best is trial 268 with value: 22.839583217540966.\u001b[0m\n",
      "\u001b[32m[I 2022-06-02 16:15:06,323]\u001b[0m Trial 288 finished with value: 22.964378346198767 and parameters: {'classifier': 'SVR', 'kernel': 'poly', 'C': 1.078963948198486, 'gamma': 'scale', 'degree': 2}. Best is trial 268 with value: 22.839583217540966.\u001b[0m\n",
      "\u001b[32m[I 2022-06-02 16:15:06,528]\u001b[0m Trial 289 finished with value: 22.839658654762875 and parameters: {'classifier': 'SVR', 'kernel': 'poly', 'C': 2.4220909265687083, 'gamma': 'scale', 'degree': 2}. Best is trial 268 with value: 22.839583217540966.\u001b[0m\n",
      "\u001b[32m[I 2022-06-02 16:15:06,752]\u001b[0m Trial 290 finished with value: 22.839703172614936 and parameters: {'classifier': 'SVR', 'kernel': 'poly', 'C': 2.413532110451956, 'gamma': 'scale', 'degree': 2}. Best is trial 268 with value: 22.839583217540966.\u001b[0m\n",
      "\u001b[32m[I 2022-06-02 16:15:06,981]\u001b[0m Trial 291 finished with value: 22.842474409507606 and parameters: {'classifier': 'SVR', 'kernel': 'poly', 'C': 2.271121414702197, 'gamma': 'scale', 'degree': 2}. Best is trial 268 with value: 22.839583217540966.\u001b[0m\n",
      "\u001b[32m[I 2022-06-02 16:15:07,193]\u001b[0m Trial 292 finished with value: 22.8408599699463 and parameters: {'classifier': 'SVR', 'kernel': 'poly', 'C': 2.3614401122060795, 'gamma': 'scale', 'degree': 2}. Best is trial 268 with value: 22.839583217540966.\u001b[0m\n",
      "\u001b[32m[I 2022-06-02 16:15:07,419]\u001b[0m Trial 293 finished with value: 22.839621651352548 and parameters: {'classifier': 'SVR', 'kernel': 'poly', 'C': 2.4360183958219337, 'gamma': 'scale', 'degree': 2}. Best is trial 268 with value: 22.839583217540966.\u001b[0m\n",
      "\u001b[32m[I 2022-06-02 16:15:07,638]\u001b[0m Trial 294 finished with value: 22.839661519720224 and parameters: {'classifier': 'SVR', 'kernel': 'poly', 'C': 2.4310323956774296, 'gamma': 'scale', 'degree': 2}. Best is trial 268 with value: 22.839583217540966.\u001b[0m\n",
      "\u001b[32m[I 2022-06-02 16:15:07,854]\u001b[0m Trial 295 finished with value: 22.842353755153713 and parameters: {'classifier': 'SVR', 'kernel': 'poly', 'C': 2.2800660947623808, 'gamma': 'scale', 'degree': 2}. Best is trial 268 with value: 22.839583217540966.\u001b[0m\n",
      "\u001b[32m[I 2022-06-02 16:15:08,107]\u001b[0m Trial 296 finished with value: 22.935931940545938 and parameters: {'classifier': 'SVR', 'kernel': 'linear', 'C': 2.436089695521513, 'gamma': 'auto', 'degree': 2}. Best is trial 268 with value: 22.839583217540966.\u001b[0m\n",
      "\u001b[32m[I 2022-06-02 16:15:08,310]\u001b[0m Trial 297 finished with value: 22.840448844187147 and parameters: {'classifier': 'SVR', 'kernel': 'poly', 'C': 2.379685232983543, 'gamma': 'scale', 'degree': 2}. Best is trial 268 with value: 22.839583217540966.\u001b[0m\n",
      "\u001b[32m[I 2022-06-02 16:15:08,523]\u001b[0m Trial 298 finished with value: 22.87500549996801 and parameters: {'classifier': 'SVR', 'kernel': 'poly', 'C': 1.6056684916174049, 'gamma': 'scale', 'degree': 2}. Best is trial 268 with value: 22.839583217540966.\u001b[0m\n",
      "\u001b[32m[I 2022-06-02 16:15:08,736]\u001b[0m Trial 299 finished with value: 22.839617817939942 and parameters: {'classifier': 'SVR', 'kernel': 'poly', 'C': 2.4410442261473615, 'gamma': 'scale', 'degree': 2}. Best is trial 268 with value: 22.839583217540966.\u001b[0m\n",
      "\u001b[32m[I 2022-06-02 16:15:08,947]\u001b[0m Trial 300 finished with value: 22.840865570522034 and parameters: {'classifier': 'SVR', 'kernel': 'poly', 'C': 2.3574520658548797, 'gamma': 'scale', 'degree': 2}. Best is trial 268 with value: 22.839583217540966.\u001b[0m\n",
      "\u001b[32m[I 2022-06-02 16:15:09,157]\u001b[0m Trial 301 finished with value: 22.83989697186653 and parameters: {'classifier': 'SVR', 'kernel': 'poly', 'C': 2.461884274887333, 'gamma': 'scale', 'degree': 2}. Best is trial 268 with value: 22.839583217540966.\u001b[0m\n",
      "\u001b[32m[I 2022-06-02 16:15:09,381]\u001b[0m Trial 302 finished with value: 22.839711663739934 and parameters: {'classifier': 'SVR', 'kernel': 'poly', 'C': 2.412389965192999, 'gamma': 'scale', 'degree': 2}. Best is trial 268 with value: 22.839583217540966.\u001b[0m\n",
      "\u001b[32m[I 2022-06-02 16:15:09,591]\u001b[0m Trial 303 finished with value: 22.839614440846546 and parameters: {'classifier': 'SVR', 'kernel': 'poly', 'C': 2.440109232593906, 'gamma': 'scale', 'degree': 2}. Best is trial 268 with value: 22.839583217540966.\u001b[0m\n",
      "C:\\Users\\Hasan Zein\\AppData\\Local\\Programs\\Python\\Python39\\lib\\site-packages\\optuna\\distributions.py:560: UserWarning: The distribution is specified by [0.2, 0.9] and step=1, but the range is not divisible by `step`. It will be replaced by [0.2, 0.2].\n",
      "  warnings.warn(\n"
     ]
    },
    {
     "name": "stderr",
     "output_type": "stream",
     "text": [
      "\u001b[32m[I 2022-06-02 16:15:11,100]\u001b[0m Trial 304 finished with value: 24.849015993596783 and parameters: {'classifier': 'RandomForestRegressor', 'bootstrap': False, 'ccp': 0, 'max_depth': 22, 'max_features': 'sqrt', ' n_estimators': 123, 'min_samples_split': 9}. Best is trial 268 with value: 22.839583217540966.\u001b[0m\n",
      "\u001b[32m[I 2022-06-02 16:15:11,300]\u001b[0m Trial 305 finished with value: 22.84089988165198 and parameters: {'classifier': 'SVR', 'kernel': 'poly', 'C': 2.351753581432221, 'gamma': 'scale', 'degree': 2}. Best is trial 268 with value: 22.839583217540966.\u001b[0m\n",
      "\u001b[32m[I 2022-06-02 16:15:11,534]\u001b[0m Trial 306 finished with value: 22.839609834222067 and parameters: {'classifier': 'SVR', 'kernel': 'poly', 'C': 2.434082910706892, 'gamma': 'scale', 'degree': 2}. Best is trial 268 with value: 22.839583217540966.\u001b[0m\n",
      "\u001b[32m[I 2022-06-02 16:15:11,821]\u001b[0m Trial 307 finished with value: 28.520981943704918 and parameters: {'classifier': 'SVR', 'kernel': 'sigmoid', 'C': 2.459723715628635, 'gamma': 'scale', 'degree': 2}. Best is trial 268 with value: 22.839583217540966.\u001b[0m\n",
      "\u001b[32m[I 2022-06-02 16:15:12,048]\u001b[0m Trial 308 finished with value: 22.843492445812938 and parameters: {'classifier': 'SVR', 'kernel': 'poly', 'C': 2.2089008198185995, 'gamma': 'scale', 'degree': 2}. Best is trial 268 with value: 22.839583217540966.\u001b[0m\n",
      "\u001b[32m[I 2022-06-02 16:15:12,252]\u001b[0m Trial 309 finished with value: 22.839602073849427 and parameters: {'classifier': 'SVR', 'kernel': 'poly', 'C': 2.440059194702551, 'gamma': 'scale', 'degree': 2}. Best is trial 268 with value: 22.839583217540966.\u001b[0m\n",
      "\u001b[32m[I 2022-06-02 16:15:12,480]\u001b[0m Trial 310 finished with value: 22.841576137569792 and parameters: {'classifier': 'SVR', 'kernel': 'poly', 'C': 2.3206645464110065, 'gamma': 'scale', 'degree': 2}. Best is trial 268 with value: 22.839583217540966.\u001b[0m\n",
      "\u001b[32m[I 2022-06-02 16:15:12,684]\u001b[0m Trial 311 finished with value: 22.839614555040722 and parameters: {'classifier': 'SVR', 'kernel': 'poly', 'C': 2.4375692564794815, 'gamma': 'scale', 'degree': 2}. Best is trial 268 with value: 22.839583217540966.\u001b[0m\n",
      "\u001b[32m[I 2022-06-02 16:15:12,886]\u001b[0m Trial 312 finished with value: 22.980286531092837 and parameters: {'classifier': 'SVR', 'kernel': 'poly', 'C': 1.0058343583240792, 'gamma': 'scale', 'degree': 2}. Best is trial 268 with value: 22.839583217540966.\u001b[0m\n",
      "\u001b[32m[I 2022-06-02 16:15:13,092]\u001b[0m Trial 313 finished with value: 22.84060977300106 and parameters: {'classifier': 'SVR', 'kernel': 'poly', 'C': 2.373585836685282, 'gamma': 'scale', 'degree': 2}. Best is trial 268 with value: 22.839583217540966.\u001b[0m\n",
      "\u001b[32m[I 2022-06-02 16:15:13,312]\u001b[0m Trial 314 finished with value: 22.839633024406517 and parameters: {'classifier': 'SVR', 'kernel': 'poly', 'C': 2.442614601642545, 'gamma': 'scale', 'degree': 2}. Best is trial 268 with value: 22.839583217540966.\u001b[0m\n",
      "\u001b[32m[I 2022-06-02 16:15:13,535]\u001b[0m Trial 315 finished with value: 22.83970501329161 and parameters: {'classifier': 'SVR', 'kernel': 'poly', 'C': 2.4482448469756264, 'gamma': 'scale', 'degree': 2}. Best is trial 268 with value: 22.839583217540966.\u001b[0m\n",
      "\u001b[32m[I 2022-06-02 16:15:13,748]\u001b[0m Trial 316 finished with value: 22.842349976577456 and parameters: {'classifier': 'SVR', 'kernel': 'poly', 'C': 2.2810370209282818, 'gamma': 'scale', 'degree': 2}. Best is trial 268 with value: 22.839583217540966.\u001b[0m\n",
      "\u001b[32m[I 2022-06-02 16:15:13,970]\u001b[0m Trial 317 finished with value: 22.83998399702042 and parameters: {'classifier': 'SVR', 'kernel': 'poly', 'C': 2.469116904261143, 'gamma': 'scale', 'degree': 2}. Best is trial 268 with value: 22.839583217540966.\u001b[0m\n",
      "\u001b[32m[I 2022-06-02 16:15:14,195]\u001b[0m Trial 318 finished with value: 22.840890150730843 and parameters: {'classifier': 'SVR', 'kernel': 'poly', 'C': 2.35260756628953, 'gamma': 'scale', 'degree': 2}. Best is trial 268 with value: 22.839583217540966.\u001b[0m\n",
      "\u001b[32m[I 2022-06-02 16:15:14,407]\u001b[0m Trial 319 finished with value: 25.067224233310274 and parameters: {'classifier': 'SVR', 'kernel': 'poly', 'C': 2.4243356035536556, 'gamma': 'auto', 'degree': 2}. Best is trial 268 with value: 22.839583217540966.\u001b[0m\n",
      "\u001b[32m[I 2022-06-02 16:15:14,620]\u001b[0m Trial 320 finished with value: 22.839783728875624 and parameters: {'classifier': 'SVR', 'kernel': 'poly', 'C': 2.4546524422308007, 'gamma': 'scale', 'degree': 2}. Best is trial 268 with value: 22.839583217540966.\u001b[0m\n",
      "\u001b[32m[I 2022-06-02 16:15:14,834]\u001b[0m Trial 321 finished with value: 22.8401786693177 and parameters: {'classifier': 'SVR', 'kernel': 'poly', 'C': 2.3871609610747586, 'gamma': 'scale', 'degree': 2}. Best is trial 268 with value: 22.839583217540966.\u001b[0m\n"
     ]
    },
    {
     "name": "stdout",
     "output_type": "stream",
     "text": [
      "MAE:22.839583217540966\n",
      "Best Hyperparameters:{'classifier': 'SVR', 'kernel': 'poly', 'C': 2.438701970178043, 'gamma': 'scale', 'degree': 2}\n"
     ]
    }
   ],
   "source": [
    "study = optuna.create_study(direction=\"minimize\")\n",
    "study.optimize(objective,timeout=120)\n",
    "\n",
    "trial = study.best_trial\n",
    "print('MAE:{}'.format(trial.value))\n",
    "print('Best Hyperparameters:{}'.format(trial.params))"
   ]
  },
  {
   "cell_type": "code",
   "execution_count": 46,
   "id": "ecdf5f5e",
   "metadata": {
    "ExecuteTime": {
     "end_time": "2022-06-02T09:15:14.859212Z",
     "start_time": "2022-06-02T09:15:14.844218Z"
    }
   },
   "outputs": [
    {
     "name": "stdout",
     "output_type": "stream",
     "text": [
      "{'classifier': 'SVR', 'kernel': 'poly', 'C': 2.438701970178043, 'gamma': 'scale', 'degree': 2}\n",
      "B\n"
     ]
    }
   ],
   "source": [
    "print(trial.params)\n",
    "param_dict=trial.params.copy()\n",
    "del param_dict['classifier']\n",
    "\n",
    "if trial.params['classifier']=='RandomForestRegressor':\n",
    "    print(\"A\")\n",
    "    clf=RandomForestRegressor(**param_dict)\n",
    "    \n",
    "elif trial.params['classifier']=='SVR':\n",
    "    print(\"B\")\n",
    "    clf=SVR(**param_dict)\n",
    "    \n",
    "numerical_pipe = Pipeline([\n",
    "        ('imputer', SimpleImputer(strategy='mean')),\n",
    "        ('scaler', MinMaxScaler())\n",
    "    ])\n",
    "\n",
    "categorical_pipe = Pipeline([\n",
    "        ('imputer', SimpleImputer(strategy='constant', fill_value='missing')),\n",
    "        ('encoder', OneHotEncoder(handle_unknown='ignore', sparse=False))\n",
    "    ])\n",
    "\n",
    "transformer = ColumnTransformer(transformers=[\n",
    "        ('num', numerical_pipe, NUMERICAL),\n",
    "        ('cat', categorical_pipe, CATEGORICAL)\n",
    "    ])\n",
    "\n",
    "model = Pipeline(steps=[('transformer',transformer),\n",
    "                           ('classifier',clf)])"
   ]
  },
  {
   "cell_type": "code",
   "execution_count": 47,
   "id": "75b81fc5",
   "metadata": {
    "ExecuteTime": {
     "end_time": "2022-06-02T09:15:14.923212Z",
     "start_time": "2022-06-02T09:15:14.860216Z"
    }
   },
   "outputs": [
    {
     "data": {
      "text/html": [
       "<style>#sk-container-id-1 {color: black;background-color: white;}#sk-container-id-1 pre{padding: 0;}#sk-container-id-1 div.sk-toggleable {background-color: white;}#sk-container-id-1 label.sk-toggleable__label {cursor: pointer;display: block;width: 100%;margin-bottom: 0;padding: 0.3em;box-sizing: border-box;text-align: center;}#sk-container-id-1 label.sk-toggleable__label-arrow:before {content: \"▸\";float: left;margin-right: 0.25em;color: #696969;}#sk-container-id-1 label.sk-toggleable__label-arrow:hover:before {color: black;}#sk-container-id-1 div.sk-estimator:hover label.sk-toggleable__label-arrow:before {color: black;}#sk-container-id-1 div.sk-toggleable__content {max-height: 0;max-width: 0;overflow: hidden;text-align: left;background-color: #f0f8ff;}#sk-container-id-1 div.sk-toggleable__content pre {margin: 0.2em;color: black;border-radius: 0.25em;background-color: #f0f8ff;}#sk-container-id-1 input.sk-toggleable__control:checked~div.sk-toggleable__content {max-height: 200px;max-width: 100%;overflow: auto;}#sk-container-id-1 input.sk-toggleable__control:checked~label.sk-toggleable__label-arrow:before {content: \"▾\";}#sk-container-id-1 div.sk-estimator input.sk-toggleable__control:checked~label.sk-toggleable__label {background-color: #d4ebff;}#sk-container-id-1 div.sk-label input.sk-toggleable__control:checked~label.sk-toggleable__label {background-color: #d4ebff;}#sk-container-id-1 input.sk-hidden--visually {border: 0;clip: rect(1px 1px 1px 1px);clip: rect(1px, 1px, 1px, 1px);height: 1px;margin: -1px;overflow: hidden;padding: 0;position: absolute;width: 1px;}#sk-container-id-1 div.sk-estimator {font-family: monospace;background-color: #f0f8ff;border: 1px dotted black;border-radius: 0.25em;box-sizing: border-box;margin-bottom: 0.5em;}#sk-container-id-1 div.sk-estimator:hover {background-color: #d4ebff;}#sk-container-id-1 div.sk-parallel-item::after {content: \"\";width: 100%;border-bottom: 1px solid gray;flex-grow: 1;}#sk-container-id-1 div.sk-label:hover label.sk-toggleable__label {background-color: #d4ebff;}#sk-container-id-1 div.sk-serial::before {content: \"\";position: absolute;border-left: 1px solid gray;box-sizing: border-box;top: 0;bottom: 0;left: 50%;z-index: 0;}#sk-container-id-1 div.sk-serial {display: flex;flex-direction: column;align-items: center;background-color: white;padding-right: 0.2em;padding-left: 0.2em;position: relative;}#sk-container-id-1 div.sk-item {position: relative;z-index: 1;}#sk-container-id-1 div.sk-parallel {display: flex;align-items: stretch;justify-content: center;background-color: white;position: relative;}#sk-container-id-1 div.sk-item::before, #sk-container-id-1 div.sk-parallel-item::before {content: \"\";position: absolute;border-left: 1px solid gray;box-sizing: border-box;top: 0;bottom: 0;left: 50%;z-index: -1;}#sk-container-id-1 div.sk-parallel-item {display: flex;flex-direction: column;z-index: 1;position: relative;background-color: white;}#sk-container-id-1 div.sk-parallel-item:first-child::after {align-self: flex-end;width: 50%;}#sk-container-id-1 div.sk-parallel-item:last-child::after {align-self: flex-start;width: 50%;}#sk-container-id-1 div.sk-parallel-item:only-child::after {width: 0;}#sk-container-id-1 div.sk-dashed-wrapped {border: 1px dashed gray;margin: 0 0.4em 0.5em 0.4em;box-sizing: border-box;padding-bottom: 0.4em;background-color: white;}#sk-container-id-1 div.sk-label label {font-family: monospace;font-weight: bold;display: inline-block;line-height: 1.2em;}#sk-container-id-1 div.sk-label-container {text-align: center;}#sk-container-id-1 div.sk-container {/* jupyter's `normalize.less` sets `[hidden] { display: none; }` but bootstrap.min.css set `[hidden] { display: none !important; }` so we also need the `!important` here to be able to override the default hidden behavior on the sphinx rendered scikit-learn.org. See: https://github.com/scikit-learn/scikit-learn/issues/21755 */display: inline-block !important;position: relative;}#sk-container-id-1 div.sk-text-repr-fallback {display: none;}</style><div id=\"sk-container-id-1\" class=\"sk-top-container\"><div class=\"sk-text-repr-fallback\"><pre>Pipeline(steps=[(&#x27;transformer&#x27;,\n",
       "                 ColumnTransformer(transformers=[(&#x27;num&#x27;,\n",
       "                                                  Pipeline(steps=[(&#x27;imputer&#x27;,\n",
       "                                                                   SimpleImputer()),\n",
       "                                                                  (&#x27;scaler&#x27;,\n",
       "                                                                   MinMaxScaler())]),\n",
       "                                                  Index([&#x27;year&#x27;, &#x27;age&#x27;], dtype=&#x27;object&#x27;)),\n",
       "                                                 (&#x27;cat&#x27;,\n",
       "                                                  Pipeline(steps=[(&#x27;imputer&#x27;,\n",
       "                                                                   SimpleImputer(fill_value=&#x27;missing&#x27;,\n",
       "                                                                                 strategy=&#x27;constant&#x27;)),\n",
       "                                                                  (&#x27;encoder&#x27;,\n",
       "                                                                   OneHotEncoder(handle_unknown=&#x27;ignore&#x27;,\n",
       "                                                                                 sparse=False))]),\n",
       "                                                  Index([&#x27;education&#x27;, &#x27;health&#x27;, &#x27;health_ins&#x27;, &#x27;jobclass&#x27;, &#x27;maritl&#x27;, &#x27;race&#x27;,\n",
       "       &#x27;region&#x27;],\n",
       "      dtype=&#x27;object&#x27;))])),\n",
       "                (&#x27;classifier&#x27;,\n",
       "                 SVR(C=2.438701970178043, degree=2, kernel=&#x27;poly&#x27;))])</pre><b>In a Jupyter environment, please rerun this cell to show the HTML representation or trust the notebook. <br />On GitHub, the HTML representation is unable to render, please try loading this page with nbviewer.org.</b></div><div class=\"sk-container\" hidden><div class=\"sk-item sk-dashed-wrapped\"><div class=\"sk-label-container\"><div class=\"sk-label sk-toggleable\"><input class=\"sk-toggleable__control sk-hidden--visually\" id=\"sk-estimator-id-1\" type=\"checkbox\" ><label for=\"sk-estimator-id-1\" class=\"sk-toggleable__label sk-toggleable__label-arrow\">Pipeline</label><div class=\"sk-toggleable__content\"><pre>Pipeline(steps=[(&#x27;transformer&#x27;,\n",
       "                 ColumnTransformer(transformers=[(&#x27;num&#x27;,\n",
       "                                                  Pipeline(steps=[(&#x27;imputer&#x27;,\n",
       "                                                                   SimpleImputer()),\n",
       "                                                                  (&#x27;scaler&#x27;,\n",
       "                                                                   MinMaxScaler())]),\n",
       "                                                  Index([&#x27;year&#x27;, &#x27;age&#x27;], dtype=&#x27;object&#x27;)),\n",
       "                                                 (&#x27;cat&#x27;,\n",
       "                                                  Pipeline(steps=[(&#x27;imputer&#x27;,\n",
       "                                                                   SimpleImputer(fill_value=&#x27;missing&#x27;,\n",
       "                                                                                 strategy=&#x27;constant&#x27;)),\n",
       "                                                                  (&#x27;encoder&#x27;,\n",
       "                                                                   OneHotEncoder(handle_unknown=&#x27;ignore&#x27;,\n",
       "                                                                                 sparse=False))]),\n",
       "                                                  Index([&#x27;education&#x27;, &#x27;health&#x27;, &#x27;health_ins&#x27;, &#x27;jobclass&#x27;, &#x27;maritl&#x27;, &#x27;race&#x27;,\n",
       "       &#x27;region&#x27;],\n",
       "      dtype=&#x27;object&#x27;))])),\n",
       "                (&#x27;classifier&#x27;,\n",
       "                 SVR(C=2.438701970178043, degree=2, kernel=&#x27;poly&#x27;))])</pre></div></div></div><div class=\"sk-serial\"><div class=\"sk-item sk-dashed-wrapped\"><div class=\"sk-label-container\"><div class=\"sk-label sk-toggleable\"><input class=\"sk-toggleable__control sk-hidden--visually\" id=\"sk-estimator-id-2\" type=\"checkbox\" ><label for=\"sk-estimator-id-2\" class=\"sk-toggleable__label sk-toggleable__label-arrow\">transformer: ColumnTransformer</label><div class=\"sk-toggleable__content\"><pre>ColumnTransformer(transformers=[(&#x27;num&#x27;,\n",
       "                                 Pipeline(steps=[(&#x27;imputer&#x27;, SimpleImputer()),\n",
       "                                                 (&#x27;scaler&#x27;, MinMaxScaler())]),\n",
       "                                 Index([&#x27;year&#x27;, &#x27;age&#x27;], dtype=&#x27;object&#x27;)),\n",
       "                                (&#x27;cat&#x27;,\n",
       "                                 Pipeline(steps=[(&#x27;imputer&#x27;,\n",
       "                                                  SimpleImputer(fill_value=&#x27;missing&#x27;,\n",
       "                                                                strategy=&#x27;constant&#x27;)),\n",
       "                                                 (&#x27;encoder&#x27;,\n",
       "                                                  OneHotEncoder(handle_unknown=&#x27;ignore&#x27;,\n",
       "                                                                sparse=False))]),\n",
       "                                 Index([&#x27;education&#x27;, &#x27;health&#x27;, &#x27;health_ins&#x27;, &#x27;jobclass&#x27;, &#x27;maritl&#x27;, &#x27;race&#x27;,\n",
       "       &#x27;region&#x27;],\n",
       "      dtype=&#x27;object&#x27;))])</pre></div></div></div><div class=\"sk-parallel\"><div class=\"sk-parallel-item\"><div class=\"sk-item\"><div class=\"sk-label-container\"><div class=\"sk-label sk-toggleable\"><input class=\"sk-toggleable__control sk-hidden--visually\" id=\"sk-estimator-id-3\" type=\"checkbox\" ><label for=\"sk-estimator-id-3\" class=\"sk-toggleable__label sk-toggleable__label-arrow\">num</label><div class=\"sk-toggleable__content\"><pre>Index([&#x27;year&#x27;, &#x27;age&#x27;], dtype=&#x27;object&#x27;)</pre></div></div></div><div class=\"sk-serial\"><div class=\"sk-item\"><div class=\"sk-serial\"><div class=\"sk-item\"><div class=\"sk-estimator sk-toggleable\"><input class=\"sk-toggleable__control sk-hidden--visually\" id=\"sk-estimator-id-4\" type=\"checkbox\" ><label for=\"sk-estimator-id-4\" class=\"sk-toggleable__label sk-toggleable__label-arrow\">SimpleImputer</label><div class=\"sk-toggleable__content\"><pre>SimpleImputer()</pre></div></div></div><div class=\"sk-item\"><div class=\"sk-estimator sk-toggleable\"><input class=\"sk-toggleable__control sk-hidden--visually\" id=\"sk-estimator-id-5\" type=\"checkbox\" ><label for=\"sk-estimator-id-5\" class=\"sk-toggleable__label sk-toggleable__label-arrow\">MinMaxScaler</label><div class=\"sk-toggleable__content\"><pre>MinMaxScaler()</pre></div></div></div></div></div></div></div></div><div class=\"sk-parallel-item\"><div class=\"sk-item\"><div class=\"sk-label-container\"><div class=\"sk-label sk-toggleable\"><input class=\"sk-toggleable__control sk-hidden--visually\" id=\"sk-estimator-id-6\" type=\"checkbox\" ><label for=\"sk-estimator-id-6\" class=\"sk-toggleable__label sk-toggleable__label-arrow\">cat</label><div class=\"sk-toggleable__content\"><pre>Index([&#x27;education&#x27;, &#x27;health&#x27;, &#x27;health_ins&#x27;, &#x27;jobclass&#x27;, &#x27;maritl&#x27;, &#x27;race&#x27;,\n",
       "       &#x27;region&#x27;],\n",
       "      dtype=&#x27;object&#x27;)</pre></div></div></div><div class=\"sk-serial\"><div class=\"sk-item\"><div class=\"sk-serial\"><div class=\"sk-item\"><div class=\"sk-estimator sk-toggleable\"><input class=\"sk-toggleable__control sk-hidden--visually\" id=\"sk-estimator-id-7\" type=\"checkbox\" ><label for=\"sk-estimator-id-7\" class=\"sk-toggleable__label sk-toggleable__label-arrow\">SimpleImputer</label><div class=\"sk-toggleable__content\"><pre>SimpleImputer(fill_value=&#x27;missing&#x27;, strategy=&#x27;constant&#x27;)</pre></div></div></div><div class=\"sk-item\"><div class=\"sk-estimator sk-toggleable\"><input class=\"sk-toggleable__control sk-hidden--visually\" id=\"sk-estimator-id-8\" type=\"checkbox\" ><label for=\"sk-estimator-id-8\" class=\"sk-toggleable__label sk-toggleable__label-arrow\">OneHotEncoder</label><div class=\"sk-toggleable__content\"><pre>OneHotEncoder(handle_unknown=&#x27;ignore&#x27;, sparse=False)</pre></div></div></div></div></div></div></div></div></div></div><div class=\"sk-item\"><div class=\"sk-estimator sk-toggleable\"><input class=\"sk-toggleable__control sk-hidden--visually\" id=\"sk-estimator-id-9\" type=\"checkbox\" ><label for=\"sk-estimator-id-9\" class=\"sk-toggleable__label sk-toggleable__label-arrow\">SVR</label><div class=\"sk-toggleable__content\"><pre>SVR(C=2.438701970178043, degree=2, kernel=&#x27;poly&#x27;)</pre></div></div></div></div></div></div></div>"
      ],
      "text/plain": [
       "Pipeline(steps=[('transformer',\n",
       "                 ColumnTransformer(transformers=[('num',\n",
       "                                                  Pipeline(steps=[('imputer',\n",
       "                                                                   SimpleImputer()),\n",
       "                                                                  ('scaler',\n",
       "                                                                   MinMaxScaler())]),\n",
       "                                                  Index(['year', 'age'], dtype='object')),\n",
       "                                                 ('cat',\n",
       "                                                  Pipeline(steps=[('imputer',\n",
       "                                                                   SimpleImputer(fill_value='missing',\n",
       "                                                                                 strategy='constant')),\n",
       "                                                                  ('encoder',\n",
       "                                                                   OneHotEncoder(handle_unknown='ignore',\n",
       "                                                                                 sparse=False))]),\n",
       "                                                  Index(['education', 'health', 'health_ins', 'jobclass', 'maritl', 'race',\n",
       "       'region'],\n",
       "      dtype='object'))])),\n",
       "                ('classifier',\n",
       "                 SVR(C=2.438701970178043, degree=2, kernel='poly'))])"
      ]
     },
     "execution_count": 47,
     "metadata": {},
     "output_type": "execute_result"
    }
   ],
   "source": [
    "model"
   ]
  },
  {
   "cell_type": "code",
   "execution_count": 48,
   "id": "8b1e0150",
   "metadata": {
    "ExecuteTime": {
     "end_time": "2022-06-02T09:15:15.328246Z",
     "start_time": "2022-06-02T09:15:14.924213Z"
    }
   },
   "outputs": [
    {
     "name": "stdout",
     "output_type": "stream",
     "text": [
      "MAE Train: 22.286513694849557\n",
      "MAE Test : 22.379027147794506\n"
     ]
    }
   ],
   "source": [
    "model.fit(X_train,y_train)\n",
    "print(\"MAE Train:\",mean_absolute_error(y_train,model.predict(X_train)))\n",
    "print(\"MAE Test :\",mean_absolute_error(y_test,model.predict(X_test)))"
   ]
  }
 ],
 "metadata": {
  "kernelspec": {
   "display_name": "Python 3 (ipykernel)",
   "language": "python",
   "name": "python3"
  },
  "language_info": {
   "codemirror_mode": {
    "name": "ipython",
    "version": 3
   },
   "file_extension": ".py",
   "mimetype": "text/x-python",
   "name": "python",
   "nbconvert_exporter": "python",
   "pygments_lexer": "ipython3",
   "version": "3.9.10"
  }
 },
 "nbformat": 4,
 "nbformat_minor": 5
}
