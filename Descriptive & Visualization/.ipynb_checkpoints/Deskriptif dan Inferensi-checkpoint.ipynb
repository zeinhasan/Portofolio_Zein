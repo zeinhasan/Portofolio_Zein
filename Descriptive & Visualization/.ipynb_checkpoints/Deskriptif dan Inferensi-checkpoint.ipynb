{
 "cells": [
  {
   "cell_type": "markdown",
   "id": "5314fa8c",
   "metadata": {},
   "source": [
    "# Analisis Deskriptif"
   ]
  },
  {
   "cell_type": "code",
   "execution_count": 2,
   "id": "ff9854fd",
   "metadata": {},
   "outputs": [
    {
     "data": {
      "text/html": [
       "<div>\n",
       "<style scoped>\n",
       "    .dataframe tbody tr th:only-of-type {\n",
       "        vertical-align: middle;\n",
       "    }\n",
       "\n",
       "    .dataframe tbody tr th {\n",
       "        vertical-align: top;\n",
       "    }\n",
       "\n",
       "    .dataframe thead th {\n",
       "        text-align: right;\n",
       "    }\n",
       "</style>\n",
       "<table border=\"1\" class=\"dataframe\">\n",
       "  <thead>\n",
       "    <tr style=\"text-align: right;\">\n",
       "      <th></th>\n",
       "      <th>id</th>\n",
       "      <th>Gender</th>\n",
       "      <th>Python_user</th>\n",
       "      <th>R_user</th>\n",
       "      <th>Age</th>\n",
       "      <th>Publications</th>\n",
       "      <th>Tasks</th>\n",
       "      <th>Q1</th>\n",
       "      <th>Q2</th>\n",
       "      <th>Q3</th>\n",
       "      <th>Q4</th>\n",
       "      <th>Q5</th>\n",
       "      <th>Q6</th>\n",
       "      <th>Q7</th>\n",
       "      <th>Q8</th>\n",
       "      <th>Q9</th>\n",
       "      <th>Q10</th>\n",
       "      <th>Year</th>\n",
       "    </tr>\n",
       "  </thead>\n",
       "  <tbody>\n",
       "    <tr>\n",
       "      <th>0</th>\n",
       "      <td>1</td>\n",
       "      <td>female</td>\n",
       "      <td>yes</td>\n",
       "      <td>yes</td>\n",
       "      <td>38.0</td>\n",
       "      <td>33</td>\n",
       "      <td>Postdoctoral_research</td>\n",
       "      <td>5</td>\n",
       "      <td>5</td>\n",
       "      <td>5</td>\n",
       "      <td>3</td>\n",
       "      <td>3</td>\n",
       "      <td>2</td>\n",
       "      <td>5</td>\n",
       "      <td>4</td>\n",
       "      <td>5</td>\n",
       "      <td>4</td>\n",
       "      <td>2004</td>\n",
       "    </tr>\n",
       "    <tr>\n",
       "      <th>1</th>\n",
       "      <td>2</td>\n",
       "      <td>male</td>\n",
       "      <td>no</td>\n",
       "      <td>yes</td>\n",
       "      <td>36.0</td>\n",
       "      <td>31</td>\n",
       "      <td>Postdoctoral_research</td>\n",
       "      <td>3</td>\n",
       "      <td>4</td>\n",
       "      <td>4</td>\n",
       "      <td>4</td>\n",
       "      <td>4</td>\n",
       "      <td>3</td>\n",
       "      <td>5</td>\n",
       "      <td>4</td>\n",
       "      <td>4</td>\n",
       "      <td>2</td>\n",
       "      <td>2002</td>\n",
       "    </tr>\n",
       "    <tr>\n",
       "      <th>2</th>\n",
       "      <td>3</td>\n",
       "      <td>male</td>\n",
       "      <td>yes</td>\n",
       "      <td>no</td>\n",
       "      <td>30.0</td>\n",
       "      <td>19</td>\n",
       "      <td>PhD_Student</td>\n",
       "      <td>5</td>\n",
       "      <td>5</td>\n",
       "      <td>5</td>\n",
       "      <td>4</td>\n",
       "      <td>5</td>\n",
       "      <td>4</td>\n",
       "      <td>5</td>\n",
       "      <td>4</td>\n",
       "      <td>5</td>\n",
       "      <td>5</td>\n",
       "      <td>2016</td>\n",
       "    </tr>\n",
       "    <tr>\n",
       "      <th>3</th>\n",
       "      <td>4</td>\n",
       "      <td>female</td>\n",
       "      <td>yes</td>\n",
       "      <td>no</td>\n",
       "      <td>42.0</td>\n",
       "      <td>29</td>\n",
       "      <td>Phd_Supervisor</td>\n",
       "      <td>4</td>\n",
       "      <td>4</td>\n",
       "      <td>4</td>\n",
       "      <td>3</td>\n",
       "      <td>3</td>\n",
       "      <td>4</td>\n",
       "      <td>4</td>\n",
       "      <td>2</td>\n",
       "      <td>3</td>\n",
       "      <td>4</td>\n",
       "      <td>2007</td>\n",
       "    </tr>\n",
       "    <tr>\n",
       "      <th>4</th>\n",
       "      <td>5</td>\n",
       "      <td>female</td>\n",
       "      <td>yes</td>\n",
       "      <td>no</td>\n",
       "      <td>37.0</td>\n",
       "      <td>31</td>\n",
       "      <td>PhD_Student</td>\n",
       "      <td>4</td>\n",
       "      <td>3</td>\n",
       "      <td>5</td>\n",
       "      <td>2</td>\n",
       "      <td>4</td>\n",
       "      <td>4</td>\n",
       "      <td>5</td>\n",
       "      <td>3</td>\n",
       "      <td>5</td>\n",
       "      <td>4</td>\n",
       "      <td>2001</td>\n",
       "    </tr>\n",
       "    <tr>\n",
       "      <th>...</th>\n",
       "      <td>...</td>\n",
       "      <td>...</td>\n",
       "      <td>...</td>\n",
       "      <td>...</td>\n",
       "      <td>...</td>\n",
       "      <td>...</td>\n",
       "      <td>...</td>\n",
       "      <td>...</td>\n",
       "      <td>...</td>\n",
       "      <td>...</td>\n",
       "      <td>...</td>\n",
       "      <td>...</td>\n",
       "      <td>...</td>\n",
       "      <td>...</td>\n",
       "      <td>...</td>\n",
       "      <td>...</td>\n",
       "      <td>...</td>\n",
       "      <td>...</td>\n",
       "    </tr>\n",
       "    <tr>\n",
       "      <th>195</th>\n",
       "      <td>196</td>\n",
       "      <td>male</td>\n",
       "      <td>no</td>\n",
       "      <td>yes</td>\n",
       "      <td>33.0</td>\n",
       "      <td>18</td>\n",
       "      <td>PhD_Student</td>\n",
       "      <td>2</td>\n",
       "      <td>4</td>\n",
       "      <td>5</td>\n",
       "      <td>4</td>\n",
       "      <td>3</td>\n",
       "      <td>3</td>\n",
       "      <td>5</td>\n",
       "      <td>5</td>\n",
       "      <td>2</td>\n",
       "      <td>3</td>\n",
       "      <td>2001</td>\n",
       "    </tr>\n",
       "    <tr>\n",
       "      <th>196</th>\n",
       "      <td>197</td>\n",
       "      <td>male</td>\n",
       "      <td>yes</td>\n",
       "      <td>no</td>\n",
       "      <td>37.0</td>\n",
       "      <td>35</td>\n",
       "      <td>Postdoctoral_research</td>\n",
       "      <td>4</td>\n",
       "      <td>5</td>\n",
       "      <td>4</td>\n",
       "      <td>3</td>\n",
       "      <td>5</td>\n",
       "      <td>3</td>\n",
       "      <td>5</td>\n",
       "      <td>4</td>\n",
       "      <td>5</td>\n",
       "      <td>4</td>\n",
       "      <td>2001</td>\n",
       "    </tr>\n",
       "    <tr>\n",
       "      <th>197</th>\n",
       "      <td>198</td>\n",
       "      <td>female</td>\n",
       "      <td>yes</td>\n",
       "      <td>no</td>\n",
       "      <td>36.0</td>\n",
       "      <td>32</td>\n",
       "      <td>PhD_Student</td>\n",
       "      <td>3</td>\n",
       "      <td>4</td>\n",
       "      <td>3</td>\n",
       "      <td>4</td>\n",
       "      <td>4</td>\n",
       "      <td>3</td>\n",
       "      <td>5</td>\n",
       "      <td>4</td>\n",
       "      <td>3</td>\n",
       "      <td>5</td>\n",
       "      <td>2010</td>\n",
       "    </tr>\n",
       "    <tr>\n",
       "      <th>198</th>\n",
       "      <td>199</td>\n",
       "      <td>female</td>\n",
       "      <td>yes</td>\n",
       "      <td>no</td>\n",
       "      <td>29.0</td>\n",
       "      <td>13</td>\n",
       "      <td>PhD_Student</td>\n",
       "      <td>5</td>\n",
       "      <td>4</td>\n",
       "      <td>3</td>\n",
       "      <td>4</td>\n",
       "      <td>5</td>\n",
       "      <td>5</td>\n",
       "      <td>5</td>\n",
       "      <td>3</td>\n",
       "      <td>5</td>\n",
       "      <td>3</td>\n",
       "      <td>2011</td>\n",
       "    </tr>\n",
       "    <tr>\n",
       "      <th>199</th>\n",
       "      <td>200</td>\n",
       "      <td>female</td>\n",
       "      <td>yes</td>\n",
       "      <td>yes</td>\n",
       "      <td>52.0</td>\n",
       "      <td>45</td>\n",
       "      <td>Phd_Supervisor</td>\n",
       "      <td>2</td>\n",
       "      <td>5</td>\n",
       "      <td>4</td>\n",
       "      <td>3</td>\n",
       "      <td>4</td>\n",
       "      <td>5</td>\n",
       "      <td>4</td>\n",
       "      <td>4</td>\n",
       "      <td>2</td>\n",
       "      <td>4</td>\n",
       "      <td>2009</td>\n",
       "    </tr>\n",
       "  </tbody>\n",
       "</table>\n",
       "<p>200 rows × 18 columns</p>\n",
       "</div>"
      ],
      "text/plain": [
       "      id  Gender Python_user R_user   Age  Publications  \\\n",
       "0      1  female         yes    yes  38.0            33   \n",
       "1      2    male          no    yes  36.0            31   \n",
       "2      3    male         yes     no  30.0            19   \n",
       "3      4  female         yes     no  42.0            29   \n",
       "4      5  female         yes     no  37.0            31   \n",
       "..   ...     ...         ...    ...   ...           ...   \n",
       "195  196    male          no    yes  33.0            18   \n",
       "196  197    male         yes     no  37.0            35   \n",
       "197  198  female         yes     no  36.0            32   \n",
       "198  199  female         yes     no  29.0            13   \n",
       "199  200  female         yes    yes  52.0            45   \n",
       "\n",
       "                     Tasks  Q1  Q2  Q3  Q4  Q5  Q6  Q7  Q8  Q9  Q10  Year  \n",
       "0    Postdoctoral_research   5   5   5   3   3   2   5   4   5    4  2004  \n",
       "1    Postdoctoral_research   3   4   4   4   4   3   5   4   4    2  2002  \n",
       "2              PhD_Student   5   5   5   4   5   4   5   4   5    5  2016  \n",
       "3           Phd_Supervisor   4   4   4   3   3   4   4   2   3    4  2007  \n",
       "4              PhD_Student   4   3   5   2   4   4   5   3   5    4  2001  \n",
       "..                     ...  ..  ..  ..  ..  ..  ..  ..  ..  ..  ...   ...  \n",
       "195            PhD_Student   2   4   5   4   3   3   5   5   2    3  2001  \n",
       "196  Postdoctoral_research   4   5   4   3   5   3   5   4   5    4  2001  \n",
       "197            PhD_Student   3   4   3   4   4   3   5   4   3    5  2010  \n",
       "198            PhD_Student   5   4   3   4   5   5   5   3   5    3  2011  \n",
       "199         Phd_Supervisor   2   5   4   3   4   5   4   4   2    4  2009  \n",
       "\n",
       "[200 rows x 18 columns]"
      ]
     },
     "execution_count": 2,
     "metadata": {},
     "output_type": "execute_result"
    }
   ],
   "source": [
    "from pandas import *\n",
    "import pandas as pd\n",
    "\n",
    "datadf =  pd.read_csv('D:/Komputasi Statistika 2/Komputasi Statistika 2/Data Buku.csv', sep=';')\n",
    "\n",
    "datadf"
   ]
  },
  {
   "cell_type": "code",
   "execution_count": 3,
   "id": "be75d694",
   "metadata": {},
   "outputs": [
    {
     "name": "stdout",
     "output_type": "stream",
     "text": [
      "\n",
      "Age Variable: \n",
      "\n",
      "Number of elements:      200\n",
      "Minimum:   24.000 Maximum:   52.000\n",
      "Mean:   37.056\n",
      "Variance:   31.779\n",
      "Standard Deviation :    5.637\n",
      "\n",
      "Publications: \n",
      "\n",
      "Number of elements:      200\n",
      "Minimum:   11.000 Maximum:   70.000\n",
      "Mean:   29.650\n",
      "Variance:   59.957\n",
      "Standard Deviation :    7.743\n"
     ]
    }
   ],
   "source": [
    "\n",
    "#Age\n",
    "print(\"\\nAge Variable: \\n\")\n",
    "print(\"Number of elements: {0:8.0f}\".format(len(datadf['Age'])))\n",
    "print(\"Minimum: {0:8.3f} Maximum: {1:8.3f}\".format(datadf['Age'].min(), datadf['Age'].max()))\n",
    "print(\"Mean: {0:8.3f}\".format(datadf['Age'].mean()))\n",
    "print(\"Variance: {0:8.3f}\".format(datadf['Age'].var()))\n",
    "print(\"Standard Deviation : {0:8.3f}\".format(datadf['Age'].std()))\n",
    "\n",
    "#Publications\n",
    "print(\"\\nPublications: \\n\")\n",
    "print(\"Number of elements: {0:8.0f}\".format(len(datadf['Publications'])))\n",
    "print(\"Minimum: {0:8.3f} Maximum: {1:8.3f}\".format(datadf['Publications'].min(), datadf['Publications'].max()))\n",
    "print(\"Mean: {0:8.3f}\".format(datadf['Publications'].mean()))\n",
    "print(\"Variance: {0:8.3f}\".format(datadf['Publications'].var()))\n",
    "print(\"Standard Deviation : {0:8.3f}\".format(datadf['Publications'].std()))"
   ]
  },
  {
   "cell_type": "code",
   "execution_count": 8,
   "id": "67602764",
   "metadata": {},
   "outputs": [
    {
     "data": {
      "text/html": [
       "<div>\n",
       "<style scoped>\n",
       "    .dataframe tbody tr th:only-of-type {\n",
       "        vertical-align: middle;\n",
       "    }\n",
       "\n",
       "    .dataframe tbody tr th {\n",
       "        vertical-align: top;\n",
       "    }\n",
       "\n",
       "    .dataframe thead th {\n",
       "        text-align: right;\n",
       "    }\n",
       "</style>\n",
       "<table border=\"1\" class=\"dataframe\">\n",
       "  <thead>\n",
       "    <tr style=\"text-align: right;\">\n",
       "      <th></th>\n",
       "      <th>id</th>\n",
       "      <th>Age</th>\n",
       "      <th>Publications</th>\n",
       "      <th>Q1</th>\n",
       "      <th>Q2</th>\n",
       "      <th>Q3</th>\n",
       "      <th>Q4</th>\n",
       "      <th>Q5</th>\n",
       "      <th>Q6</th>\n",
       "      <th>Q7</th>\n",
       "      <th>Q8</th>\n",
       "      <th>Q9</th>\n",
       "      <th>Q10</th>\n",
       "      <th>Year</th>\n",
       "    </tr>\n",
       "  </thead>\n",
       "  <tbody>\n",
       "    <tr>\n",
       "      <th>count</th>\n",
       "      <td>200.000000</td>\n",
       "      <td>198.000000</td>\n",
       "      <td>200.000000</td>\n",
       "      <td>200.000000</td>\n",
       "      <td>200.000000</td>\n",
       "      <td>200.00000</td>\n",
       "      <td>200.000000</td>\n",
       "      <td>200.00000</td>\n",
       "      <td>200.000000</td>\n",
       "      <td>200.000000</td>\n",
       "      <td>200.00000</td>\n",
       "      <td>200.000000</td>\n",
       "      <td>200.000000</td>\n",
       "      <td>200.000000</td>\n",
       "    </tr>\n",
       "    <tr>\n",
       "      <th>mean</th>\n",
       "      <td>100.500000</td>\n",
       "      <td>37.055556</td>\n",
       "      <td>29.650000</td>\n",
       "      <td>3.545000</td>\n",
       "      <td>3.920000</td>\n",
       "      <td>3.86500</td>\n",
       "      <td>3.210000</td>\n",
       "      <td>3.58500</td>\n",
       "      <td>3.380000</td>\n",
       "      <td>4.010000</td>\n",
       "      <td>3.10000</td>\n",
       "      <td>3.825000</td>\n",
       "      <td>3.905000</td>\n",
       "      <td>2008.325000</td>\n",
       "    </tr>\n",
       "    <tr>\n",
       "      <th>std</th>\n",
       "      <td>57.879185</td>\n",
       "      <td>5.637253</td>\n",
       "      <td>7.743209</td>\n",
       "      <td>1.210496</td>\n",
       "      <td>0.834916</td>\n",
       "      <td>1.03544</td>\n",
       "      <td>0.959428</td>\n",
       "      <td>1.18736</td>\n",
       "      <td>1.082339</td>\n",
       "      <td>0.951011</td>\n",
       "      <td>1.13421</td>\n",
       "      <td>1.188037</td>\n",
       "      <td>1.127979</td>\n",
       "      <td>4.547833</td>\n",
       "    </tr>\n",
       "    <tr>\n",
       "      <th>min</th>\n",
       "      <td>1.000000</td>\n",
       "      <td>24.000000</td>\n",
       "      <td>11.000000</td>\n",
       "      <td>1.000000</td>\n",
       "      <td>2.000000</td>\n",
       "      <td>1.00000</td>\n",
       "      <td>1.000000</td>\n",
       "      <td>1.00000</td>\n",
       "      <td>1.000000</td>\n",
       "      <td>1.000000</td>\n",
       "      <td>1.00000</td>\n",
       "      <td>1.000000</td>\n",
       "      <td>1.000000</td>\n",
       "      <td>2000.000000</td>\n",
       "    </tr>\n",
       "    <tr>\n",
       "      <th>25%</th>\n",
       "      <td>50.750000</td>\n",
       "      <td>33.000000</td>\n",
       "      <td>25.000000</td>\n",
       "      <td>3.000000</td>\n",
       "      <td>3.000000</td>\n",
       "      <td>3.00000</td>\n",
       "      <td>3.000000</td>\n",
       "      <td>3.00000</td>\n",
       "      <td>3.000000</td>\n",
       "      <td>3.750000</td>\n",
       "      <td>2.00000</td>\n",
       "      <td>3.000000</td>\n",
       "      <td>3.000000</td>\n",
       "      <td>2004.750000</td>\n",
       "    </tr>\n",
       "    <tr>\n",
       "      <th>50%</th>\n",
       "      <td>100.500000</td>\n",
       "      <td>37.000000</td>\n",
       "      <td>31.000000</td>\n",
       "      <td>4.000000</td>\n",
       "      <td>4.000000</td>\n",
       "      <td>4.00000</td>\n",
       "      <td>3.000000</td>\n",
       "      <td>4.00000</td>\n",
       "      <td>4.000000</td>\n",
       "      <td>4.000000</td>\n",
       "      <td>3.00000</td>\n",
       "      <td>4.000000</td>\n",
       "      <td>4.000000</td>\n",
       "      <td>2008.500000</td>\n",
       "    </tr>\n",
       "    <tr>\n",
       "      <th>75%</th>\n",
       "      <td>150.250000</td>\n",
       "      <td>41.000000</td>\n",
       "      <td>35.000000</td>\n",
       "      <td>4.000000</td>\n",
       "      <td>4.250000</td>\n",
       "      <td>5.00000</td>\n",
       "      <td>4.000000</td>\n",
       "      <td>5.00000</td>\n",
       "      <td>4.000000</td>\n",
       "      <td>5.000000</td>\n",
       "      <td>4.00000</td>\n",
       "      <td>5.000000</td>\n",
       "      <td>5.000000</td>\n",
       "      <td>2012.000000</td>\n",
       "    </tr>\n",
       "    <tr>\n",
       "      <th>max</th>\n",
       "      <td>200.000000</td>\n",
       "      <td>52.000000</td>\n",
       "      <td>70.000000</td>\n",
       "      <td>5.000000</td>\n",
       "      <td>5.000000</td>\n",
       "      <td>5.00000</td>\n",
       "      <td>5.000000</td>\n",
       "      <td>5.00000</td>\n",
       "      <td>5.000000</td>\n",
       "      <td>5.000000</td>\n",
       "      <td>5.00000</td>\n",
       "      <td>5.000000</td>\n",
       "      <td>5.000000</td>\n",
       "      <td>2016.000000</td>\n",
       "    </tr>\n",
       "  </tbody>\n",
       "</table>\n",
       "</div>"
      ],
      "text/plain": [
       "               id         Age  Publications          Q1          Q2  \\\n",
       "count  200.000000  198.000000    200.000000  200.000000  200.000000   \n",
       "mean   100.500000   37.055556     29.650000    3.545000    3.920000   \n",
       "std     57.879185    5.637253      7.743209    1.210496    0.834916   \n",
       "min      1.000000   24.000000     11.000000    1.000000    2.000000   \n",
       "25%     50.750000   33.000000     25.000000    3.000000    3.000000   \n",
       "50%    100.500000   37.000000     31.000000    4.000000    4.000000   \n",
       "75%    150.250000   41.000000     35.000000    4.000000    4.250000   \n",
       "max    200.000000   52.000000     70.000000    5.000000    5.000000   \n",
       "\n",
       "              Q3          Q4         Q5          Q6          Q7         Q8  \\\n",
       "count  200.00000  200.000000  200.00000  200.000000  200.000000  200.00000   \n",
       "mean     3.86500    3.210000    3.58500    3.380000    4.010000    3.10000   \n",
       "std      1.03544    0.959428    1.18736    1.082339    0.951011    1.13421   \n",
       "min      1.00000    1.000000    1.00000    1.000000    1.000000    1.00000   \n",
       "25%      3.00000    3.000000    3.00000    3.000000    3.750000    2.00000   \n",
       "50%      4.00000    3.000000    4.00000    4.000000    4.000000    3.00000   \n",
       "75%      5.00000    4.000000    5.00000    4.000000    5.000000    4.00000   \n",
       "max      5.00000    5.000000    5.00000    5.000000    5.000000    5.00000   \n",
       "\n",
       "               Q9         Q10         Year  \n",
       "count  200.000000  200.000000   200.000000  \n",
       "mean     3.825000    3.905000  2008.325000  \n",
       "std      1.188037    1.127979     4.547833  \n",
       "min      1.000000    1.000000  2000.000000  \n",
       "25%      3.000000    3.000000  2004.750000  \n",
       "50%      4.000000    4.000000  2008.500000  \n",
       "75%      5.000000    5.000000  2012.000000  \n",
       "max      5.000000    5.000000  2016.000000  "
      ]
     },
     "execution_count": 8,
     "metadata": {},
     "output_type": "execute_result"
    }
   ],
   "source": [
    "datadf.describe()"
   ]
  },
  {
   "cell_type": "markdown",
   "id": "28227249",
   "metadata": {},
   "source": [
    "Variabel kategori adalah variabel kualitatif dan tidak dapat direpresentasikan dengan angka. Dalam kumpulan data dalam studi, Gender peneliti, R_user (ya vs. tidak) dan Python_user (ya vs. tidak) adalah variabel kategorik. Secara khusus merupakan variabel kategori dalm skala nominal. Perbedaan antara variabel kategori nominal dan ordinal adalah mengenai penyajiannya, sementara variabel nominal dapat disajikan secara acak atau dalam urutan yang disukai analis, variabel ordinal harus disajikan dalam urutan yang lebih mudah dipahami. Misalnya, tingkatan sekolah harus ditunjukkan berdasarkan urutan, yaitu dari tingkat terendah sampai tertinggi.\n",
    "\n",
    "Untuk variabel kategori, analisis yang dapat dilakukan adalah menghitung frekuensi tiap kategori. Di Python, fungsi value_counts () memberikan nilai frekuensi. "
   ]
  },
  {
   "cell_type": "code",
   "execution_count": 20,
   "id": "e145029b",
   "metadata": {},
   "outputs": [
    {
     "data": {
      "text/html": [
       "<div>\n",
       "<style scoped>\n",
       "    .dataframe tbody tr th:only-of-type {\n",
       "        vertical-align: middle;\n",
       "    }\n",
       "\n",
       "    .dataframe tbody tr th {\n",
       "        vertical-align: top;\n",
       "    }\n",
       "\n",
       "    .dataframe thead th {\n",
       "        text-align: right;\n",
       "    }\n",
       "</style>\n",
       "<table border=\"1\" class=\"dataframe\">\n",
       "  <thead>\n",
       "    <tr style=\"text-align: right;\">\n",
       "      <th></th>\n",
       "      <th>Gender</th>\n",
       "      <th>cum_sum</th>\n",
       "      <th>cum_perc</th>\n",
       "    </tr>\n",
       "  </thead>\n",
       "  <tbody>\n",
       "    <tr>\n",
       "      <th>male</th>\n",
       "      <td>113</td>\n",
       "      <td>113</td>\n",
       "      <td>56.5</td>\n",
       "    </tr>\n",
       "    <tr>\n",
       "      <th>female</th>\n",
       "      <td>87</td>\n",
       "      <td>200</td>\n",
       "      <td>100.0</td>\n",
       "    </tr>\n",
       "  </tbody>\n",
       "</table>\n",
       "</div>"
      ],
      "text/plain": [
       "        Gender  cum_sum  cum_perc\n",
       "male       113      113      56.5\n",
       "female      87      200     100.0"
      ]
     },
     "execution_count": 20,
     "metadata": {},
     "output_type": "execute_result"
    }
   ],
   "source": [
    "#cumulative and relative frequencies\n",
    "gender_datadf = datadf['Gender']\n",
    "#group by gender\n",
    "gender_datadf = pd.DataFrame(gender_datadf.value_counts(sort=True))\n",
    "#create new column with cumulative sum\n",
    "gender_datadf['cum_sum'] = gender_datadf['Gender'].cumsum()\n",
    "#create new column with relative frequency\n",
    "gender_datadf['cum_perc'] = 100*gender_datadf['cum_sum']/gender_datadf['Gender'].sum()\n",
    "gender_datadf"
   ]
  },
  {
   "cell_type": "code",
   "execution_count": 22,
   "id": "ec8a2ce9",
   "metadata": {},
   "outputs": [
    {
     "data": {
      "text/html": [
       "<div>\n",
       "<style scoped>\n",
       "    .dataframe tbody tr th:only-of-type {\n",
       "        vertical-align: middle;\n",
       "    }\n",
       "\n",
       "    .dataframe tbody tr th {\n",
       "        vertical-align: top;\n",
       "    }\n",
       "\n",
       "    .dataframe thead th {\n",
       "        text-align: right;\n",
       "    }\n",
       "</style>\n",
       "<table border=\"1\" class=\"dataframe\">\n",
       "  <thead>\n",
       "    <tr style=\"text-align: right;\">\n",
       "      <th></th>\n",
       "      <th>Python_user</th>\n",
       "      <th>cum_sum</th>\n",
       "      <th>cum_perc</th>\n",
       "    </tr>\n",
       "  </thead>\n",
       "  <tbody>\n",
       "    <tr>\n",
       "      <th>yes</th>\n",
       "      <td>107</td>\n",
       "      <td>107</td>\n",
       "      <td>53.5</td>\n",
       "    </tr>\n",
       "    <tr>\n",
       "      <th>no</th>\n",
       "      <td>92</td>\n",
       "      <td>199</td>\n",
       "      <td>99.5</td>\n",
       "    </tr>\n",
       "    <tr>\n",
       "      <th>NaN</th>\n",
       "      <td>1</td>\n",
       "      <td>200</td>\n",
       "      <td>100.0</td>\n",
       "    </tr>\n",
       "  </tbody>\n",
       "</table>\n",
       "</div>"
      ],
      "text/plain": [
       "     Python_user  cum_sum  cum_perc\n",
       "yes          107      107      53.5\n",
       "no            92      199      99.5\n",
       "NaN            1      200     100.0"
      ]
     },
     "execution_count": 22,
     "metadata": {},
     "output_type": "execute_result"
    }
   ],
   "source": [
    "#cumulative and relative frequencies\n",
    "python_datadf = datadf['Python_user']\n",
    "#group by Python users\n",
    "python_datadf = pd.DataFrame(python_datadf.value_counts(sort=True, dropna =False))\n",
    "#create new column with cumulative sum\n",
    "python_datadf['cum_sum'] = python_datadf['Python_user'].cumsum()\n",
    "#create new column with relative frequency\n",
    "python_datadf['cum_perc'] = 100*python_datadf['cum_sum']/python_datadf['Python_user'].sum()\n",
    "python_datadf"
   ]
  },
  {
   "cell_type": "code",
   "execution_count": 23,
   "id": "a5512688",
   "metadata": {},
   "outputs": [
    {
     "data": {
      "text/html": [
       "<div>\n",
       "<style scoped>\n",
       "    .dataframe tbody tr th:only-of-type {\n",
       "        vertical-align: middle;\n",
       "    }\n",
       "\n",
       "    .dataframe tbody tr th {\n",
       "        vertical-align: top;\n",
       "    }\n",
       "\n",
       "    .dataframe thead th {\n",
       "        text-align: right;\n",
       "    }\n",
       "</style>\n",
       "<table border=\"1\" class=\"dataframe\">\n",
       "  <thead>\n",
       "    <tr style=\"text-align: right;\">\n",
       "      <th></th>\n",
       "      <th>R_user</th>\n",
       "      <th>cum_sum</th>\n",
       "      <th>cum_perc</th>\n",
       "    </tr>\n",
       "  </thead>\n",
       "  <tbody>\n",
       "    <tr>\n",
       "      <th>yes</th>\n",
       "      <td>109</td>\n",
       "      <td>109</td>\n",
       "      <td>54.5</td>\n",
       "    </tr>\n",
       "    <tr>\n",
       "      <th>no</th>\n",
       "      <td>91</td>\n",
       "      <td>200</td>\n",
       "      <td>100.0</td>\n",
       "    </tr>\n",
       "  </tbody>\n",
       "</table>\n",
       "</div>"
      ],
      "text/plain": [
       "     R_user  cum_sum  cum_perc\n",
       "yes     109      109      54.5\n",
       "no       91      200     100.0"
      ]
     },
     "execution_count": 23,
     "metadata": {},
     "output_type": "execute_result"
    }
   ],
   "source": [
    "#cumulative and relative frequencies\n",
    "r_datadf = datadf['R_user']\n",
    "#group by R users\n",
    "r_datadf = pd.DataFrame(r_datadf.value_counts(sort=True))\n",
    "#create new column with cumulative sum\n",
    "r_datadf['cum_sum'] = r_datadf['R_user'].cumsum()\n",
    "#create new column with relative frequency\n",
    "r_datadf['cum_perc'] = 100*r_datadf['cum_sum']/r_datadf['R_user'].sum()\n",
    "r_datadf"
   ]
  },
  {
   "cell_type": "code",
   "execution_count": 24,
   "id": "c4585309",
   "metadata": {},
   "outputs": [
    {
     "data": {
      "text/html": [
       "<div>\n",
       "<style scoped>\n",
       "    .dataframe tbody tr th:only-of-type {\n",
       "        vertical-align: middle;\n",
       "    }\n",
       "\n",
       "    .dataframe tbody tr th {\n",
       "        vertical-align: top;\n",
       "    }\n",
       "\n",
       "    .dataframe thead th {\n",
       "        text-align: right;\n",
       "    }\n",
       "</style>\n",
       "<table border=\"1\" class=\"dataframe\">\n",
       "  <thead>\n",
       "    <tr style=\"text-align: right;\">\n",
       "      <th></th>\n",
       "      <th>Tasks</th>\n",
       "      <th>cum_sum</th>\n",
       "      <th>cum_perc</th>\n",
       "    </tr>\n",
       "  </thead>\n",
       "  <tbody>\n",
       "    <tr>\n",
       "      <th>PhD_Student</th>\n",
       "      <td>78</td>\n",
       "      <td>78</td>\n",
       "      <td>39.0</td>\n",
       "    </tr>\n",
       "    <tr>\n",
       "      <th>Postdoctoral_research</th>\n",
       "      <td>66</td>\n",
       "      <td>144</td>\n",
       "      <td>72.0</td>\n",
       "    </tr>\n",
       "    <tr>\n",
       "      <th>Phd_Supervisor</th>\n",
       "      <td>56</td>\n",
       "      <td>200</td>\n",
       "      <td>100.0</td>\n",
       "    </tr>\n",
       "  </tbody>\n",
       "</table>\n",
       "</div>"
      ],
      "text/plain": [
       "                       Tasks  cum_sum  cum_perc\n",
       "PhD_Student               78       78      39.0\n",
       "Postdoctoral_research     66      144      72.0\n",
       "Phd_Supervisor            56      200     100.0"
      ]
     },
     "execution_count": 24,
     "metadata": {},
     "output_type": "execute_result"
    }
   ],
   "source": [
    "#cumulative and relative frequencies\n",
    "tasks_datadf = datadf['Tasks']\n",
    "#group by tasks\n",
    "tasks_datadf = pd.DataFrame(tasks_datadf.value_counts(sort=True))\n",
    "#create new column with cumulative sum\n",
    "tasks_datadf['cum_sum'] = tasks_datadf['Tasks'].cumsum()\n",
    "#create new column with relative frequency\n",
    "tasks_datadf['cum_perc'] = 100*tasks_datadf['cum_sum']/tasks_datadf['Tasks'].sum()\n",
    "tasks_datadf"
   ]
  },
  {
   "cell_type": "code",
   "execution_count": 27,
   "id": "1630f006",
   "metadata": {},
   "outputs": [
    {
     "name": "stdout",
     "output_type": "stream",
     "text": [
      "(array([ 0, 22, 71, 95, 12], dtype=int64), array([ 0, 10, 20, 30, 40, 70]))\n",
      "(array([ 0,  3, 19, 37, 55, 64, 20,  1,  0,  0,  1], dtype=int64), array([ 0.        ,  6.36363636, 12.72727273, 19.09090909, 25.45454545,\n",
      "       31.81818182, 38.18181818, 44.54545455, 50.90909091, 57.27272727,\n",
      "       63.63636364, 70.        ]))\n"
     ]
    }
   ],
   "source": [
    "import numpy as np\n",
    "#Class Division\n",
    "buckets = [0,10, 20, 30, 40,70]\n",
    "table = np.histogram(datadf['Publications'], bins=buckets)\n",
    "print(table)\n",
    "#equal size\n",
    "table = np.histogram(datadf['Publications'], bins=11, range=(0, 70))\n",
    "print(table)"
   ]
  },
  {
   "cell_type": "markdown",
   "id": "83dca4df",
   "metadata": {},
   "source": [
    "## Representasi Grafis\n",
    "Untuk meringkas data dengan cara visual, bagan dan / atau grafik adalah pilihan yang baik. Bergantung pada tipe datanya, grafik yang berbeda harus digunakan."
   ]
  },
  {
   "cell_type": "markdown",
   "id": "88eedd18",
   "metadata": {},
   "source": [
    "### PIe Chart\n",
    "Pie Chart atau biasa disebut sebagai diagram lingkaran digunakan untuk merepresentasikan variabel nominal secara grafis. Data dalam penelitian memiliki beberapa variabel jenis ini yaitu Gender, Python_user, R_user, dan Tasks. Perhatikan bahwa nama setiap potongan harus disebutkan dengan jelas. Jika tidak, gambar tanpa keterangan ditampilkan. Beberapa paket telah dibuat untuk membuat ilustrasi yang lebih baik dari jenis grafik ini."
   ]
  },
  {
   "cell_type": "code",
   "execution_count": 31,
   "id": "74b1710e",
   "metadata": {},
   "outputs": [
    {
     "data": {
      "image/png": "[encoded data removed]",
      "text/plain": [
       "<Figure size 432x288 with 1 Axes>"
      ]
     },
     "metadata": {},
     "output_type": "display_data"
    }
   ],
   "source": [
    "#Pie Chart Gender\n",
    "import matplotlib.pyplot as plt\n",
    "import pandas as pd\n",
    "#Pie chart labels\n",
    "label_list = datadf['Gender'].value_counts(sort=False).index\n",
    "plt.axis(\"equal\") #The pie chart is oval by default. To make it a circle use pyplot.axis(\"equal\")\n",
    "\n",
    "#To show the percentage of each pie slice, pass an output format to the autopctparameter \n",
    "plt.pie(datadf['Gender'].value_counts(sort=False),labels=label_list,autopct=\"%1.1f%%\") \n",
    "plt.title(\"Researchers Gender\")\n",
    "plt.show()"
   ]
  },
  {
   "cell_type": "code",
   "execution_count": 32,
   "id": "532de997",
   "metadata": {},
   "outputs": [
    {
     "data": {
      "image/png": "[encoded data removed]",
      "text/plain": [
       "<Figure size 432x288 with 1 Axes>"
      ]
     },
     "metadata": {},
     "output_type": "display_data"
    }
   ],
   "source": [
    "#Pie Chart Python_user\n",
    "#Pie chart labels\n",
    "label_list = datadf['Python_user'].value_counts(sort=False).index\n",
    "plt.axis(\"equal\") #The pie chart is oval by default. To make it a circle use pyplot.axis(\"equal\")\n",
    "\n",
    "#To show the percentage of each pie slice, pass an output format to the autopctparameter \n",
    "plt.pie(datadf['Python_user'].value_counts(sort=False),labels=label_list,autopct=\"%1.1f%%\") \n",
    "plt.title(\"Researchers Python Users\")\n",
    "plt.show()"
   ]
  },
  {
   "cell_type": "code",
   "execution_count": 33,
   "id": "9607baae",
   "metadata": {},
   "outputs": [
    {
     "data": {
      "image/png": "[encoded data removed]",
      "text/plain": [
       "<Figure size 432x288 with 1 Axes>"
      ]
     },
     "metadata": {},
     "output_type": "display_data"
    }
   ],
   "source": [
    "#Pie chart labels\n",
    "label_list = datadf['R_user'].value_counts(sort=False).index\n",
    "plt.axis(\"equal\") #The pie chart is oval by default. To make it a circle use pyplot.axis(\"equal\")\n",
    "\n",
    "#To show the percentage of each pie slice, pass an output format to the autopctparameter \n",
    "plt.pie(datadf['R_user'].value_counts(sort=False),labels=label_list,autopct=\"%1.1f%%\") \n",
    "plt.title(\"Researchers R Users\")\n",
    "plt.show()"
   ]
  },
  {
   "cell_type": "markdown",
   "id": "b44c6bcd",
   "metadata": {},
   "source": [
    "### Bar plot\n",
    "Mirip dengan Pie Chart, grafik batang atau Bar plot sangat berguna untuk variabel diskrit, yaitu variabel nominal. Untuk variabel Tasks, baik diagram lingkaran atau grafik batang cocok digunakan. "
   ]
  },
  {
   "cell_type": "code",
   "execution_count": 34,
   "id": "f40c2bec",
   "metadata": {},
   "outputs": [
    {
     "data": {
      "image/png": "[encoded data removed]",
      "text/plain": [
       "<Figure size 432x288 with 1 Axes>"
      ]
     },
     "metadata": {
      "needs_background": "light"
     },
     "output_type": "display_data"
    }
   ],
   "source": [
    "#tasks Barplot\n",
    "var = datadf['Tasks'].value_counts(sort=False); #grouped sum of Tasks\n",
    "plt.figure();\n",
    "plt.ylabel('Number of Reseachers')\n",
    "plt.title(\"Counting Reseacher's Tasks\")\n",
    "var.plot.bar();\n",
    "plt.show();"
   ]
  },
  {
   "cell_type": "markdown",
   "id": "7f4637f3",
   "metadata": {},
   "source": [
    "### Boxplot\n",
    "Salah satu cara terbaik untuk merepresentasikan variabel numerik adalah menggunakan diagram kotak (Boxplot). Jenis grafik ini memungkinkan pembuatan gagasan umum tentang variabel karena beberapa nilai kritis seperti median, kuartil, maksimum, minimum dan pencilan (jika ada) dapat diamati"
   ]
  },
  {
   "cell_type": "code",
   "execution_count": 35,
   "id": "133c0f03",
   "metadata": {},
   "outputs": [
    {
     "data": {
      "image/png": "[encoded data removed]",
      "text/plain": [
       "<Figure size 432x288 with 1 Axes>"
      ]
     },
     "metadata": {
      "needs_background": "light"
     },
     "output_type": "display_data"
    }
   ],
   "source": [
    "#Boxplot Publications\n",
    "import matplotlib.pyplot as plt\n",
    "import pandas as pd\n",
    "fig=plt.figure()\n",
    "ax = fig.add_subplot(1,1,1)\n",
    "#Variable\n",
    "ax.boxplot(datadf['Publications'],showfliers=True, flierprops = dict(marker='o', markerfacecolor='green', markersize=12,\n",
    "                  linestyle='none'))\n",
    "plt.title('Publications Boxplot')\n",
    "plt.show()"
   ]
  },
  {
   "cell_type": "code",
   "execution_count": 66,
   "id": "424bcf65",
   "metadata": {},
   "outputs": [
    {
     "data": {
      "image/png": "[encoded data removed]",
      "text/plain": [
       "<Figure size 432x288 with 1 Axes>"
      ]
     },
     "metadata": {
      "needs_background": "light"
     },
     "output_type": "display_data"
    }
   ],
   "source": [
    "#Boxplot Age\n",
    "#first we have to take NaN values and substitute them for the mean of the variable\n",
    "datadf['Age']=datadf['Age'].fillna(datadf['Age'].mean())\n",
    "import matplotlib.pyplot as plt\n",
    "import pandas as pd\n",
    "fig=plt.figure()\n",
    "ax = fig.add_subplot(1,1,1)\n",
    "#Variable\n",
    "ax.boxplot(datadf['Age'],showfliers=True, flierprops = dict(marker='o', markerfacecolor='green', markersize=12,\n",
    "                  linestyle='none'))\n",
    "plt.title('Age Boxplot')\n",
    "plt.show()"
   ]
  },
  {
   "cell_type": "code",
   "execution_count": 103,
   "id": "5d0d7cb3",
   "metadata": {
    "scrolled": true
   },
   "outputs": [
    {
     "data": {
      "text/plain": [
       "<AxesSubplot:title={'center':'Publications'}, xlabel='[Age]'>"
      ]
     },
     "execution_count": 103,
     "metadata": {},
     "output_type": "execute_result"
    },
    {
     "data": {
      "image/png": "[encoded data removed]",
      "text/plain": [
       "<Figure size 432x288 with 1 Axes>"
      ]
     },
     "metadata": {
      "needs_background": "light"
     },
     "output_type": "display_data"
    }
   ],
   "source": [
    "new_datadf = datadf[['Age','Publications']]\n",
    "new_datadf.boxplot(by='Age', rot=90)"
   ]
  },
  {
   "cell_type": "markdown",
   "id": "c9618c7f",
   "metadata": {},
   "source": [
    "### Histogram\n",
    "Selain diagram, histogram juga merupakan salah satu cara untuk merepresentasikan data numerik. Histogram lebih cocok digunakan jika data bertipe kontinu. Perbedaan besar antara histogram dan grafik batang pada dasarnya terletak pada sumbu x. Sumbu x pada histogram merepresentasikan banyaknya jumlah data antara interval nilai di sumbu x tersebut  "
   ]
  },
  {
   "cell_type": "code",
   "execution_count": 29,
   "id": "29f6f2ab",
   "metadata": {},
   "outputs": [
    {
     "data": {
      "image/png": "[encoded data removed]",
      "text/plain": [
       "<Figure size 432x288 with 1 Axes>"
      ]
     },
     "metadata": {
      "needs_background": "light"
     },
     "output_type": "display_data"
    }
   ],
   "source": [
    "import matplotlib.pyplot as plt\n",
    "#Publications Histogram\n",
    "fig=plt.figure() #Plots in matplotlib reside within a figure object, use plt.figure to create new figure\n",
    "#Create one or more subplots using add_subplot, because you can't create blank figure\n",
    "ax = fig.add_subplot(1,1,1)\n",
    "#Variable\n",
    "ax.hist(datadf['Publications'], facecolor='green') # Here you can play with number of bins\n",
    "#limits of x axis\n",
    "ax.set_xlim(0, 70)\n",
    "#limits of y axis\n",
    "ax.set_ylim(0,80)\n",
    "#Set grid on\n",
    "ax.grid(True)\n",
    "#Labels and Title\n",
    "plt.title('Publications distribution')\n",
    "plt.xlabel('Publications')\n",
    "plt.ylabel('#Reseachers')\n",
    "#Finally, show plot\n",
    "plt.show()"
   ]
  },
  {
   "cell_type": "markdown",
   "id": "0115a2d3",
   "metadata": {},
   "source": [
    "# Analisis Inferensi"
   ]
  },
  {
   "cell_type": "markdown",
   "id": "4b1024c2",
   "metadata": {},
   "source": [
    "Inferensi statistik merupakan suatu metode analisis yang memungkinkan untuk menarik kesimpulan dari data yang tidak terlihat secara langsung. Analisis ini menggunakan sampel yang diambil dari suatu populasi untuk membuat kesimpulan tentang populasi tersebut"
   ]
  },
  {
   "cell_type": "markdown",
   "id": "fe1666c3",
   "metadata": {},
   "source": [
    "## Normality Test"
   ]
  },
  {
   "cell_type": "markdown",
   "id": "6b1dd797",
   "metadata": {},
   "source": [
    "### uji hipotesis"
   ]
  },
  {
   "cell_type": "code",
   "execution_count": 9,
   "id": "44209be4",
   "metadata": {},
   "outputs": [
    {
     "name": "stdout",
     "output_type": "stream",
     "text": [
      "ShapiroResult(statistic=0.9920958876609802, pvalue=0.3522576689720154)\n",
      "ShapiroResult(statistic=0.9592043161392212, pvalue=1.6238263924606144e-05)\n",
      "KstestResult(statistic=0.05814037211331147, pvalue=0.49034914714205113)\n",
      "KstestResult(statistic=0.07420335056364169, pvalue=0.21009138389725357)\n"
     ]
    }
   ],
   "source": [
    "#Normality Tests\n",
    "import scipy\n",
    "from scipy import stats\n",
    "import numpy\n",
    "from numpy import random as dist\n",
    "\n",
    "# Shapiro\n",
    "datadf['Age']=datadf['Age'].fillna(datadf['Age'].mean())\n",
    "print(stats.shapiro(datadf['Age']))\n",
    "print(stats.shapiro(datadf['Publications']))\n",
    "\n",
    "#Kolmogorof\n",
    "normed_data_age=(datadf['Age']-datadf['Age'].mean())/datadf['Age'].std()\n",
    "normed_data_pubs=(datadf['Publications']-datadf['Publications'].mean())/datadf['Publications'].std()\n",
    "\n",
    "print(stats.kstest(normed_data_age, cdf='norm'))#cdf = stats.norm.cdf))\n",
    "print(stats.kstest(normed_data_pubs, cdf='norm'))#cdf = stats.norm.cdf))"
   ]
  },
  {
   "cell_type": "markdown",
   "id": "25015e80",
   "metadata": {},
   "source": [
    "### QQ Plot"
   ]
  },
  {
   "cell_type": "code",
   "execution_count": 6,
   "id": "f3583f29",
   "metadata": {},
   "outputs": [
    {
     "data": {
      "image/png": "[encoded data removed]",
      "text/plain": [
       "<Figure size 432x288 with 1 Axes>"
      ]
     },
     "metadata": {
      "needs_background": "light"
     },
     "output_type": "display_data"
    }
   ],
   "source": [
    "#QQ PLOT with python\n",
    "import pylab \n",
    "import scipy.stats as stats\n",
    "\n",
    "#Age  \n",
    "stats.probplot(datadf['Age'], dist=\"norm\", plot=pylab)\n",
    "pylab.show()"
   ]
  },
  {
   "cell_type": "code",
   "execution_count": 7,
   "id": "b2af1bf0",
   "metadata": {},
   "outputs": [
    {
     "data": {
      "image/png": "[encoded data removed]",
      "text/plain": [
       "<Figure size 432x288 with 1 Axes>"
      ]
     },
     "metadata": {
      "needs_background": "light"
     },
     "output_type": "display_data"
    }
   ],
   "source": [
    "#Publications\n",
    "stats.probplot(datadf['Publications'], dist=\"norm\", plot=pylab)\n",
    "pylab.show()"
   ]
  },
  {
   "cell_type": "markdown",
   "id": "7b407713",
   "metadata": {},
   "source": [
    "## Parametric Test"
   ]
  },
  {
   "cell_type": "markdown",
   "id": "9da2ec93",
   "metadata": {},
   "source": [
    "### T-test"
   ]
  },
  {
   "cell_type": "code",
   "execution_count": 10,
   "id": "4983ff1d",
   "metadata": {},
   "outputs": [
    {
     "name": "stdout",
     "output_type": "stream",
     "text": [
      "Ttest_indResult(statistic=-0.2833085288319908, pvalue=0.7772363334032341)\n"
     ]
    }
   ],
   "source": [
    "#TTEST Age (male vs female)\n",
    "datadf['Age']=datadf['Age'].replace('nan',datadf['Age'].mean())\n",
    "print(stats.ttest_ind(datadf['Age'][datadf['Gender'] == \"male\"],datadf['Age'][datadf['Gender'] == \"female\"]))"
   ]
  },
  {
   "cell_type": "markdown",
   "id": "6b6785ec",
   "metadata": {},
   "source": [
    "### ANOVA"
   ]
  },
  {
   "cell_type": "markdown",
   "id": "22438c68",
   "metadata": {},
   "source": [
    "#### Levene Test"
   ]
  },
  {
   "cell_type": "code",
   "execution_count": 11,
   "id": "f045ee25",
   "metadata": {},
   "outputs": [
    {
     "name": "stdout",
     "output_type": "stream",
     "text": [
      "LeveneResult(statistic=4.718839417255889, pvalue=0.009958868591183941)\n"
     ]
    }
   ],
   "source": [
    "#ANOVA\n",
    "#Levene Test Age ~ Tasks\n",
    "#note: test with na Age substituted by mean(datadf['Age']) \n",
    "print(stats.levene(datadf['Age'][datadf['Tasks']==\"PhD_Student\"],datadf['Age'][datadf['Tasks']==\"Phd_Supervisor\"],datadf['Age'][datadf['Tasks']==\"Postdoctoral_research\"], center = 'median'))"
   ]
  },
  {
   "cell_type": "markdown",
   "id": "c161e571",
   "metadata": {},
   "source": [
    "#### One-way ANOVA"
   ]
  },
  {
   "cell_type": "code",
   "execution_count": 12,
   "id": "524a93f3",
   "metadata": {},
   "outputs": [
    {
     "name": "stdout",
     "output_type": "stream",
     "text": [
      "F_onewayResult(statistic=212.9144159977412, pvalue=5.7491741953851025e-50)\n"
     ]
    }
   ],
   "source": [
    "#One-Way Anova\n",
    "print(stats.f_oneway(datadf['Age'][datadf['Tasks']==\"PhD_Student\"],datadf['Age'][datadf['Tasks']==\"Phd_Supervisor\"],datadf['Age'][datadf['Tasks']==\"Postdoctoral_research\"]))"
   ]
  },
  {
   "cell_type": "markdown",
   "id": "65b15a0a",
   "metadata": {},
   "source": [
    "#### Tukey HSD test"
   ]
  },
  {
   "cell_type": "code",
   "execution_count": 13,
   "id": "a0d93ae4",
   "metadata": {},
   "outputs": [
    {
     "name": "stdout",
     "output_type": "stream",
     "text": [
      "           Multiple Comparison of Means - Tukey HSD, FWER=0.05            \n",
      "==========================================================================\n",
      "    group1             group2        meandiff p-adj  lower   upper  reject\n",
      "--------------------------------------------------------------------------\n",
      "   PhD_Student        Phd_Supervisor  11.4309 0.001 10.1194 12.7423   True\n",
      "   PhD_Student Postdoctoral_research   5.4656 0.001  4.2133  6.7179   True\n",
      "Phd_Supervisor Postdoctoral_research  -5.9653 0.001 -7.3257 -4.6049   True\n",
      "--------------------------------------------------------------------------\n"
     ]
    }
   ],
   "source": [
    "#Tukey\n",
    "#note: change of package\n",
    "from statsmodels.stats.multicomp import pairwise_tukeyhsd\n",
    "datadf['Age']=datadf['Age'].replace('nan',datadf['Age'].mean())\n",
    "tukey = pairwise_tukeyhsd(endog=datadf['Age'], groups=datadf['Tasks'], alpha=0.05)\n",
    "print(tukey.summary())"
   ]
  },
  {
   "cell_type": "markdown",
   "id": "8d15b889",
   "metadata": {},
   "source": [
    "## Non-Parametric Tests"
   ]
  },
  {
   "cell_type": "markdown",
   "id": "57818b37",
   "metadata": {},
   "source": [
    "#### Mann-Whitney"
   ]
  },
  {
   "cell_type": "code",
   "execution_count": 14,
   "id": "c2126a45",
   "metadata": {},
   "outputs": [
    {
     "name": "stdout",
     "output_type": "stream",
     "text": [
      "MannwhitneyuResult(statistic=4485.0, pvalue=0.2887106129432194)\n"
     ]
    }
   ],
   "source": [
    "#Mann-Whitney\n",
    "print(stats.mannwhitneyu(datadf['Publications'][datadf['Gender']==\"male\"],datadf['Publications'][datadf['Gender']==\"female\"]))"
   ]
  },
  {
   "cell_type": "markdown",
   "id": "c5c518a1",
   "metadata": {},
   "source": [
    "#### Kruskal-Wallis"
   ]
  },
  {
   "cell_type": "code",
   "execution_count": 22,
   "id": "5ab7aa1d",
   "metadata": {},
   "outputs": [
    {
     "name": "stdout",
     "output_type": "stream",
     "text": [
      "KruskalResult(statistic=37.51559521809624, pvalue=7.138254137526838e-09)\n"
     ]
    }
   ],
   "source": [
    "#Kruskal-Wallis\n",
    "from scipy.stats.mstats import kruskalwallis\n",
    "print(kruskalwallis(datadf['Publications'][datadf['Tasks']==\"PhD_Student\"].values,datadf['Publications'][datadf['Tasks']==\"Phd_Supervisor\"].values,datadf['Publications'][datadf['Tasks']==\"Postdoctoral_research\"].values))"
   ]
  },
  {
   "cell_type": "code",
   "execution_count": 23,
   "id": "c22bd2b3",
   "metadata": {},
   "outputs": [
    {
     "name": "stdout",
     "output_type": "stream",
     "text": [
      "MannwhitneyuResult(statistic=1760.0, pvalue=0.001090154886338399)\n",
      "MannwhitneyuResult(statistic=859.0, pvalue=2.2020601202061945e-09)\n",
      "MannwhitneyuResult(statistic=2445.5, pvalue=0.0021248086990779723)\n"
     ]
    }
   ],
   "source": [
    "#Mann-Whitney\n",
    "print(stats.mannwhitneyu(datadf['Publications'][datadf['Tasks']==\"PhD_Student\"],datadf['Publications'][datadf['Tasks']==\"Postdoctoral_research\"]))\n",
    "print(stats.mannwhitneyu(datadf['Publications'][datadf['Tasks']==\"PhD_Student\"],datadf['Publications'][datadf['Tasks']==\"Phd_Supervisor\"]))\n",
    "print(stats.mannwhitneyu(datadf['Publications'][datadf['Tasks']==\"Phd_Supervisor\"],datadf['Publications'][datadf['Tasks']==\"Postdoctoral_research\"]))"
   ]
  },
  {
   "cell_type": "markdown",
   "id": "fa1fa08a",
   "metadata": {},
   "source": [
    "## Chi-square Test"
   ]
  },
  {
   "cell_type": "code",
   "execution_count": 27,
   "id": "0afb75cc",
   "metadata": {},
   "outputs": [
    {
     "name": "stdout",
     "output_type": "stream",
     "text": [
      "(15.885131778780307, 6.730539665849912e-05, 1, array([[39.585, 47.415],\n",
      "       [51.415, 61.585]]))\n"
     ]
    }
   ],
   "source": [
    "#Pearson's Chi-Squared\n",
    "import scipy.stats as stats\n",
    "import numpy as np\n",
    "import pandas as pd\n",
    "#R users by Gender\n",
    "table_r = datadf.pivot_table(index='Gender',columns='R_user', values = 'id',aggfunc='count')\n",
    "print(stats.chi2_contingency(table_r))"
   ]
  },
  {
   "cell_type": "code",
   "execution_count": 29,
   "id": "9bc2e1cd",
   "metadata": {},
   "outputs": [
    {
     "name": "stdout",
     "output_type": "stream",
     "text": [
      "(14.481674230676045, 0.00014152973642310866, 1, array([[39.75879397, 46.24120603],\n",
      "       [52.24120603, 60.75879397]]))\n"
     ]
    }
   ],
   "source": [
    "#Python users by Gender\n",
    "table_py = datadf.pivot_table(index='Gender',columns='Python_user', values = 'id',aggfunc='count')\n",
    "print(stats.chi2_contingency(table_py))"
   ]
  },
  {
   "cell_type": "code",
   "execution_count": 31,
   "id": "dcc31241",
   "metadata": {},
   "outputs": [
    {
     "name": "stdout",
     "output_type": "stream",
     "text": [
      "(0.014856468930316906, 0.9925992866818035, 2, array([[33.93, 24.36, 28.71],\n",
      "       [44.07, 31.64, 37.29]]))\n"
     ]
    }
   ],
   "source": [
    "#Tasks by Gender\n",
    "table_tasks = datadf.pivot_table(index='Gender',columns='Tasks', values = 'id',aggfunc='count')\n",
    "print(stats.chi2_contingency(table_tasks))"
   ]
  },
  {
   "cell_type": "markdown",
   "id": "2b1cde20",
   "metadata": {},
   "source": [
    "## Correlation"
   ]
  },
  {
   "cell_type": "code",
   "execution_count": 32,
   "id": "e5d60536",
   "metadata": {},
   "outputs": [
    {
     "name": "stdout",
     "output_type": "stream",
     "text": [
      "SpearmanrResult(correlation=0.5520946661781235, pvalue=2.3689996688336485e-17)\n"
     ]
    }
   ],
   "source": [
    "#Spearman Correlation Test\n",
    "print(stats.spearmanr(datadf['Publications'],datadf['Age']))"
   ]
  },
  {
   "cell_type": "code",
   "execution_count": null,
   "id": "976252fc",
   "metadata": {},
   "outputs": [],
   "source": []
  }
 ],
 "metadata": {
  "kernelspec": {
   "display_name": "Python 3 (ipykernel)",
   "language": "python",
   "name": "python3"
  },
  "language_info": {
   "codemirror_mode": {
    "name": "ipython",
    "version": 3
   },
   "file_extension": ".py",
   "mimetype": "text/x-python",
   "name": "python",
   "nbconvert_exporter": "python",
   "pygments_lexer": "ipython3",
   "version": "3.9.7"
  }
 },
 "nbformat": 4,
 "nbformat_minor": 5
}
