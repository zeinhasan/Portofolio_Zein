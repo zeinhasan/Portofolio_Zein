{
  "nbformat": 4,
  "nbformat_minor": 0,
  "metadata": {
    "colab": {
      "provenance": [],
      "collapsed_sections": []
    },
    "kernelspec": {
      "name": "python3",
      "display_name": "Python 3"
    },
    "language_info": {
      "name": "python"
    }
  },
  "cells": [
    {
      "cell_type": "markdown",
      "source": [
        "# Import data"
      ],
      "metadata": {
        "id": "toIGWkQ_Jfai"
      }
    },
    {
      "cell_type": "code",
      "source": [
        "import pandas as pd"
      ],
      "metadata": {
        "id": "P4NlDRjVLGNq"
      },
      "execution_count": null,
      "outputs": []
    },
    {
      "cell_type": "code",
      "execution_count": null,
      "metadata": {
        "id": "7J9EzWW8Jclh"
      },
      "outputs": [],
      "source": [
        "data = pd.read_csv(\"/content/Carseats.csv\")"
      ]
    },
    {
      "cell_type": "code",
      "source": [
        "print(data)"
      ],
      "metadata": {
        "colab": {
          "base_uri": "https://localhost:8080/"
        },
        "id": "k132UL77LJpu",
        "outputId": "b3bb9dad-eea3-4433-b791-a8272850e1e6"
      },
      "execution_count": null,
      "outputs": [
        {
          "output_type": "stream",
          "name": "stdout",
          "text": [
            "     Sales  CompPrice  Income  Advertising  Population  Price ShelveLoc  Age  \\\n",
            "0     9.50        138      73           11         276    120       Bad   42   \n",
            "1    11.22        111      48           16         260     83      Good   65   \n",
            "2    10.06        113      35           10         269     80    Medium   59   \n",
            "3     7.40        117     100            4         466     97    Medium   55   \n",
            "4     4.15        141      64            3         340    128       Bad   38   \n",
            "..     ...        ...     ...          ...         ...    ...       ...  ...   \n",
            "395  12.57        138     108           17         203    128      Good   33   \n",
            "396   6.14        139      23            3          37    120    Medium   55   \n",
            "397   7.41        162      26           12         368    159    Medium   40   \n",
            "398   5.94        100      79            7         284     95       Bad   50   \n",
            "399   9.71        134      37            0          27    120      Good   49   \n",
            "\n",
            "     Education Urban   US  \n",
            "0           17   Yes  Yes  \n",
            "1           10   Yes  Yes  \n",
            "2           12   Yes  Yes  \n",
            "3           14   Yes  Yes  \n",
            "4           13   Yes   No  \n",
            "..         ...   ...  ...  \n",
            "395         14   Yes  Yes  \n",
            "396         11    No  Yes  \n",
            "397         18   Yes  Yes  \n",
            "398         12   Yes  Yes  \n",
            "399         16   Yes  Yes  \n",
            "\n",
            "[400 rows x 11 columns]\n"
          ]
        }
      ]
    },
    {
      "cell_type": "markdown",
      "source": [
        "# Normality Test"
      ],
      "metadata": {
        "id": "Kg7njJ1sJifl"
      }
    },
    {
      "cell_type": "code",
      "source": [
        "from scipy import stats"
      ],
      "metadata": {
        "id": "jne3iwItOQWU"
      },
      "execution_count": null,
      "outputs": []
    },
    {
      "cell_type": "code",
      "source": [
        "stats.kstest(data[\"Sales\"], 'norm')"
      ],
      "metadata": {
        "colab": {
          "base_uri": "https://localhost:8080/"
        },
        "id": "_Zo2XcgYOUFH",
        "outputId": "4893c899-5fb6-4342-a9c1-7b11574bf223"
      },
      "execution_count": null,
      "outputs": [
        {
          "output_type": "execute_result",
          "data": {
            "text/plain": [
              "KstestResult(statistic=0.9666322582846675, pvalue=0.0)"
            ]
          },
          "metadata": {},
          "execution_count": 5
        }
      ]
    },
    {
      "cell_type": "markdown",
      "source": [
        "Karena nilai sig. = 0.000 <  0.05 = α. Maka H0 ditolak. Artinya data variabel dependen (Sales) diambil dari populasi yang tidak berdistribusi normal. Jadi asumsi normalitas data dependen untuk melakukan uji regresi linear berganda tidak terpenuhi. Sehingga data variabel dependen tidak dapat digunakan untuk melakukan pengujian lebuh lanjut. namun untuk keperluan lebih lanjut maka kita asumsikan berdistribusi normal."
      ],
      "metadata": {
        "id": "5NpAEzsePe5Z"
      }
    },
    {
      "cell_type": "markdown",
      "source": [
        "# Linearitas "
      ],
      "metadata": {
        "id": "WAtWTdJdQz29"
      }
    },
    {
      "cell_type": "code",
      "source": [
        "import matplotlib.pyplot as plt\n",
        "import seaborn as sns"
      ],
      "metadata": {
        "id": "rfP83u7NRN56"
      },
      "execution_count": null,
      "outputs": []
    },
    {
      "cell_type": "code",
      "source": [
        "mydata =data[[\"Sales\",\"CompPrice\",\"Income\",\"Advertising\",\"Population\",\"Price\",\"Age\",\"Education\"]]"
      ],
      "metadata": {
        "id": "6nycu7X0RZTn"
      },
      "execution_count": null,
      "outputs": []
    },
    {
      "cell_type": "code",
      "source": [
        "%matplotlib inline\n",
        "correlation = mydata.corr()\n",
        "sns.heatmap(correlation,annot=True)"
      ],
      "metadata": {
        "colab": {
          "base_uri": "https://localhost:8080/",
          "height": 334
        },
        "id": "Ynf1UzNxRMRQ",
        "outputId": "e3a65c6f-776e-410e-b5cf-ce7df46a9c9a"
      },
      "execution_count": null,
      "outputs": [
        {
          "output_type": "execute_result",
          "data": {
            "text/plain": [
              "<matplotlib.axes._subplots.AxesSubplot at 0x7fa3e1976410>"
            ]
          },
          "metadata": {},
          "execution_count": 8
        },
        {
          "output_type": "display_data",
          "data": {
            "text/plain": [
              "<Figure size 432x288 with 2 Axes>"
            ],
            "image/png": "[encoded data removed]"
          },
          "metadata": {
            "needs_background": "light"
          }
        }
      ]
    },
    {
      "cell_type": "markdown",
      "source": [
        "# Linear Regression"
      ],
      "metadata": {
        "id": "BG-oZS-CQmUc"
      }
    },
    {
      "cell_type": "markdown",
      "source": [
        "Make Dummies Variable"
      ],
      "metadata": {
        "id": "IZFz-BECTJIe"
      }
    },
    {
      "cell_type": "code",
      "source": [
        "dms = pd.get_dummies(data[['ShelveLoc',\"Urban\",\"US\"]])"
      ],
      "metadata": {
        "id": "7oJ9PKQWSlsG"
      },
      "execution_count": null,
      "outputs": []
    },
    {
      "cell_type": "code",
      "source": [
        "print(dms.head())"
      ],
      "metadata": {
        "colab": {
          "base_uri": "https://localhost:8080/"
        },
        "id": "-sPSj6OeTXu6",
        "outputId": "c1b8c569-2b31-4e90-f4cf-911c45890032"
      },
      "execution_count": null,
      "outputs": [
        {
          "output_type": "stream",
          "name": "stdout",
          "text": [
            "   ShelveLoc_Bad  ShelveLoc_Good  ShelveLoc_Medium  Urban_No  Urban_Yes  \\\n",
            "0              1               0                 0         0          1   \n",
            "1              0               1                 0         0          1   \n",
            "2              0               0                 1         0          1   \n",
            "3              0               0                 1         0          1   \n",
            "4              1               0                 0         0          1   \n",
            "\n",
            "   US_No  US_Yes  \n",
            "0      0       1  \n",
            "1      0       1  \n",
            "2      0       1  \n",
            "3      0       1  \n",
            "4      1       0  \n"
          ]
        }
      ]
    },
    {
      "cell_type": "markdown",
      "source": [
        "*   pada variable ShelveLoc akan dipilih ShelveLoc_Bad sebagai refference catagory \n",
        "*   pada variable Urban akan dipilih Urban_no sebagai refference catagory \n",
        "*   pada variable US akan dipilih US_no sebagai refference catagory \n",
        "\n",
        "\n",
        "\n",
        "\n"
      ],
      "metadata": {
        "id": "bLx_gdE1Uo52"
      }
    },
    {
      "cell_type": "code",
      "source": [
        "mydata= pd.concat([data,dms], axis=1 )\n",
        "print(mydata)"
      ],
      "metadata": {
        "colab": {
          "base_uri": "https://localhost:8080/"
        },
        "id": "TDuU9sx1UC6D",
        "outputId": "b66c10cc-9225-44f4-e767-61f46fe67f76"
      },
      "execution_count": null,
      "outputs": [
        {
          "output_type": "stream",
          "name": "stdout",
          "text": [
            "     Sales  CompPrice  Income  Advertising  Population  Price ShelveLoc  Age  \\\n",
            "0     9.50        138      73           11         276    120       Bad   42   \n",
            "1    11.22        111      48           16         260     83      Good   65   \n",
            "2    10.06        113      35           10         269     80    Medium   59   \n",
            "3     7.40        117     100            4         466     97    Medium   55   \n",
            "4     4.15        141      64            3         340    128       Bad   38   \n",
            "..     ...        ...     ...          ...         ...    ...       ...  ...   \n",
            "395  12.57        138     108           17         203    128      Good   33   \n",
            "396   6.14        139      23            3          37    120    Medium   55   \n",
            "397   7.41        162      26           12         368    159    Medium   40   \n",
            "398   5.94        100      79            7         284     95       Bad   50   \n",
            "399   9.71        134      37            0          27    120      Good   49   \n",
            "\n",
            "     Education Urban   US  ShelveLoc_Bad  ShelveLoc_Good  ShelveLoc_Medium  \\\n",
            "0           17   Yes  Yes              1               0                 0   \n",
            "1           10   Yes  Yes              0               1                 0   \n",
            "2           12   Yes  Yes              0               0                 1   \n",
            "3           14   Yes  Yes              0               0                 1   \n",
            "4           13   Yes   No              1               0                 0   \n",
            "..         ...   ...  ...            ...             ...               ...   \n",
            "395         14   Yes  Yes              0               1                 0   \n",
            "396         11    No  Yes              0               0                 1   \n",
            "397         18   Yes  Yes              0               0                 1   \n",
            "398         12   Yes  Yes              1               0                 0   \n",
            "399         16   Yes  Yes              0               1                 0   \n",
            "\n",
            "     Urban_No  Urban_Yes  US_No  US_Yes  \n",
            "0           0          1      0       1  \n",
            "1           0          1      0       1  \n",
            "2           0          1      0       1  \n",
            "3           0          1      0       1  \n",
            "4           0          1      1       0  \n",
            "..        ...        ...    ...     ...  \n",
            "395         0          1      0       1  \n",
            "396         1          0      0       1  \n",
            "397         0          1      0       1  \n",
            "398         0          1      0       1  \n",
            "399         0          1      0       1  \n",
            "\n",
            "[400 rows x 18 columns]\n"
          ]
        }
      ]
    },
    {
      "cell_type": "markdown",
      "source": [
        "subsetting data for regression linear"
      ],
      "metadata": {
        "id": "2dSnQPOkUbac"
      }
    },
    {
      "cell_type": "code",
      "source": [
        "data_reg=mydata[[\"Sales\",\"CompPrice\",\"Income\",\"Advertising\",\"Population\",\"Price\",\"Age\",\"Education\",\"ShelveLoc_Good\",\"ShelveLoc_Medium\",\"Urban_Yes\",\"US_Yes\"]]\n",
        "print(data_reg)"
      ],
      "metadata": {
        "colab": {
          "base_uri": "https://localhost:8080/"
        },
        "id": "UNee7H-QUHos",
        "outputId": "402416c5-3254-4a65-8f87-eab555026db7"
      },
      "execution_count": null,
      "outputs": [
        {
          "output_type": "stream",
          "name": "stdout",
          "text": [
            "     Sales  CompPrice  Income  Advertising  Population  Price  Age  Education  \\\n",
            "0     9.50        138      73           11         276    120   42         17   \n",
            "1    11.22        111      48           16         260     83   65         10   \n",
            "2    10.06        113      35           10         269     80   59         12   \n",
            "3     7.40        117     100            4         466     97   55         14   \n",
            "4     4.15        141      64            3         340    128   38         13   \n",
            "..     ...        ...     ...          ...         ...    ...  ...        ...   \n",
            "395  12.57        138     108           17         203    128   33         14   \n",
            "396   6.14        139      23            3          37    120   55         11   \n",
            "397   7.41        162      26           12         368    159   40         18   \n",
            "398   5.94        100      79            7         284     95   50         12   \n",
            "399   9.71        134      37            0          27    120   49         16   \n",
            "\n",
            "     ShelveLoc_Good  ShelveLoc_Medium  Urban_Yes  US_Yes  \n",
            "0                 0                 0          1       1  \n",
            "1                 1                 0          1       1  \n",
            "2                 0                 1          1       1  \n",
            "3                 0                 1          1       1  \n",
            "4                 0                 0          1       0  \n",
            "..              ...               ...        ...     ...  \n",
            "395               1                 0          1       1  \n",
            "396               0                 1          0       1  \n",
            "397               0                 1          1       1  \n",
            "398               0                 0          1       1  \n",
            "399               1                 0          1       1  \n",
            "\n",
            "[400 rows x 12 columns]\n"
          ]
        }
      ]
    },
    {
      "cell_type": "markdown",
      "source": [
        "Begin Multiple Linear Regression"
      ],
      "metadata": {
        "id": "c-N7ADU6Vqz6"
      }
    },
    {
      "cell_type": "code",
      "source": [
        "import statsmodels.api as sm"
      ],
      "metadata": {
        "id": "ZoymG_mtWPoR",
        "colab": {
          "base_uri": "https://localhost:8080/"
        },
        "outputId": "176939f1-9ad7-4ec8-8fe3-c45a430dc419"
      },
      "execution_count": null,
      "outputs": [
        {
          "output_type": "stream",
          "name": "stderr",
          "text": [
            "/usr/local/lib/python3.7/dist-packages/statsmodels/tools/_testing.py:19: FutureWarning: pandas.util.testing is deprecated. Use the functions in the public API at pandas.testing instead.\n",
            "  import pandas.util.testing as tm\n"
          ]
        }
      ]
    },
    {
      "cell_type": "markdown",
      "source": [
        "# Model 1"
      ],
      "metadata": {
        "id": "r5226VrBaSMf"
      }
    },
    {
      "cell_type": "markdown",
      "source": [
        "make variable x & y"
      ],
      "metadata": {
        "id": "-zJgsWuTWCw8"
      }
    },
    {
      "cell_type": "code",
      "source": [
        "x = data_reg[[\"CompPrice\",\"Income\",\"Advertising\",\"Population\",\"Price\",\"Age\",\"Education\",\"ShelveLoc_Good\",\"ShelveLoc_Medium\",\"Urban_Yes\",\"US_Yes\"]]"
      ],
      "metadata": {
        "id": "RPihhvPlVt-5"
      },
      "execution_count": null,
      "outputs": []
    },
    {
      "cell_type": "code",
      "source": [
        "y = data_reg[\"Sales\"]"
      ],
      "metadata": {
        "id": "mrhife5SV5kh"
      },
      "execution_count": null,
      "outputs": []
    },
    {
      "cell_type": "markdown",
      "source": [
        "add constant for x"
      ],
      "metadata": {
        "id": "PA21coxyWGQz"
      }
    },
    {
      "cell_type": "code",
      "source": [
        "x = sm.add_constant(x)"
      ],
      "metadata": {
        "colab": {
          "base_uri": "https://localhost:8080/"
        },
        "id": "FTmJmUvzWVpr",
        "outputId": "3964fc49-5968-434f-e82c-39381cdbf577"
      },
      "execution_count": null,
      "outputs": [
        {
          "output_type": "stream",
          "name": "stderr",
          "text": [
            "/usr/local/lib/python3.7/dist-packages/statsmodels/tsa/tsatools.py:117: FutureWarning: In a future version of pandas all arguments of concat except for the argument 'objs' will be keyword-only\n",
            "  x = pd.concat(x[::order], 1)\n"
          ]
        }
      ]
    },
    {
      "cell_type": "markdown",
      "source": [
        "Create a model and fit it"
      ],
      "metadata": {
        "id": "LRS-O8dsWp6b"
      }
    },
    {
      "cell_type": "code",
      "source": [
        "model = sm.OLS(y, x)"
      ],
      "metadata": {
        "id": "6nseMONAWexd"
      },
      "execution_count": null,
      "outputs": []
    },
    {
      "cell_type": "code",
      "source": [
        "results = model.fit()"
      ],
      "metadata": {
        "id": "saRJ5MVrWu8b"
      },
      "execution_count": null,
      "outputs": []
    },
    {
      "cell_type": "markdown",
      "source": [
        "Get results"
      ],
      "metadata": {
        "id": "_J9Hp6QgWrM_"
      }
    },
    {
      "cell_type": "code",
      "source": [
        "print(results.summary())"
      ],
      "metadata": {
        "colab": {
          "base_uri": "https://localhost:8080/"
        },
        "id": "nhN7XqDjW11_",
        "outputId": "10023b0d-c3a9-49f0-9aa7-399db19a1ef5"
      },
      "execution_count": null,
      "outputs": [
        {
          "output_type": "stream",
          "name": "stdout",
          "text": [
            "                            OLS Regression Results                            \n",
            "==============================================================================\n",
            "Dep. Variable:                  Sales   R-squared:                       0.873\n",
            "Model:                            OLS   Adj. R-squared:                  0.870\n",
            "Method:                 Least Squares   F-statistic:                     243.4\n",
            "Date:                Fri, 25 Mar 2022   Prob (F-statistic):          1.60e-166\n",
            "Time:                        01:00:04   Log-Likelihood:                -568.99\n",
            "No. Observations:                 400   AIC:                             1162.\n",
            "Df Residuals:                     388   BIC:                             1210.\n",
            "Df Model:                          11                                         \n",
            "Covariance Type:            nonrobust                                         \n",
            "====================================================================================\n",
            "                       coef    std err          t      P>|t|      [0.025      0.975]\n",
            "------------------------------------------------------------------------------------\n",
            "const                5.6606      0.603      9.380      0.000       4.474       6.847\n",
            "CompPrice            0.0928      0.004     22.378      0.000       0.085       0.101\n",
            "Income               0.0158      0.002      8.565      0.000       0.012       0.019\n",
            "Advertising          0.1231      0.011     11.066      0.000       0.101       0.145\n",
            "Population           0.0002      0.000      0.561      0.575      -0.001       0.001\n",
            "Price               -0.0954      0.003    -35.700      0.000      -0.101      -0.090\n",
            "Age                 -0.0460      0.003    -14.472      0.000      -0.052      -0.040\n",
            "Education           -0.0211      0.020     -1.070      0.285      -0.060       0.018\n",
            "ShelveLoc_Good       4.8502      0.153     31.678      0.000       4.549       5.151\n",
            "ShelveLoc_Medium     1.9567      0.126     15.516      0.000       1.709       2.205\n",
            "Urban_Yes            0.1229      0.113      1.088      0.277      -0.099       0.345\n",
            "US_Yes              -0.1841      0.150     -1.229      0.220      -0.479       0.111\n",
            "==============================================================================\n",
            "Omnibus:                        0.811   Durbin-Watson:                   2.013\n",
            "Prob(Omnibus):                  0.667   Jarque-Bera (JB):                0.765\n",
            "Skew:                           0.107   Prob(JB):                        0.682\n",
            "Kurtosis:                       2.994   Cond. No.                     4.15e+03\n",
            "==============================================================================\n",
            "\n",
            "Warnings:\n",
            "[1] Standard Errors assume that the covariance matrix of the errors is correctly specified.\n",
            "[2] The condition number is large, 4.15e+03. This might indicate that there are\n",
            "strong multicollinearity or other numerical problems.\n"
          ]
        }
      ]
    },
    {
      "cell_type": "code",
      "source": [
        "results.aic"
      ],
      "metadata": {
        "id": "J7fqz120d2gB",
        "colab": {
          "base_uri": "https://localhost:8080/"
        },
        "outputId": "e0b9982c-8c9b-4897-8e1b-4ad13fab4707"
      },
      "execution_count": null,
      "outputs": [
        {
          "output_type": "execute_result",
          "data": {
            "text/plain": [
              "1161.974352034826"
            ]
          },
          "metadata": {},
          "execution_count": 20
        }
      ]
    },
    {
      "cell_type": "markdown",
      "source": [
        "# Model 2"
      ],
      "metadata": {
        "id": "l74eDBZmaVUr"
      }
    },
    {
      "cell_type": "code",
      "source": [
        "x2 = data_reg[[\"CompPrice\",\"Income\",\"Advertising\",\"Price\",\"Age\",\"Education\",\"ShelveLoc_Good\",\"ShelveLoc_Medium\",\"Urban_Yes\",\"US_Yes\"]]\n",
        "y = data_reg[\"Sales\"]"
      ],
      "metadata": {
        "id": "MtUbI5oQYDWH"
      },
      "execution_count": null,
      "outputs": []
    },
    {
      "cell_type": "markdown",
      "source": [
        "add constant for x"
      ],
      "metadata": {
        "id": "oQn8Eq5aalS-"
      }
    },
    {
      "cell_type": "code",
      "source": [
        "x2 = sm.add_constant(x2)"
      ],
      "metadata": {
        "colab": {
          "base_uri": "https://localhost:8080/"
        },
        "id": "VpP8j-a5al7p",
        "outputId": "973e73fb-9b59-41d1-d686-1fc35bd269b2"
      },
      "execution_count": null,
      "outputs": [
        {
          "output_type": "stream",
          "name": "stderr",
          "text": [
            "/usr/local/lib/python3.7/dist-packages/statsmodels/tsa/tsatools.py:117: FutureWarning: In a future version of pandas all arguments of concat except for the argument 'objs' will be keyword-only\n",
            "  x = pd.concat(x[::order], 1)\n"
          ]
        }
      ]
    },
    {
      "cell_type": "markdown",
      "source": [
        "Create a model and fit it"
      ],
      "metadata": {
        "id": "x8dP4faaapp9"
      }
    },
    {
      "cell_type": "code",
      "source": [
        "model2 = sm.OLS(y, x2)"
      ],
      "metadata": {
        "id": "1rb50BnRasmN"
      },
      "execution_count": null,
      "outputs": []
    },
    {
      "cell_type": "code",
      "source": [
        "results2 = model2.fit()"
      ],
      "metadata": {
        "id": "t3MV7Vbbavlf"
      },
      "execution_count": null,
      "outputs": []
    },
    {
      "cell_type": "markdown",
      "source": [
        "Get results"
      ],
      "metadata": {
        "id": "Vt7cqLmia4GR"
      }
    },
    {
      "cell_type": "code",
      "source": [
        "print(results2.summary())"
      ],
      "metadata": {
        "colab": {
          "base_uri": "https://localhost:8080/"
        },
        "id": "naDCT4C4a4wN",
        "outputId": "33e9840e-77d1-4369-9c66-fb357241a5aa"
      },
      "execution_count": null,
      "outputs": [
        {
          "output_type": "stream",
          "name": "stdout",
          "text": [
            "                            OLS Regression Results                            \n",
            "==============================================================================\n",
            "Dep. Variable:                  Sales   R-squared:                       0.873\n",
            "Model:                            OLS   Adj. R-squared:                  0.870\n",
            "Method:                 Least Squares   F-statistic:                     268.2\n",
            "Date:                Fri, 25 Mar 2022   Prob (F-statistic):          1.11e-167\n",
            "Time:                        01:00:05   Log-Likelihood:                -569.15\n",
            "No. Observations:                 400   AIC:                             1160.\n",
            "Df Residuals:                     389   BIC:                             1204.\n",
            "Df Model:                          10                                         \n",
            "Covariance Type:            nonrobust                                         \n",
            "====================================================================================\n",
            "                       coef    std err          t      P>|t|      [0.025      0.975]\n",
            "------------------------------------------------------------------------------------\n",
            "const                5.7619      0.575     10.015      0.000       4.631       6.893\n",
            "CompPrice            0.0926      0.004     22.436      0.000       0.084       0.101\n",
            "Income               0.0158      0.002      8.560      0.000       0.012       0.019\n",
            "Advertising          0.1250      0.011     11.844      0.000       0.104       0.146\n",
            "Price               -0.0953      0.003    -35.736      0.000      -0.101      -0.090\n",
            "Age                 -0.0461      0.003    -14.520      0.000      -0.052      -0.040\n",
            "Education           -0.0224      0.020     -1.145      0.253      -0.061       0.016\n",
            "ShelveLoc_Good       4.8467      0.153     31.709      0.000       4.546       5.147\n",
            "ShelveLoc_Medium     1.9521      0.126     15.526      0.000       1.705       2.199\n",
            "Urban_Yes            0.1189      0.113      1.055      0.292      -0.103       0.340\n",
            "US_Yes              -0.1991      0.147     -1.351      0.177      -0.489       0.091\n",
            "==============================================================================\n",
            "Omnibus:                        0.899   Durbin-Watson:                   2.016\n",
            "Prob(Omnibus):                  0.638   Jarque-Bera (JB):                0.826\n",
            "Skew:                           0.111   Prob(JB):                        0.662\n",
            "Kurtosis:                       3.012   Cond. No.                     2.19e+03\n",
            "==============================================================================\n",
            "\n",
            "Warnings:\n",
            "[1] Standard Errors assume that the covariance matrix of the errors is correctly specified.\n",
            "[2] The condition number is large, 2.19e+03. This might indicate that there are\n",
            "strong multicollinearity or other numerical problems.\n"
          ]
        }
      ]
    },
    {
      "cell_type": "markdown",
      "source": [
        "# Model 3"
      ],
      "metadata": {
        "id": "b5Dv24hObHbh"
      }
    },
    {
      "cell_type": "code",
      "source": [
        "x3 = data_reg[[\"CompPrice\",\"Income\",\"Advertising\",\"Price\",\"Age\",\"Education\",\"ShelveLoc_Good\",\"ShelveLoc_Medium\",\"US_Yes\"]]\n",
        "y = data_reg[\"Sales\"]"
      ],
      "metadata": {
        "id": "ydbC5gLUbI3E"
      },
      "execution_count": null,
      "outputs": []
    },
    {
      "cell_type": "markdown",
      "source": [
        "add constant for x"
      ],
      "metadata": {
        "id": "RuczbYJwbS9U"
      }
    },
    {
      "cell_type": "code",
      "source": [
        "x3 = sm.add_constant(x3)"
      ],
      "metadata": {
        "colab": {
          "base_uri": "https://localhost:8080/"
        },
        "id": "HrIqBhF8bQx4",
        "outputId": "f48b06d9-7cfe-457c-d142-36e301ab4456"
      },
      "execution_count": null,
      "outputs": [
        {
          "output_type": "stream",
          "name": "stderr",
          "text": [
            "/usr/local/lib/python3.7/dist-packages/statsmodels/tsa/tsatools.py:117: FutureWarning: In a future version of pandas all arguments of concat except for the argument 'objs' will be keyword-only\n",
            "  x = pd.concat(x[::order], 1)\n"
          ]
        }
      ]
    },
    {
      "cell_type": "markdown",
      "source": [
        "Create a model and fit it"
      ],
      "metadata": {
        "id": "zZlmsUK6bfE_"
      }
    },
    {
      "cell_type": "code",
      "source": [
        "model3 = sm.OLS(y, x3)"
      ],
      "metadata": {
        "id": "oB_Y6PHfbccB"
      },
      "execution_count": null,
      "outputs": []
    },
    {
      "cell_type": "code",
      "source": [
        "results3 = model3.fit()"
      ],
      "metadata": {
        "id": "rzX5a_QCbinD"
      },
      "execution_count": null,
      "outputs": []
    },
    {
      "cell_type": "markdown",
      "source": [
        "Get results"
      ],
      "metadata": {
        "id": "-dblKjg8blNj"
      }
    },
    {
      "cell_type": "code",
      "source": [
        "print(results3.summary())"
      ],
      "metadata": {
        "colab": {
          "base_uri": "https://localhost:8080/"
        },
        "id": "OeL5J9apbnaN",
        "outputId": "558ba3cf-2095-4ec7-bcbf-9f91f658589f"
      },
      "execution_count": null,
      "outputs": [
        {
          "output_type": "stream",
          "name": "stdout",
          "text": [
            "                            OLS Regression Results                            \n",
            "==============================================================================\n",
            "Dep. Variable:                  Sales   R-squared:                       0.873\n",
            "Model:                            OLS   Adj. R-squared:                  0.870\n",
            "Method:                 Least Squares   F-statistic:                     297.7\n",
            "Date:                Fri, 25 Mar 2022   Prob (F-statistic):          1.09e-168\n",
            "Time:                        01:00:05   Log-Likelihood:                -569.72\n",
            "No. Observations:                 400   AIC:                             1159.\n",
            "Df Residuals:                     390   BIC:                             1199.\n",
            "Df Model:                           9                                         \n",
            "Covariance Type:            nonrobust                                         \n",
            "====================================================================================\n",
            "                       coef    std err          t      P>|t|      [0.025      0.975]\n",
            "------------------------------------------------------------------------------------\n",
            "const                5.8140      0.573     10.142      0.000       4.687       6.941\n",
            "CompPrice            0.0929      0.004     22.529      0.000       0.085       0.101\n",
            "Income               0.0158      0.002      8.598      0.000       0.012       0.019\n",
            "Advertising          0.1253      0.011     11.868      0.000       0.105       0.146\n",
            "Price               -0.0953      0.003    -35.721      0.000      -0.101      -0.090\n",
            "Age                 -0.0460      0.003    -14.488      0.000      -0.052      -0.040\n",
            "Education           -0.0231      0.020     -1.180      0.239      -0.062       0.015\n",
            "ShelveLoc_Good       4.8339      0.152     31.721      0.000       4.534       5.133\n",
            "ShelveLoc_Medium     1.9422      0.125     15.489      0.000       1.696       2.189\n",
            "US_Yes              -0.1968      0.147     -1.336      0.182      -0.486       0.093\n",
            "==============================================================================\n",
            "Omnibus:                        0.872   Durbin-Watson:                   2.009\n",
            "Prob(Omnibus):                  0.647   Jarque-Bera (JB):                0.832\n",
            "Skew:                           0.112   Prob(JB):                        0.660\n",
            "Kurtosis:                       2.989   Cond. No.                     2.18e+03\n",
            "==============================================================================\n",
            "\n",
            "Warnings:\n",
            "[1] Standard Errors assume that the covariance matrix of the errors is correctly specified.\n",
            "[2] The condition number is large, 2.18e+03. This might indicate that there are\n",
            "strong multicollinearity or other numerical problems.\n"
          ]
        }
      ]
    },
    {
      "cell_type": "markdown",
      "source": [
        "# Model 4"
      ],
      "metadata": {
        "id": "ijhKVFGFbyCt"
      }
    },
    {
      "cell_type": "code",
      "source": [
        "x4 = data_reg[[\"CompPrice\",\"Income\",\"Advertising\",\"Price\",\"Age\",\"ShelveLoc_Good\",\"ShelveLoc_Medium\",\"US_Yes\"]]\n",
        "y = data_reg[\"Sales\"]"
      ],
      "metadata": {
        "id": "Uk_hQFZ3b0py"
      },
      "execution_count": null,
      "outputs": []
    },
    {
      "cell_type": "markdown",
      "source": [
        "add constant for x"
      ],
      "metadata": {
        "id": "0CpR-1MwcAh5"
      }
    },
    {
      "cell_type": "code",
      "source": [
        "x4 = sm.add_constant(x4)"
      ],
      "metadata": {
        "colab": {
          "base_uri": "https://localhost:8080/"
        },
        "id": "XeblI61Tb-Po",
        "outputId": "6eca34ed-8179-4779-8730-8f6f3d4e4f07"
      },
      "execution_count": null,
      "outputs": [
        {
          "output_type": "stream",
          "name": "stderr",
          "text": [
            "/usr/local/lib/python3.7/dist-packages/statsmodels/tsa/tsatools.py:117: FutureWarning: In a future version of pandas all arguments of concat except for the argument 'objs' will be keyword-only\n",
            "  x = pd.concat(x[::order], 1)\n"
          ]
        }
      ]
    },
    {
      "cell_type": "markdown",
      "source": [
        "Create a model and fit it"
      ],
      "metadata": {
        "id": "otOX0dVscGrD"
      }
    },
    {
      "cell_type": "code",
      "source": [
        "model4 = sm.OLS(y, x4)"
      ],
      "metadata": {
        "id": "bOeELZn0cKJ7"
      },
      "execution_count": null,
      "outputs": []
    },
    {
      "cell_type": "code",
      "source": [
        "results4 = model4.fit()"
      ],
      "metadata": {
        "id": "viNbMKcUcM79"
      },
      "execution_count": null,
      "outputs": []
    },
    {
      "cell_type": "markdown",
      "source": [
        "Get results"
      ],
      "metadata": {
        "id": "eqaoNQ6-cQnR"
      }
    },
    {
      "cell_type": "code",
      "source": [
        "print(results4.summary())"
      ],
      "metadata": {
        "colab": {
          "base_uri": "https://localhost:8080/"
        },
        "id": "gJOXxl4EcQUN",
        "outputId": "39d063b4-a35e-4754-c7ca-6eb897a76d7b"
      },
      "execution_count": null,
      "outputs": [
        {
          "output_type": "stream",
          "name": "stdout",
          "text": [
            "                            OLS Regression Results                            \n",
            "==============================================================================\n",
            "Dep. Variable:                  Sales   R-squared:                       0.872\n",
            "Model:                            OLS   Adj. R-squared:                  0.870\n",
            "Method:                 Least Squares   F-statistic:                     334.4\n",
            "Date:                Fri, 25 Mar 2022   Prob (F-statistic):          1.16e-169\n",
            "Time:                        01:00:05   Log-Likelihood:                -570.43\n",
            "No. Observations:                 400   AIC:                             1159.\n",
            "Df Residuals:                     391   BIC:                             1195.\n",
            "Df Model:                           8                                         \n",
            "Covariance Type:            nonrobust                                         \n",
            "====================================================================================\n",
            "                       coef    std err          t      P>|t|      [0.025      0.975]\n",
            "------------------------------------------------------------------------------------\n",
            "const                5.4928      0.505     10.880      0.000       4.500       6.485\n",
            "CompPrice            0.0928      0.004     22.498      0.000       0.085       0.101\n",
            "Income               0.0159      0.002      8.662      0.000       0.012       0.020\n",
            "Advertising          0.1249      0.011     11.833      0.000       0.104       0.146\n",
            "Price               -0.0953      0.003    -35.703      0.000      -0.101      -0.090\n",
            "Age                 -0.0460      0.003    -14.493      0.000      -0.052      -0.040\n",
            "ShelveLoc_Good       4.8388      0.152     31.749      0.000       4.539       5.138\n",
            "ShelveLoc_Medium     1.9440      0.125     15.496      0.000       1.697       2.191\n",
            "US_Yes              -0.1842      0.147     -1.253      0.211      -0.473       0.105\n",
            "==============================================================================\n",
            "Omnibus:                        0.635   Durbin-Watson:                   1.998\n",
            "Prob(Omnibus):                  0.728   Jarque-Bera (JB):                0.692\n",
            "Skew:                           0.094   Prob(JB):                        0.707\n",
            "Kurtosis:                       2.921   Cond. No.                     1.91e+03\n",
            "==============================================================================\n",
            "\n",
            "Warnings:\n",
            "[1] Standard Errors assume that the covariance matrix of the errors is correctly specified.\n",
            "[2] The condition number is large, 1.91e+03. This might indicate that there are\n",
            "strong multicollinearity or other numerical problems.\n"
          ]
        }
      ]
    },
    {
      "cell_type": "markdown",
      "source": [
        "# Model 5"
      ],
      "metadata": {
        "id": "pUwpco0BcnHT"
      }
    },
    {
      "cell_type": "code",
      "source": [
        "x5 = data_reg[[\"CompPrice\",\"Income\",\"Advertising\",\"Price\",\"Age\",\"ShelveLoc_Good\",\"ShelveLoc_Medium\"]]\n",
        "y = data_reg[\"Sales\"]"
      ],
      "metadata": {
        "id": "xkF1EQwocouk"
      },
      "execution_count": null,
      "outputs": []
    },
    {
      "cell_type": "markdown",
      "source": [
        "add constant for x"
      ],
      "metadata": {
        "id": "iC9TyOJ2dD9J"
      }
    },
    {
      "cell_type": "code",
      "source": [
        "x5 = sm.add_constant(x5)"
      ],
      "metadata": {
        "colab": {
          "base_uri": "https://localhost:8080/"
        },
        "id": "A6iKs51RdEfP",
        "outputId": "386b5f1e-4dce-4ae2-ed3f-d9ad2f9c5a29"
      },
      "execution_count": null,
      "outputs": [
        {
          "output_type": "stream",
          "name": "stderr",
          "text": [
            "/usr/local/lib/python3.7/dist-packages/statsmodels/tsa/tsatools.py:117: FutureWarning: In a future version of pandas all arguments of concat except for the argument 'objs' will be keyword-only\n",
            "  x = pd.concat(x[::order], 1)\n"
          ]
        }
      ]
    },
    {
      "cell_type": "markdown",
      "source": [
        "Create a model and fit it"
      ],
      "metadata": {
        "id": "8S2VxvC6dLC0"
      }
    },
    {
      "cell_type": "code",
      "source": [
        "model5 = sm.OLS(y, x5)"
      ],
      "metadata": {
        "id": "2ZmNbSPJdKwg"
      },
      "execution_count": null,
      "outputs": []
    },
    {
      "cell_type": "code",
      "source": [
        "results5 = model5.fit()"
      ],
      "metadata": {
        "id": "-Q7tr0FydUif"
      },
      "execution_count": null,
      "outputs": []
    },
    {
      "cell_type": "markdown",
      "source": [
        "Get results"
      ],
      "metadata": {
        "id": "_u8rd-lcdaiH"
      }
    },
    {
      "cell_type": "code",
      "source": [
        "print(results5.summary())"
      ],
      "metadata": {
        "colab": {
          "base_uri": "https://localhost:8080/"
        },
        "id": "NzVs_-Ohda53",
        "outputId": "cd3c8841-02cc-427e-bac9-7bcc319fdfeb"
      },
      "execution_count": null,
      "outputs": [
        {
          "output_type": "stream",
          "name": "stdout",
          "text": [
            "                            OLS Regression Results                            \n",
            "==============================================================================\n",
            "Dep. Variable:                  Sales   R-squared:                       0.872\n",
            "Model:                            OLS   Adj. R-squared:                  0.870\n",
            "Method:                 Least Squares   F-statistic:                     381.4\n",
            "Date:                Fri, 25 Mar 2022   Prob (F-statistic):          1.25e-170\n",
            "Time:                        01:00:05   Log-Likelihood:                -571.24\n",
            "No. Observations:                 400   AIC:                             1158.\n",
            "Df Residuals:                     392   BIC:                             1190.\n",
            "Df Model:                           7                                         \n",
            "Covariance Type:            nonrobust                                         \n",
            "====================================================================================\n",
            "                       coef    std err          t      P>|t|      [0.025      0.975]\n",
            "------------------------------------------------------------------------------------\n",
            "const                5.4752      0.505     10.842      0.000       4.482       6.468\n",
            "CompPrice            0.0926      0.004     22.451      0.000       0.084       0.101\n",
            "Income               0.0158      0.002      8.590      0.000       0.012       0.019\n",
            "Advertising          0.1159      0.008     15.006      0.000       0.101       0.131\n",
            "Price               -0.0953      0.003    -35.699      0.000      -0.101      -0.090\n",
            "Age                 -0.0461      0.003    -14.521      0.000      -0.052      -0.040\n",
            "ShelveLoc_Good       4.8357      0.152     31.710      0.000       4.536       5.135\n",
            "ShelveLoc_Medium     1.9520      0.125     15.569      0.000       1.706       2.198\n",
            "==============================================================================\n",
            "Omnibus:                        0.766   Durbin-Watson:                   1.988\n",
            "Prob(Omnibus):                  0.682   Jarque-Bera (JB):                0.810\n",
            "Skew:                           0.104   Prob(JB):                        0.667\n",
            "Kurtosis:                       2.929   Cond. No.                     1.91e+03\n",
            "==============================================================================\n",
            "\n",
            "Warnings:\n",
            "[1] Standard Errors assume that the covariance matrix of the errors is correctly specified.\n",
            "[2] The condition number is large, 1.91e+03. This might indicate that there are\n",
            "strong multicollinearity or other numerical problems.\n"
          ]
        }
      ]
    },
    {
      "cell_type": "markdown",
      "source": [
        "# Model Selection "
      ],
      "metadata": {
        "id": "tmcO5TDJdjOT"
      }
    },
    {
      "cell_type": "code",
      "source": [
        "select = {'AIC':[results.aic, results2.aic, results3.aic, results4.aic, results5.aic],\n",
        "        'BIC':[results.bic, results2.bic, results3.bic, results4.bic, results5.bic]}"
      ],
      "metadata": {
        "id": "a79ujw2-dmGz"
      },
      "execution_count": null,
      "outputs": []
    },
    {
      "cell_type": "code",
      "source": [
        "df = pd.DataFrame(select)"
      ],
      "metadata": {
        "id": "nhFrOy-hehcn"
      },
      "execution_count": null,
      "outputs": []
    },
    {
      "cell_type": "code",
      "source": [
        "print(df)"
      ],
      "metadata": {
        "colab": {
          "base_uri": "https://localhost:8080/"
        },
        "id": "ftTIFrcoekt3",
        "outputId": "89d704e3-a813-4b16-cb1c-ff6cf999eeeb"
      },
      "execution_count": null,
      "outputs": [
        {
          "output_type": "stream",
          "name": "stdout",
          "text": [
            "           AIC          BIC\n",
            "0  1161.974352  1209.871927\n",
            "1  1160.298835  1204.204945\n",
            "2  1159.441881  1199.356527\n",
            "3  1158.868065  1194.791246\n",
            "4  1158.470309  1190.402025\n"
          ]
        }
      ]
    },
    {
      "cell_type": "markdown",
      "source": [
        "Dipilih model terbaik adalah model ke 5 karena nilai AIC dan BIC terendah "
      ],
      "metadata": {
        "id": "oHUYEcCLeyKN"
      }
    },
    {
      "cell_type": "markdown",
      "source": [
        "# Diagnostic Checking pada Model ke 5\n",
        "1. Fix independen variabel: diasumsikan\n",
        "terpenuhi\n",
        "2. Linearitas dependen dengan independen\n",
        "Untuk mengetahui ada tidaknya hubungan\n",
        "linear antara variabel independen dengan\n",
        "variabel dependen.\n",
        "3. Normalitas residual\n",
        "Untuk mengetahui residual berdistribusi\n",
        "normal atau tidak\n",
        "4. Homoskedastisitas\n",
        "Kondisi dimana variansi konstan. Terpenuhi\n",
        "jika variansi residual konstan, dilihat dari plot\n",
        "z resid by z pred.\n",
        "Dikatakan homoskedastisitas jika titik-titik\n",
        "mendekati nol dan tidak membentuk pola.\n",
        "5. No multikolinearitas\n",
        "Kondisi dimana tidak ada hubungan antar\n",
        "variabel independen. Terpenuhi jika VIF< 10\n",
        "dan TOL > 0,1 (lihat di tabel coefficients)\n",
        "6. No autokorelasi\n",
        "Kondisi dimana tidak ada korelasi antar eror. "
      ],
      "metadata": {
        "id": "56OlROHYgNna"
      }
    },
    {
      "cell_type": "code",
      "source": [
        "#Normalitas Residual\n",
        "\n",
        "'''\n",
        "H0  : Residuals are normally distributed\n",
        "H1  : Residuals are not normally distributed\n",
        "Rejet H0 if P-Value < alpha = 0,05\n",
        "'''\n",
        "alpha = 0.05\n",
        "name = ['Chi^2', 'Two-tail probability']\n",
        "test = sm.stats.omni_normtest(results5.resid)\n",
        "print(test,'\\n')\n",
        "\n",
        "if test.pvalue < 0.05 :\n",
        "  print('Pvalue < 0.05, reject H0, Residuals are not normally distributed')\n",
        "else  :\n",
        "  print ('Pvalue > 0.05, fail to reject H0, Residuals are normally distributed')"
      ],
      "metadata": {
        "colab": {
          "base_uri": "https://localhost:8080/"
        },
        "id": "Xz_3FP_ygU-M",
        "outputId": "357d08b2-7dd4-4a93-c7a0-4bfeaf30849c"
      },
      "execution_count": null,
      "outputs": [
        {
          "output_type": "stream",
          "name": "stdout",
          "text": [
            "NormaltestResult(statistic=0.7655306307630897, pvalue=0.6819729290636465) \n",
            "\n",
            "Pvalue > 0.05, fail to reject H0, Residuals are normally distributed\n"
          ]
        }
      ]
    },
    {
      "cell_type": "code",
      "source": [
        "#Homoskedastistas\n",
        "\n",
        "# fitted values\n",
        "model_fitted_y = results5.fittedvalues\n",
        "\n",
        "#  Plot\n",
        "plot = sns.residplot(x=model_fitted_y, y='Sales', data=data_reg, lowess=True, \n",
        "                     scatter_kws={'alpha': 0.5}, \n",
        "                     line_kws={'color': 'red', 'lw': 1, 'alpha': 0.8})\n",
        "\n",
        "# Titel and labels\n",
        "plot.set_title('Residuals vs Fitted')\n",
        "plot.set_xlabel('Fitted values')\n",
        "plot.set_ylabel('Residuals');\n",
        "\n",
        "#karena titik berada disekitar garis 0 dan tersebar secara random, maka dikatakan asumsi homoskedastisitas terpenuhi"
      ],
      "metadata": {
        "colab": {
          "base_uri": "https://localhost:8080/",
          "height": 295
        },
        "id": "-oiSl7-qjf1G",
        "outputId": "34e10932-20ac-4570-efb3-9602d7ff90d2"
      },
      "execution_count": null,
      "outputs": [
        {
          "output_type": "display_data",
          "data": {
            "text/plain": [
              "<Figure size 432x288 with 1 Axes>"
            ],
            "image/png": "[encoded data removed]"
          },
          "metadata": {
            "needs_background": "light"
          }
        }
      ]
    },
    {
      "cell_type": "code",
      "source": [
        "#No multikolinearitas\n",
        "from statsmodels.stats.outliers_influence import variance_inflation_factor\n",
        "\n",
        "# VIF dataframe\n",
        "vif_data = pd.DataFrame()\n",
        "vif_data[\"feature\"] = data_reg[[\"CompPrice\",\"Income\",\"Advertising\",\"Price\",\"Age\",\"ShelveLoc_Good\",\"ShelveLoc_Medium\"]].columns\n",
        "\n",
        "# calculating VIF for each feature\n",
        "vif_data[\"VIF\"] = [variance_inflation_factor(data_reg[[\"CompPrice\",\"Income\",\"Advertising\",\"Price\",\"Age\",\"ShelveLoc_Good\",\"ShelveLoc_Medium\"]].values, i)\n",
        "                          for i in range(len(data_reg[[\"CompPrice\",\"Income\",\"Advertising\",\"Price\",\"Age\",\"ShelveLoc_Good\",\"ShelveLoc_Medium\"]].columns))]\n",
        "  \n",
        "print(vif_data)\n",
        "\n",
        "'''\n",
        "Dapat disimpulkan bahwa asumsi No Multikolinearitas tidak terpenuhi\n",
        "'''"
      ],
      "metadata": {
        "colab": {
          "base_uri": "https://localhost:8080/",
          "height": 174
        },
        "id": "H0pXHUalkU9Z",
        "outputId": "feca9d7c-eb74-41e8-c923-b783d9782dc0"
      },
      "execution_count": null,
      "outputs": [
        {
          "output_type": "stream",
          "name": "stdout",
          "text": [
            "            feature        VIF\n",
            "0         CompPrice  53.049570\n",
            "1            Income   6.390116\n",
            "2       Advertising   2.004628\n",
            "3             Price  38.288755\n",
            "4               Age   9.982259\n",
            "5    ShelveLoc_Good   1.878286\n",
            "6  ShelveLoc_Medium   3.243449\n"
          ]
        },
        {
          "output_type": "execute_result",
          "data": {
            "text/plain": [
              "'\\nDapat disimpulkan bahwa asumsi No Multikolinearitas tidak terpenuhi\\n'"
            ],
            "application/vnd.google.colaboratory.intrinsic+json": {
              "type": "string"
            }
          },
          "metadata": {},
          "execution_count": 46
        }
      ]
    },
    {
      "cell_type": "code",
      "source": [
        "#No Autokorelasi\n",
        "sm.stats.durbin_watson(results5.resid)\n",
        "\n",
        "'''\n",
        "Dapat disimpulkan bahwa asumsi No Autokorelasi terpenuhi. \n",
        "'''"
      ],
      "metadata": {
        "colab": {
          "base_uri": "https://localhost:8080/",
          "height": 35
        },
        "id": "TqYjRO-rnMnH",
        "outputId": "263b0ddc-c8aa-4411-da7b-ac4d4050832b"
      },
      "execution_count": null,
      "outputs": [
        {
          "output_type": "execute_result",
          "data": {
            "text/plain": [
              "'\\nDapat disimpulkan bahwa asumsi No Autokorelasi tidak terpenuhi. \\n'"
            ],
            "application/vnd.google.colaboratory.intrinsic+json": {
              "type": "string"
            }
          },
          "metadata": {},
          "execution_count": 54
        }
      ]
    }
  ]
}